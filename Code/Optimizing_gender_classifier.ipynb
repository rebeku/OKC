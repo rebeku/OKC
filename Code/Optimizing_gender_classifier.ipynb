{
 "cells": [
  {
   "cell_type": "markdown",
   "metadata": {},
   "source": [
    "I have already done considerable experimentation and preprocessing with machine learning models for classfying gender based on essay text.  The best models so far are coming from tfidf vectorization on stemmed essay text with single words only.\n",
    "\n",
    "I now try various models and params on the vectorizer to get the highest ROC_AUC score possible.  I will then tune model for accuracy."
   ]
  },
  {
   "cell_type": "code",
   "execution_count": 44,
   "metadata": {
    "collapsed": false
   },
   "outputs": [],
   "source": [
    "import pandas as pd\n",
    "import numpy as np\n",
    "from sklearn.feature_extraction.text import TfidfVectorizer\n",
    "from sklearn.naive_bayes import MultinomialNB\n",
    "from sklearn.ensemble import RandomForestClassifier\n",
    "from sklearn.cross_validation import cross_val_score, train_test_split\n",
    "from sklearn.svm import LinearSVC\n",
    "from sklearn import metrics\n",
    "from sklearn.pipeline import make_pipeline, Pipeline\n",
    "from sklearn.cross_validation import cross_val_score, train_test_split\n",
    "from sklearn.grid_search import GridSearchCV\n",
    "from matplotlib import pyplot as plt\n",
    "%matplotlib inline\n",
    "from scipy import interp\n",
    "from bs4 import BeautifulSoup\n",
    "import re"
   ]
  },
  {
   "cell_type": "code",
   "execution_count": 3,
   "metadata": {
    "collapsed": false
   },
   "outputs": [],
   "source": [
    "df = pd.read_csv('../../Assets/A/stemmed_essays.csv', index_col='Unnamed: 0')"
   ]
  },
  {
   "cell_type": "code",
   "execution_count": 4,
   "metadata": {
    "collapsed": false
   },
   "outputs": [
    {
     "data": {
      "text/html": [
       "<div>\n",
       "<table border=\"1\" class=\"dataframe\">\n",
       "  <thead>\n",
       "    <tr style=\"text-align: right;\">\n",
       "      <th></th>\n",
       "      <th>age</th>\n",
       "      <th>body_type</th>\n",
       "      <th>diet</th>\n",
       "      <th>drinks</th>\n",
       "      <th>drugs</th>\n",
       "      <th>education</th>\n",
       "      <th>essay0</th>\n",
       "      <th>essay1</th>\n",
       "      <th>essay2</th>\n",
       "      <th>essay3</th>\n",
       "      <th>...</th>\n",
       "      <th>orientation</th>\n",
       "      <th>pets</th>\n",
       "      <th>religion</th>\n",
       "      <th>sex</th>\n",
       "      <th>sign</th>\n",
       "      <th>smokes</th>\n",
       "      <th>speaks</th>\n",
       "      <th>status</th>\n",
       "      <th>essays</th>\n",
       "      <th>stemmed_essays</th>\n",
       "    </tr>\n",
       "  </thead>\n",
       "  <tbody>\n",
       "    <tr>\n",
       "      <th>0</th>\n",
       "      <td>28</td>\n",
       "      <td>curvy</td>\n",
       "      <td>mostly vegetarian</td>\n",
       "      <td>socially</td>\n",
       "      <td>sometimes</td>\n",
       "      <td>working on space camp</td>\n",
       "      <td>here atm just looking for chill friends   i am...</td>\n",
       "      <td>clown school</td>\n",
       "      <td>making people laugh  playing with kids and do...</td>\n",
       "      <td>my boyish charm</td>\n",
       "      <td>...</td>\n",
       "      <td>straight</td>\n",
       "      <td>likes dogs and likes cats</td>\n",
       "      <td>atheism</td>\n",
       "      <td>f</td>\n",
       "      <td>sagittarius and it&amp;rsquo;s fun to think about</td>\n",
       "      <td>no</td>\n",
       "      <td>english</td>\n",
       "      <td>seeing someone</td>\n",
       "      <td>here atm just looking for chill friends   i am...</td>\n",
       "      <td>here atm just look for chill friend i am aweso...</td>\n",
       "    </tr>\n",
       "    <tr>\n",
       "      <th>1</th>\n",
       "      <td>31</td>\n",
       "      <td>fit</td>\n",
       "      <td>NaN</td>\n",
       "      <td>socially</td>\n",
       "      <td>sometimes</td>\n",
       "      <td>graduated from college/university</td>\n",
       "      <td>i imagine that yes is the only living thing  ...</td>\n",
       "      <td>studying and practicing massage bodywork energ...</td>\n",
       "      <td>putting words to feelings  cooking  procrastin...</td>\n",
       "      <td>um  eye contact  i m alternately a little rese...</td>\n",
       "      <td>...</td>\n",
       "      <td>straight</td>\n",
       "      <td>likes dogs</td>\n",
       "      <td>buddhism and laughing about it</td>\n",
       "      <td>f</td>\n",
       "      <td>scorpio</td>\n",
       "      <td>NaN</td>\n",
       "      <td>english, spanish</td>\n",
       "      <td>seeing someone</td>\n",
       "      <td>i imagine that yes is the only living thing  ...</td>\n",
       "      <td>i imagin that ye is the onli live thing e e cu...</td>\n",
       "    </tr>\n",
       "    <tr>\n",
       "      <th>2</th>\n",
       "      <td>24</td>\n",
       "      <td>fit</td>\n",
       "      <td>strictly anything</td>\n",
       "      <td>socially</td>\n",
       "      <td>never</td>\n",
       "      <td>graduated from college/university</td>\n",
       "      <td>my name is paige  i am smart  have a great sen...</td>\n",
       "      <td>full time environmental consultant in the east...</td>\n",
       "      <td>being coordinated  attracting others to the da...</td>\n",
       "      <td>long and lean  healthy  quiet at first but no...</td>\n",
       "      <td>...</td>\n",
       "      <td>straight</td>\n",
       "      <td>likes dogs and likes cats</td>\n",
       "      <td>agnosticism and laughing about it</td>\n",
       "      <td>f</td>\n",
       "      <td>sagittarius and it&amp;rsquo;s fun to think about</td>\n",
       "      <td>no</td>\n",
       "      <td>english (fluently), spanish (poorly)</td>\n",
       "      <td>single</td>\n",
       "      <td>my name is paige  i am smart  have a great sen...</td>\n",
       "      <td>my name is paig i am smart have a great sens o...</td>\n",
       "    </tr>\n",
       "    <tr>\n",
       "      <th>3</th>\n",
       "      <td>35</td>\n",
       "      <td>athletic</td>\n",
       "      <td>strictly anything</td>\n",
       "      <td>socially</td>\n",
       "      <td>never</td>\n",
       "      <td>NaN</td>\n",
       "      <td>i am originally from cincinnati  a mid western...</td>\n",
       "      <td>i own my own business and do freelance graphic...</td>\n",
       "      <td>being a good friend  making people laugh  maki...</td>\n",
       "      <td>you tell me</td>\n",
       "      <td>...</td>\n",
       "      <td>straight</td>\n",
       "      <td>NaN</td>\n",
       "      <td>NaN</td>\n",
       "      <td>f</td>\n",
       "      <td>sagittarius</td>\n",
       "      <td>NaN</td>\n",
       "      <td>english, spanish, french</td>\n",
       "      <td>single</td>\n",
       "      <td>i am originally from cincinnati  a mid western...</td>\n",
       "      <td>i am origin from cincinnati a mid western girl...</td>\n",
       "    </tr>\n",
       "    <tr>\n",
       "      <th>4</th>\n",
       "      <td>35</td>\n",
       "      <td>average</td>\n",
       "      <td>NaN</td>\n",
       "      <td>socially</td>\n",
       "      <td>never</td>\n",
       "      <td>graduated from masters program</td>\n",
       "      <td>a spirited  compassionate woman who is as comf...</td>\n",
       "      <td>i ve lived in san francisco for over ten years...</td>\n",
       "      <td>laughing at people s jokes  showing compassion...</td>\n",
       "      <td>that i m a shorty</td>\n",
       "      <td>...</td>\n",
       "      <td>straight</td>\n",
       "      <td>NaN</td>\n",
       "      <td>NaN</td>\n",
       "      <td>f</td>\n",
       "      <td>scorpio</td>\n",
       "      <td>no</td>\n",
       "      <td>english</td>\n",
       "      <td>single</td>\n",
       "      <td>a spirited  compassionate woman who is as comf...</td>\n",
       "      <td>a spirit compassion woman who is as comfort pr...</td>\n",
       "    </tr>\n",
       "  </tbody>\n",
       "</table>\n",
       "<p>5 rows × 33 columns</p>\n",
       "</div>"
      ],
      "text/plain": [
       "   age body_type               diet    drinks      drugs  \\\n",
       "0   28     curvy  mostly vegetarian  socially  sometimes   \n",
       "1   31       fit                NaN  socially  sometimes   \n",
       "2   24       fit  strictly anything  socially      never   \n",
       "3   35  athletic  strictly anything  socially      never   \n",
       "4   35   average                NaN  socially      never   \n",
       "\n",
       "                           education  \\\n",
       "0              working on space camp   \n",
       "1  graduated from college/university   \n",
       "2  graduated from college/university   \n",
       "3                                NaN   \n",
       "4     graduated from masters program   \n",
       "\n",
       "                                              essay0  \\\n",
       "0  here atm just looking for chill friends   i am...   \n",
       "1   i imagine that yes is the only living thing  ...   \n",
       "2  my name is paige  i am smart  have a great sen...   \n",
       "3  i am originally from cincinnati  a mid western...   \n",
       "4  a spirited  compassionate woman who is as comf...   \n",
       "\n",
       "                                              essay1  \\\n",
       "0                                      clown school    \n",
       "1  studying and practicing massage bodywork energ...   \n",
       "2  full time environmental consultant in the east...   \n",
       "3  i own my own business and do freelance graphic...   \n",
       "4  i ve lived in san francisco for over ten years...   \n",
       "\n",
       "                                              essay2  \\\n",
       "0   making people laugh  playing with kids and do...   \n",
       "1  putting words to feelings  cooking  procrastin...   \n",
       "2  being coordinated  attracting others to the da...   \n",
       "3  being a good friend  making people laugh  maki...   \n",
       "4  laughing at people s jokes  showing compassion...   \n",
       "\n",
       "                                              essay3  \\\n",
       "0                                   my boyish charm    \n",
       "1  um  eye contact  i m alternately a little rese...   \n",
       "2   long and lean  healthy  quiet at first but no...   \n",
       "3                                     you tell me      \n",
       "4                                 that i m a shorty    \n",
       "\n",
       "                         ...                         orientation  \\\n",
       "0                        ...                            straight   \n",
       "1                        ...                            straight   \n",
       "2                        ...                            straight   \n",
       "3                        ...                            straight   \n",
       "4                        ...                            straight   \n",
       "\n",
       "                        pets                           religion sex  \\\n",
       "0  likes dogs and likes cats                            atheism   f   \n",
       "1                 likes dogs     buddhism and laughing about it   f   \n",
       "2  likes dogs and likes cats  agnosticism and laughing about it   f   \n",
       "3                        NaN                                NaN   f   \n",
       "4                        NaN                                NaN   f   \n",
       "\n",
       "                                            sign smokes  \\\n",
       "0  sagittarius and it&rsquo;s fun to think about     no   \n",
       "1                                        scorpio    NaN   \n",
       "2  sagittarius and it&rsquo;s fun to think about     no   \n",
       "3                                    sagittarius    NaN   \n",
       "4                                        scorpio     no   \n",
       "\n",
       "                                 speaks          status  \\\n",
       "0                               english  seeing someone   \n",
       "1                      english, spanish  seeing someone   \n",
       "2  english (fluently), spanish (poorly)          single   \n",
       "3              english, spanish, french          single   \n",
       "4                               english          single   \n",
       "\n",
       "                                              essays  \\\n",
       "0  here atm just looking for chill friends   i am...   \n",
       "1   i imagine that yes is the only living thing  ...   \n",
       "2  my name is paige  i am smart  have a great sen...   \n",
       "3  i am originally from cincinnati  a mid western...   \n",
       "4  a spirited  compassionate woman who is as comf...   \n",
       "\n",
       "                                      stemmed_essays  \n",
       "0  here atm just look for chill friend i am aweso...  \n",
       "1  i imagin that ye is the onli live thing e e cu...  \n",
       "2  my name is paig i am smart have a great sens o...  \n",
       "3  i am origin from cincinnati a mid western girl...  \n",
       "4  a spirit compassion woman who is as comfort pr...  \n",
       "\n",
       "[5 rows x 33 columns]"
      ]
     },
     "execution_count": 4,
     "metadata": {},
     "output_type": "execute_result"
    }
   ],
   "source": [
    "df.head()"
   ]
  },
  {
   "cell_type": "code",
   "execution_count": 3,
   "metadata": {
    "collapsed": false
   },
   "outputs": [
    {
     "data": {
      "text/plain": [
       "(53951, 32)"
      ]
     },
     "execution_count": 3,
     "metadata": {},
     "output_type": "execute_result"
    }
   ],
   "source": [
    "df.shape"
   ]
  },
  {
   "cell_type": "code",
   "execution_count": 6,
   "metadata": {
    "collapsed": false
   },
   "outputs": [],
   "source": [
    "df.stemmed_essays = df.stemmed_essays.replace(np.nan, '')"
   ]
  },
  {
   "cell_type": "code",
   "execution_count": 7,
   "metadata": {
    "collapsed": false
   },
   "outputs": [],
   "source": [
    "def sex_encoder(x):\n",
    "    if x == 'm':\n",
    "        return 1\n",
    "    else:\n",
    "        return 0\n",
    "\n",
    "X = df.stemmed_essays\n",
    "y = df.sex.apply(sex_encoder)"
   ]
  },
  {
   "cell_type": "markdown",
   "metadata": {},
   "source": [
    "### Multinomial Naive Bayes"
   ]
  },
  {
   "cell_type": "code",
   "execution_count": 12,
   "metadata": {
    "collapsed": true
   },
   "outputs": [],
   "source": [
    "pipeNB = make_pipeline(TfidfVectorizer(stop_words='english', max_features=2000), MultinomialNB())"
   ]
  },
  {
   "cell_type": "code",
   "execution_count": 13,
   "metadata": {
    "collapsed": true
   },
   "outputs": [],
   "source": [
    "cv_nb = cross_val_score(pipeNB, X, y, cv = 5, scoring='roc_auc')"
   ]
  },
  {
   "cell_type": "code",
   "execution_count": 14,
   "metadata": {
    "collapsed": false
   },
   "outputs": [
    {
     "data": {
      "text/plain": [
       "0.82359743556047005"
      ]
     },
     "execution_count": 14,
     "metadata": {},
     "output_type": "execute_result"
    }
   ],
   "source": [
    "cv_nb.mean()"
   ]
  },
  {
   "cell_type": "code",
   "execution_count": 43,
   "metadata": {
    "collapsed": true
   },
   "outputs": [],
   "source": [
    "pipeNB = make_pipeline(TfidfVectorizer(stop_words='english', max_features=5000), MultinomialNB())"
   ]
  },
  {
   "cell_type": "code",
   "execution_count": 41,
   "metadata": {
    "collapsed": true
   },
   "outputs": [],
   "source": [
    "cv_nb = cross_val_score(pipeNB, X, y, cv = 5, scoring='roc_auc')"
   ]
  },
  {
   "cell_type": "code",
   "execution_count": 42,
   "metadata": {
    "collapsed": false
   },
   "outputs": [
    {
     "data": {
      "text/plain": [
       "0.84779359321877068"
      ]
     },
     "execution_count": 42,
     "metadata": {},
     "output_type": "execute_result"
    }
   ],
   "source": [
    "cv_nb.mean()"
   ]
  },
  {
   "cell_type": "code",
   "execution_count": 31,
   "metadata": {
    "collapsed": true
   },
   "outputs": [],
   "source": [
    "from sklearn.metrics import roc_curve, auc\n",
    "from sklearn.cross_validation import StratifiedKFold"
   ]
  },
  {
   "cell_type": "code",
   "execution_count": 38,
   "metadata": {
    "collapsed": false
   },
   "outputs": [
    {
     "data": {
      "image/png": "[encoded data removed]",
      "text/plain": [
       "<matplotlib.figure.Figure at 0x1180a4ed0>"
      ]
     },
     "metadata": {},
     "output_type": "display_data"
    }
   ],
   "source": [
    "# Run classifier with cross-validation and plot ROC curves\n",
    "cv = StratifiedKFold(y, n_folds=6)\n",
    "classifier = pipeNB\n",
    "\n",
    "\n",
    "mean_tpr = 0.0\n",
    "mean_fpr = np.linspace(0, 1, 100)\n",
    "all_tpr = []\n",
    "\n",
    "for i, (train, test) in enumerate(cv):\n",
    "    probas_ = classifier.fit(X[train], y[train]).predict_proba(X[test])\n",
    "    # Compute ROC curve and area the curve\n",
    "    fpr, tpr, thresholds = roc_curve(y[test], probas_[:, 1])\n",
    "    mean_tpr += interp(mean_fpr, fpr, tpr)\n",
    "    mean_tpr[0] = 0.0\n",
    "    roc_auc = auc(fpr, tpr)\n",
    "    plt.plot(fpr, tpr, lw=1, label='ROC fold %d (area = %0.2f)' % (i, roc_auc))"
   ]
  },
  {
   "cell_type": "markdown",
   "metadata": {},
   "source": [
    "Performance is quite consistent across folds.  Not surprising given size of dataset.\n",
    "\n",
    "### Try Random Forest\n",
    "\n",
    "The random forest classifier has performed quite well relative to the MultinomialNB with smaller numbers of features and larger numbers of estimators.  How does it compare to the best Naive Bayes model to date?"
   ]
  },
  {
   "cell_type": "code",
   "execution_count": 15,
   "metadata": {
    "collapsed": true
   },
   "outputs": [],
   "source": [
    "pipeRFC = make_pipeline(TfidfVectorizer(stop_words='english', max_features=2000), RandomForestClassifier(n_estimators = 20))"
   ]
  },
  {
   "cell_type": "code",
   "execution_count": 16,
   "metadata": {
    "collapsed": false
   },
   "outputs": [],
   "source": [
    "cv_rfc = cross_val_score(pipeRFC, X, y, cv = 5, scoring ='roc_auc')"
   ]
  },
  {
   "cell_type": "code",
   "execution_count": 17,
   "metadata": {
    "collapsed": false
   },
   "outputs": [
    {
     "data": {
      "text/plain": [
       "0.75781467370022881"
      ]
     },
     "execution_count": 17,
     "metadata": {},
     "output_type": "execute_result"
    }
   ],
   "source": [
    "cv_rfc.mean()"
   ]
  },
  {
   "cell_type": "code",
   "execution_count": 18,
   "metadata": {
    "collapsed": false
   },
   "outputs": [],
   "source": [
    "pipeRFC_big = make_pipeline(TfidfVectorizer(stop_words='english', max_features=2000), RandomForestClassifier(n_estimators = 100))"
   ]
  },
  {
   "cell_type": "code",
   "execution_count": 19,
   "metadata": {
    "collapsed": false
   },
   "outputs": [],
   "source": [
    "cv_rfc = cross_val_score(pipeRFC_big, X, y, cv = 5, scoring ='roc_auc')"
   ]
  },
  {
   "cell_type": "code",
   "execution_count": 20,
   "metadata": {
    "collapsed": false
   },
   "outputs": [
    {
     "data": {
      "text/plain": [
       "0.80971893773084958"
      ]
     },
     "execution_count": 20,
     "metadata": {},
     "output_type": "execute_result"
    }
   ],
   "source": [
    "cv_rfc.mean()"
   ]
  },
  {
   "cell_type": "code",
   "execution_count": 25,
   "metadata": {
    "collapsed": true
   },
   "outputs": [],
   "source": [
    "pipeRFC_bigger = make_pipeline(TfidfVectorizer(stop_words='english', max_features=2000), RandomForestClassifier(n_estimators = 200))"
   ]
  },
  {
   "cell_type": "code",
   "execution_count": 26,
   "metadata": {
    "collapsed": false
   },
   "outputs": [],
   "source": [
    "cv_rfc = cross_val_score(pipeRFC_bigger, X, y, cv = 5, scoring ='roc_auc')"
   ]
  },
  {
   "cell_type": "code",
   "execution_count": 27,
   "metadata": {
    "collapsed": false
   },
   "outputs": [
    {
     "data": {
      "text/plain": [
       "0.81940132767344775"
      ]
     },
     "execution_count": 27,
     "metadata": {},
     "output_type": "execute_result"
    }
   ],
   "source": [
    "cv_rfc.mean()"
   ]
  },
  {
   "cell_type": "markdown",
   "metadata": {
    "collapsed": true
   },
   "source": [
    "Random Forest classifiers outperformed MultinomialNB on some earlier tests but with stemming and larger numbers of features in tfidf vectorizer, MultinomialNB wins.\n",
    "\n",
    "### Try a support vector machine (just for fun)"
   ]
  },
  {
   "cell_type": "code",
   "execution_count": 9,
   "metadata": {
    "collapsed": true
   },
   "outputs": [],
   "source": [
    "from sklearn.svm import LinearSVC, SVC\n",
    "# SVC with 'rbf' kernel was so slow that I killed it\n",
    "# I doubt it would outperform linear kernel\n",
    "from sklearn.linear_model import LogisticRegression"
   ]
  },
  {
   "cell_type": "code",
   "execution_count": 48,
   "metadata": {
    "collapsed": false
   },
   "outputs": [
    {
     "data": {
      "text/plain": [
       "0.87346092983089141"
      ]
     },
     "execution_count": 48,
     "metadata": {},
     "output_type": "execute_result"
    }
   ],
   "source": [
    "pipeSVC = make_pipeline(TfidfVectorizer(stop_words='english', max_features=5000), LinearSVC())\n",
    "\n",
    "cv_svc = cross_val_score(pipeSVC, X, y, cv = 5, scoring='roc_auc')\n",
    "cv_svc.mean()"
   ]
  },
  {
   "cell_type": "code",
   "execution_count": 18,
   "metadata": {
    "collapsed": false
   },
   "outputs": [
    {
     "data": {
      "text/plain": [
       "0.88060032134746624"
      ]
     },
     "execution_count": 18,
     "metadata": {},
     "output_type": "execute_result"
    }
   ],
   "source": [
    "pipeLR = make_pipeline(TfidfVectorizer(stop_words='english', max_features=5000), LogisticRegression())\n",
    "\n",
    "cv_lr = cross_val_score(pipeSVC, X, y, cv = 5, scoring='roc_auc')\n",
    "cv_lr.mean()"
   ]
  },
  {
   "cell_type": "markdown",
   "metadata": {},
   "source": [
    "Wow!  Parametric models really start to shine as we increase the number of features.  \n",
    "\n",
    "### Let's try even more features."
   ]
  },
  {
   "cell_type": "code",
   "execution_count": 8,
   "metadata": {
    "collapsed": false
   },
   "outputs": [
    {
     "data": {
      "text/plain": [
       "0.87990733607770955"
      ]
     },
     "execution_count": 8,
     "metadata": {},
     "output_type": "execute_result"
    }
   ],
   "source": [
    "pipeSVC = make_pipeline(TfidfVectorizer(stop_words='english', min_df=10), LinearSVC())\n",
    "\n",
    "cv_svc = cross_val_score(pipeSVC, X, y, cv = 5, scoring='roc_auc')\n",
    "cv_svc.mean()"
   ]
  },
  {
   "cell_type": "code",
   "execution_count": 9,
   "metadata": {
    "collapsed": false
   },
   "outputs": [
    {
     "data": {
      "text/plain": [
       "0.85798846537132611"
      ]
     },
     "execution_count": 9,
     "metadata": {},
     "output_type": "execute_result"
    }
   ],
   "source": [
    "pipeNB = make_pipeline(TfidfVectorizer(stop_words='english', min_df=10), MultinomialNB())\n",
    "\n",
    "cv_NB = cross_val_score(pipeNB, X, y, cv = 5, scoring='roc_auc')\n",
    "cv_NB.mean()"
   ]
  },
  {
   "cell_type": "markdown",
   "metadata": {},
   "source": [
    "Wow!  Things are improving.  Keep lowering min_df."
   ]
  },
  {
   "cell_type": "code",
   "execution_count": 16,
   "metadata": {
    "collapsed": false
   },
   "outputs": [
    {
     "data": {
      "text/plain": [
       "0.88060033922126169"
      ]
     },
     "execution_count": 16,
     "metadata": {},
     "output_type": "execute_result"
    }
   ],
   "source": [
    "pipeSVC = make_pipeline(TfidfVectorizer(stop_words='english', min_df=5), LinearSVC())\n",
    "\n",
    "cv_svc = cross_val_score(pipeSVC, X, y, cv = 5, scoring='roc_auc')\n",
    "cv_svc.mean()"
   ]
  },
  {
   "cell_type": "code",
   "execution_count": 11,
   "metadata": {
    "collapsed": false
   },
   "outputs": [
    {
     "data": {
      "text/plain": [
       "0.85636551537173733"
      ]
     },
     "execution_count": 11,
     "metadata": {},
     "output_type": "execute_result"
    }
   ],
   "source": [
    "pipeNB = make_pipeline(TfidfVectorizer(stop_words='english', min_df=5), MultinomialNB())\n",
    "\n",
    "cv_NB = cross_val_score(pipeNB, X, y, cv = 5, scoring='roc_auc')\n",
    "cv_NB.mean()"
   ]
  },
  {
   "cell_type": "code",
   "execution_count": 12,
   "metadata": {
    "collapsed": false
   },
   "outputs": [
    {
     "data": {
      "text/plain": [
       "0.8808290664340781"
      ]
     },
     "execution_count": 12,
     "metadata": {},
     "output_type": "execute_result"
    }
   ],
   "source": [
    "pipeSVC = make_pipeline(TfidfVectorizer(stop_words='english', min_df=3), LinearSVC())\n",
    "\n",
    "cv_svc = cross_val_score(pipeSVC, X, y, cv = 5, scoring='roc_auc')\n",
    "cv_svc.mean()"
   ]
  },
  {
   "cell_type": "code",
   "execution_count": 13,
   "metadata": {
    "collapsed": false
   },
   "outputs": [
    {
     "data": {
      "text/plain": [
       "0.85346222305234698"
      ]
     },
     "execution_count": 13,
     "metadata": {},
     "output_type": "execute_result"
    }
   ],
   "source": [
    "pipeNB = make_pipeline(TfidfVectorizer(stop_words='english', min_df=3), MultinomialNB())\n",
    "\n",
    "cv_NB = cross_val_score(pipeNB, X, y, cv = 5, scoring='roc_auc')\n",
    "cv_NB.mean()"
   ]
  },
  {
   "cell_type": "code",
   "execution_count": 19,
   "metadata": {
    "collapsed": false
   },
   "outputs": [
    {
     "data": {
      "text/plain": [
       "0.88060033565560225"
      ]
     },
     "execution_count": 19,
     "metadata": {},
     "output_type": "execute_result"
    }
   ],
   "source": [
    "pipeLR = make_pipeline(TfidfVectorizer(stop_words='english', min_df=3), LogisticRegression())\n",
    "\n",
    "cv_lr = cross_val_score(pipeSVC, X, y, cv = 5, scoring='roc_auc')\n",
    "cv_lr.mean()"
   ]
  },
  {
   "cell_type": "code",
   "execution_count": 31,
   "metadata": {
    "collapsed": false
   },
   "outputs": [
    {
     "name": "stdout",
     "output_type": "stream",
     "text": [
      "Pipeline(steps=[('vec', TfidfVectorizer(analyzer=u'word', binary=False, decode_error=u'strict',\n",
      "        dtype=<type 'numpy.int64'>, encoding=u'utf-8', input=u'content',\n",
      "        lowercase=True, max_df=1.0, max_features=None, min_df=3,\n",
      "        ngram_range=(1, 1), norm=u'l2', preprocessor=None, smooth_idf=True,...ax_iter=1000,\n",
      "     multi_class='ovr', penalty='l2', random_state=None, tol=0.0001,\n",
      "     verbose=0))])\n",
      "0.883816072297\n"
     ]
    }
   ],
   "source": [
    "# Logistic Regression and linearSVC are still neck and neck.\n",
    "# Grid search optimal params\n",
    "\n",
    "# Gridsearch optimal SVC\n",
    "\n",
    "param_grid = dict(svc__C=[.1,.5,1,1.5,2,3,5])\n",
    "vec = TfidfVectorizer(stop_words='english', min_df=3)\n",
    "\n",
    "svc = LinearSVC()\n",
    "\n",
    "pipe = Pipeline(steps=[('vec', vec), ('svc', svc)])\n",
    "\n",
    "cv = GridSearchCV(pipe, param_grid, scoring = 'roc_auc')\n",
    "\n",
    "cv.fit(X, y)\n",
    "\n",
    "print cv.best_estimator_\n",
    "print cv.best_score_"
   ]
  },
  {
   "cell_type": "code",
   "execution_count": 32,
   "metadata": {
    "collapsed": false
   },
   "outputs": [
    {
     "name": "stdout",
     "output_type": "stream",
     "text": [
      "{'svc__C': 0.5}\n"
     ]
    }
   ],
   "source": [
    "print cv.best_params_"
   ]
  },
  {
   "cell_type": "code",
   "execution_count": 15,
   "metadata": {
    "collapsed": false
   },
   "outputs": [
    {
     "name": "stdout",
     "output_type": "stream",
     "text": [
      "Pipeline(steps=[('vec', TfidfVectorizer(analyzer=u'word', binary=False, decode_error=u'strict',\n",
      "        dtype=<type 'numpy.int64'>, encoding=u'utf-8', input=u'content',\n",
      "        lowercase=True, max_df=1.0, max_features=None, min_df=3,\n",
      "        ngram_range=(1, 1), norm=u'l2', preprocessor=None, smooth_idf=True,...ty='l2', random_state=None, solver='liblinear', tol=0.0001,\n",
      "          verbose=0, warm_start=False))])\n",
      "0.886074262305\n"
     ]
    }
   ],
   "source": [
    "# Logistic Regression and linearSVC are still neck and neck.\n",
    "# Grid search optimal params\n",
    "\n",
    "# Gridsearch optimal logistic regression\n",
    "\n",
    "param_grid = dict(lr__C=[.1,.5,1,1.5,2,3,5,10], lr__penalty=['l1','l2'])\n",
    "vec = TfidfVectorizer(stop_words='english', min_df=3)\n",
    "\n",
    "lr = LogisticRegression()\n",
    "\n",
    "pipe = Pipeline(steps=[('vec', vec), ('lr', lr)])\n",
    "\n",
    "cv = GridSearchCV(pipe, param_grid, scoring = 'roc_auc')\n",
    "\n",
    "cv.fit(X, y)\n",
    "\n",
    "print cv.best_estimator_\n",
    "print cv.best_score_"
   ]
  },
  {
   "cell_type": "code",
   "execution_count": 30,
   "metadata": {
    "collapsed": false
   },
   "outputs": [
    {
     "name": "stdout",
     "output_type": "stream",
     "text": [
      "{'lr__penalty': 'l2', 'lr__C': 3}\n"
     ]
    }
   ],
   "source": [
    "print cv.best_params_"
   ]
  },
  {
   "cell_type": "markdown",
   "metadata": {},
   "source": [
    "Logistic Regression is winning!\n",
    "\n",
    "### Revisit ngram range"
   ]
  },
  {
   "cell_type": "code",
   "execution_count": 16,
   "metadata": {
    "collapsed": false
   },
   "outputs": [
    {
     "name": "stdout",
     "output_type": "stream",
     "text": [
      "Pipeline(steps=[('vec', TfidfVectorizer(analyzer=u'word', binary=False, decode_error=u'strict',\n",
      "        dtype=<type 'numpy.int64'>, encoding=u'utf-8', input=u'content',\n",
      "        lowercase=True, max_df=1.0, max_features=None, min_df=3,\n",
      "        ngram_range=(1, 2), norm=u'l2', preprocessor=None, smooth_idf=True,...ty='l2', random_state=None, solver='liblinear', tol=0.0001,\n",
      "          verbose=0, warm_start=False))])\n",
      "0.89369795466\n"
     ]
    }
   ],
   "source": [
    "# Gridsearch optimal ngram range for logistic regression\n",
    "\n",
    "param_grid = dict(vec__ngram_range=[(1,i) for i in range(1,5)])\n",
    "vec = TfidfVectorizer(stop_words='english', min_df=3)\n",
    "\n",
    "lr = LogisticRegression(C = 3)\n",
    "\n",
    "pipe = Pipeline(steps=[('vec', vec), ('lr', lr)])\n",
    "\n",
    "cv = GridSearchCV(pipe, param_grid, scoring = 'roc_auc')\n",
    "\n",
    "cv.fit(X, y)\n",
    "\n",
    "print cv.best_estimator_\n",
    "print cv.best_score_"
   ]
  },
  {
   "cell_type": "code",
   "execution_count": 19,
   "metadata": {
    "collapsed": false
   },
   "outputs": [
    {
     "name": "stdout",
     "output_type": "stream",
     "text": [
      "{'vec__ngram_range': (1, 2)}\n"
     ]
    }
   ],
   "source": [
    "print cv.best_params_"
   ]
  },
  {
   "cell_type": "code",
   "execution_count": 21,
   "metadata": {
    "collapsed": false
   },
   "outputs": [],
   "source": [
    "best_model = cv.best_estimator_"
   ]
  },
  {
   "cell_type": "code",
   "execution_count": 24,
   "metadata": {
    "collapsed": false
   },
   "outputs": [
    {
     "data": {
      "text/plain": [
       "0.80060904349846784"
      ]
     },
     "execution_count": 24,
     "metadata": {},
     "output_type": "execute_result"
    }
   ],
   "source": [
    "## Try MultinomialNB and SVC with ngram_range(1,2)\n",
    "\n",
    "pipeNB = make_pipeline(TfidfVectorizer(stop_words='english', ngram_range=(1,2), min_df=3), MultinomialNB())\n",
    "\n",
    "cv_NB = cross_val_score(pipeNB, X, y, cv = 5, scoring='roc_auc')\n",
    "cv_NB.mean()"
   ]
  },
  {
   "cell_type": "code",
   "execution_count": 28,
   "metadata": {
    "collapsed": false
   },
   "outputs": [
    {
     "name": "stdout",
     "output_type": "stream",
     "text": [
      "Pipeline(steps=[('vec', TfidfVectorizer(analyzer=u'word', binary=False, decode_error=u'strict',\n",
      "        dtype=<type 'numpy.int64'>, encoding=u'utf-8', input=u'content',\n",
      "        lowercase=True, max_df=1.0, max_features=None, min_df=3,\n",
      "        ngram_range=(1, 2), norm=u'l2', preprocessor=None, smooth_idf=True,...ax_iter=1000,\n",
      "     multi_class='ovr', penalty='l2', random_state=None, tol=0.0001,\n",
      "     verbose=0))])\n",
      "0.895795983485\n"
     ]
    }
   ],
   "source": [
    "# Grid search c for SVC\n",
    "# Can expect it not to change too drastically from best estimator before(c=.5)\n",
    "\n",
    "# Logistic Regression and linearSVC are still neck and neck.\n",
    "# Grid search optimal params\n",
    "\n",
    "# Gridsearch optimal SVC\n",
    "\n",
    "param_grid = dict(svc__C=[.3,.5,.7])\n",
    "vec = TfidfVectorizer(stop_words='english', ngram_range=(1,2), min_df=3)\n",
    "\n",
    "svc = LinearSVC()\n",
    "\n",
    "pipe = Pipeline(steps=[('vec', vec), ('svc', svc)])\n",
    "\n",
    "cv = GridSearchCV(pipe, param_grid, scoring = 'roc_auc')\n",
    "\n",
    "cv.fit(X, y)\n",
    "\n",
    "print cv.best_estimator_\n",
    "print cv.best_score_"
   ]
  },
  {
   "cell_type": "code",
   "execution_count": 29,
   "metadata": {
    "collapsed": false
   },
   "outputs": [
    {
     "name": "stdout",
     "output_type": "stream",
     "text": [
      "{'svc__C': 0.5}\n"
     ]
    }
   ],
   "source": [
    "print cv.best_params_"
   ]
  },
  {
   "cell_type": "code",
   "execution_count": 26,
   "metadata": {
    "collapsed": false
   },
   "outputs": [
    {
     "name": "stdout",
     "output_type": "stream",
     "text": [
      "Pipeline(steps=[('vec', TfidfVectorizer(analyzer=u'word', binary=False, decode_error=u'strict',\n",
      "        dtype=<type 'numpy.int64'>, encoding=u'utf-8', input=u'content',\n",
      "        lowercase=True, max_df=1.0, max_features=None, min_df=3,\n",
      "        ngram_range=(1, 1), norm=u'l2', preprocessor=None, smooth_idf=True,...ty='l2', random_state=None, solver='liblinear', tol=0.0001,\n",
      "          verbose=0, warm_start=False))])\n",
      "0.886146779616\n"
     ]
    }
   ],
   "source": [
    "# Gridsearch C for logistic regression\n",
    "\n",
    "param_grid = dict(lr__C=[2, 2.5,3,3.5,4])\n",
    "vec = TfidfVectorizer(stop_words='english', min_df=3)\n",
    "\n",
    "lr = LogisticRegression(penalty='l2')\n",
    "\n",
    "pipe = Pipeline(steps=[('vec', vec), ('lr', lr)])\n",
    "\n",
    "cv = GridSearchCV(pipe, param_grid, scoring = 'roc_auc')\n",
    "\n",
    "cv.fit(X, y)\n",
    "\n",
    "print cv.best_estimator_\n",
    "print cv.best_score_"
   ]
  },
  {
   "cell_type": "code",
   "execution_count": 27,
   "metadata": {
    "collapsed": false
   },
   "outputs": [
    {
     "name": "stdout",
     "output_type": "stream",
     "text": [
      "{'lr__C': 2.5}\n"
     ]
    }
   ],
   "source": [
    "print cv.best_params_"
   ]
  },
  {
   "cell_type": "markdown",
   "metadata": {},
   "source": [
    "Now SVM is outperforming logistic regression!  Grid search best ngram range for SVM."
   ]
  },
  {
   "cell_type": "code",
   "execution_count": 31,
   "metadata": {
    "collapsed": false
   },
   "outputs": [
    {
     "name": "stdout",
     "output_type": "stream",
     "text": [
      "Pipeline(steps=[('vec', TfidfVectorizer(analyzer=u'word', binary=False, decode_error=u'strict',\n",
      "        dtype=<type 'numpy.int64'>, encoding=u'utf-8', input=u'content',\n",
      "        lowercase=True, max_df=1.0, max_features=None, min_df=3,\n",
      "        ngram_range=(1, 2), norm=u'l2', preprocessor=None, smooth_idf=True,...ax_iter=1000,\n",
      "     multi_class='ovr', penalty='l2', random_state=None, tol=0.0001,\n",
      "     verbose=0))])\n",
      "0.895796007075\n"
     ]
    }
   ],
   "source": [
    "# Gridsearch optimal ngram range for SVM with c=.5 (best estimator to date)\n",
    "\n",
    "param_grid = dict(vec__ngram_range=[(1,i) for i in range(1,5)])\n",
    "vec = TfidfVectorizer(stop_words='english', min_df=3)\n",
    "\n",
    "svc = LinearSVC(C=.5)\n",
    "\n",
    "pipe = Pipeline(steps=[('vec', vec), ('svc', svc)])\n",
    "\n",
    "cv = GridSearchCV(pipe, param_grid, scoring = 'roc_auc')\n",
    "\n",
    "cv.fit(X, y)\n",
    "\n",
    "print cv.best_estimator_\n",
    "print cv.best_score_"
   ]
  },
  {
   "cell_type": "code",
   "execution_count": 32,
   "metadata": {
    "collapsed": false
   },
   "outputs": [
    {
     "name": "stdout",
     "output_type": "stream",
     "text": [
      "{'vec__ngram_range': (1, 2)}\n"
     ]
    }
   ],
   "source": [
    "print cv.best_params_"
   ]
  },
  {
   "cell_type": "code",
   "execution_count": 33,
   "metadata": {
    "collapsed": true
   },
   "outputs": [],
   "source": [
    "best_model = cv.best_estimator_"
   ]
  },
  {
   "cell_type": "markdown",
   "metadata": {},
   "source": [
    "## Take best model by AUC score and tune for accuracy"
   ]
  },
  {
   "cell_type": "code",
   "execution_count": 51,
   "metadata": {
    "collapsed": false
   },
   "outputs": [
    {
     "name": "stdout",
     "output_type": "stream",
     "text": [
      "Pipeline(steps=[('vec', TfidfVectorizer(analyzer=u'word', binary=False, decode_error=u'strict',\n",
      "        dtype=<type 'numpy.int64'>, encoding=u'utf-8', input=u'content',\n",
      "        lowercase=True, max_df=1.0, max_features=None, min_df=3,\n",
      "        ngram_range=(1, 2), norm=u'l2', preprocessor=None, smooth_idf=True,...ax_iter=1000,\n",
      "     multi_class='ovr', penalty='l2', random_state=None, tol=0.0001,\n",
      "     verbose=0))])\n",
      "0.819688235621\n"
     ]
    }
   ],
   "source": [
    "param_grid = dict(svc__class_weight=[{0:.4, 1:.6},{0:.5, 1:.5},{0:.6, 1:.4},'balanced'])\n",
    "\n",
    "vec = TfidfVectorizer(stop_words='english', min_df=3, ngram_range=(1,2))\n",
    "\n",
    "svc = LinearSVC(C=.5)\n",
    "\n",
    "pipe = Pipeline(steps=[('vec', vec), ('svc', svc)])\n",
    "\n",
    "cv = GridSearchCV(pipe, param_grid, scoring = 'accuracy')\n",
    "\n",
    "cv.fit(X, y)\n",
    "\n",
    "print cv.best_estimator_\n",
    "print cv.best_score_"
   ]
  },
  {
   "cell_type": "code",
   "execution_count": 53,
   "metadata": {
    "collapsed": false
   },
   "outputs": [
    {
     "data": {
      "text/plain": [
       "{'svc__class_weight': {0: 0.5, 1: 0.5}}"
      ]
     },
     "execution_count": 53,
     "metadata": {},
     "output_type": "execute_result"
    }
   ],
   "source": [
    "cv.best_params_"
   ]
  },
  {
   "cell_type": "code",
   "execution_count": 54,
   "metadata": {
    "collapsed": false
   },
   "outputs": [
    {
     "name": "stdout",
     "output_type": "stream",
     "text": [
      "Pipeline(steps=[('vec', TfidfVectorizer(analyzer=u'word', binary=False, decode_error=u'strict',\n",
      "        dtype=<type 'numpy.int64'>, encoding=u'utf-8', input=u'content',\n",
      "        lowercase=True, max_df=1.0, max_features=None, min_df=3,\n",
      "        ngram_range=(1, 2), norm=u'l2', preprocessor=None, smooth_idf=True,...ax_iter=1000,\n",
      "     multi_class='ovr', penalty='l2', random_state=None, tol=0.0001,\n",
      "     verbose=0))])\n",
      "0.819688235621\n"
     ]
    }
   ],
   "source": [
    "param_grid = dict(svc__class_weight=[{0:.45, 1:.55},{0:.5, 1:.5},{0:.55, 1:.45}])\n",
    "\n",
    "vec = TfidfVectorizer(stop_words='english', min_df=3, ngram_range=(1,2))\n",
    "\n",
    "svc = LinearSVC(C=.5)\n",
    "\n",
    "pipe = Pipeline(steps=[('vec', vec), ('svc', svc)])\n",
    "\n",
    "cv = GridSearchCV(pipe, param_grid, scoring = 'accuracy')\n",
    "\n",
    "cv.fit(X, y)\n",
    "\n",
    "print cv.best_estimator_\n",
    "print cv.best_score_"
   ]
  },
  {
   "cell_type": "code",
   "execution_count": 55,
   "metadata": {
    "collapsed": false
   },
   "outputs": [
    {
     "data": {
      "text/plain": [
       "{'svc__class_weight': {0: 0.5, 1: 0.5}}"
      ]
     },
     "execution_count": 55,
     "metadata": {},
     "output_type": "execute_result"
    }
   ],
   "source": [
    "cv.best_params_"
   ]
  },
  {
   "cell_type": "code",
   "execution_count": 59,
   "metadata": {
    "collapsed": false
   },
   "outputs": [],
   "source": [
    "best_model = cv.best_estimator_"
   ]
  },
  {
   "cell_type": "code",
   "execution_count": 61,
   "metadata": {
    "collapsed": false
   },
   "outputs": [
    {
     "data": {
      "text/plain": [
       "Pipeline(steps=[('vec', TfidfVectorizer(analyzer=u'word', binary=False, decode_error=u'strict',\n",
       "        dtype=<type 'numpy.int64'>, encoding=u'utf-8', input=u'content',\n",
       "        lowercase=True, max_df=1.0, max_features=None, min_df=3,\n",
       "        ngram_range=(1, 2), norm=u'l2', preprocessor=None, smooth_idf=True,...ax_iter=1000,\n",
       "     multi_class='ovr', penalty='l2', random_state=None, tol=0.0001,\n",
       "     verbose=0))])"
      ]
     },
     "execution_count": 61,
     "metadata": {},
     "output_type": "execute_result"
    }
   ],
   "source": [
    "best_model"
   ]
  },
  {
   "cell_type": "markdown",
   "metadata": {},
   "source": [
    "## Test best model for final score"
   ]
  },
  {
   "cell_type": "code",
   "execution_count": 36,
   "metadata": {
    "collapsed": false
   },
   "outputs": [],
   "source": [
    "test = pd.read_csv('../../Assets/A/test.csv')"
   ]
  },
  {
   "cell_type": "code",
   "execution_count": 37,
   "metadata": {
    "collapsed": false,
    "scrolled": true
   },
   "outputs": [
    {
     "data": {
      "text/html": [
       "<div>\n",
       "<table border=\"1\" class=\"dataframe\">\n",
       "  <thead>\n",
       "    <tr style=\"text-align: right;\">\n",
       "      <th></th>\n",
       "      <th>Unnamed: 0</th>\n",
       "      <th>age</th>\n",
       "      <th>body_type</th>\n",
       "      <th>diet</th>\n",
       "      <th>drinks</th>\n",
       "      <th>drugs</th>\n",
       "      <th>education</th>\n",
       "      <th>essay0</th>\n",
       "      <th>essay1</th>\n",
       "      <th>essay2</th>\n",
       "      <th>...</th>\n",
       "      <th>location</th>\n",
       "      <th>offspring</th>\n",
       "      <th>orientation</th>\n",
       "      <th>pets</th>\n",
       "      <th>religion</th>\n",
       "      <th>sex</th>\n",
       "      <th>sign</th>\n",
       "      <th>smokes</th>\n",
       "      <th>speaks</th>\n",
       "      <th>status</th>\n",
       "    </tr>\n",
       "  </thead>\n",
       "  <tbody>\n",
       "    <tr>\n",
       "      <th>0</th>\n",
       "      <td>52767</td>\n",
       "      <td>28</td>\n",
       "      <td>curvy</td>\n",
       "      <td>mostly vegetarian</td>\n",
       "      <td>socially</td>\n",
       "      <td>sometimes</td>\n",
       "      <td>working on space camp</td>\n",
       "      <td>here atm just looking for chill friends.&lt;br /&gt;...</td>\n",
       "      <td>clown school.</td>\n",
       "      <td>-making people laugh&lt;br /&gt;\\n-playing with kids...</td>\n",
       "      <td>...</td>\n",
       "      <td>san francisco, california</td>\n",
       "      <td>doesn&amp;rsquo;t have kids, but wants them</td>\n",
       "      <td>straight</td>\n",
       "      <td>likes dogs and likes cats</td>\n",
       "      <td>atheism</td>\n",
       "      <td>f</td>\n",
       "      <td>sagittarius and it&amp;rsquo;s fun to think about</td>\n",
       "      <td>no</td>\n",
       "      <td>english</td>\n",
       "      <td>seeing someone</td>\n",
       "    </tr>\n",
       "    <tr>\n",
       "      <th>1</th>\n",
       "      <td>33059</td>\n",
       "      <td>31</td>\n",
       "      <td>fit</td>\n",
       "      <td>NaN</td>\n",
       "      <td>socially</td>\n",
       "      <td>sometimes</td>\n",
       "      <td>graduated from college/university</td>\n",
       "      <td>\"i imagine that yes is the only living thing.\"...</td>\n",
       "      <td>studying and practicing massage/bodywork/energ...</td>\n",
       "      <td>putting words to feelings, cooking, procrastin...</td>\n",
       "      <td>...</td>\n",
       "      <td>oakland, california</td>\n",
       "      <td>NaN</td>\n",
       "      <td>straight</td>\n",
       "      <td>likes dogs</td>\n",
       "      <td>buddhism and laughing about it</td>\n",
       "      <td>f</td>\n",
       "      <td>scorpio</td>\n",
       "      <td>NaN</td>\n",
       "      <td>english, spanish</td>\n",
       "      <td>seeing someone</td>\n",
       "    </tr>\n",
       "    <tr>\n",
       "      <th>2</th>\n",
       "      <td>30123</td>\n",
       "      <td>24</td>\n",
       "      <td>fit</td>\n",
       "      <td>strictly anything</td>\n",
       "      <td>socially</td>\n",
       "      <td>never</td>\n",
       "      <td>graduated from college/university</td>\n",
       "      <td>my name is paige. i am smart, have a great sen...</td>\n",
       "      <td>full-time environmental consultant in the east...</td>\n",
       "      <td>being coordinated, attracting others to the da...</td>\n",
       "      <td>...</td>\n",
       "      <td>berkeley, california</td>\n",
       "      <td>doesn&amp;rsquo;t have kids</td>\n",
       "      <td>straight</td>\n",
       "      <td>likes dogs and likes cats</td>\n",
       "      <td>agnosticism and laughing about it</td>\n",
       "      <td>f</td>\n",
       "      <td>sagittarius and it&amp;rsquo;s fun to think about</td>\n",
       "      <td>no</td>\n",
       "      <td>english (fluently), spanish (poorly)</td>\n",
       "      <td>single</td>\n",
       "    </tr>\n",
       "    <tr>\n",
       "      <th>3</th>\n",
       "      <td>43140</td>\n",
       "      <td>35</td>\n",
       "      <td>athletic</td>\n",
       "      <td>strictly anything</td>\n",
       "      <td>socially</td>\n",
       "      <td>never</td>\n",
       "      <td>NaN</td>\n",
       "      <td>i am originally from cincinnati, a mid-western...</td>\n",
       "      <td>i own my own business and do freelance graphic...</td>\n",
       "      <td>being a good friend.&lt;br /&gt;\\nmaking people laug...</td>\n",
       "      <td>...</td>\n",
       "      <td>oakland, california</td>\n",
       "      <td>NaN</td>\n",
       "      <td>straight</td>\n",
       "      <td>NaN</td>\n",
       "      <td>NaN</td>\n",
       "      <td>f</td>\n",
       "      <td>sagittarius</td>\n",
       "      <td>NaN</td>\n",
       "      <td>english, spanish, french</td>\n",
       "      <td>single</td>\n",
       "    </tr>\n",
       "    <tr>\n",
       "      <th>4</th>\n",
       "      <td>11312</td>\n",
       "      <td>35</td>\n",
       "      <td>average</td>\n",
       "      <td>NaN</td>\n",
       "      <td>socially</td>\n",
       "      <td>never</td>\n",
       "      <td>graduated from masters program</td>\n",
       "      <td>a spirited, compassionate woman who is as comf...</td>\n",
       "      <td>i've lived in san francisco for over ten years...</td>\n",
       "      <td>laughing at people's jokes, showing compassion...</td>\n",
       "      <td>...</td>\n",
       "      <td>san francisco, california</td>\n",
       "      <td>NaN</td>\n",
       "      <td>straight</td>\n",
       "      <td>NaN</td>\n",
       "      <td>NaN</td>\n",
       "      <td>f</td>\n",
       "      <td>scorpio</td>\n",
       "      <td>no</td>\n",
       "      <td>english</td>\n",
       "      <td>single</td>\n",
       "    </tr>\n",
       "  </tbody>\n",
       "</table>\n",
       "<p>5 rows × 32 columns</p>\n",
       "</div>"
      ],
      "text/plain": [
       "   Unnamed: 0  age body_type               diet    drinks      drugs  \\\n",
       "0       52767   28     curvy  mostly vegetarian  socially  sometimes   \n",
       "1       33059   31       fit                NaN  socially  sometimes   \n",
       "2       30123   24       fit  strictly anything  socially      never   \n",
       "3       43140   35  athletic  strictly anything  socially      never   \n",
       "4       11312   35   average                NaN  socially      never   \n",
       "\n",
       "                           education  \\\n",
       "0              working on space camp   \n",
       "1  graduated from college/university   \n",
       "2  graduated from college/university   \n",
       "3                                NaN   \n",
       "4     graduated from masters program   \n",
       "\n",
       "                                              essay0  \\\n",
       "0  here atm just looking for chill friends.<br />...   \n",
       "1  \"i imagine that yes is the only living thing.\"...   \n",
       "2  my name is paige. i am smart, have a great sen...   \n",
       "3  i am originally from cincinnati, a mid-western...   \n",
       "4  a spirited, compassionate woman who is as comf...   \n",
       "\n",
       "                                              essay1  \\\n",
       "0                                      clown school.   \n",
       "1  studying and practicing massage/bodywork/energ...   \n",
       "2  full-time environmental consultant in the east...   \n",
       "3  i own my own business and do freelance graphic...   \n",
       "4  i've lived in san francisco for over ten years...   \n",
       "\n",
       "                                              essay2       ...        \\\n",
       "0  -making people laugh<br />\\n-playing with kids...       ...         \n",
       "1  putting words to feelings, cooking, procrastin...       ...         \n",
       "2  being coordinated, attracting others to the da...       ...         \n",
       "3  being a good friend.<br />\\nmaking people laug...       ...         \n",
       "4  laughing at people's jokes, showing compassion...       ...         \n",
       "\n",
       "                    location                                offspring  \\\n",
       "0  san francisco, california  doesn&rsquo;t have kids, but wants them   \n",
       "1        oakland, california                                      NaN   \n",
       "2       berkeley, california                  doesn&rsquo;t have kids   \n",
       "3        oakland, california                                      NaN   \n",
       "4  san francisco, california                                      NaN   \n",
       "\n",
       "  orientation                       pets                           religion  \\\n",
       "0    straight  likes dogs and likes cats                            atheism   \n",
       "1    straight                 likes dogs     buddhism and laughing about it   \n",
       "2    straight  likes dogs and likes cats  agnosticism and laughing about it   \n",
       "3    straight                        NaN                                NaN   \n",
       "4    straight                        NaN                                NaN   \n",
       "\n",
       "  sex                                           sign smokes  \\\n",
       "0   f  sagittarius and it&rsquo;s fun to think about     no   \n",
       "1   f                                        scorpio    NaN   \n",
       "2   f  sagittarius and it&rsquo;s fun to think about     no   \n",
       "3   f                                    sagittarius    NaN   \n",
       "4   f                                        scorpio     no   \n",
       "\n",
       "                                 speaks          status  \n",
       "0                               english  seeing someone  \n",
       "1                      english, spanish  seeing someone  \n",
       "2  english (fluently), spanish (poorly)          single  \n",
       "3              english, spanish, french          single  \n",
       "4                               english          single  \n",
       "\n",
       "[5 rows x 32 columns]"
      ]
     },
     "execution_count": 37,
     "metadata": {},
     "output_type": "execute_result"
    }
   ],
   "source": [
    "test.head()"
   ]
  },
  {
   "cell_type": "code",
   "execution_count": 45,
   "metadata": {
    "collapsed": false
   },
   "outputs": [],
   "source": [
    "# Consolidate essays into one essay\n",
    "\n",
    "# Create list of all columns that are essays\n",
    "essay_list = [('essay%i') %i for i in range(10)]\n",
    "# Replace empty essays with ' '\n",
    "\n",
    "test.ix[:,essay_list] = test.ix[:,essay_list].replace(np.nan,'', regex=True)\n",
    "\n",
    "def essay_to_words( raw_essay ):\n",
    "    \n",
    "    # Function to convert a raw review to a string of words\n",
    "    # The input is a single string (a raw movie review), and \n",
    "    # the output is a single string (a preprocessed movie review)\n",
    "    #\n",
    "    # 1. Remove HTML\n",
    "    text = BeautifulSoup(raw_essay, 'lxml').get_text() \n",
    "    #\n",
    "    # 2. Remove non-letters        \n",
    "    letters_only = re.sub(\"[^a-zA-Z0-9 ]\", \" \", text) \n",
    "    #\n",
    "    # 3. Convert to lower case\n",
    "    words = letters_only.lower()                            \n",
    "\n",
    "    return words\n",
    "\n",
    "# Write new column to df that contains all essays\n",
    "test['essays'] = (test.essay0 + ' ' + test.essay1 + ' ' + test.essay2 + ' ' + test.essay3 + ' ' + test.essay4 + ' ' \n",
    "              + test.essay5 + ' ' + test.essay6 + ' ' + test.essay7 + ' ' + test.essay8 + ' ' + test.essay9)\n",
    "test['essays'] = test.essays.apply(essay_to_words)\n",
    "# stem essay\n",
    "from nltk.stem.porter import *\n",
    "stemmer = PorterStemmer()\n",
    "\n",
    "def stem(essay):\n",
    "    stems = [stemmer.stem(word) for word in essay.lower().split()]\n",
    "    return ' '.join(stems)\n",
    "\n",
    "test['stemmed_essays'] = test['essays'].apply(stem)\n",
    "\n",
    "# feed through pipeline and predict\n",
    "\n",
    "X_test = test.stemmed_essays\n",
    "y_test = test.sex.apply(sex_encoder)"
   ]
  },
  {
   "cell_type": "code",
   "execution_count": 62,
   "metadata": {
    "collapsed": true
   },
   "outputs": [],
   "source": [
    "y_pred = best_model.predict(X_test)"
   ]
  },
  {
   "cell_type": "code",
   "execution_count": 63,
   "metadata": {
    "collapsed": false
   },
   "outputs": [
    {
     "name": "stdout",
     "output_type": "stream",
     "text": [
      "0.949639487683\n"
     ]
    }
   ],
   "source": [
    "print metrics.accuracy_score(y_test, y_pred)"
   ]
  },
  {
   "cell_type": "markdown",
   "metadata": {},
   "source": [
    "WOO HOO!!!  I can predict gender of the writer from essay text with 95% accuracy!"
   ]
  }
 ],
 "metadata": {
  "kernelspec": {
   "display_name": "Python 2",
   "language": "python",
   "name": "python2"
  },
  "language_info": {
   "codemirror_mode": {
    "name": "ipython",
    "version": 2
   },
   "file_extension": ".py",
   "mimetype": "text/x-python",
   "name": "python",
   "nbconvert_exporter": "python",
   "pygments_lexer": "ipython2",
   "version": "2.7.11"
  }
 },
 "nbformat": 4,
 "nbformat_minor": 0
}
