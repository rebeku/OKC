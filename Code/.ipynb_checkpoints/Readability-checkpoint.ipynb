{
 "cells": [
  {
   "cell_type": "code",
   "execution_count": 1,
   "metadata": {
    "collapsed": false
   },
   "outputs": [
    {
     "name": "stdout",
     "output_type": "stream",
     "text": [
      "Couldn't import dot_parser, loading of dot files will not be possible.\n"
     ]
    }
   ],
   "source": [
    "import textacy\n",
    "import spacy\n",
    "spacy.load('en')\n",
    "import pandas as pd\n",
    "import numpy as np"
   ]
  },
  {
   "cell_type": "code",
   "execution_count": null,
   "metadata": {
    "collapsed": true
   },
   "outputs": [],
   "source": [
    "# Readability stats must be run on text that is not pre"
   ]
  },
  {
   "cell_type": "code",
   "execution_count": 2,
   "metadata": {
    "collapsed": true
   },
   "outputs": [],
   "source": [
    "from time import time"
   ]
  },
  {
   "cell_type": "code",
   "execution_count": 25,
   "metadata": {
    "collapsed": true
   },
   "outputs": [],
   "source": [
    "okc = pd.read_csv('../Assets/A/train.csv')"
   ]
  },
  {
   "cell_type": "code",
   "execution_count": 26,
   "metadata": {
    "collapsed": true
   },
   "outputs": [],
   "source": [
    "# Work with only first 10,000 rows for time management\n",
    "okc = okc.iloc[:1000,]"
   ]
  },
  {
   "cell_type": "code",
   "execution_count": 32,
   "metadata": {
    "collapsed": false
   },
   "outputs": [],
   "source": [
    "# drop null values and convert to unicode\n",
    "okc = okc[okc.essay0.notnull()]\n",
    "okc.essay0 = okc.essay0.apply(unicode)"
   ]
  },
  {
   "cell_type": "code",
   "execution_count": 33,
   "metadata": {
    "collapsed": false
   },
   "outputs": [
    {
     "name": "stdout",
     "output_type": "stream",
     "text": [
      "Corpus loaded in 9.28986 seconds\n"
     ]
    }
   ],
   "source": [
    "t0 = time()\n",
    "# Convert long essay to unicode\n",
    "okc.essays = okc.essay0.apply(unicode)\n",
    "\n",
    "# Save long essay as list of dictionaries\n",
    "essay_d = okc.to_dict(orient='records')\n",
    "\n",
    "# Save essay text as content_stream, holding onto other info as metadata\n",
    "content_stream, metadata_stream = textacy.fileio.split_content_and_metadata(essay_d, 'essay0', itemwise=False)\n",
    "\n",
    "# load to textcorpus\n",
    "corpus = textacy.TextCorpus.from_texts('en', content_stream, metadata_stream, n_threads=2)\n",
    "\n",
    "print \"Corpus loaded in %g seconds\" %(time() - t0)"
   ]
  },
  {
   "cell_type": "code",
   "execution_count": 34,
   "metadata": {
    "collapsed": false
   },
   "outputs": [
    {
     "data": {
      "text/plain": [
       "{u'automated_readability_index': -0.7487500000000011,\n",
       " u'coleman_liau_index': 1.3252582916666675,\n",
       " u'flesch_kincaid_grade_level': 1.788333333333334,\n",
       " u'flesch_readability_ease': 96.49000000000002,\n",
       " u'gunning_fog_index': 3.2,\n",
       " u'n_chars': 85,\n",
       " u'n_polysyllable_words': 0,\n",
       " u'n_sents': 3,\n",
       " u'n_syllables': 29,\n",
       " u'n_unique_words': 19,\n",
       " u'n_words': 24,\n",
       " u'smog_index': 3.1291}"
      ]
     },
     "execution_count": 34,
     "metadata": {},
     "output_type": "execute_result"
    }
   ],
   "source": [
    "corpus[0].readability_stats"
   ]
  },
  {
   "cell_type": "code",
   "execution_count": 35,
   "metadata": {
    "collapsed": false
   },
   "outputs": [
    {
     "data": {
      "text/plain": [
       "{u'automated_readability_index': 0.5278787878787874,\n",
       " u'coleman_liau_index': 1.2529375454545466,\n",
       " u'flesch_kincaid_grade_level': 1.9309090909090898,\n",
       " u'flesch_readability_ease': 87.749696969697,\n",
       " u'gunning_fog_index': 1.4666666666666668,\n",
       " u'n_chars': 47,\n",
       " u'n_polysyllable_words': 0,\n",
       " u'n_sents': 3,\n",
       " u'n_syllables': 15,\n",
       " u'n_unique_words': 11,\n",
       " u'n_words': 11,\n",
       " u'smog_index': 3.1291}"
      ]
     },
     "execution_count": 35,
     "metadata": {},
     "output_type": "execute_result"
    }
   ],
   "source": [
    "corpus[1].readability_stats"
   ]
  },
  {
   "cell_type": "code",
   "execution_count": 50,
   "metadata": {
    "collapsed": false
   },
   "outputs": [
    {
     "data": {
      "text/plain": [
       "[(u'flesch_kincaid_grade_level', 3.7105161290322606),\n",
       " (u'smog_index', 8.238735603445708),\n",
       " (u'automated_readability_index', 3.078225806451613),\n",
       " (u'n_chars', 241),\n",
       " (u'n_unique_words', 49),\n",
       " (u'n_words', 62),\n",
       " (u'n_syllables', 76),\n",
       " (u'coleman_liau_index', 4.668674887096778),\n",
       " (u'gunning_fog_index', 7.540645161290323),\n",
       " (u'flesch_readability_ease', 90.5457741935484),\n",
       " (u'n_sents', 5),\n",
       " (u'n_polysyllable_words', 4)]"
      ]
     },
     "execution_count": 50,
     "metadata": {},
     "output_type": "execute_result"
    }
   ],
   "source": [
    "corpus[3].readability_stats.items()"
   ]
  },
  {
   "cell_type": "code",
   "execution_count": 55,
   "metadata": {
    "collapsed": false
   },
   "outputs": [
    {
     "data": {
      "text/plain": [
       "TextDoc(15 tokens; \"\"i imagine that yes is the only living thing.\" ...\")"
      ]
     },
     "execution_count": 55,
     "metadata": {},
     "output_type": "execute_result"
    }
   ],
   "source": [
    "corpus[1]"
   ]
  },
  {
   "cell_type": "code",
   "execution_count": 49,
   "metadata": {
    "collapsed": false
   },
   "outputs": [],
   "source": [
    "# Extract feature names from readability stats\n",
    "stats = corpus[0].readability_stats.keys()"
   ]
  },
  {
   "cell_type": "code",
   "execution_count": 56,
   "metadata": {
    "collapsed": false
   },
   "outputs": [
    {
     "name": "stdout",
     "output_type": "stream",
     "text": [
      "2.77469801903\n"
     ]
    }
   ],
   "source": [
    "t0 = time()\n",
    "readability = pd.DataFrame(index=range(len(corpus)), columns=stats)\n",
    "\n",
    "for i in range(len(corpus)):\n",
    "    for stat in corpus[i].readability_stats.items():\n",
    "        readability.ix[i, stat[0]] = stat[1]\n",
    "        \n",
    "print time()-t0"
   ]
  },
  {
   "cell_type": "code",
   "execution_count": 58,
   "metadata": {
    "collapsed": false
   },
   "outputs": [
    {
     "data": {
      "text/html": [
       "<div>\n",
       "<table border=\"1\" class=\"dataframe\">\n",
       "  <thead>\n",
       "    <tr style=\"text-align: right;\">\n",
       "      <th></th>\n",
       "      <th>flesch_kincaid_grade_level</th>\n",
       "      <th>smog_index</th>\n",
       "      <th>automated_readability_index</th>\n",
       "      <th>n_chars</th>\n",
       "      <th>n_unique_words</th>\n",
       "      <th>n_words</th>\n",
       "      <th>n_syllables</th>\n",
       "      <th>coleman_liau_index</th>\n",
       "      <th>gunning_fog_index</th>\n",
       "      <th>flesch_readability_ease</th>\n",
       "      <th>n_sents</th>\n",
       "      <th>n_polysyllable_words</th>\n",
       "    </tr>\n",
       "  </thead>\n",
       "  <tbody>\n",
       "    <tr>\n",
       "      <th>0</th>\n",
       "      <td>1.78833</td>\n",
       "      <td>3.1291</td>\n",
       "      <td>-0.74875</td>\n",
       "      <td>85</td>\n",
       "      <td>19</td>\n",
       "      <td>24</td>\n",
       "      <td>29</td>\n",
       "      <td>1.32526</td>\n",
       "      <td>3.2</td>\n",
       "      <td>96.49</td>\n",
       "      <td>3</td>\n",
       "      <td>0</td>\n",
       "    </tr>\n",
       "    <tr>\n",
       "      <th>1</th>\n",
       "      <td>1.93091</td>\n",
       "      <td>3.1291</td>\n",
       "      <td>0.527879</td>\n",
       "      <td>47</td>\n",
       "      <td>11</td>\n",
       "      <td>11</td>\n",
       "      <td>15</td>\n",
       "      <td>1.25294</td>\n",
       "      <td>1.46667</td>\n",
       "      <td>87.7497</td>\n",
       "      <td>3</td>\n",
       "      <td>0</td>\n",
       "    </tr>\n",
       "    <tr>\n",
       "      <th>2</th>\n",
       "      <td>5.50871</td>\n",
       "      <td>8.23874</td>\n",
       "      <td>6.02544</td>\n",
       "      <td>328</td>\n",
       "      <td>65</td>\n",
       "      <td>79</td>\n",
       "      <td>100</td>\n",
       "      <td>6.73913</td>\n",
       "      <td>8.34532</td>\n",
       "      <td>83.7094</td>\n",
       "      <td>5</td>\n",
       "      <td>4</td>\n",
       "    </tr>\n",
       "    <tr>\n",
       "      <th>3</th>\n",
       "      <td>3.71052</td>\n",
       "      <td>8.23874</td>\n",
       "      <td>3.07823</td>\n",
       "      <td>241</td>\n",
       "      <td>49</td>\n",
       "      <td>62</td>\n",
       "      <td>76</td>\n",
       "      <td>4.66867</td>\n",
       "      <td>7.54065</td>\n",
       "      <td>90.5458</td>\n",
       "      <td>5</td>\n",
       "      <td>4</td>\n",
       "    </tr>\n",
       "    <tr>\n",
       "      <th>4</th>\n",
       "      <td>4.99329</td>\n",
       "      <td>9.33951</td>\n",
       "      <td>3.31713</td>\n",
       "      <td>554</td>\n",
       "      <td>89</td>\n",
       "      <td>143</td>\n",
       "      <td>188</td>\n",
       "      <td>4.70253</td>\n",
       "      <td>8.83636</td>\n",
       "      <td>82.4176</td>\n",
       "      <td>11</td>\n",
       "      <td>13</td>\n",
       "    </tr>\n",
       "  </tbody>\n",
       "</table>\n",
       "</div>"
      ],
      "text/plain": [
       "  flesch_kincaid_grade_level smog_index automated_readability_index n_chars  \\\n",
       "0                    1.78833     3.1291                    -0.74875      85   \n",
       "1                    1.93091     3.1291                    0.527879      47   \n",
       "2                    5.50871    8.23874                     6.02544     328   \n",
       "3                    3.71052    8.23874                     3.07823     241   \n",
       "4                    4.99329    9.33951                     3.31713     554   \n",
       "\n",
       "  n_unique_words n_words n_syllables coleman_liau_index gunning_fog_index  \\\n",
       "0             19      24          29            1.32526               3.2   \n",
       "1             11      11          15            1.25294           1.46667   \n",
       "2             65      79         100            6.73913           8.34532   \n",
       "3             49      62          76            4.66867           7.54065   \n",
       "4             89     143         188            4.70253           8.83636   \n",
       "\n",
       "  flesch_readability_ease n_sents n_polysyllable_words  \n",
       "0                   96.49       3                    0  \n",
       "1                 87.7497       3                    0  \n",
       "2                 83.7094       5                    4  \n",
       "3                 90.5458       5                    4  \n",
       "4                 82.4176      11                   13  "
      ]
     },
     "execution_count": 58,
     "metadata": {},
     "output_type": "execute_result"
    }
   ],
   "source": [
    "readability.head()"
   ]
  },
  {
   "cell_type": "code",
   "execution_count": 62,
   "metadata": {
    "collapsed": true
   },
   "outputs": [],
   "source": [
    "from matplotlib import pyplot as plt\n",
    "import seaborn as sns\n",
    "%matplotlib inline"
   ]
  },
  {
   "cell_type": "code",
   "execution_count": 82,
   "metadata": {
    "collapsed": false
   },
   "outputs": [
    {
     "data": {
      "image/png": "[encoded data removed]",
      "text/plain": [
       "<matplotlib.figure.Figure at 0x11da91a10>"
      ]
     },
     "metadata": {},
     "output_type": "display_data"
    }
   ],
   "source": [
    "sns.distplot(readability.flesch_kincaid_grade_level)\n",
    "sns.set_palette('inferno')"
   ]
  },
  {
   "cell_type": "code",
   "execution_count": 83,
   "metadata": {
    "collapsed": false
   },
   "outputs": [
    {
     "data": {
      "image/png": "[encoded data removed]",
      "text/plain": [
       "<matplotlib.figure.Figure at 0x11ebc0f10>"
      ]
     },
     "metadata": {},
     "output_type": "display_data"
    }
   ],
   "source": [
    "plt.figure(figsize=(10, 7), dpi=80, facecolor='w', edgecolor='k')\n",
    "sns.set_palette(\"bright\")\n",
    "sns.kdeplot(readability.flesch_kincaid_grade_level, label=\"flesch-kincaid_grade_level\")\n",
    "sns.kdeplot(readability.smog_index, label=\"smog_index\")\n",
    "sns.kdeplot(readability.automated_readability_index, label=\"automated_readability_index\")\n",
    "sns.kdeplot(readability.coleman_liau_index, label=\"coleman_liau_index\")\n",
    "sns.kdeplot(readability.coleman_liau_index, label=\"gunning_fog_index\")\n",
    "plt.legend();"
   ]
  },
  {
   "cell_type": "code",
   "execution_count": 85,
   "metadata": {
    "collapsed": false
   },
   "outputs": [
    {
     "data": {
      "text/plain": [
       "<matplotlib.axes._subplots.AxesSubplot at 0x11f841d90>"
      ]
     },
     "execution_count": 85,
     "metadata": {},
     "output_type": "execute_result"
    },
    {
     "data": {
      "image/png": "[encoded data removed]",
      "text/plain": [
       "<matplotlib.figure.Figure at 0x11f841c90>"
      ]
     },
     "metadata": {},
     "output_type": "display_data"
    }
   ],
   "source": [
    "# Coleman-Liau index and Gunning Fog Index are distributed almost identically\n",
    "# However, each individual essay has quite different values\n",
    " \n",
    "sns.kdeplot(readability.coleman_liau_index, label=\"coleman_liau_index\")\n",
    "sns.kdeplot(readability.coleman_liau_index, label=\"gunning_fog_index\")"
   ]
  },
  {
   "cell_type": "code",
   "execution_count": null,
   "metadata": {
    "collapsed": true
   },
   "outputs": [],
   "source": [
    "# Make correlation heatmap between different indices?"
   ]
  },
  {
   "cell_type": "code",
   "execution_count": null,
   "metadata": {
    "collapsed": true
   },
   "outputs": [],
   "source": [
    "# Do some scatter plots between features"
   ]
  },
  {
   "cell_type": "code",
   "execution_count": null,
   "metadata": {
    "collapsed": true
   },
   "outputs": [],
   "source": [
    "# Model job type and education level.  See if you can predict?"
   ]
  }
 ],
 "metadata": {
  "kernelspec": {
   "display_name": "Python 2",
   "language": "python",
   "name": "python2"
  },
  "language_info": {
   "codemirror_mode": {
    "name": "ipython",
    "version": 2
   },
   "file_extension": ".py",
   "mimetype": "text/x-python",
   "name": "python",
   "nbconvert_exporter": "python",
   "pygments_lexer": "ipython2",
   "version": "2.7.11"
  }
 },
 "nbformat": 4,
 "nbformat_minor": 0
}
