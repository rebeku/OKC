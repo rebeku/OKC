{
 "cells": [
  {
   "cell_type": "code",
   "execution_count": 17,
   "metadata": {
    "collapsed": true
   },
   "outputs": [],
   "source": [
    "import pandas as pd\n",
    "import numpy as np"
   ]
  },
  {
   "cell_type": "code",
   "execution_count": 18,
   "metadata": {
    "collapsed": false
   },
   "outputs": [],
   "source": [
    "okc = pd.read_csv('../Assets/A/one_long_essay.csv', index_col='Unnamed: 0')"
   ]
  },
  {
   "cell_type": "code",
   "execution_count": 20,
   "metadata": {
    "collapsed": false
   },
   "outputs": [
    {
     "data": {
      "text/plain": [
       "mostly anything        14932\n",
       "anything                5595\n",
       "strictly anything       4581\n",
       "mostly vegetarian       3094\n",
       "mostly other             893\n",
       "strictly vegetarian      802\n",
       "vegetarian               604\n",
       "strictly other           408\n",
       "mostly vegan             302\n",
       "other                    300\n",
       "strictly vegan           210\n",
       "vegan                    121\n",
       "mostly kosher             76\n",
       "mostly halal              44\n",
       "strictly kosher           16\n",
       "strictly halal            16\n",
       "halal                     11\n",
       "kosher                    10\n",
       "Name: diet, dtype: int64"
      ]
     },
     "execution_count": 20,
     "metadata": {},
     "output_type": "execute_result"
    }
   ],
   "source": [
    "okc.diet.value_counts()"
   ]
  },
  {
   "cell_type": "markdown",
   "metadata": {},
   "source": [
    "### Consolidate diet into 3 categories:\n",
    "\n",
    "0 = \"anything\"/empty\n",
    "\n",
    "1 = \"vegetarian\"/\"vegan\"\n",
    "\n",
    "2 = \"kosher/halal\"\n",
    "\n",
    "### Also add column strict_diet\n",
    "\n",
    "1 = yes\n",
    "\n",
    "0 = no"
   ]
  },
  {
   "cell_type": "code",
   "execution_count": 21,
   "metadata": {
    "collapsed": false
   },
   "outputs": [],
   "source": [
    "strict_vector = []\n",
    "\n",
    "def diet_encoder(diet):\n",
    "    # save strictness values as boolean\n",
    "    global strict_vector\n",
    "    try:\n",
    "        if diet.find('strictly') >= 0:\n",
    "            strict_vector.append(1)\n",
    "        else:\n",
    "            strict_vector.append(0)\n",
    "            \n",
    "        # encode diet\n",
    "        if diet.find('vegetarian') >= 0 or diet.find('vegan') >= 0:\n",
    "            return 1\n",
    "        elif diet.find('kosher') >= 0 or diet.find('halal') >= 0:\n",
    "            return 2\n",
    "        else:\n",
    "            return 0\n",
    "    except:\n",
    "        strict_vector.append(0)\n",
    "        return 0\n",
    "\n",
    "# encode diet\n",
    "okc.diet = okc.diet.apply(diet_encoder)\n",
    "# save strictness to df\n",
    "okc['strict_diet'] = strict_vector"
   ]
  },
  {
   "cell_type": "code",
   "execution_count": 22,
   "metadata": {
    "collapsed": false
   },
   "outputs": [
    {
     "data": {
      "text/plain": [
       "0    48645\n",
       "1     5133\n",
       "2      173\n",
       "Name: diet, dtype: int64"
      ]
     },
     "execution_count": 22,
     "metadata": {},
     "output_type": "execute_result"
    }
   ],
   "source": [
    "okc.diet.value_counts()"
   ]
  },
  {
   "cell_type": "code",
   "execution_count": 23,
   "metadata": {
    "collapsed": false
   },
   "outputs": [
    {
     "data": {
      "text/plain": [
       "Index([u'age', u'body_type', u'diet', u'drinks', u'drugs', u'education',\n",
       "       u'essay0', u'essay1', u'essay2', u'essay3', u'essay4', u'essay5',\n",
       "       u'essay6', u'essay7', u'essay8', u'essay9', u'ethnicity', u'height',\n",
       "       u'income', u'job', u'last_online', u'location', u'offspring',\n",
       "       u'orientation', u'pets', u'religion', u'sex', u'sign', u'smokes',\n",
       "       u'speaks', u'status', u'essays', u'strict_diet'],\n",
       "      dtype='object')"
      ]
     },
     "execution_count": 23,
     "metadata": {},
     "output_type": "execute_result"
    }
   ],
   "source": [
    "okc.columns"
   ]
  },
  {
   "cell_type": "code",
   "execution_count": 24,
   "metadata": {
    "collapsed": false
   },
   "outputs": [
    {
     "data": {
      "text/plain": [
       "0    47918\n",
       "1     6033\n",
       "Name: strict_diet, dtype: int64"
      ]
     },
     "execution_count": 24,
     "metadata": {},
     "output_type": "execute_result"
    }
   ],
   "source": [
    "okc.strict_diet.value_counts()"
   ]
  },
  {
   "cell_type": "markdown",
   "metadata": {},
   "source": [
    "### Consolidate drinks into 3 categories:\n",
    "\n",
    "0 = 'rarely' or 'not at all'\n",
    "\n",
    "1 = 'socially'\n",
    "\n",
    "2 = 'often' or 'very often' or 'desperately'"
   ]
  },
  {
   "cell_type": "code",
   "execution_count": 25,
   "metadata": {
    "collapsed": false
   },
   "outputs": [],
   "source": [
    "def drink_encoder(drinks):\n",
    "    if drinks == 'socially':\n",
    "        return 1\n",
    "    elif drinks == 'rarely' or drinks == 'not at all':\n",
    "        return 0\n",
    "    else:\n",
    "        return 2\n",
    "    \n",
    "okc.drinks = okc.drinks.apply(drink_encoder)"
   ]
  },
  {
   "cell_type": "code",
   "execution_count": 26,
   "metadata": {
    "collapsed": false
   },
   "outputs": [
    {
     "data": {
      "text/plain": [
       "1    37616\n",
       "0     8317\n",
       "2     8018\n",
       "Name: drinks, dtype: int64"
      ]
     },
     "execution_count": 26,
     "metadata": {},
     "output_type": "execute_result"
    }
   ],
   "source": [
    "okc.drinks.value_counts()"
   ]
  },
  {
   "cell_type": "markdown",
   "metadata": {},
   "source": [
    "### Consolidate drugs\n",
    "n.b. there is probably a lot of lying on this one.\n",
    "\n",
    "0 = never\n",
    "\n",
    "1 = 'sometimes' or 'often'\n",
    "\n",
    "2 = does not say (so probably...)"
   ]
  },
  {
   "cell_type": "code",
   "execution_count": 27,
   "metadata": {
    "collapsed": false
   },
   "outputs": [],
   "source": [
    "def drugs_encoder(drugs):\n",
    "    if drugs == 'never':\n",
    "        return 0\n",
    "    if drugs == 'sometimes' or drugs == 'often':\n",
    "        return 1\n",
    "    if type(drugs) == float:\n",
    "        return 2\n",
    "    \n",
    "okc.drugs = okc.drugs.apply(drugs_encoder)"
   ]
  },
  {
   "cell_type": "code",
   "execution_count": 28,
   "metadata": {
    "collapsed": false
   },
   "outputs": [
    {
     "data": {
      "text/plain": [
       "0    33972\n",
       "2    12674\n",
       "1     7305\n",
       "Name: drugs, dtype: int64"
      ]
     },
     "execution_count": 28,
     "metadata": {},
     "output_type": "execute_result"
    }
   ],
   "source": [
    "okc.drugs.value_counts()"
   ]
  },
  {
   "cell_type": "markdown",
   "metadata": {},
   "source": [
    "### Consolidate body type into\n",
    "do we even want to look at body type?  We may want to compare to favorite foods or pastimes\n",
    "\n",
    "1 = 'curvy' or 'a little extra' or 'full figured' or 'overweight' \n",
    "2 = 'athletic' or 'fit' or 'jacked'\n",
    "0 = everyone else\n",
    "\n"
   ]
  },
  {
   "cell_type": "code",
   "execution_count": 29,
   "metadata": {
    "collapsed": false
   },
   "outputs": [],
   "source": [
    "def body_type_encoder(bt):\n",
    "    if bt == 'curvy' or bt == 'a little extra' or bt == 'full figured' or bt == 'overweight':\n",
    "        return 1\n",
    "    elif bt == 'athletic' or bt == 'fit' or bt == 'jacked':\n",
    "        return 2\n",
    "    else:\n",
    "        return 0\n",
    "    \n",
    "okc.body_type = okc.body_type.apply(body_type_encoder)"
   ]
  },
  {
   "cell_type": "code",
   "execution_count": 30,
   "metadata": {
    "collapsed": false
   },
   "outputs": [
    {
     "data": {
      "text/plain": [
       "0    24326\n",
       "2    22462\n",
       "1     7163\n",
       "Name: body_type, dtype: int64"
      ]
     },
     "execution_count": 30,
     "metadata": {},
     "output_type": "execute_result"
    }
   ],
   "source": [
    "okc.body_type.value_counts()"
   ]
  },
  {
   "cell_type": "code",
   "execution_count": 31,
   "metadata": {
    "collapsed": false
   },
   "outputs": [
    {
     "data": {
      "text/plain": [
       "Index([u'age', u'body_type', u'diet', u'drinks', u'drugs', u'education',\n",
       "       u'essay0', u'essay1', u'essay2', u'essay3', u'essay4', u'essay5',\n",
       "       u'essay6', u'essay7', u'essay8', u'essay9', u'ethnicity', u'height',\n",
       "       u'income', u'job', u'last_online', u'location', u'offspring',\n",
       "       u'orientation', u'pets', u'religion', u'sex', u'sign', u'smokes',\n",
       "       u'speaks', u'status', u'essays', u'strict_diet'],\n",
       "      dtype='object')"
      ]
     },
     "execution_count": 31,
     "metadata": {},
     "output_type": "execute_result"
    }
   ],
   "source": [
    "okc.columns"
   ]
  },
  {
   "cell_type": "markdown",
   "metadata": {},
   "source": [
    "### Consolidate Education into\n",
    "\n",
    "0 = not 4 year college grad\n",
    "1 = 4 year college grad"
   ]
  },
  {
   "cell_type": "code",
   "execution_count": 34,
   "metadata": {
    "collapsed": true
   },
   "outputs": [],
   "source": [
    "def ed_encoder(ed):\n",
    "    if ed == 'graduated from college/university' or ed == 'graduated from masters program' \\\n",
    "    or ed == 'working on masters program' or ed == 'graduated from ph.d program' or ed == 'graduated from law school'\\\n",
    "    or ed == 'working on ph.d program' or ed == 'college/university' or ed == 'graduated from med school' or\\\n",
    "    ed == 'working on law school' or ed == 'working on med school' or ed == 'dropped out of masters program' or\\\n",
    "    ed == 'masters program' or ed == 'dropped out of ph.d program' or ed == 'ph.d program' or ed == 'law school'\\\n",
    "    or ed == 'dropped out of law school' or ed == 'dropped out of med school' or ed == 'med school':\n",
    "        return 1\n",
    "    else:\n",
    "        return 0\n",
    "    # nb NaNs automatically encoded as non college grads.  Is this ok?\n",
    "    \n",
    "okc.education = okc.education.apply(ed_encoder)"
   ]
  },
  {
   "cell_type": "code",
   "execution_count": 35,
   "metadata": {
    "collapsed": false
   },
   "outputs": [
    {
     "data": {
      "text/plain": [
       "1    36219\n",
       "0    17732\n",
       "Name: education, dtype: int64"
      ]
     },
     "execution_count": 35,
     "metadata": {},
     "output_type": "execute_result"
    }
   ],
   "source": [
    "okc.education.value_counts()"
   ]
  },
  {
   "cell_type": "code",
   "execution_count": 38,
   "metadata": {
    "collapsed": false
   },
   "outputs": [
    {
     "data": {
      "text/plain": [
       "other                                6805\n",
       "student                              4376\n",
       "science / tech / engineering         4368\n",
       "computer / hardware / software       4245\n",
       "artistic / musical / writer          4012\n",
       "sales / marketing / biz dev          3944\n",
       "medicine / health                    3304\n",
       "education / academia                 3151\n",
       "executive / management               2135\n",
       "banking / financial / real estate    2049\n",
       "entertainment / media                2034\n",
       "law / legal services                 1239\n",
       "hospitality / travel                 1210\n",
       "construction / craftsmanship          925\n",
       "clerical / administrative             724\n",
       "political / government                647\n",
       "rather not say                        400\n",
       "transportation                        336\n",
       "unemployed                            253\n",
       "retired                               222\n",
       "military                              184\n",
       "Name: job, dtype: int64"
      ]
     },
     "execution_count": 38,
     "metadata": {},
     "output_type": "execute_result"
    }
   ],
   "source": [
    "okc.job.value_counts()"
   ]
  },
  {
   "cell_type": "code",
   "execution_count": null,
   "metadata": {
    "collapsed": true
   },
   "outputs": [],
   "source": [
    "jobs\n",
    "1 = 'science / tech / engineering' or 'computer / hardware / software'\n",
    "2 = "
   ]
  },
  {
   "cell_type": "code",
   "execution_count": 14,
   "metadata": {
    "collapsed": true
   },
   "outputs": [],
   "source": [
    "# Complete rest of categories"
   ]
  },
  {
   "cell_type": "code",
   "execution_count": 15,
   "metadata": {
    "collapsed": true
   },
   "outputs": [],
   "source": [
    "okc.to_csv('../Assets/A/encoded_features.csv')"
   ]
  },
  {
   "cell_type": "code",
   "execution_count": 16,
   "metadata": {
    "collapsed": false
   },
   "outputs": [
    {
     "data": {
      "text/plain": [
       "'here atm just looking for chill friends   i am awesome sauce   details to follow at 11  clown school   making people laugh  playing with kids and dogs  ideally together   climbing trees  picking apart books  sharing pretty much anything but food  the shirt off my back  sure  my dark chocolate lava cake  gtfo  getting lost    and enjoying it  beating you up that steep hill  trying to outdrink my guy friends and being funny in the process  existential debate over visual symbolism in intelligent anime  being god damn stubborn my boyish charm  book   gone with the wind   margaret mitchell  norwegian wood   haruki murakami  nine stories   j  d  salinger  the wall   jean paul sartre  villa incognito   tom robbins  movie   the shop around the corner  the matrix  the little mermaid  spirited away  the adventures of baron munchausen  show   lost  once upon a time  battlestar galactica  firefly  coffee prince  music   muse  daft punk  kimbra  ludwig van beethoven  george gershwin  food   street tacos  french bistro  japanese noodle truck  farmer s market samplings  red meat and dark chocolate  clothes with an emphasis on comfort and utility  private space time  green trees   the ocean  hugs  sketchbook   drawing utensil  music how futile serious okcupid profile content is   the walrus  koo koo ka chu   working   getting a drink with the guys   night running or cycling   reading or re watching an old movie   i am certain of nothing but the holiness of the heart s affections and the truth of imagination    john keats  you re kind of a hedonist   you re stubborn but kindhearted   you like to nerd out about whatever it is you re really into   you can deal with my absence for a day or three '"
      ]
     },
     "execution_count": 16,
     "metadata": {},
     "output_type": "execute_result"
    }
   ],
   "source": [
    "okc.essays[0]"
   ]
  }
 ],
 "metadata": {
  "kernelspec": {
   "display_name": "Python 2",
   "language": "python",
   "name": "python2"
  },
  "language_info": {
   "codemirror_mode": {
    "name": "ipython",
    "version": 2
   },
   "file_extension": ".py",
   "mimetype": "text/x-python",
   "name": "python",
   "nbconvert_exporter": "python",
   "pygments_lexer": "ipython2",
   "version": "2.7.11"
  }
 },
 "nbformat": 4,
 "nbformat_minor": 0
}
