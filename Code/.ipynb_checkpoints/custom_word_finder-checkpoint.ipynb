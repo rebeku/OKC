{
 "cells": [
  {
   "cell_type": "code",
   "execution_count": 1,
   "metadata": {
    "collapsed": true
   },
   "outputs": [],
   "source": [
    "import pandas as pd\n",
    "import numpy as np\n",
    "from sklearn.feature_extraction.text import TfidfVectorizer"
   ]
  },
  {
   "cell_type": "code",
   "execution_count": 2,
   "metadata": {
    "collapsed": true
   },
   "outputs": [],
   "source": [
    "okc = pd.read_csv('../Assets/A/one_long_essay.csv', index_col='Unnamed: 0')"
   ]
  },
  {
   "cell_type": "code",
   "execution_count": 3,
   "metadata": {
    "collapsed": true
   },
   "outputs": [],
   "source": [
    "def denull(essay):\n",
    "    if type(essay) == float:\n",
    "        return ''\n",
    "    else: return essay\n",
    "    \n",
    "okc.essays = okc.essays.apply(denull)"
   ]
  },
  {
   "cell_type": "code",
   "execution_count": 4,
   "metadata": {
    "collapsed": false
   },
   "outputs": [],
   "source": [
    "vec = TfidfVectorizer(encoding='utf-8', stop_words='english', max_features=2000)\n",
    "tf = vec.fit_transform(okc.essays)\n",
    "\n",
    "# add custom stop words? (ve, don, ll, im)\n",
    "\n",
    "tf = pd.DataFrame(tf.toarray(), columns=vec.get_feature_names())"
   ]
  },
  {
   "cell_type": "code",
   "execution_count": 5,
   "metadata": {
    "collapsed": true
   },
   "outputs": [],
   "source": [
    "# Calculate mean for each word for comparison\n",
    "\n",
    "mean_words = tf.mean(axis=0)"
   ]
  },
  {
   "cell_type": "code",
   "execution_count": 6,
   "metadata": {
    "collapsed": true
   },
   "outputs": [],
   "source": [
    "# Get categorical data for each data encoded as for Tableau dashboard\n",
    "cats = pd.read_csv('../Assets/Tableau/encoded_categories.csv', index_col='Unnamed: 0')"
   ]
  },
  {
   "cell_type": "code",
   "execution_count": 7,
   "metadata": {
    "collapsed": false
   },
   "outputs": [
    {
     "data": {
      "text/plain": [
       "Index([u'age', u'diet', u'drinks', u'drugs', u'education', u'income', u'job',\n",
       "       u'orientation', u'religion', u'religiousness', u'sex', u'smokes'],\n",
       "      dtype='object')"
      ]
     },
     "execution_count": 7,
     "metadata": {},
     "output_type": "execute_result"
    }
   ],
   "source": [
    "cats.columns"
   ]
  },
  {
   "cell_type": "code",
   "execution_count": 8,
   "metadata": {
    "collapsed": false
   },
   "outputs": [
    {
     "data": {
      "text/plain": [
       "array([ True,  True,  True, ...,  True,  True,  True], dtype=bool)"
      ]
     },
     "execution_count": 8,
     "metadata": {},
     "output_type": "execute_result"
    }
   ],
   "source": [
    "# index for cats and okc don't match.\n",
    "cats.index=range(len(cats))\n",
    "\n",
    "cats.index==okc.index"
   ]
  },
  {
   "cell_type": "code",
   "execution_count": 9,
   "metadata": {
    "collapsed": false
   },
   "outputs": [
    {
     "name": "stdout",
     "output_type": "stream",
     "text": [
      "People who use the word ZOMBIE in their profiles use the following other words\n",
      "most frequently compared to the average user of OKCupid:\n",
      "       \n",
      "zombie, apocalypse, dead, like, movies, games, don, video, horror, really, game, walking, just, ve, bad, ll, stuff, think, punk, star, awesome, war, pretty, books, probably, metal, guide, rock, want, make, fight, shit, black, series, random, shows, know, dark, thing, people, actually, ass, art, wars, big, nerd, lot, music, playing, thrones, club, world, way, things, science, death, evil, oh, park, geek, beer, sci, fi, firefly, man, comic, fantasy, tattoos, watch, white, hell, weird, time, tv, lost, band, nerdy, hate, super, comics, yeah, history, vampire, head, look, anime, eat, day, days, guy, cool, order, dr, play, films, scott, flicks, say, making\n",
      "   \n",
      "##########################################################################################\n",
      "    \n",
      "They use the following words much less frequently than the general population:\n",
      " \n",
      "family, friends, smile, travel, dinner, wine, fun, sports, life, yoga, loving, enjoying, traveling, looking, great, outdoors, healthy, easy, meet, active, soccer, restaurants, beach, company, exploring, important, career, francisco, interested, share, happy, week, tennis, moved, balance, woman, passionate, years, work, positive, sf, nyc, business, san, friendly, iphone, relaxing, lived, jazz, fullest, basketball, daughter, health, salsa, cultures, person, enjoys, skiing, gym, accent, warm, caring, laughter, passport, baseball, independent, thoughtful, smart, playful, dining, adventurous, football, listener, curious, exercise, hour, emotionally, fit, outgoing, spending, york, ambitious, foreign, relationship, hiking, energetic, glass, explore, spiritual, value, meditation, communication, goals, meeting, dancing, special, chemistry, hoping, confident, sales\n",
      "   \n",
      "##########################################################################################\n",
      "    \n",
      "In total 1059 individuals mentioned the word ZOMBIE in their profiles.\n"
     ]
    }
   ],
   "source": [
    "# Consider only those people who use the word zombie\n",
    "\n",
    "df_filtered = tf[tf.zombie > 0]\n",
    "mean_filtered = df_filtered.mean(axis=0)\n",
    "diff = mean_filtered - mean_words\n",
    "diff.sort_values(inplace=True)\n",
    "\n",
    "\n",
    "print \"People who use the word ZOMBIE in their profiles use the following other words\"\n",
    "print \"most frequently compared to the average user of OKCupid:\"\n",
    "print \"       \"\n",
    "top_list = ''\n",
    "# List top words mentioned in reverse order so most popular is first\n",
    "for i in range(-1, -100, -1):\n",
    "    top_list = top_list + diff.index[i] + ', '\n",
    "# remove comma and space from end\n",
    "top_list = top_list[:-2]\n",
    "print top_list\n",
    "print '   '\n",
    "print '##########################################################################################'\n",
    "print '    '\n",
    "print \"They use the following words much less frequently than the general population:\"\n",
    "bottom_list = ''\n",
    "for i in range(100):\n",
    "    bottom_list = bottom_list + diff.index[i] + ', '\n",
    "bottom_list = bottom_list[:-2]\n",
    "print ' '\n",
    "print bottom_list\n",
    "print '   '\n",
    "print '##########################################################################################'\n",
    "print '    '\n",
    "print 'In total %i individuals mentioned the word ZOMBIE in their profiles.' %df_filtered.shape[0]"
   ]
  },
  {
   "cell_type": "code",
   "execution_count": 10,
   "metadata": {
    "collapsed": true
   },
   "outputs": [],
   "source": [
    "length = 1059"
   ]
  },
  {
   "cell_type": "code",
   "execution_count": 11,
   "metadata": {
    "collapsed": false
   },
   "outputs": [
    {
     "data": {
      "text/plain": [
       "0.6968838526912181"
      ]
     },
     "execution_count": 11,
     "metadata": {},
     "output_type": "execute_result"
    }
   ],
   "source": [
    "float(cats.ix[df_filtered.index, :].sex.value_counts().ix['m']) / length"
   ]
  },
  {
   "cell_type": "code",
   "execution_count": 39,
   "metadata": {
    "collapsed": false
   },
   "outputs": [],
   "source": [
    "# Generalize to any word:\n",
    "\n",
    "def analyze(word):\n",
    "    df_filtered = tf[tf[word] > 0]\n",
    "    mean_filtered = df_filtered.mean(axis=0)\n",
    "    diff = mean_filtered - mean_words\n",
    "    diff.sort_values(inplace=True)\n",
    "\n",
    "\n",
    "    \n",
    "    print \"People who use the word %s in their profiles use the following other words\" %word\n",
    "    print \"most frequently compared to the average user of OKCupid:\"\n",
    "    print \"       \"\n",
    "    top_list = ''\n",
    "    # List top words mentioned in reverse order so most popular is first\n",
    "    # Skip first word.  It will be input.\n",
    "    for i in range(-2, -101, -1):\n",
    "        top_list = top_list + diff.index[i] + ', '\n",
    "    # remove comma and space from end\n",
    "    top_list = top_list[:-2]\n",
    "    \n",
    "    length = df_filtered.shape[0]\n",
    "    \n",
    "    male = 100 * cats.ix[df_filtered.index, :].sex.value_counts().ix['m'] / length\n",
    "    female = 100 * cats.ix[df_filtered.index, :].sex.value_counts().ix['f'] / length\n",
    "\n",
    "    \n",
    "    \n",
    "    \n",
    "    print top_list\n",
    "    print '   '\n",
    "    print '##########################################################################################'\n",
    "    print '    '\n",
    "    print \"They use the following words much less frequently than the general population:\"\n",
    "    bottom_list = ''\n",
    "    for i in range(100):\n",
    "        bottom_list = bottom_list + diff.index[i] + ', '\n",
    "    bottom_list = bottom_list[:-2]\n",
    "    print ' '\n",
    "    print bottom_list\n",
    "    print '   '\n",
    "    print '##########################################################################################'\n",
    "    print '    '\n",
    "    print 'In total %i individuals mentioned the word %s in their profiles.' %(length, word)\n",
    "    print '   '\n",
    "    print 'Approximately %i%% of those people are male, and %i%% are female.' %(male, female)\n",
    "    "
   ]
  },
  {
   "cell_type": "code",
   "execution_count": 40,
   "metadata": {
    "collapsed": false
   },
   "outputs": [
    {
     "name": "stdout",
     "output_type": "stream",
     "text": [
      "People who use the word yoga in their profiles use the following other words\n",
      "most frequently compared to the average user of OKCupid:\n",
      "       \n",
      "love, dancing, life, meditation, hiking, practice, healthy, nature, dance, travel, live, running, spiritual, world, active, wine, reading, learning, dinner, art, ve, cooking, class, enjoy, body, creative, health, great, years, chocolate, biking, bike, new, doing, partner, open, time, fresh, exploring, feel, exercise, energy, loving, week, climbing, passionate, heart, good, important, connection, food, balance, swimming, living, like, relationships, laughing, music, deep, practicing, organic, massage, teaching, beautiful, hike, community, happy, traveling, spirit, run, lived, hot, adventure, mind, vegan, outdoors, seeing, people, sunshine, getting, sf, teacher, make, soul, tea, teach, listening, warm, thai, daily, amazing, friends, recently, especially, camping, curious, appreciate, present, taking\n",
      "   \n",
      "##########################################################################################\n",
      "    \n",
      "They use the following words much less frequently than the general population:\n",
      " \n",
      "im, lol, guy, phone, games, internet, ask, sports, future, computer, dont, video, wanna, car, game, working, message, haha, hang, cars, school, bad, movies, cell, horror, just, shy, baseball, rap, student, laid, outgoing, bang, money, metal, shows, action, anime, giants, currently, laptop, comedy, thats, computers, alot, graduated, probably, bar, girls, hello, basketball, engineer, degree, height, meet, partying, soccer, beer, know, nerd, jokes, notice, weird, archer, shit, comics, college, iphone, zombie, potter, hate, person, ill, chill, asian, hangover, nice, chinese, fucking, awkward, fuck, lets, fan, ender, football, harry, tattoos, chat, beard, doctor, hit, nerdy, batman, guess, wars, mother, talk, software, somebody, gonna\n",
      "   \n",
      "##########################################################################################\n",
      "    \n",
      "In total 3727 individuals mentioned the word yoga in their profiles.\n",
      "   \n",
      "Approximately 39% of those people are male, and 60% are female.\n"
     ]
    }
   ],
   "source": [
    "analyze('yoga')"
   ]
  }
 ],
 "metadata": {
  "kernelspec": {
   "display_name": "Python 2",
   "language": "python",
   "name": "python2"
  },
  "language_info": {
   "codemirror_mode": {
    "name": "ipython",
    "version": 2
   },
   "file_extension": ".py",
   "mimetype": "text/x-python",
   "name": "python",
   "nbconvert_exporter": "python",
   "pygments_lexer": "ipython2",
   "version": "2.7.11"
  }
 },
 "nbformat": 4,
 "nbformat_minor": 0
}
