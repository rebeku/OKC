{
 "cells": [
  {
   "cell_type": "markdown",
   "metadata": {},
   "source": [
    "This code saves two files:\n",
    "1)     faves.csv\n",
    "    table containing over 1000 of most popular books, bands, movies and foods and counts for each user.\n",
    "    Should I come back and scale these by idf?\n",
    "    http://stevenloria.com/finding-important-words-in-a-document-using-tf-idf/\n",
    "2)     faves_svd.csv\n",
    "    table containing 3 principle components of faves following truncated SVD analysis"
   ]
  },
  {
   "cell_type": "code",
   "execution_count": 1,
   "metadata": {
    "collapsed": true
   },
   "outputs": [],
   "source": [
    "import pandas as pd\n",
    "import re\n",
    "import scipy as sp\n",
    "from bs4 import BeautifulSoup\n",
    "import numpy as np\n",
    "from collections import Counter\n",
    "from sklearn.decomposition import TruncatedSVD\n",
    "from sklearn.preprocessing import StandardScaler"
   ]
  },
  {
   "cell_type": "code",
   "execution_count": 2,
   "metadata": {
    "collapsed": false
   },
   "outputs": [],
   "source": [
    "okc = pd.read_csv('../Assets/A/one_long_essay.csv', index_col = 'Unnamed: 0')"
   ]
  },
  {
   "cell_type": "code",
   "execution_count": 3,
   "metadata": {
    "collapsed": false
   },
   "outputs": [
    {
     "data": {
      "text/plain": [
       "(53951, 32)"
      ]
     },
     "execution_count": 3,
     "metadata": {},
     "output_type": "execute_result"
    }
   ],
   "source": [
    "okc.shape"
   ]
  },
  {
   "cell_type": "code",
   "execution_count": 4,
   "metadata": {
    "collapsed": false
   },
   "outputs": [
    {
     "data": {
      "text/plain": [
       "0        book   gone with the wind   margaret mitchell ...\n",
       "1        authors  anais nin  ee cummings  erica jong  h...\n",
       "2        list to read  a clockwork orange  east of eden...\n",
       "3        the four ageements  blue valentine  30 rock  w...\n",
       "4        recently read the alchemist  the help and midd...\n",
       "5        marine life old bruce lee flicks repo man the ...\n",
       "6        my favorite books  etc   change but for now he...\n",
       "7        movies  clue  dirty dancing  traffic  food  in...\n",
       "8        little princess  who moved my cheese  master a...\n",
       "9                                                     yes \n",
       "10       books   the screwtape letters by c s lewis the...\n",
       "11       i enjoy books that take me out of my world or ...\n",
       "12       my movie tastes vary  sci fi is my favorite  i...\n",
       "13       i m an avid reader and i love movies  currentl...\n",
       "14       i m into all things exotic  intense  honest  t...\n",
       "15       books  i read a lot and i will read anything i...\n",
       "16       my library has a section of sf fantasy magic r...\n",
       "17       many favorite books    emotional intelligence ...\n",
       "18       books  i love to read so it s hard to pick  bu...\n",
       "19       i have a wide variety of tastes on all of thes...\n",
       "20           kylie  life is beautiful and a beautiful life\n",
       "21                                                     NaN\n",
       "22       three cups of tea  a fine balance  social netw...\n",
       "23       not writing a book about books i like i thrive...\n",
       "24                                                     NaN\n",
       "25       down to try new foods  like comedies either mo...\n",
       "26       anything chelsea handler  any and stoner comed...\n",
       "27       jeopardy  anything louise erdrich  loved the g...\n",
       "28       just finished reading  nave  super  it was rea...\n",
       "29       anything non fiction the league  curb  boardwa...\n",
       "                               ...                        \n",
       "53921    books would be too many to list  just finished...\n",
       "53922    steinbeck or hemingway  great american authors...\n",
       "53923    i am happy to say that i like all all types of...\n",
       "53924                                                  NaN\n",
       "53925    i dont really read to many books   i am a huge...\n",
       "53926    my day always starts with the new york times  ...\n",
       "53927                                                  NaN\n",
       "53928    big fan of queer texts and unconventional narr...\n",
       "53929                                                  NaN\n",
       "53930    books  varies  although i read a lot of comics...\n",
       "53931    not big on favorites  but here is an indicativ...\n",
       "53932    i have not read any books in the past 6 months...\n",
       "53933    i do in fact like all five of those things   a...\n",
       "53934                             all kinds of everything \n",
       "53935                                                  NaN\n",
       "53936    food  crab  corned beef  and cheese  not toget...\n",
       "53937    currently reading  armageddon in retrospect  i...\n",
       "53938                                                  NaN\n",
       "53939    love books  funny movies  i hate scary movies ...\n",
       "53940                                                  NaN\n",
       "53941    i m really into music  like  really  into musi...\n",
       "53942    books  my favourite is house of leaves  i ve o...\n",
       "53943    books  to the lighthouse  vonnegut  the last l...\n",
       "53944                                                  NaN\n",
       "53945    for movies and shows anything funny scary or a...\n",
       "53946    books  the prize  our inner ape  the complete ...\n",
       "53947    authors  klosterman  sedaris  king  palahniuk ...\n",
       "53948    i realize now that the concise answer here is ...\n",
       "53949    i enjoy reading  and my interests range from h...\n",
       "53950    to quote a wise brazilian woman   music is my ...\n",
       "Name: essay4, dtype: object"
      ]
     },
     "execution_count": 4,
     "metadata": {},
     "output_type": "execute_result"
    }
   ],
   "source": [
    "okc.essay4"
   ]
  },
  {
   "cell_type": "markdown",
   "metadata": {},
   "source": [
    "Categories are:\n",
    "books, movies, tv shows, music, food"
   ]
  },
  {
   "cell_type": "code",
   "execution_count": 5,
   "metadata": {
    "collapsed": false
   },
   "outputs": [],
   "source": [
    "# Save counter to include top books, movies, tv, music and food\n",
    "faves_count = Counter()\n",
    "\n",
    "# Save counters for all words that come before a colon\n",
    "# There may be common variations on the above categories that have been overlooked\n",
    "# Saving categories will help refine regex for search below\n",
    "cats = Counter()"
   ]
  },
  {
   "cell_type": "code",
   "execution_count": 6,
   "metadata": {
    "collapsed": false
   },
   "outputs": [],
   "source": [
    "# Takes regex search object and saves items from it to chosen list\n",
    "\n",
    "def split_n_save(search_obj, cnt):\n",
    "\n",
    "    # remove first word (category e.g. 'books:') last word (next category e.g. 'movies:')\n",
    "    # split list by commas and remove white space\n",
    "    for item in search_obj.split(' ',1)[1].rsplit(' ',1)[0].split(','):\n",
    "        clean_item = item.strip()\n",
    "        cnt[clean_item] += 1 \n"
   ]
  },
  {
   "cell_type": "markdown",
   "metadata": {},
   "source": [
    "### Search for movies, Tv Shows, Music, and food"
   ]
  },
  {
   "cell_type": "code",
   "execution_count": 7,
   "metadata": {
    "collapsed": true
   },
   "outputs": [],
   "source": [
    "SA = okc.essay4[0]"
   ]
  },
  {
   "cell_type": "code",
   "execution_count": 8,
   "metadata": {
    "collapsed": false
   },
   "outputs": [
    {
     "data": {
      "text/plain": [
       "'book   gone with the wind   margaret mitchell  norwegian wood   haruki murakami  nine stories   j  d  salinger  the wall   jean paul sartre  villa incognito   tom robbins  movie   the shop around the corner  the matrix  the little mermaid  spirited away  the adventures of baron munchausen  show   lost  once upon a time  battlestar galactica  firefly  coffee prince  music   muse  daft punk  kimbra  ludwig van beethoven  george gershwin  food   street tacos  french bistro  japanese noodle truck  farmer s market samplings  red meat and dark chocolate'"
      ]
     },
     "execution_count": 8,
     "metadata": {},
     "output_type": "execute_result"
    }
   ],
   "source": [
    "SA"
   ]
  },
  {
   "cell_type": "code",
   "execution_count": 9,
   "metadata": {
    "collapsed": false
   },
   "outputs": [],
   "source": [
    "def find_lists(essay):\n",
    "    \n",
    "    # Skip empty essays\n",
    "    # Remove markdown from the rest\n",
    "\n",
    "\n",
    "    # Save lists for each category\n",
    "    # All strings in Data Set A are lower case\n",
    "    \n",
    "    try:\n",
    "        fave_list = re.search('''[Bb]ooks?:(.*?)(:|$)|Rreading:(.*?)(:|$)|[Aa]uthors:(.*?)(:|$)\n",
    "        |[Mm]ovies?:(.*?)(:|$)|[fF]ilms?:(.*?)(:|$)([Tt][Vv]|[Ss]hows):(.*?)(:|$)([Mm]usic|[Bb]ands):\n",
    "        (.*?)(:|$)[Ff]oods?:(.*?)(:|$)''', SA).group(0)\n",
    "        split_n_save(fave_list, faves_count)\n",
    "    except:\n",
    "        pass\n",
    "   \n",
    "    # Save other categories in case you want to expand/improve regex later\n",
    "    try:\n",
    "        for cat in re.findall('(\\S*):', SA):\n",
    "            cats[cat] += 1\n",
    "    except:\n",
    "        pass\n",
    "    return essay"
   ]
  },
  {
   "cell_type": "code",
   "execution_count": 10,
   "metadata": {
    "collapsed": false,
    "scrolled": false
   },
   "outputs": [],
   "source": [
    "# Why does this keep printing 'None' for every single essay?\n",
    "\n",
    "# Save urls for later analysis?\n",
    "okc['essay4'] = okc.essay4.apply(find_lists)"
   ]
  },
  {
   "cell_type": "code",
   "execution_count": 11,
   "metadata": {
    "collapsed": false
   },
   "outputs": [
    {
     "data": {
      "text/plain": [
       "Counter()"
      ]
     },
     "execution_count": 11,
     "metadata": {},
     "output_type": "execute_result"
    }
   ],
   "source": [
    "faves_count"
   ]
  },
  {
   "cell_type": "code",
   "execution_count": 12,
   "metadata": {
    "collapsed": true
   },
   "outputs": [],
   "source": [
    "# Select all items in counter that occurred more than 10 times\n",
    "# Remove '' from each list\n",
    "\n",
    "def most_pop(counter):\n",
    "    top = filter(lambda x: x[1] >= 10, counter.most_common())\n",
    "    top_copy = top\n",
    "    for item in top:\n",
    "        if item[0] == '':\n",
    "            top_copy.remove(item)\n",
    "    return top_copy"
   ]
  },
  {
   "cell_type": "code",
   "execution_count": 13,
   "metadata": {
    "collapsed": false
   },
   "outputs": [],
   "source": [
    "top_faves = most_pop(faves_count)"
   ]
  },
  {
   "cell_type": "code",
   "execution_count": 14,
   "metadata": {
    "collapsed": false
   },
   "outputs": [
    {
     "data": {
      "text/plain": [
       "0"
      ]
     },
     "execution_count": 14,
     "metadata": {},
     "output_type": "execute_result"
    }
   ],
   "source": [
    "len(top_faves)"
   ]
  },
  {
   "cell_type": "code",
   "execution_count": 15,
   "metadata": {
    "collapsed": false
   },
   "outputs": [],
   "source": [
    "# Extract feature names from top_faves\n",
    "features = [fave[0] for fave in top_faves]"
   ]
  },
  {
   "cell_type": "code",
   "execution_count": 16,
   "metadata": {
    "collapsed": false
   },
   "outputs": [],
   "source": [
    "# Build new df with dummies for cols for all items liked by more than 10 people\n",
    "\n",
    "faves = pd.DataFrame(index=okc.index, columns=features)"
   ]
  },
  {
   "cell_type": "code",
   "execution_count": 17,
   "metadata": {
    "collapsed": false
   },
   "outputs": [],
   "source": [
    "# Iterate through users and count features in essay 4\n",
    "# count only instances of each feature with a space before and after.  \n",
    "# That way electronic won't count for 'tron' and non-fiction won't count for fiction\n",
    "\n",
    "# Can I write straight to scipy sparse?\n",
    "# I should use sklearn tf-idf but build custom tokenizer to look for just specific words.\n",
    "\n",
    "# This will take several hours.  Run overnight\n",
    "\n",
    "for user in faves.index[:10]:\n",
    "    for col in faves.columns[:10]:\n",
    "\n",
    "        # search essay4 for each feature    \n",
    "        # faves.ix[user, col] = okc.ix[user,'essay4'].count(' %s ' %col)\n",
    "        if okc.ix[user, 'essay4'].count(' %s' %col) > 0:\n",
    "            print user\n",
    "            print col\n",
    "            print okc.ix[user, 'essay4'].count('%s' %col)"
   ]
  },
  {
   "cell_type": "code",
   "execution_count": 18,
   "metadata": {
    "collapsed": false
   },
   "outputs": [
    {
     "data": {
      "text/plain": [
       "'authors  anais nin  ee cummings  erica jong  henry miller  walt whitman  haruki murakami  paul auster  italo calvino  michelle tea  rainier maria rilke  richard brautigan  kurt vonnegut  rumi  krishnamurti  ken wilber  derrick jensen  michael pollan  carl jung  naomi klein  the secret life of plants  the neverending story   movies  werner herzog  david lynch  roman polanski  darren aronofsky  waking life  the best movie i ve seen recently was howl  amazing    silly movies and bad movies and random sci fi are great too  but mostly documentaries these days    truth is stranger than fiction   music  recently  horse feathers  la roux  mum  the books  the flaming lips  seabear  holly miranda  the national  ratatat  geographer  bonobo  scout niblett  joanna newsom  andrew bird  bob dylan  massive attack  the orb  mos def  somafm poptron or groovesalad stations    mostly in the  indie   folk  danceable and electronic range  wicked wise lyrics  beats   food  organic  fresh  local  creative  homemade  sushi  thai  spicy chocolate  coconut  kombucha  espresso  tea  leafy veggies  savory  gluten free  which means  sadly  no beer '"
      ]
     },
     "execution_count": 18,
     "metadata": {},
     "output_type": "execute_result"
    }
   ],
   "source": [
    "okc.essay4[1]"
   ]
  },
  {
   "cell_type": "code",
   "execution_count": 19,
   "metadata": {
    "collapsed": false
   },
   "outputs": [
    {
     "data": {
      "text/plain": [
       "1"
      ]
     },
     "execution_count": 19,
     "metadata": {},
     "output_type": "execute_result"
    }
   ],
   "source": [
    "col = 'anais'\n",
    "okc['essay4'][1].count(' %s ' %col)"
   ]
  },
  {
   "cell_type": "code",
   "execution_count": 20,
   "metadata": {
    "collapsed": false
   },
   "outputs": [],
   "source": [
    "faves.to_csv('../Assets/A/faves.csv')"
   ]
  },
  {
   "cell_type": "code",
   "execution_count": 21,
   "metadata": {
    "collapsed": false
   },
   "outputs": [
    {
     "data": {
      "text/plain": [
       "(53951, 0)"
      ]
     },
     "execution_count": 21,
     "metadata": {},
     "output_type": "execute_result"
    }
   ],
   "source": [
    "faves.shape"
   ]
  },
  {
   "cell_type": "code",
   "execution_count": 22,
   "metadata": {
    "collapsed": false
   },
   "outputs": [
    {
     "data": {
      "text/plain": [
       "pandas.core.frame.DataFrame"
      ]
     },
     "execution_count": 22,
     "metadata": {},
     "output_type": "execute_result"
    }
   ],
   "source": [
    "type(faves)"
   ]
  },
  {
   "cell_type": "code",
   "execution_count": 23,
   "metadata": {
    "collapsed": false
   },
   "outputs": [
    {
     "ename": "KeyError",
     "evalue": "False",
     "output_type": "error",
     "traceback": [
      "\u001b[0;31m---------------------------------------------------------------------------\u001b[0m",
      "\u001b[0;31mKeyError\u001b[0m                                  Traceback (most recent call last)",
      "\u001b[0;32m<ipython-input-23-51069793bf10>\u001b[0m in \u001b[0;36m<module>\u001b[0;34m()\u001b[0m\n\u001b[0;32m----> 1\u001b[0;31m \u001b[0mfaves\u001b[0m\u001b[0;34m[\u001b[0m\u001b[0;34m'harry potter'\u001b[0m\u001b[0;34m==\u001b[0m\u001b[0;36m1\u001b[0m\u001b[0;34m]\u001b[0m\u001b[0;34m\u001b[0m\u001b[0m\n\u001b[0m",
      "\u001b[0;32m//anaconda/lib/python2.7/site-packages/pandas/core/frame.pyc\u001b[0m in \u001b[0;36m__getitem__\u001b[0;34m(self, key)\u001b[0m\n\u001b[1;32m   1990\u001b[0m             \u001b[0;32mreturn\u001b[0m \u001b[0mself\u001b[0m\u001b[0;34m.\u001b[0m\u001b[0m_getitem_multilevel\u001b[0m\u001b[0;34m(\u001b[0m\u001b[0mkey\u001b[0m\u001b[0;34m)\u001b[0m\u001b[0;34m\u001b[0m\u001b[0m\n\u001b[1;32m   1991\u001b[0m         \u001b[0;32melse\u001b[0m\u001b[0;34m:\u001b[0m\u001b[0;34m\u001b[0m\u001b[0m\n\u001b[0;32m-> 1992\u001b[0;31m             \u001b[0;32mreturn\u001b[0m \u001b[0mself\u001b[0m\u001b[0;34m.\u001b[0m\u001b[0m_getitem_column\u001b[0m\u001b[0;34m(\u001b[0m\u001b[0mkey\u001b[0m\u001b[0;34m)\u001b[0m\u001b[0;34m\u001b[0m\u001b[0m\n\u001b[0m\u001b[1;32m   1993\u001b[0m \u001b[0;34m\u001b[0m\u001b[0m\n\u001b[1;32m   1994\u001b[0m     \u001b[0;32mdef\u001b[0m \u001b[0m_getitem_column\u001b[0m\u001b[0;34m(\u001b[0m\u001b[0mself\u001b[0m\u001b[0;34m,\u001b[0m \u001b[0mkey\u001b[0m\u001b[0;34m)\u001b[0m\u001b[0;34m:\u001b[0m\u001b[0;34m\u001b[0m\u001b[0m\n",
      "\u001b[0;32m//anaconda/lib/python2.7/site-packages/pandas/core/frame.pyc\u001b[0m in \u001b[0;36m_getitem_column\u001b[0;34m(self, key)\u001b[0m\n\u001b[1;32m   1997\u001b[0m         \u001b[0;31m# get column\u001b[0m\u001b[0;34m\u001b[0m\u001b[0;34m\u001b[0m\u001b[0m\n\u001b[1;32m   1998\u001b[0m         \u001b[0;32mif\u001b[0m \u001b[0mself\u001b[0m\u001b[0;34m.\u001b[0m\u001b[0mcolumns\u001b[0m\u001b[0;34m.\u001b[0m\u001b[0mis_unique\u001b[0m\u001b[0;34m:\u001b[0m\u001b[0;34m\u001b[0m\u001b[0m\n\u001b[0;32m-> 1999\u001b[0;31m             \u001b[0;32mreturn\u001b[0m \u001b[0mself\u001b[0m\u001b[0;34m.\u001b[0m\u001b[0m_get_item_cache\u001b[0m\u001b[0;34m(\u001b[0m\u001b[0mkey\u001b[0m\u001b[0;34m)\u001b[0m\u001b[0;34m\u001b[0m\u001b[0m\n\u001b[0m\u001b[1;32m   2000\u001b[0m \u001b[0;34m\u001b[0m\u001b[0m\n\u001b[1;32m   2001\u001b[0m         \u001b[0;31m# duplicate columns & possible reduce dimensionality\u001b[0m\u001b[0;34m\u001b[0m\u001b[0;34m\u001b[0m\u001b[0m\n",
      "\u001b[0;32m//anaconda/lib/python2.7/site-packages/pandas/core/generic.pyc\u001b[0m in \u001b[0;36m_get_item_cache\u001b[0;34m(self, item)\u001b[0m\n\u001b[1;32m   1343\u001b[0m         \u001b[0mres\u001b[0m \u001b[0;34m=\u001b[0m \u001b[0mcache\u001b[0m\u001b[0;34m.\u001b[0m\u001b[0mget\u001b[0m\u001b[0;34m(\u001b[0m\u001b[0mitem\u001b[0m\u001b[0;34m)\u001b[0m\u001b[0;34m\u001b[0m\u001b[0m\n\u001b[1;32m   1344\u001b[0m         \u001b[0;32mif\u001b[0m \u001b[0mres\u001b[0m \u001b[0;32mis\u001b[0m \u001b[0mNone\u001b[0m\u001b[0;34m:\u001b[0m\u001b[0;34m\u001b[0m\u001b[0m\n\u001b[0;32m-> 1345\u001b[0;31m             \u001b[0mvalues\u001b[0m \u001b[0;34m=\u001b[0m \u001b[0mself\u001b[0m\u001b[0;34m.\u001b[0m\u001b[0m_data\u001b[0m\u001b[0;34m.\u001b[0m\u001b[0mget\u001b[0m\u001b[0;34m(\u001b[0m\u001b[0mitem\u001b[0m\u001b[0;34m)\u001b[0m\u001b[0;34m\u001b[0m\u001b[0m\n\u001b[0m\u001b[1;32m   1346\u001b[0m             \u001b[0mres\u001b[0m \u001b[0;34m=\u001b[0m \u001b[0mself\u001b[0m\u001b[0;34m.\u001b[0m\u001b[0m_box_item_values\u001b[0m\u001b[0;34m(\u001b[0m\u001b[0mitem\u001b[0m\u001b[0;34m,\u001b[0m \u001b[0mvalues\u001b[0m\u001b[0;34m)\u001b[0m\u001b[0;34m\u001b[0m\u001b[0m\n\u001b[1;32m   1347\u001b[0m             \u001b[0mcache\u001b[0m\u001b[0;34m[\u001b[0m\u001b[0mitem\u001b[0m\u001b[0;34m]\u001b[0m \u001b[0;34m=\u001b[0m \u001b[0mres\u001b[0m\u001b[0;34m\u001b[0m\u001b[0m\n",
      "\u001b[0;32m//anaconda/lib/python2.7/site-packages/pandas/core/internals.pyc\u001b[0m in \u001b[0;36mget\u001b[0;34m(self, item, fastpath)\u001b[0m\n\u001b[1;32m   3223\u001b[0m \u001b[0;34m\u001b[0m\u001b[0m\n\u001b[1;32m   3224\u001b[0m             \u001b[0;32mif\u001b[0m \u001b[0;32mnot\u001b[0m \u001b[0misnull\u001b[0m\u001b[0;34m(\u001b[0m\u001b[0mitem\u001b[0m\u001b[0;34m)\u001b[0m\u001b[0;34m:\u001b[0m\u001b[0;34m\u001b[0m\u001b[0m\n\u001b[0;32m-> 3225\u001b[0;31m                 \u001b[0mloc\u001b[0m \u001b[0;34m=\u001b[0m \u001b[0mself\u001b[0m\u001b[0;34m.\u001b[0m\u001b[0mitems\u001b[0m\u001b[0;34m.\u001b[0m\u001b[0mget_loc\u001b[0m\u001b[0;34m(\u001b[0m\u001b[0mitem\u001b[0m\u001b[0;34m)\u001b[0m\u001b[0;34m\u001b[0m\u001b[0m\n\u001b[0m\u001b[1;32m   3226\u001b[0m             \u001b[0;32melse\u001b[0m\u001b[0;34m:\u001b[0m\u001b[0;34m\u001b[0m\u001b[0m\n\u001b[1;32m   3227\u001b[0m                 \u001b[0mindexer\u001b[0m \u001b[0;34m=\u001b[0m \u001b[0mnp\u001b[0m\u001b[0;34m.\u001b[0m\u001b[0marange\u001b[0m\u001b[0;34m(\u001b[0m\u001b[0mlen\u001b[0m\u001b[0;34m(\u001b[0m\u001b[0mself\u001b[0m\u001b[0;34m.\u001b[0m\u001b[0mitems\u001b[0m\u001b[0;34m)\u001b[0m\u001b[0;34m)\u001b[0m\u001b[0;34m[\u001b[0m\u001b[0misnull\u001b[0m\u001b[0;34m(\u001b[0m\u001b[0mself\u001b[0m\u001b[0;34m.\u001b[0m\u001b[0mitems\u001b[0m\u001b[0;34m)\u001b[0m\u001b[0;34m]\u001b[0m\u001b[0;34m\u001b[0m\u001b[0m\n",
      "\u001b[0;32m//anaconda/lib/python2.7/site-packages/pandas/indexes/base.pyc\u001b[0m in \u001b[0;36mget_loc\u001b[0;34m(self, key, method, tolerance)\u001b[0m\n\u001b[1;32m   1876\u001b[0m                 \u001b[0;32mreturn\u001b[0m \u001b[0mself\u001b[0m\u001b[0;34m.\u001b[0m\u001b[0m_engine\u001b[0m\u001b[0;34m.\u001b[0m\u001b[0mget_loc\u001b[0m\u001b[0;34m(\u001b[0m\u001b[0mkey\u001b[0m\u001b[0;34m)\u001b[0m\u001b[0;34m\u001b[0m\u001b[0m\n\u001b[1;32m   1877\u001b[0m             \u001b[0;32mexcept\u001b[0m \u001b[0mKeyError\u001b[0m\u001b[0;34m:\u001b[0m\u001b[0;34m\u001b[0m\u001b[0m\n\u001b[0;32m-> 1878\u001b[0;31m                 \u001b[0;32mreturn\u001b[0m \u001b[0mself\u001b[0m\u001b[0;34m.\u001b[0m\u001b[0m_engine\u001b[0m\u001b[0;34m.\u001b[0m\u001b[0mget_loc\u001b[0m\u001b[0;34m(\u001b[0m\u001b[0mself\u001b[0m\u001b[0;34m.\u001b[0m\u001b[0m_maybe_cast_indexer\u001b[0m\u001b[0;34m(\u001b[0m\u001b[0mkey\u001b[0m\u001b[0;34m)\u001b[0m\u001b[0;34m)\u001b[0m\u001b[0;34m\u001b[0m\u001b[0m\n\u001b[0m\u001b[1;32m   1879\u001b[0m \u001b[0;34m\u001b[0m\u001b[0m\n\u001b[1;32m   1880\u001b[0m         \u001b[0mindexer\u001b[0m \u001b[0;34m=\u001b[0m \u001b[0mself\u001b[0m\u001b[0;34m.\u001b[0m\u001b[0mget_indexer\u001b[0m\u001b[0;34m(\u001b[0m\u001b[0;34m[\u001b[0m\u001b[0mkey\u001b[0m\u001b[0;34m]\u001b[0m\u001b[0;34m,\u001b[0m \u001b[0mmethod\u001b[0m\u001b[0;34m=\u001b[0m\u001b[0mmethod\u001b[0m\u001b[0;34m,\u001b[0m \u001b[0mtolerance\u001b[0m\u001b[0;34m=\u001b[0m\u001b[0mtolerance\u001b[0m\u001b[0;34m)\u001b[0m\u001b[0;34m\u001b[0m\u001b[0m\n",
      "\u001b[0;32mpandas/index.pyx\u001b[0m in \u001b[0;36mpandas.index.IndexEngine.get_loc (pandas/index.c:4027)\u001b[0;34m()\u001b[0m\n",
      "\u001b[0;32mpandas/index.pyx\u001b[0m in \u001b[0;36mpandas.index.IndexEngine.get_loc (pandas/index.c:3891)\u001b[0;34m()\u001b[0m\n",
      "\u001b[0;32mpandas/hashtable.pyx\u001b[0m in \u001b[0;36mpandas.hashtable.PyObjectHashTable.get_item (pandas/hashtable.c:12408)\u001b[0;34m()\u001b[0m\n",
      "\u001b[0;32mpandas/hashtable.pyx\u001b[0m in \u001b[0;36mpandas.hashtable.PyObjectHashTable.get_item (pandas/hashtable.c:12359)\u001b[0;34m()\u001b[0m\n",
      "\u001b[0;31mKeyError\u001b[0m: False"
     ]
    }
   ],
   "source": [
    "faves['harry potter'==1]"
   ]
  },
  {
   "cell_type": "code",
   "execution_count": null,
   "metadata": {
    "collapsed": false
   },
   "outputs": [],
   "source": [
    "faves = sp.sparse.csc_matrix(faves.values)"
   ]
  },
  {
   "cell_type": "code",
   "execution_count": null,
   "metadata": {
    "collapsed": false
   },
   "outputs": [],
   "source": [
    "# Perform truncated SVD\n",
    "# I believe it is preferable not to attempt to scale sparse data prior to SVD?????\n",
    "# http://scikit-learn.org/stable/modules/preprocessing.html#scaling-sparse-data\n",
    "\n",
    "svd = TruncatedSVD(n_components=3, random_state=42)\n",
    "faves_svd = svd.fit_transform(faves)"
   ]
  },
  {
   "cell_type": "code",
   "execution_count": null,
   "metadata": {
    "collapsed": false
   },
   "outputs": [],
   "source": [
    "print(svd.explained_variance_ratio_)\n",
    "print(svd.explained_variance_ratio_.sum())"
   ]
  },
  {
   "cell_type": "markdown",
   "metadata": {},
   "source": [
    "SHOULD I SCALE AFTER SVD????\n",
    "This guy does it:\n",
    "http://scikit-learn.org/stable/auto_examples/text/document_clustering.html\n",
    "\n",
    "Proceeding forward with data NOT SCALED OR NORMALIZED!"
   ]
  },
  {
   "cell_type": "code",
   "execution_count": null,
   "metadata": {
    "collapsed": false
   },
   "outputs": [],
   "source": [
    "faves_svd_df = pd.DataFrame(faves_svd)\n",
    "faves_svd_df.to_csv('../Assets/A/faves_SVD.csv')"
   ]
  },
  {
   "cell_type": "markdown",
   "metadata": {},
   "source": [
    "Over 98% of variance is explained by first component!  Check that out!  Reduced my number of features from 100(recommended for text classfication) to 3.  Still explaining over 99% of the variance.  Graph these? "
   ]
  },
  {
   "cell_type": "code",
   "execution_count": null,
   "metadata": {
    "collapsed": false
   },
   "outputs": [],
   "source": [
    "# Unpack what's in here!  Explore covariance with features from toy_faves\n",
    "# Remember this is not predictive of anything just eda\n",
    "svd.components_[0]\n"
   ]
  }
 ],
 "metadata": {
  "kernelspec": {
   "display_name": "Python 2",
   "language": "python",
   "name": "python2"
  },
  "language_info": {
   "codemirror_mode": {
    "name": "ipython",
    "version": 2
   },
   "file_extension": ".py",
   "mimetype": "text/x-python",
   "name": "python",
   "nbconvert_exporter": "python",
   "pygments_lexer": "ipython2",
   "version": "2.7.11"
  }
 },
 "nbformat": 4,
 "nbformat_minor": 0
}
