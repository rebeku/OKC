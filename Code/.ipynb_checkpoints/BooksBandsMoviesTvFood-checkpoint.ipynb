{
 "cells": [
  {
   "cell_type": "code",
   "execution_count": 17,
   "metadata": {
    "collapsed": true
   },
   "outputs": [],
   "source": [
    "import pandas as pd\n",
    "import re\n",
    "from bs4 import BeautifulSoup "
   ]
  },
  {
   "cell_type": "code",
   "execution_count": 3,
   "metadata": {
    "collapsed": true
   },
   "outputs": [],
   "source": [
    "okc = pd.read_csv('../Assets/SF/profiles.csv')"
   ]
  },
  {
   "cell_type": "code",
   "execution_count": 44,
   "metadata": {
    "collapsed": false
   },
   "outputs": [],
   "source": [
    "SA = okc.essay4[5]"
   ]
  },
  {
   "cell_type": "code",
   "execution_count": 37,
   "metadata": {
    "collapsed": false
   },
   "outputs": [
    {
     "data": {
      "text/plain": [
       "'books: to kill a mockingbird, lord of the rings, 1984, the farseer\\ntrilogy.<br />\\n<br />\\nmusic: the beatles, frank sinatra, john mayer, jason mraz,\\ndeadmau5, andrew bayer, everything on anjunadeep records, bach,\\nsatie.<br />\\n<br />\\ntv shows: how i met your mother, scrubs, the west wing, breaking\\nbad.<br />\\n<br />\\nmovies: star wars, the godfather pt ii, 500 days of summer,\\nnapoleon dynamite, american beauty, lotr<br />\\n<br />\\nfood: thai, vietnamese, shanghai dumplings, pizza!'"
      ]
     },
     "execution_count": 37,
     "metadata": {},
     "output_type": "execute_result"
    }
   ],
   "source": [
    "SA"
   ]
  },
  {
   "cell_type": "code",
   "execution_count": 43,
   "metadata": {
    "collapsed": true
   },
   "outputs": [],
   "source": [
    "# Remove markdown\n",
    "\n",
    "def essay_to_words( raw_essay ):\n",
    "\n",
    "    # 1. Remove HTML\n",
    "    text = BeautifulSoup(raw_essay, 'lxml').get_text() \n",
    "    #\n",
    "    # 2. Remove Newline characters       \n",
    "    text2 = text.replace('\\n', ' ')\n",
    "    return text2"
   ]
  },
  {
   "cell_type": "code",
   "execution_count": 46,
   "metadata": {
    "collapsed": false
   },
   "outputs": [],
   "source": [
    "SA = essay_to_words(SA)"
   ]
  },
  {
   "cell_type": "code",
   "execution_count": 47,
   "metadata": {
    "collapsed": false
   },
   "outputs": [
    {
     "data": {
      "text/plain": [
       "u'books: to kill a mockingbird, lord of the rings, 1984, the farseer trilogy.  music: the beatles, frank sinatra, john mayer, jason mraz, deadmau5, andrew bayer, everything on anjunadeep records, bach, satie.  tv shows: how i met your mother, scrubs, the west wing, breaking bad.  movies: star wars, the godfather pt ii, 500 days of summer, napoleon dynamite, american beauty, lotr  food: thai, vietnamese, shanghai dumplings, pizza!'"
      ]
     },
     "execution_count": 47,
     "metadata": {},
     "output_type": "execute_result"
    }
   ],
   "source": [
    "SA"
   ]
  },
  {
   "cell_type": "markdown",
   "metadata": {},
   "source": [
    "Categories are:\n",
    "books, movies, tv shows, music, food"
   ]
  },
  {
   "cell_type": "code",
   "execution_count": 6,
   "metadata": {
    "collapsed": true
   },
   "outputs": [],
   "source": [
    "cats = ['books', 'movies', 'tv shows', 'music', 'food']"
   ]
  },
  {
   "cell_type": "code",
   "execution_count": 48,
   "metadata": {
    "collapsed": false
   },
   "outputs": [],
   "source": [
    "SAs = SA.split(':')"
   ]
  },
  {
   "cell_type": "code",
   "execution_count": 49,
   "metadata": {
    "collapsed": false
   },
   "outputs": [
    {
     "data": {
      "text/plain": [
       "[u'books',\n",
       " u' to kill a mockingbird, lord of the rings, 1984, the farseer trilogy.  music',\n",
       " u' the beatles, frank sinatra, john mayer, jason mraz, deadmau5, andrew bayer, everything on anjunadeep records, bach, satie.  tv shows',\n",
       " u' how i met your mother, scrubs, the west wing, breaking bad.  movies',\n",
       " u' star wars, the godfather pt ii, 500 days of summer, napoleon dynamite, american beauty, lotr  food',\n",
       " u' thai, vietnamese, shanghai dumplings, pizza!']"
      ]
     },
     "execution_count": 49,
     "metadata": {},
     "output_type": "execute_result"
    }
   ],
   "source": [
    "SAs"
   ]
  },
  {
   "cell_type": "code",
   "execution_count": 52,
   "metadata": {
    "collapsed": false
   },
   "outputs": [
    {
     "data": {
      "text/plain": [
       "u'books'"
      ]
     },
     "execution_count": 52,
     "metadata": {},
     "output_type": "execute_result"
    }
   ],
   "source": [
    "SAs[0]"
   ]
  },
  {
   "cell_type": "code",
   "execution_count": 56,
   "metadata": {
    "collapsed": false
   },
   "outputs": [
    {
     "name": "stdout",
     "output_type": "stream",
     "text": [
      "[u' to kill a mockingbird', u' lord of the rings', u' 1984', u' the farseer trilogy.  music']\n"
     ]
    }
   ],
   "source": [
    "# get list of books\n",
    "books = SAs[1].split(',')\n",
    "print books"
   ]
  },
  {
   "cell_type": "code",
   "execution_count": 59,
   "metadata": {
    "collapsed": false
   },
   "outputs": [],
   "source": [
    "# Separate last word of list from label for next list\n",
    "\n",
    "[lbook, nindex] = books[-1].rsplit(' ', 1)\n",
    "books[-1] = lbook"
   ]
  },
  {
   "cell_type": "code",
   "execution_count": 63,
   "metadata": {
    "collapsed": false
   },
   "outputs": [
    {
     "name": "stdout",
     "output_type": "stream",
     "text": [
      "[u' to kill a mockingbird', u' lord of the rings', u' 1984', u' the farseer trilogy. ']\n",
      "music\n"
     ]
    }
   ],
   "source": [
    "print books\n",
    "print nindex"
   ]
  },
  {
   "cell_type": "code",
   "execution_count": null,
   "metadata": {
    "collapsed": true
   },
   "outputs": [],
   "source": [
    "# figure out how to save list with labels"
   ]
  }
 ],
 "metadata": {
  "kernelspec": {
   "display_name": "Python 2",
   "language": "python",
   "name": "python2"
  },
  "language_info": {
   "codemirror_mode": {
    "name": "ipython",
    "version": 2
   },
   "file_extension": ".py",
   "mimetype": "text/x-python",
   "name": "python",
   "nbconvert_exporter": "python",
   "pygments_lexer": "ipython2",
   "version": "2.7.11"
  }
 },
 "nbformat": 4,
 "nbformat_minor": 0
}
