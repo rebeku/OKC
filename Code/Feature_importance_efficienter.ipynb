{
 "cells": [
  {
   "cell_type": "code",
   "execution_count": 1,
   "metadata": {
    "collapsed": true
   },
   "outputs": [],
   "source": [
    "import pandas as pd\n",
    "import numpy as np\n",
    "from time import time"
   ]
  },
  {
   "cell_type": "code",
   "execution_count": 2,
   "metadata": {
    "collapsed": true
   },
   "outputs": [],
   "source": [
    "okc = pd.read_csv('../Assets/A/one_long_essay.csv', index_col='Unnamed: 0')"
   ]
  },
  {
   "cell_type": "code",
   "execution_count": 3,
   "metadata": {
    "collapsed": false
   },
   "outputs": [],
   "source": [
    "def denull(essay):\n",
    "    if type(essay) == float:\n",
    "        return ''\n",
    "    else: return essay\n",
    "    \n",
    "okc.essays = okc.essays.apply(denull)"
   ]
  },
  {
   "cell_type": "code",
   "execution_count": 4,
   "metadata": {
    "collapsed": true
   },
   "outputs": [],
   "source": [
    "from sklearn.feature_extraction.text import TfidfVectorizer"
   ]
  },
  {
   "cell_type": "code",
   "execution_count": 5,
   "metadata": {
    "collapsed": false
   },
   "outputs": [
    {
     "name": "stdout",
     "output_type": "stream",
     "text": [
      "vectorized essays in 16.2912 seconds\n"
     ]
    }
   ],
   "source": [
    "t0 = time()\n",
    "vec = TfidfVectorizer(encoding='utf-8', stop_words='english', max_features=2000)\n",
    "tf = vec.fit_transform(okc.essays)\n",
    "print \"vectorized essays in %g seconds\" %(time()-t0)"
   ]
  },
  {
   "cell_type": "code",
   "execution_count": 6,
   "metadata": {
    "collapsed": false
   },
   "outputs": [],
   "source": [
    "tf = pd.DataFrame(tf.toarray(), columns=vec.get_feature_names())"
   ]
  },
  {
   "cell_type": "code",
   "execution_count": 162,
   "metadata": {
    "collapsed": false
   },
   "outputs": [],
   "source": [
    "# Save any features we might want to filter by to tf dataframe\n",
    "features = ['age', 'body_type', 'diet', 'drinks', 'drugs', 'education', 'ethnicity', \n",
    "           'height', 'income', 'job', 'offspring', 'orientation', 'pets', 'religion', \n",
    "            'sex', 'sign', 'smokes', 'speaks']"
   ]
  },
  {
   "cell_type": "code",
   "execution_count": 163,
   "metadata": {
    "collapsed": false
   },
   "outputs": [],
   "source": [
    "for feature in features:\n",
    "    tf['X%s' %feature] = okc[feature]"
   ]
  },
  {
   "cell_type": "markdown",
   "metadata": {},
   "source": [
    "### Find top words by tf-idf score"
   ]
  },
  {
   "cell_type": "code",
   "execution_count": 9,
   "metadata": {
    "collapsed": false
   },
   "outputs": [],
   "source": [
    "mean_words = tf.iloc[:,:2000].mean(axis=0)\n",
    "mean_words.sort_values(inplace=True, ascending=False)"
   ]
  },
  {
   "cell_type": "code",
   "execution_count": 10,
   "metadata": {
    "collapsed": false
   },
   "outputs": [],
   "source": [
    "# add something to this for hue?\n",
    "mean_words[:60].to_csv('../Assets/Tableau/top_words.csv')"
   ]
  },
  {
   "cell_type": "markdown",
   "metadata": {},
   "source": [
    "### Compare word frequency for men vs. women"
   ]
  },
  {
   "cell_type": "code",
   "execution_count": 11,
   "metadata": {
    "collapsed": false
   },
   "outputs": [
    {
     "name": "stdout",
     "output_type": "stream",
     "text": [
      "2.81872487068\n"
     ]
    }
   ],
   "source": [
    "# Compute mean value of each of first 2000 columns for men\n",
    "t0 = time()\n",
    "mdf = tf[tf.Xsex=='m']\n",
    "df = pd.DataFrame(mdf.iloc[:,:2000].mean(axis=0), columns = ['m'])\n",
    "print time()-t0"
   ]
  },
  {
   "cell_type": "code",
   "execution_count": 12,
   "metadata": {
    "collapsed": false
   },
   "outputs": [
    {
     "name": "stdout",
     "output_type": "stream",
     "text": [
      "0.48243188858\n"
     ]
    }
   ],
   "source": [
    "# Compute mean value of each of first 2000 columns for women\n",
    "t0 = time()\n",
    "fdf = tf[tf.Xsex == 'f']\n",
    "df['f'] = fdf.iloc[:,:2000].mean(axis=0)\n",
    "print time()-t0"
   ]
  },
  {
   "cell_type": "code",
   "execution_count": 13,
   "metadata": {
    "collapsed": true
   },
   "outputs": [],
   "source": [
    "df['diff'] = df['m']-df['f']"
   ]
  },
  {
   "cell_type": "code",
   "execution_count": 14,
   "metadata": {
    "collapsed": false
   },
   "outputs": [],
   "source": [
    "df.sort_values('diff', inplace=True)"
   ]
  },
  {
   "cell_type": "code",
   "execution_count": 15,
   "metadata": {
    "collapsed": false
   },
   "outputs": [],
   "source": [
    "# Save top 200 words for women and men for report\n",
    "women_list = ''\n",
    "for word in df.index[:200]:\n",
    "    women_list = women_list + word + ', '\n",
    "    \n",
    "men_list = ''\n",
    "# Write men_list in reverse order so most popular words are on top\n",
    "for i in range(-1, -200, -1):\n",
    "    men_list = men_list + df.index[i] + ', '"
   ]
  },
  {
   "cell_type": "code",
   "execution_count": 16,
   "metadata": {
    "collapsed": false
   },
   "outputs": [
    {
     "data": {
      "text/plain": [
       "u'guy, im, sports, guitar, video, stuff, computer, playing, software, computers, internet, engineer, cool, working, fixing, com, basketball, technology, company, cars, game, ask, tech, startup, science, http, engineering, motorcycle, beer, money, star, soccer, www, bad, gym, games, beard, play, business, building, ll, snowboarding, just, problems, breaking, women, golf, laid, nice, rock, programming, got, punk, web, electronic, future, philosophy, musician, dj, fight, history, youtube, wars, hit, metal, dude, archer, dead, climbing, surfing, dont, matrix, probably, south, thrones, meet, bass, pulp, san, build, wanna, knight, head, ve, moved, bikes, math, mountain, ladies, drums, war, club, gear, lebowski, boy, interesting, bbq, park, guess, bar, like, dad, wire, simpsons, design, inception, tennis, martial, ideas, chat, shit, father, sci, lord, floyd, fi, solving, man, hang, francisco, godfather, thats, chill, blade, daft, used, couple, gay, big, awesome, ill, physics, geek, nerd, curb, fishing, decent, lol, maybe, thing, dick, dubstep, flying, point, somebody, partying, film, biking, hell, universe, rings, chinese, kinda, robert, bored, start, politics, alot, anime, futurama, code, baseball, space, hockey, fix, bike, looks, air, kid, lets, american, chance, cycling, hunter, bicycle, improve, shape, seinfeld, haha, tall, laptop, batman, facebook, brother, miles, sailing, shawshank, zeppelin, college, drink, brothers, trek, pizza, comedy, hey, work, profile, born, led, '"
      ]
     },
     "execution_count": 16,
     "metadata": {},
     "output_type": "execute_result"
    }
   ],
   "source": [
    "men_list"
   ]
  },
  {
   "cell_type": "code",
   "execution_count": 17,
   "metadata": {
    "collapsed": false
   },
   "outputs": [
    {
     "data": {
      "text/plain": [
       "u'love, girl, family, dancing, friends, wine, smile, laugh, yoga, favorite, chocolate, laughing, dance, hair, dinner, laughter, travel, dog, happy, loving, baking, sunshine, home, friend, new, life, cheese, books, animals, children, kids, cooking, eyes, reading, book, heart, traveling, live, heels, people, singing, glass, little, food, dogs, silly, independent, kind, amazing, sweet, loved, beautiful, adventures, coffee, mom, spending, warm, nature, watching, men, especially, person, daughter, true, hiking, appreciate, cat, shopping, education, don, shows, passionate, ocean, relationship, important, read, fresh, art, cats, honest, care, jane, loves, teacher, sister, make, creative, water, passport, great, chick, humor, wonderful, loyal, tea, time, beauty, health, hunger, excited, healthy, beach, adventure, harry, fashion, garden, exploring, adele, shoes, amelie, makes, adore, lady, red, caring, pride, sense, planning, queer, delicious, partner, compassionate, potter, favorites, taking, night, loud, really, bed, things, yummy, social, color, parties, enjoy, yes, best, learning, funny, bones, organizing, grey, week, going, adventurous, son, seeing, cook, sing, kinds, making, strong, swimming, places, absolutely, flowers, hour, hugs, positive, year, comfortable, spend, curly, salsa, painting, hot, cute, admit, museums, florence, woman, law, glee, holiday, obsessed, mother, couch, finding, miss, cream, quirky, hike, thai, smiling, dirty, sedaris, teaching, explore, ready, school, child, lovely, outside, enjoying, summer, outgoing, teach, feel, outdoors, girls, '"
      ]
     },
     "execution_count": 17,
     "metadata": {},
     "output_type": "execute_result"
    }
   ],
   "source": [
    "women_list\n"
   ]
  },
  {
   "cell_type": "code",
   "execution_count": 18,
   "metadata": {
    "collapsed": false
   },
   "outputs": [],
   "source": [
    "# order top females words by 'f' column\n",
    "df_f = df.head(10)\n",
    "df_f = df_f.sort_values('f', ascending=False)\n",
    "\n",
    "# order top male words by 'm' column\n",
    "df_m = df.tail(10)\n",
    "df_m = df_m.sort_values('m', ascending=True)"
   ]
  },
  {
   "cell_type": "code",
   "execution_count": 19,
   "metadata": {
    "collapsed": false
   },
   "outputs": [],
   "source": [
    "# Create new df with top 10 features for men and top 10 features for women\n",
    "\n",
    "df_mf = df_f.append(df_m)\n",
    "df_mf.to_csv('../Assets/Tableau/df_mf.csv')"
   ]
  },
  {
   "cell_type": "markdown",
   "metadata": {},
   "source": [
    "### Compare word frequency for social drinkers vs. heavy drinkers vs. non drinkers"
   ]
  },
  {
   "cell_type": "code",
   "execution_count": 21,
   "metadata": {
    "collapsed": false
   },
   "outputs": [
    {
     "name": "stdout",
     "output_type": "stream",
     "text": [
      "0.838355064392\n"
     ]
    }
   ],
   "source": [
    "# Compare word frequency for social drinkers vs. heavy drinkers vs. non drinkers\n",
    "\n",
    "# Compute mean value of each of first 2000 columns for social drinks\n",
    "t0 = time()\n",
    "ddf = tf[tf.Xdrinks=='socially']\n",
    "df = pd.DataFrame(ddf.iloc[:,:2000].mean(axis=0), columns = ['social'])\n",
    "print time()-t0"
   ]
  },
  {
   "cell_type": "code",
   "execution_count": 22,
   "metadata": {
    "collapsed": false
   },
   "outputs": [
    {
     "name": "stdout",
     "output_type": "stream",
     "text": [
      "0.298309087753\n"
     ]
    }
   ],
   "source": [
    "# Compute mean value of each of first 2000 columns for non-drinkers\n",
    "t0 = time()\n",
    "ddf = tf.query(\"Xdrinks == 'rarely'|Xdrinks == 'not at all'\")\n",
    "df['non-drinker'] = ddf.iloc[:,:2000].mean(axis=0)\n",
    "print time()-t0"
   ]
  },
  {
   "cell_type": "code",
   "execution_count": 23,
   "metadata": {
    "collapsed": false
   },
   "outputs": [
    {
     "name": "stdout",
     "output_type": "stream",
     "text": [
      "0.17556810379\n"
     ]
    }
   ],
   "source": [
    "# Compute mean value of each of first 2000 columns for heavy drinkers\n",
    "t0 = time()\n",
    "ddf = tf.query(\"Xdrinks == 'often'|Xdrinks == 'very often'|Xdrinks == 'desperately'\")\n",
    "df['heavy'] = ddf.iloc[:,:2000].mean(axis=0)\n",
    "print time()-t0"
   ]
  },
  {
   "cell_type": "code",
   "execution_count": 24,
   "metadata": {
    "collapsed": false
   },
   "outputs": [],
   "source": [
    "df['avg'] = df.mean(axis=1)\n",
    "# Compute differences between social drinkers' values and other categories\n",
    "df['nd_diff'] = df['non-drinker'] - df['avg']\n",
    "df['h_diff'] = df['heavy'] - df['avg']\n",
    "df['s_diff'] = df['social'] - df['avg']"
   ]
  },
  {
   "cell_type": "code",
   "execution_count": 25,
   "metadata": {
    "collapsed": true
   },
   "outputs": [],
   "source": [
    "# Save top 200 words for heavy, social, and non-drinkers for report\n",
    "# heavy drinkers:\n",
    "df.sort_values('h_diff', ascending=False, inplace=True)\n",
    "\n",
    "heavy_list = ''\n",
    "for word in df.index[:200]:\n",
    "    heavy_list = heavy_list + word + ', '\n",
    "\n",
    "# social drinkers:\n",
    "df.sort_values('s_diff', ascending=False, inplace=True)\n",
    "\n",
    "social_list = ''\n",
    "for word in df.index[:200]:\n",
    "    social_list = social_list + word + ', '\n",
    "    \n",
    "# non-drinkers:\n",
    "df.sort_values('nd_diff', ascending=False, inplace=True)\n",
    "\n",
    "non_list = ''\n",
    "for word in df.index[:200]:\n",
    "    non_list = non_list + word + ', '"
   ]
  },
  {
   "cell_type": "code",
   "execution_count": 26,
   "metadata": {
    "collapsed": false
   },
   "outputs": [
    {
     "name": "stdout",
     "output_type": "stream",
     "text": [
      "life, person, relationship, spiritual, healthy, nature, games, know, computer, friend, woman, open, looking, interested, health, god, honest, learning, self, meditation, don, partner, like, share, kind, love, chinese, lol, caring, im, children, heart, helping, loving, video, care, shy, people, ask, simple, practice, quiet, creative, compassionate, romantic, body, special, connection, help, friendship, spirituality, believe, nice, classical, yoga, understanding, anime, smile, guy, communication, feel, kids, enjoy, future, hope, better, present, intelligent, truth, son, term, animals, vegan, movies, community, think, relationships, important, chocolate, age, want, writing, water, need, daughter, arts, sense, home, drugs, listening, deep, listener, growth, warm, women, respect, honesty, asian, spirit, physical, wonderful, massage, mind, integrity, single, action, learn, earth, interests, beauty, look, family, human, dance, studying, theater, computers, deeply, kindness, compassion, martial, beautiful, talk, teaching, art, free, clean, doing, willing, thinking, personal, friendly, humor, movie, emotional, goals, value, dancing, long, organic, values, ways, eyes, positive, favorite, emotionally, gym, faith, walk, support, man, understand, study, world, exercise, science, meaningful, different, way, book, come, touch, message, hi, connect, sensitive, seeking, curious, strong, alot, improve, problem, path, trust, female, foods, notice, peace, teacher, vegetarian, classes, speak, profile, loyal, minded, playful, student, fit, hiking, type, money, creating, private, prefer, japanese, giving, service, education, watching, tea, \n"
     ]
    }
   ],
   "source": [
    "print non_list"
   ]
  },
  {
   "cell_type": "code",
   "execution_count": 27,
   "metadata": {
    "collapsed": false
   },
   "outputs": [
    {
     "name": "stdout",
     "output_type": "stream",
     "text": [
      "beer, drinking, wine, drink, bar, whiskey, shit, drinks, bars, city, party, drunk, black, sex, cheese, bike, punk, ass, san, bad, hate, francisco, sf, probably, awesome, hair, fucking, dive, making, david, beers, girls, fuck, music, partying, beard, boys, burritos, seriously, pizza, moved, arrested, pretty, dead, mad, wire, vonnegut, blah, sunny, bacon, band, jokes, twin, weird, wanna, indie, dude, yeah, cat, bikes, tom, talking, lebowski, bottle, mission, bowie, parks, stuff, coffee, wearing, smoking, oh, brothers, radiohead, hour, bands, records, tacos, loud, hell, karaoke, delicious, development, glasses, rock, town, underground, sandwiches, wear, design, oakland, knife, bicycle, http, velvet, ride, bass, archer, tattoos, red, keys, really, sarcasm, club, kurt, pants, york, metal, riding, night, white, eating, kick, lot, hot, fight, eat, bored, apocalypse, damn, crazy, parties, royal, trouble, obsessed, roll, men, dick, waits, west, zeppelin, nights, sauce, las, cheap, rolling, death, smith, spicy, breaking, south, tattoo, cats, blood, late, zombie, restaurant, park, anderson, couple, cooking, hard, originally, ridiculous, literature, grab, rec, tall, heads, high, mouse, trivia, bear, chuck, la, record, murakami, stupid, cool, pixies, stones, glass, went, orange, vegas, strange, actually, terrible, startup, super, recreation, wes, meat, smiths, coast, breakfast, irish, dj, gay, wind, burning, chef, nick, hunter, hall, thrones, drums, head, empire, jam, \n"
     ]
    }
   ],
   "source": [
    "print heavy_list"
   ]
  },
  {
   "cell_type": "code",
   "execution_count": 28,
   "metadata": {
    "collapsed": false
   },
   "outputs": [
    {
     "name": "stdout",
     "output_type": "stream",
     "text": [
      "friends, new, family, travel, love, great, enjoy, city, sf, smile, fun, dinner, good, laugh, bay, exploring, wine, traveling, sports, area, outdoors, life, enjoying, food, active, hiking, try, moved, drinks, work, company, adventure, recently, running, having, restaurants, going, places, humor, sushi, weekend, adventurous, adventures, san, italian, happy, trip, spontaneous, passport, hanging, outgoing, glass, explore, francisco, easy, beach, lived, grew, shows, relaxing, week, passion, summer, biking, skiing, meet, career, iphone, depends, home, school, currently, spending, offer, pretty, favorites, hour, positive, meeting, trying, coffee, thai, amazing, time, random, world, tennis, passionate, snowboarding, night, movie, basketball, tech, music, excited, laughter, outside, tv, definitely, concerts, live, sense, office, trips, different, catching, staying, game, checking, fan, vacation, experiences, job, tahoe, years, modern, soccer, dexter, girl, giants, activities, gym, planning, friday, confident, types, living, goals, ocean, yoga, weekends, met, far, favorite, ago, grad, europe, country, appreciate, working, outdoor, raised, typical, east, hip, development, morning, hop, big, laughing, california, sunshine, chill, looking, social, mexican, chicago, ambitious, watching, sarcastic, lucky, golf, boston, 30, south, list, kinds, events, keys, fullest, year, stay, grabbing, meal, smart, balance, laid, camping, start, business, born, chocolate, town, traveled, learn, restaurant, indian, cooking, challenge, driven, adele, cultures, originally, spent, important, arrested, mood, optimistic, abroad, alternative, \n"
     ]
    }
   ],
   "source": [
    "print social_list"
   ]
  },
  {
   "cell_type": "code",
   "execution_count": 29,
   "metadata": {
    "collapsed": false
   },
   "outputs": [],
   "source": [
    "# For categories with more than two labels, produce packed bubbles instead of bar charts\n",
    "\n",
    "# Save top 18 from each cat\n",
    "# non-drinkers first\n",
    "df.sort_values('nd_diff', inplace=True, ascending=False)\n",
    "nd = pd.DataFrame(df.head(18)['non-drinker'])\n",
    "nd.columns = ['tfidf']\n",
    "nd['label'] = 'non-drinker'\n",
    "\n",
    "# social drinkers\n",
    "df.sort_values('s_diff', inplace=True, ascending=False)\n",
    "sd = pd.DataFrame(df.head(18)['social'])\n",
    "sd.columns = ['tfidf']\n",
    "sd['label'] = 'social'\n",
    "\n",
    "# heavy drinkers\n",
    "df.sort_values('h_diff', inplace=True, ascending=False)\n",
    "hd = pd.DataFrame(df.head(18)['heavy'])\n",
    "hd.columns = ['tfidf']\n",
    "hd['label'] = 'heavy'\n",
    "\n",
    "df_drinks = pd.concat([nd, sd, hd], axis=0)\n",
    "\n",
    "df_drinks.to_csv('../Assets/Tableau/df_drinks.csv')"
   ]
  },
  {
   "cell_type": "markdown",
   "metadata": {},
   "source": [
    "### Explore word choice by age"
   ]
  },
  {
   "cell_type": "code",
   "execution_count": 30,
   "metadata": {
    "collapsed": false
   },
   "outputs": [],
   "source": [
    "from matplotlib import pyplot as plt\n",
    "%matplotlib inline"
   ]
  },
  {
   "cell_type": "code",
   "execution_count": 31,
   "metadata": {
    "collapsed": false
   },
   "outputs": [
    {
     "data": {
      "text/plain": [
       "<function matplotlib.pyplot.show>"
      ]
     },
     "execution_count": 31,
     "metadata": {},
     "output_type": "execute_result"
    },
    {
     "data": {
      "image/png": "[encoded data removed]",
      "text/plain": [
       "<matplotlib.figure.Figure at 0x119251b10>"
      ]
     },
     "metadata": {},
     "output_type": "display_data"
    }
   ],
   "source": [
    "plt.hist(okc.age, 50, normed=1, facecolor='green', alpha=0.75)\n",
    "plt.axis([15, 80, 0, .1])\n",
    "plt.show"
   ]
  },
  {
   "cell_type": "code",
   "execution_count": 32,
   "metadata": {
    "collapsed": true
   },
   "outputs": [],
   "source": [
    "# Compare under 30 to over 30\n",
    "\n",
    "def age_encoder(age):\n",
    "    if age ==0:\n",
    "        return np.nan\n",
    "    elif age < 30:\n",
    "        return 0\n",
    "    else:\n",
    "        return 1\n",
    "    \n",
    "tf.Xage = tf.Xage.apply(age_encoder)"
   ]
  },
  {
   "cell_type": "code",
   "execution_count": 34,
   "metadata": {
    "collapsed": false
   },
   "outputs": [
    {
     "name": "stdout",
     "output_type": "stream",
     "text": [
      "0.619255065918\n",
      "1.19513297081\n"
     ]
    }
   ],
   "source": [
    "# Compare word frequency for under 30 vs. over 30\n",
    "\n",
    "# Compute mean value of each of first 2000 columns for over 30\n",
    "t0 = time()\n",
    "odf = tf[tf.Xage==1]\n",
    "df = pd.DataFrame(odf.iloc[:,:2000].mean(axis=0), columns = ['>30'])\n",
    "print time()-t0\n",
    "\n",
    "# Compute mean value of each of first 2000 columns for under 30\n",
    "ydf = tf[tf.Xage == 0]\n",
    "df['<30'] = ydf.iloc[:,:2000].mean(axis=0)\n",
    "print time()-t0\n"
   ]
  },
  {
   "cell_type": "code",
   "execution_count": 35,
   "metadata": {
    "collapsed": false
   },
   "outputs": [],
   "source": [
    "df['diff'] = df['>30']-df['<30']\n",
    "df.sort_values('diff', inplace=True)"
   ]
  },
  {
   "cell_type": "code",
   "execution_count": 36,
   "metadata": {
    "collapsed": false
   },
   "outputs": [],
   "source": [
    "# Save top 200 words for people under and over 30\n",
    "# older people:\n",
    "df.sort_values('diff', ascending=False, inplace=True)\n",
    "\n",
    "older_list = ''\n",
    "for word in df.index[:200]:\n",
    "    older_list = older_list + word + ', '\n",
    "\n",
    "# younger people\n",
    "younger_list = ''\n",
    "# Write older_list in reverse order so most popular words are on top\n",
    "for i in range(-1, -200, -1):\n",
    "    younger_list = younger_list + df.index[i] + ', '"
   ]
  },
  {
   "cell_type": "code",
   "execution_count": 37,
   "metadata": {
    "collapsed": false
   },
   "outputs": [
    {
     "name": "stdout",
     "output_type": "stream",
     "text": [
      "life, great, enjoy, good, dinner, travel, love, woman, wine, share, partner, relationship, looking, humor, sense, home, live, kids, healthy, creative, years, nature, happy, yoga, smart, important, open, friend, spiritual, loving, heart, long, son, ve, warm, daughter, children, self, special, honest, week, kind, jazz, curious, work, connection, intelligent, man, hiking, smile, passionate, independent, enjoying, balance, ok, loyal, wonderful, laughter, fit, comfortable, single, world, listening, believe, non, strong, seeing, health, better, lived, positive, appreciate, playful, relationships, caring, business, easy, ready, interests, compassionate, prefer, beautiful, fun, art, exercise, read, films, theater, romantic, spending, outdoors, private, dating, foreign, lots, active, seeking, sharing, reading, energy, trip, soul, classical, cooking, friendship, bit, local, married, chemistry, thoughtful, lover, dog, integrity, term, passport, affectionate, learning, living, need, old, chocolate, adventurous, women, fresh, deep, meditation, lives, times, traveled, honesty, feel, trips, simple, intimacy, yes, communication, glass, date, kissing, conversation, raising, care, emotionally, dining, experiences, cook, touch, lately, confident, restaurants, interested, vacation, blues, fiction, weekend, practice, typical, forward, joy, values, friends, spend, spirit, hike, maybe, 80, loved, person, gardening, variety, grounded, minded, course, true, taking, age, morning, generous, professional, match, organic, especially, time, drama, quality, kindness, nice, museums, beauty, sexy, listener, salsa, respect, early, present, laugh, places, does, look, funny, \n"
     ]
    }
   ],
   "source": [
    "print older_list"
   ]
  },
  {
   "cell_type": "code",
   "execution_count": 38,
   "metadata": {
    "collapsed": false
   },
   "outputs": [
    {
     "name": "stdout",
     "output_type": "stream",
     "text": [
      "im, school, college, currently, shows, lol, games, student, haha, future, want, working, graduated, awesome, video, message, moved, pretty, studying, potter, just, wanna, harry, degree, phone, girls, drinking, random, going, arrested, really, game, dont, shit, girl, probably, development, basketball, chill, movies, san, sports, graduate, internet, city, beer, grad, parks, awkward, nerd, berkeley, computer, park, people, bang, bar, met, partying, sunny, uc, office, dexter, club, thrones, talk, francisco, major, bad, food, hanging, theory, hate, hey, ask, university, series, law, hang, party, summer, weird, money, drawing, mother, fuck, startup, inception, know, burritos, rec, archer, science, soccer, breaking, jokes, trying, modern, http, fight, engineering, knight, fucking, thats, super, com, huge, ender, ill, hop, bars, disney, philadelphia, basically, death, playing, dubstep, 1984, rap, nerdy, favorite, dead, masters, hip, black, watch, rock, hair, guitar, kanye, south, cool, ll, lil, horror, daft, hit, baking, picky, math, listen, drunk, keys, anime, study, recreation, finishing, hi, catcher, rye, tattoos, talking, terrible, doctor, futurama, okcupid, tech, goals, honestly, laid, plan, shy, metal, climbing, studies, psychology, firefly, punk, born, state, mad, youtube, gonna, zombie, whiskey, glee, books, sleeping, sandwiches, orange, 22, simpsons, phd, crazy, dude, sf, mac, fan, blood, engineer, sleep, went, laptop, smoking, www, beatles, board, doing, die, adventures, \n"
     ]
    }
   ],
   "source": [
    "# write these to file automatically?\n",
    "print younger_list"
   ]
  },
  {
   "cell_type": "code",
   "execution_count": 39,
   "metadata": {
    "collapsed": false
   },
   "outputs": [],
   "source": [
    "# Create new df with top 10 features for <30 and top >30\n",
    "\n",
    "df_y = df.head(10)\n",
    "df_y = df_y.sort_values('<30', ascending=False)\n",
    "\n",
    "df_o = df.tail(10)\n",
    "df_o = df_o.sort_values('>30')\n",
    "\n",
    "df_age = pd.concat([df_y,df_o])\n",
    "df_age.to_csv('../Assets/Tableau/df_age.csv')"
   ]
  },
  {
   "cell_type": "markdown",
   "metadata": {},
   "source": [
    "### Compare drug users and non-users\n",
    "exclude those who don't report"
   ]
  },
  {
   "cell_type": "code",
   "execution_count": 284,
   "metadata": {
    "collapsed": true
   },
   "outputs": [],
   "source": [
    "def drug_encoder(drugs):\n",
    "    if drugs == 'never':\n",
    "        return 0\n",
    "    elif drugs == 'sometimes' or drugs == 'often':\n",
    "        return 1\n",
    "    else:\n",
    "        return np.nan\n",
    "    \n",
    "tf.Xdrugs = tf.Xdrugs.apply(drug_encoder)"
   ]
  },
  {
   "cell_type": "code",
   "execution_count": 278,
   "metadata": {
    "collapsed": false
   },
   "outputs": [
    {
     "name": "stdout",
     "output_type": "stream",
     "text": [
      "2.89303398132\n",
      "3.73145198822\n"
     ]
    }
   ],
   "source": [
    "# Compute mean value of each of first 2000 columns for drug users\n",
    "t0 = time()\n",
    "udf = tf[tf.Xdrugs==1]\n",
    "df = pd.DataFrame(odf.iloc[:,:2000].mean(axis=0), columns = ['users'])\n",
    "print time()-t0\n",
    "\n",
    "# Compute mean value of each of first 2000 columns for non-users\n",
    "ydf = tf[tf.Xdrugs == 0]\n",
    "df['non-users'] = ydf.iloc[:,:2000].mean(axis=0)\n",
    "print time()-t0"
   ]
  },
  {
   "cell_type": "code",
   "execution_count": 279,
   "metadata": {
    "collapsed": false
   },
   "outputs": [],
   "source": [
    "df['diff'] = df['users']-df['non-users']\n",
    "df.sort_values('diff', inplace=True)"
   ]
  },
  {
   "cell_type": "code",
   "execution_count": 280,
   "metadata": {
    "collapsed": true
   },
   "outputs": [],
   "source": [
    "# Save top 200 words for users and non-users\n",
    "# users:\n",
    "df.sort_values('diff', ascending=False, inplace=True)\n",
    "\n",
    "non_user_list = ''\n",
    "for word in df.index[:200]:\n",
    "    non_user_list = non_user_list + word + ', '\n",
    "\n",
    "# non-users\n",
    "user_list = ''\n",
    "# Write older_list in reverse order so most popular words are on top\n",
    "for i in range(-1, -200, -1):\n",
    "    user_list = user_list + df.index[i] + ', '"
   ]
  },
  {
   "cell_type": "code",
   "execution_count": 281,
   "metadata": {
    "collapsed": false
   },
   "outputs": [
    {
     "data": {
      "text/plain": [
       "u'im, school, lol, college, family, games, future, currently, haha, student, working, sports, phone, shows, going, graduated, movies, potter, harry, friends, message, studying, basketball, video, moved, want, girl, degree, hanging, computer, dont, just, favorite, know, bang, guy, graduate, met, san, random, new, pretty, ask, wanna, university, internet, goals, game, soccer, series, grad, awesome, car, girls, gym, iphone, hang, shy, mother, law, theory, uc, food, try, hey, major, francisco, outgoing, hi, cell, inception, movie, personality, watching, football, chill, masters, office, chinese, nerd, money, engineering, disney, knight, dexter, person, berkeley, rap, modern, trying, anime, awkward, thats, laptop, arrested, glee, asian, talk, startup, ill, baseball, giants, fan, study, bar, partying, picky, development, huge, laid, ender, nerdy, cars, baking, ambitious, watch, finishing, parks, mexican, horror, hate, attending, action, hunger, goal, hit, drawing, jokes, ipod, phd, summer, pride, company, catcher, god, engineer, club, comedy, career, program, job, thrones, listen, plan, gaga, height, math, judge, cal, really, korean, hangover, basically, doctor, education, born, area, relaxing, lord, rings, tv, city, people, firm, kanye, twilight, notebook, board, psychology, archer, tech, batman, rec, pasta, honestly, wars, 1984, adele, bones, recreation, rye, tennis, hockey, coldplay, medical, research, 500, raised, studies, guys, chat, italian, probably, driven, pursuing, absolutely, smile, oldies, 22, '"
      ]
     },
     "execution_count": 281,
     "metadata": {},
     "output_type": "execute_result"
    }
   ],
   "source": [
    "user_list"
   ]
  },
  {
   "cell_type": "code",
   "execution_count": 282,
   "metadata": {
    "collapsed": false
   },
   "outputs": [
    {
     "data": {
      "text/plain": [
       "u'art, live, ve, creative, great, life, nature, music, yoga, good, sex, partner, wine, self, years, woman, man, stuff, dinner, world, travel, share, relationship, heart, smart, non, sense, humor, open, lots, listening, soul, long, ok, healthy, bike, curious, connection, spiritual, kids, film, home, lately, like, seeing, films, balance, fiction, living, old, jazz, deep, children, david, kind, energy, important, burning, tom, things, love, relationships, fresh, strong, way, playful, warm, dancing, making, maybe, john, appreciate, little, lover, yes, happy, loving, beautiful, lived, projects, dance, bit, seeking, comfortable, blues, creating, feel, makes, independent, read, mind, body, local, sexy, laughter, week, enjoy, dj, dog, fit, intelligent, passionate, looking, dating, prefer, intimacy, friend, spirit, human, son, wonderful, women, organic, learning, sharing, true, gardening, joy, daughter, morning, beauty, communication, kissing, road, camping, hot, typical, foreign, reading, cooking, space, better, amazing, believe, massage, cat, grateful, funk, need, small, ocean, touch, trip, ride, building, writing, light, folks, enjoying, meditation, days, especially, early, bicycle, times, sun, experiences, cook, theater, place, radiohead, vegetarian, compassionate, present, single, did, best, profile, practice, married, conversation, social, date, silly, ways, history, raising, hiking, project, finding, connecting, documentaries, desire, npr, lives, parties, integrity, think, create, passport, band, water, grow, air, trips, ready, deeply, grounded, riding, plants, '"
      ]
     },
     "execution_count": 282,
     "metadata": {},
     "output_type": "execute_result"
    }
   ],
   "source": [
    "non_user_list"
   ]
  },
  {
   "cell_type": "code",
   "execution_count": 283,
   "metadata": {
    "collapsed": false
   },
   "outputs": [],
   "source": [
    "# Create new df with top 10 features for users and nonusers\n",
    "\n",
    "df_users = df.head(10)\n",
    "df_users = df_users.sort_values('users', ascending=False)\n",
    "\n",
    "df_non = df.tail(10)\n",
    "df_non = df_non.sort_values('non-users')\n",
    "\n",
    "df_drugs = pd.concat([df_users, df_non], axis=0)\n",
    "df_drugs.to_csv('../Assets/Tableau/df_drugs.csv')"
   ]
  },
  {
   "cell_type": "markdown",
   "metadata": {},
   "source": [
    "### Explore Income"
   ]
  },
  {
   "cell_type": "code",
   "execution_count": 102,
   "metadata": {
    "collapsed": false
   },
   "outputs": [
    {
     "data": {
      "text/plain": [
       "<function matplotlib.pyplot.show>"
      ]
     },
     "execution_count": 102,
     "metadata": {},
     "output_type": "execute_result"
    },
    {
     "data": {
      "image/png": "[encoded data removed]",
      "text/plain": [
       "<matplotlib.figure.Figure at 0x116df7ad0>"
      ]
     },
     "metadata": {},
     "output_type": "display_data"
    }
   ],
   "source": [
    "plt.hist(tf.Xincome[tf.Xincome != -1], 50, normed=1, facecolor='green', alpha=0.75)\n",
    "plt.show"
   ]
  },
  {
   "cell_type": "code",
   "execution_count": 50,
   "metadata": {
    "collapsed": false
   },
   "outputs": [],
   "source": [
    "# Divide income income into <50k, 50-100k, >100k\n",
    "\n",
    "def income_encoder(income):\n",
    "    if income == -1:\n",
    "        return -1\n",
    "    elif income <= 50000:\n",
    "        return 0\n",
    "    elif income <= 100000:\n",
    "        return 1\n",
    "    else:\n",
    "        return 2\n",
    "    \n",
    "tf.Xincome = tf.Xincome.apply(income_encoder)"
   ]
  },
  {
   "cell_type": "code",
   "execution_count": 104,
   "metadata": {
    "collapsed": false
   },
   "outputs": [
    {
     "name": "stdout",
     "output_type": "stream",
     "text": [
      "0.187912940979\n",
      "0.0979731082916\n",
      "0.0416901111603\n"
     ]
    }
   ],
   "source": [
    "# Compare word frequency for different income levels\n",
    "\n",
    "# Compute mean value of each of first 2000 columns for lower income\n",
    "t0 = time()\n",
    "pdf = tf[tf.Xincome==0]\n",
    "df = pd.DataFrame(pdf.iloc[:,:2000].mean(axis=0), columns = ['<50k'])\n",
    "print time()-t0\n",
    "\n",
    "# Compute mean value of each of first 2000 columns for middle income\n",
    "t0 = time()\n",
    "mdf = tf[tf.Xincome==1]\n",
    "df['50-100k'] = mdf.iloc[:,:2000].mean(axis=0)\n",
    "print time()-t0\n",
    "\n",
    "# Compute mean value of each of first 2000 columns for highest income\n",
    "t0 = time()\n",
    "rdf = tf[tf.Xincome==2]\n",
    "df['>100k'] = rdf.iloc[:,:2000].mean(axis=0)\n",
    "print time()-t0\n",
    "\n",
    "\n",
    "# Compute differences between each income category and overall average\n",
    "df['avg'] = df.mean(axis=1)\n",
    "df['r_diff'] = df['>100k'] - df['avg']\n",
    "df['p_diff'] = df['<50k'] - df['avg']\n",
    "df['m_diff'] = df['50-100k'] - df['avg']"
   ]
  },
  {
   "cell_type": "code",
   "execution_count": 105,
   "metadata": {
    "collapsed": true
   },
   "outputs": [],
   "source": [
    "# Save lists for each income bracket\n",
    "\n",
    "df.sort_values('r_diff', ascending=False, inplace=True)\n",
    "\n",
    "rich_list = ''\n",
    "for word in df.index[:200]:\n",
    "    rich_list = rich_list + word + ', '\n",
    "    \n",
    "df.sort_values('m_diff', ascending=False, inplace=True)\n",
    "\n",
    "mid_list = ''\n",
    "for word in df.index[:200]:\n",
    "    mid_list = mid_list + word + ', '\n",
    "    \n",
    "\n",
    "df.sort_values('p_diff', ascending=False, inplace=True)    \n",
    "lower_list = ''\n",
    "for word in df.index[:200]:\n",
    "    lower_list = lower_list + word + ', '"
   ]
  },
  {
   "cell_type": "code",
   "execution_count": 54,
   "metadata": {
    "collapsed": false
   },
   "outputs": [
    {
     "data": {
      "text/plain": [
       "u'travel, successful, skiing, profile, okcupid, smart, shit, intelligent, wine, world, com, ski, seriously, hot, deep, match, confident, accent, ok, intellectual, great, business, man, passionate, sexy, travelling, running, real, countries, sun, share, yoga, trip, sex, http, valley, nyc, saw, golf, fine, smell, www, mad, iphone, 10, sailing, wit, dinner, fortunate, passport, woman, professional, attractive, fiction, financial, educated, youtube, tahoe, traveled, meal, red, living, blah, date, steve, father, super, ocean, company, restaurants, partner, adventurous, sf, focused, lucky, lists, athletic, lessons, lived, suck, life, body, europe, vacation, value, happiness, stop, beach, generous, meaning, london, startup, shirt, challenge, liked, playful, healthy, climbing, normal, sense, lack, worked, add, boston, google, surfing, women, girls, enthusiasm, dining, greek, mountains, peace, stupid, fun, does, chemistry, pair, freedom, inside, close, software, kiss, eating, party, growing, strong, flying, genius, passions, swim, radio, looks, lead, post, cities, jeans, stuff, photo, kidding, curious, moves, wall, cultures, cheap, hiking, moon, burning, professionally, yo, despite, paris, painting, piece, radiohead, answers, fucking, studio, space, exercise, wire, biking, sandwiches, south, ass, godfather, clothes, techno, bear, asia, meaningful, workout, note, sea, entertaining, rest, lots, surf, picture, sushi, natural, drop, physics, planet, america, wow, level, joy, difference, snow, saying, thing, glass, discovery, fit, fact, information, energy, david, whiskey, '"
      ]
     },
     "execution_count": 54,
     "metadata": {},
     "output_type": "execute_result"
    }
   ],
   "source": [
    "rich_list"
   ]
  },
  {
   "cell_type": "code",
   "execution_count": 55,
   "metadata": {
    "collapsed": false
   },
   "outputs": [
    {
     "data": {
      "text/plain": [
       "u'new, enjoy, work, friends, great, software, engineer, wine, traveling, ve, travel, good, love, job, area, dinner, city, easy, meet, career, san, bay, years, home, company, life, looking, week, startup, weekend, gym, sf, laugh, moved, family, sports, movie, relaxing, exploring, francisco, business, places, humor, forward, tv, technology, happy, weekends, fun, active, loving, recently, independent, live, watching, place, tennis, restaurants, enjoying, snowboarding, tech, try, explore, country, things, trip, italian, hiking, programming, learning, adventure, better, son, soccer, hard, witty, enjoys, person, daughter, interests, loves, game, sense, building, passionate, run, sunday, professional, spend, working, relationship, ago, share, football, read, cuisine, drinks, saturday, kids, outdoors, trips, computers, partner, special, adventurous, drama, going, creative, traveled, iphone, balance, jazz, activities, guy, designer, ambitious, experience, driven, long, industry, smile, woman, amazing, conversation, having, important, start, spending, biking, dating, bit, perfect, motorcycle, tasting, smart, code, helping, mountain, passport, opportunity, town, thai, catching, appreciate, play, laughter, camping, fit, exercise, experiences, definitely, lives, term, spontaneous, passion, time, africa, warm, check, projects, catch, running, lived, likes, hour, occasional, meeting, salsa, year, connection, management, usually, design, couple, health, world, web, favorites, comfortable, theater, grew, healthy, sarcastic, support, spiritual, open, motivated, north, hike, museums, physical, outdoor, prefer, growth, values, coast, planning, flicks, golf, local, '"
      ]
     },
     "execution_count": 55,
     "metadata": {},
     "output_type": "execute_result"
    }
   ],
   "source": [
    "mid_list"
   ]
  },
  {
   "cell_type": "code",
   "execution_count": 56,
   "metadata": {
    "collapsed": false
   },
   "outputs": [
    {
     "data": {
      "text/plain": [
       "u'im, school, lol, movies, music, like, know, just, love, going, student, really, want, currently, favorite, video, college, future, books, shy, degree, people, studying, dont, phone, games, message, don, writing, wanna, working, hair, alot, hang, metal, haha, ask, talk, horror, shows, right, food, chill, drawing, pretty, art, watching, series, old, fuck, tattoos, god, cell, dead, eyes, watch, drinking, potter, berkeley, say, oakland, artist, hanging, punk, teacher, animals, car, usually, singing, harry, poetry, time, reading, movie, state, thats, friend, person, major, fantasy, hip, awkward, comics, money, girls, store, film, anime, rap, hello, guess, queer, notice, community, kinda, sweet, program, blood, girl, studies, write, weird, listen, house, hop, kind, study, shit, vampire, ill, family, science, songs, listening, free, sex, baking, graduate, club, teaching, talking, getting, making, wars, fall, comic, king, history, chinese, mexican, trying, black, ipod, gender, cause, dubstep, nerd, vegan, comes, graphic, personality, rock, cat, guitar, interested, uc, bones, cute, stephen, ca, war, bob, cook, thinking, band, education, teach, attending, death, comedy, bell, foods, play, laid, lord, star, dr, oh, dance, laptop, bad, sort, gonna, scary, lot, home, sleeping, think, loud, type, arts, bass, rice, dirty, honestly, fucking, milk, tea, finishing, happen, pool, tattoo, hit, random, computer, irish, action, finish, book, mainly, '"
      ]
     },
     "execution_count": 56,
     "metadata": {},
     "output_type": "execute_result"
    }
   ],
   "source": [
    "lower_list"
   ]
  },
  {
   "cell_type": "code",
   "execution_count": 106,
   "metadata": {
    "collapsed": false
   },
   "outputs": [],
   "source": [
    "# For categories with more than two labels, produce packed bubbles instead of bar charts\n",
    "\n",
    "# Save top 18 from each cat\n",
    "# richest first\n",
    "df.sort_values('r_diff', inplace=True, ascending=False)\n",
    "df2 = pd.DataFrame(df.head(18)['>100k'])\n",
    "df2.columns = ['tfidf']\n",
    "df2['label'] = '> 100k'\n",
    "\n",
    "# middle income\n",
    "df.sort_values('m_diff', inplace=True, ascending=False)\n",
    "df3 = pd.DataFrame(df.head(18)['50-100k'])\n",
    "df3.columns = ['tfidf']\n",
    "df3['label'] = '50 - 100k'\n",
    "\n",
    "# lower income\n",
    "df.sort_values('p_diff', inplace=True, ascending=False)\n",
    "df4 = pd.DataFrame(df.head(18)['<50k'])\n",
    "df4.columns = ['tfidf']\n",
    "df4['label'] = '< 50k'\n",
    "\n",
    "df_income = pd.concat([df2, df3, df4], axis=0)\n",
    "df_income.to_csv('../Assets/Tableau/df_income.csv')"
   ]
  },
  {
   "cell_type": "markdown",
   "metadata": {},
   "source": [
    "### Compare dog and cat people"
   ]
  },
  {
   "cell_type": "code",
   "execution_count": 58,
   "metadata": {
    "collapsed": false
   },
   "outputs": [],
   "source": [
    "# calculate dummy columns for likes dogs and likes cats\n",
    "# will be some overlap since not mutually exclusive\n",
    "\n",
    "def mask_dogs(pets):\n",
    "    # catches 'has dogs' or 'likes dogs'\n",
    "    try:\n",
    "        if pets.find('dogs') > -1:\n",
    "            if pets.find('dislikes dogs') == -1:\n",
    "                return 1\n",
    "        else:\n",
    "            return 0\n",
    "    except:\n",
    "        return 0\n",
    "    \n",
    "def mask_cats(pets):\n",
    "    try:\n",
    "        if pets.find('cats') > -1:\n",
    "            if pets.find('dislikes cats') == -1:\n",
    "                return 1\n",
    "        else:\n",
    "            return 0\n",
    "    except:\n",
    "        return 0\n",
    "\n",
    "tf['Xdogs'] = tf.Xpets.apply(mask_dogs)\n",
    "tf['Xcats'] = tf.Xpets.apply(mask_cats)"
   ]
  },
  {
   "cell_type": "code",
   "execution_count": 59,
   "metadata": {
    "collapsed": false
   },
   "outputs": [
    {
     "name": "stdout",
     "output_type": "stream",
     "text": [
      "1.95135903358\n",
      "2.43092298508\n"
     ]
    }
   ],
   "source": [
    "# find mean scores for dog people\n",
    "\n",
    "t0 = time()\n",
    "ddf = tf[tf.Xdogs==1]\n",
    "df = pd.DataFrame(ddf.iloc[:,:2000].mean(axis=0), columns = ['dogs'])\n",
    "print time()-t0\n",
    "\n",
    "# find mean scores for cat people\n",
    "cdf = tf[tf.Xcats == 1]\n",
    "df['cats'] = cdf.iloc[:,:2000].mean(axis=0)\n",
    "print time()-t0"
   ]
  },
  {
   "cell_type": "code",
   "execution_count": 60,
   "metadata": {
    "collapsed": true
   },
   "outputs": [],
   "source": [
    "df['diff'] = df['dogs'] - df['cats']\n",
    "df.sort_values('diff', inplace=True)"
   ]
  },
  {
   "cell_type": "code",
   "execution_count": 61,
   "metadata": {
    "collapsed": false
   },
   "outputs": [],
   "source": [
    "# remove cat, cats, dog and dogs from this list since they don't contribute insight\n",
    "df = df.drop(['cat', 'cats', 'dog', 'dogs'], axis=0)"
   ]
  },
  {
   "cell_type": "code",
   "execution_count": 62,
   "metadata": {
    "collapsed": true
   },
   "outputs": [],
   "source": [
    "# Save top 200 words for cats and dogs for report\n",
    "cat_list = ''\n",
    "for word in df.index[:200]:\n",
    "    cat_list = cat_list + word + ', '\n",
    "    \n",
    "dog_list = ''\n",
    "# Write dog_list in reverse order so most popular words are on top\n",
    "for i in range(-1, -200, -1):\n",
    "    dog_list = dog_list + df.index[i] + ', '"
   ]
  },
  {
   "cell_type": "code",
   "execution_count": 63,
   "metadata": {
    "collapsed": false
   },
   "outputs": [
    {
     "data": {
      "text/plain": [
       "u'like, don, art, people, things, really, writing, ve, animals, lot, think, stuff, video, music, science, games, sex, books, world, nature, read, hair, reading, fantasy, computer, way, want, film, sci, fi, fiction, creative, mind, thinking, human, probably, star, films, dance, used, ll, feel, space, man, dark, profile, universe, oh, internet, punk, metal, self, vegetarian, dead, make, right, american, classical, pretty, write, geek, history, silly, strange, actually, kind, rock, http, especially, series, tend, com, philosophy, say, sort, playing, vegan, pets, quite, john, mean, words, interested, message, come, doing, relationship, talk, long, poetry, yeah, weird, thing, artist, know, lost, relationships, maybe, just, talking, dancing, bit, bad, learning, ok, spiritual, lately, www, gender, anime, drawing, queer, deep, body, movies, social, non, story, computers, shy, look, general, means, listening, interesting, david, tea, projects, children, play, comics, time, brain, animal, watch, musical, little, partner, beautiful, firefly, joy, various, programming, black, book, hell, sound, use, french, fucking, writer, fuck, death, quiet, beauty, tom, game, horror, open, generally, theater, politics, geeky, teaching, written, better, bands, arts, sing, didn, need, age, got, understanding, pink, community, feeling, makes, light, stories, notice, lord, questions, create, folk, lots, literature, tastes, nerd, youtube, prefer, trek, dr, place, thought, practice, house, magic, end, rings, '"
      ]
     },
     "execution_count": 63,
     "metadata": {},
     "output_type": "execute_result"
    }
   ],
   "source": [
    "cat_list"
   ]
  },
  {
   "cell_type": "code",
   "execution_count": 64,
   "metadata": {
    "collapsed": false
   },
   "outputs": [
    {
     "data": {
      "text/plain": [
       "u'family, friends, sports, sf, travel, smile, laugh, traveling, new, im, city, dinner, iphone, moved, great, running, guy, football, passport, basketball, outgoing, soccer, company, drinks, wine, active, career, restaurants, meet, gym, fun, beach, business, lol, baseball, tennis, trip, san, work, hip, weekends, outdoors, phone, vacation, hop, happy, easy, college, enjoying, tahoe, snowboarding, skiing, haha, giants, golf, girl, surfing, outside, weekend, spontaneous, fullest, bar, laughing, offer, hour, working, boston, exploring, food, staying, school, originally, coffee, sales, athletic, coast, modern, hangover, ambitious, relaxing, francisco, sarcastic, goals, places, future, loves, east, trying, confident, kanye, sarcasm, hard, chill, wedding, nyc, positive, raised, bbq, hanging, mountains, year, workout, country, keys, bay, firm, spending, adventurous, cal, laid, marketing, midwest, trips, personality, motivated, outdoor, funny, shoes, law, definitely, catching, born, shawshank, challenge, town, enjoys, run, checking, reggae, foodie, redemption, grew, looking, adele, planning, hockey, restaurant, couch, fortunate, cultures, native, chef, explore, comedies, try, abroad, countries, lived, godfather, marathon, everyday, graduated, iver, jay, seinfeld, area, met, genuine, driven, ago, grad, ny, living, exercise, sunny, earth, bottle, italian, korean, car, surf, bon, fishing, grabbing, ski, league, smiling, loving, brunch, comedy, competitive, live, lucky, loyal, hawaii, mumford, cell, love, management, enjoy, corporate, sunday, alchemist, south, went, saturday, chicago, traveled, going, '"
      ]
     },
     "execution_count": 64,
     "metadata": {},
     "output_type": "execute_result"
    }
   ],
   "source": [
    "dog_list"
   ]
  },
  {
   "cell_type": "code",
   "execution_count": 65,
   "metadata": {
    "collapsed": false
   },
   "outputs": [],
   "source": [
    "# Sort top 10 values for cats\n",
    "df_cats = df.head(10).sort_values('cats')\n",
    "\n",
    "# Sort top 10 values for dogs\n",
    "df_dogs = df.tail(10).sort_values('dogs', ascending=False)\n",
    "\n",
    "# Save df pets\n",
    "df_pets = pd.concat([df_dogs, df_cats], axis=0)\n",
    "df_pets.to_csv('../Assets/Tableau/df_ed.csv')"
   ]
  },
  {
   "cell_type": "markdown",
   "metadata": {},
   "source": [
    "### Explore word choice by education\n",
    "\n",
    "college grad? 1 or 0."
   ]
  },
  {
   "cell_type": "code",
   "execution_count": 68,
   "metadata": {
    "collapsed": false
   },
   "outputs": [],
   "source": [
    "def ed_encoder(ed):\n",
    "    # a person is a college grad if they either \"graduated from college/university\"\n",
    "    # or mention law school, med, school, masters program or ph. d program (all instances of the word program are graduate )\n",
    "    try:\n",
    "        if ed == 'graduated from college/university' or ed.find('law') >= 0 or ed.find('med') >= 0 or ed.find('program') >= 0:\n",
    "            return 1\n",
    "        # space camp answers are facetious and must be excluded\n",
    "        # BTW I am in space camp right now\n",
    "        elif ed.find('space camp') >= 0:\n",
    "            return np.nan\n",
    "        else: return 0\n",
    "    except:\n",
    "        return np.nan\n",
    "\n",
    "tf.Xeducation = tf.Xeducation.apply(ed_encoder)"
   ]
  },
  {
   "cell_type": "code",
   "execution_count": 70,
   "metadata": {
    "collapsed": false
   },
   "outputs": [
    {
     "name": "stdout",
     "output_type": "stream",
     "text": [
      "1.98940587044\n",
      "2.49546909332\n"
     ]
    }
   ],
   "source": [
    "# Compare word frequency for college educated vs. not college\n",
    "\n",
    "# Compute mean value of each of first 2000 columns for college\n",
    "t0 = time()\n",
    "df2 = tf[tf.Xage==1]\n",
    "df = pd.DataFrame(df2.iloc[:,:2000].mean(axis=0), columns = ['grad'])\n",
    "print time()-t0\n",
    "\n",
    "# Compute mean value of each of first 2000 columns for under 30\n",
    "df2 = tf[tf.Xage == 0]\n",
    "df['non-grad'] = df2.iloc[:,:2000].mean(axis=0)\n",
    "print time()-t0\n",
    "\n",
    "df['diff'] = df['grad'] - df['non-grad']\n",
    "df.sort_values('diff', inplace=True)\n",
    "\n",
    "# Save top 200 words for grads and non-grads for report\n",
    "non_grad_list = ''\n",
    "for word in df.index[:200]:\n",
    "    non_grad_list = non_grad_list + word + ', '\n",
    "    \n",
    "grad_list = ''\n",
    "# Write grad_list in reverse order so most popular words are on top\n",
    "for i in range(-1, -200, -1):\n",
    "    grad_list = grad_list + df.index[i] + ', '\n",
    "\n",
    "# Sort top 10 words for non-grad\n",
    "df3 = df.head(10).sort_values('non-grad', ascending=False)\n",
    "\n",
    "# Sort top 10 words for grad\n",
    "df4 = df.tail(10).sort_values('grad')\n",
    "\n",
    "df = pd.concat([df3, df4], axis=0)\n",
    "\n",
    "df.to_csv('../Assets/Tableau/df_ed.csv')"
   ]
  },
  {
   "cell_type": "code",
   "execution_count": 71,
   "metadata": {
    "collapsed": false
   },
   "outputs": [
    {
     "data": {
      "text/plain": [
       "u'life, great, enjoy, good, dinner, travel, love, woman, wine, share, partner, relationship, looking, humor, sense, home, live, kids, healthy, creative, years, nature, happy, yoga, smart, important, open, friend, spiritual, loving, heart, long, son, ve, warm, daughter, children, self, special, honest, week, kind, jazz, curious, work, connection, intelligent, man, hiking, smile, passionate, independent, enjoying, balance, ok, loyal, wonderful, laughter, fit, comfortable, single, world, listening, believe, non, strong, seeing, health, better, lived, positive, appreciate, playful, relationships, caring, business, easy, ready, interests, compassionate, prefer, beautiful, fun, art, exercise, read, films, theater, romantic, spending, outdoors, private, dating, foreign, lots, active, seeking, sharing, reading, energy, trip, soul, classical, cooking, friendship, bit, local, married, chemistry, thoughtful, lover, dog, integrity, term, passport, affectionate, learning, living, need, old, chocolate, adventurous, women, fresh, deep, meditation, lives, times, traveled, honesty, feel, trips, simple, intimacy, yes, communication, glass, date, kissing, conversation, raising, care, emotionally, dining, experiences, cook, touch, lately, confident, restaurants, interested, vacation, blues, fiction, weekend, practice, typical, forward, joy, values, friends, spend, spirit, hike, maybe, 80, loved, person, gardening, variety, grounded, minded, course, true, taking, age, morning, generous, professional, match, organic, especially, time, drama, quality, kindness, nice, museums, beauty, sexy, listener, salsa, respect, early, present, laugh, places, does, look, '"
      ]
     },
     "execution_count": 71,
     "metadata": {},
     "output_type": "execute_result"
    }
   ],
   "source": [
    "grad_list"
   ]
  },
  {
   "cell_type": "code",
   "execution_count": 72,
   "metadata": {
    "collapsed": false
   },
   "outputs": [
    {
     "data": {
      "text/plain": [
       "u'im, school, college, currently, shows, lol, games, student, haha, future, want, working, graduated, awesome, video, message, moved, pretty, studying, potter, just, wanna, harry, degree, phone, girls, drinking, random, going, arrested, really, game, dont, shit, girl, probably, development, basketball, chill, movies, san, sports, graduate, internet, city, beer, grad, parks, awkward, nerd, berkeley, computer, park, people, bang, bar, met, partying, sunny, uc, office, dexter, club, thrones, talk, francisco, major, bad, food, hanging, theory, hate, hey, ask, university, series, law, hang, party, summer, weird, money, drawing, mother, fuck, startup, inception, know, burritos, rec, archer, science, soccer, breaking, jokes, trying, modern, http, fight, engineering, knight, fucking, thats, super, com, huge, ender, ill, hop, bars, disney, philadelphia, basically, death, playing, dubstep, 1984, rap, nerdy, favorite, dead, masters, hip, black, watch, rock, hair, guitar, kanye, south, cool, ll, lil, horror, daft, hit, baking, picky, math, listen, drunk, keys, anime, study, recreation, finishing, hi, catcher, rye, tattoos, talking, terrible, doctor, futurama, okcupid, tech, goals, honestly, laid, plan, shy, metal, climbing, studies, psychology, firefly, punk, born, state, mad, youtube, gonna, zombie, whiskey, glee, books, sleeping, sandwiches, orange, 22, simpsons, phd, crazy, dude, sf, mac, fan, blood, engineer, sleep, went, laptop, smoking, www, beatles, board, doing, die, adventures, sarcasm, '"
      ]
     },
     "execution_count": 72,
     "metadata": {},
     "output_type": "execute_result"
    }
   ],
   "source": [
    "non_grad_list"
   ]
  },
  {
   "cell_type": "markdown",
   "metadata": {},
   "source": [
    "### Explore word choice by ethnicity\n",
    "\n",
    "options are: asian, middle eastern, black, native american, indian, pacific islander, hispanic / latin, white"
   ]
  },
  {
   "cell_type": "code",
   "execution_count": 73,
   "metadata": {
    "collapsed": false
   },
   "outputs": [],
   "source": [
    "# It will be more efficient to encode dummies for each ethnic group than to search each entry\n",
    "# People who list multiple ethnicities will count for all ethnicities listed\n",
    "\n",
    "# write encoder for each ethnicity\n",
    "\n",
    "groups = ['asian', 'middle eastern', 'black', 'native american', 'indian', 'pacific islander', 'hispanic / latin', 'white']\n",
    "\n",
    "for ethnicity in groups:\n",
    "    def ethnicity_encoder(eth):\n",
    "        global ethnicity\n",
    "        try:\n",
    "            if eth.find(ethnicity) >= 0:\n",
    "                return 1\n",
    "            else: return 0\n",
    "        except:\n",
    "            return 0\n",
    "        \n",
    "    tf['X%s' %ethnicity] = tf.Xethnicity.apply(ethnicity_encoder)"
   ]
  },
  {
   "cell_type": "code",
   "execution_count": 75,
   "metadata": {
    "collapsed": false,
    "scrolled": true
   },
   "outputs": [
    {
     "name": "stdout",
     "output_type": "stream",
     "text": [
      "0.222586154938\n",
      "0.0333471298218\n",
      "0.0978591442108\n",
      "0.0418739318848\n",
      "0.0482048988342\n",
      "0.0505149364471\n",
      "0.125371932983\n",
      "1.25099802017\n"
     ]
    }
   ],
   "source": [
    "df=pd.DataFrame(index=tf.columns[:2000])\n",
    "# Compute mean value of each of first 2000 columns for each ethnic group\n",
    "for ethnicity in groups:\n",
    "    t0 = time()\n",
    "    df2 = tf[tf['X%s' %ethnicity] == 1]\n",
    "    df[ethnicity] = pd.DataFrame(df2.iloc[:,:2000].mean(axis=0))\n",
    "    print time()-t0\n",
    "    \n",
    "df['avg'] = df.mean(axis=1)\n",
    "\n",
    "for ethnicity in groups:\n",
    "    df['%s_diff' %ethnicity] = df[ethnicity] - df['avg']"
   ]
  },
  {
   "cell_type": "code",
   "execution_count": 76,
   "metadata": {
    "collapsed": false
   },
   "outputs": [],
   "source": [
    "# List top 200 words for each ethnicity\n",
    "\n",
    "# Create an empty string assigned to each ethnicity\n",
    "eth_dic = {}\n",
    "for ethnicity in groups:\n",
    "    eth_dic[ethnicity] = ''\n",
    "\n",
    "# Fill string for each ethnicity with top words\n",
    "for ethnicity in groups:\n",
    "    df.sort_values('%s_diff' %ethnicity, ascending=False, inplace=True)\n",
    "    \n",
    "    for word in df.index[:200]:\n",
    "        eth_dic[ethnicity] = eth_dic[ethnicity] + word + ', '\n",
    "    "
   ]
  },
  {
   "cell_type": "code",
   "execution_count": 77,
   "metadata": {
    "collapsed": false
   },
   "outputs": [
    {
     "data": {
      "text/plain": [
       "u'asian, food, chinese, japanese, korean, friends, eat, eating, games, internet, new, pop, family, iphone, game, sleep, trying, restaurants, ll, foods, modern, try, vietnamese, met, tv, china, shows, japan, random, explore, piano, travel, hanging, glee, ender, computer, sf, sushi, quiet, car, anime, watching, series, foodie, chef, snowboarding, tennis, bay, enjoy, meal, simple, activities, bang, karaoke, potter, gym, catching, currently, harry, born, asia, traveling, phone, area, dinner, dining, hawaii, hunger, basketball, video, laptop, easy, grew, thrones, giants, inception, murakami, restaurant, places, ve, active, pretty, vacation, appreciate, outdoor, glasses, steak, design, hobbies, graduated, ice, redemption, improve, coffee, lunch, 500, climbing, hole, chat, happy, knight, career, running, raised, camera, network, wall, adventurous, cream, visit, sleeping, planning, rice, short, theory, quirky, shawshank, shoes, marathon, current, hour, passport, golf, mother, haha, came, fried, caring, occasionally, exploring, shopping, weekend, girl, dragon, weekends, summer, learn, board, walking, eternal, enjoys, google, hang, dramas, martial, firm, hmm, financial, cuisine, things, curious, sports, spot, staying, spotless, thoughtful, musicals, went, laid, disney, guy, definitely, relaxing, usually, action, seafood, half, saving, chicken, graduate, interests, futurama, industry, hope, patient, balance, firefly, facts, relax, loves, trip, curiosity, professional, grab, english, engineer, office, classical, trips, sunshine, recipes, admit, tried, favorite, taking, watch, latest, slow, xx, baking, '"
      ]
     },
     "execution_count": 77,
     "metadata": {},
     "output_type": "execute_result"
    }
   ],
   "source": [
    "eth_dic['asian']"
   ]
  },
  {
   "cell_type": "code",
   "execution_count": 78,
   "metadata": {
    "collapsed": false
   },
   "outputs": [
    {
     "data": {
      "text/plain": [
       "u'middle, eastern, eyes, soccer, studying, com, tea, making, got, shit, healthy, reading, accent, question, http, languages, okcupid, coffee, www, amazing, site, cat, smell, word, possible, smart, philosophy, months, typical, cheese, practice, moved, guys, teaching, dating, dancing, people, challenging, world, politics, sweet, psychology, bike, private, wild, sf, discovering, minded, power, speak, kind, probably, english, berkeley, vonnegut, use, heart, hate, touch, city, pink, cultures, mind, cats, half, places, blues, student, traveled, write, lists, east, complicated, human, procrastinating, french, deep, silly, oriented, cal, development, paris, youtube, hard, cup, passionate, tool, idea, engineering, tom, forget, actually, sales, fucking, partner, grad, matters, north, did, self, way, gender, cute, lady, strong, dinner, plus, drunk, highly, peace, medicine, news, connecting, political, spiritual, conscious, learning, physics, going, guitar, yoga, curly, searching, lucky, floyd, general, living, lovely, recently, messages, bird, loved, deal, girls, lots, baking, paul, line, greek, purpose, stuff, walk, athletic, electronic, sorry, trees, study, open, travelling, 80, language, jam, second, teach, words, names, skiing, live, zeppelin, heavy, tastes, parking, future, somebody, italy, waking, given, attack, intelligence, bacon, david, father, climbing, friendships, candy, rich, exploring, studies, international, mission, pet, sea, biking, simon, authors, cohen, passport, diving, hunting, nearly, architecture, history, bay, studied, sexy, compassionate, close, kitchen, imagine, desire, '"
      ]
     },
     "execution_count": 78,
     "metadata": {},
     "output_type": "execute_result"
    }
   ],
   "source": [
    "eth_dic['middle eastern']"
   ]
  },
  {
   "cell_type": "code",
   "execution_count": 79,
   "metadata": {
    "collapsed": false
   },
   "outputs": [
    {
     "data": {
      "text/plain": [
       "u'lol, im, smile, god, love, ask, soul, money, woman, favorite, jazz, basketball, women, black, laugh, wanna, school, son, football, future, hip, person, sex, real, know, chill, music, alot, laid, hop, color, man, rap, oakland, drama, writing, book, dont, daughter, lil, law, fav, friendship, types, goals, interested, earth, kanye, cool, working, single, looking, phone, funny, jay, true, personality, wit, type, ready, life, laughter, thats, chicken, action, honest, fun, height, lips, bowling, family, sports, open, loves, video, reggae, notice, lady, hair, respect, kids, right, good, old, artist, prince, movie, college, people, young, stevie, positive, male, smoke, jones, beautiful, acting, relaxing, guy, jackson, relationship, hill, folks, race, blood, special, scott, just, truth, advice, poetry, chilling, peace, happiness, movies, education, reality, dad, ladies, hit, creative, brown, loving, listening, seafood, james, adult, ipod, west, treat, sexy, ass, club, shy, vampire, listener, body, student, raising, water, youth, afraid, nice, hey, anime, horror, voice, talk, skin, mac, mature, southern, private, plays, home, theater, games, mixed, outgoing, roots, friday, dreams, comedy, drawing, cell, romance, attending, tell, wife, smiling, king, baby, care, faith, plan, ca, information, wonder, rich, father, giving, attention, brother, ethiopian, war, gentleman, hello, attractive, kissing, pursuing, spirit, dude, order, judge, power, female, mind, house, eyes, channel, '"
      ]
     },
     "execution_count": 79,
     "metadata": {},
     "output_type": "execute_result"
    }
   ],
   "source": [
    "eth_dic['black']"
   ]
  },
  {
   "cell_type": "code",
   "execution_count": 80,
   "metadata": {
    "collapsed": false
   },
   "outputs": [
    {
     "data": {
      "text/plain": [
       "u'im, art, sex, love, lol, want, just, like, man, don, dont, know, haha, black, music, eyes, native, artist, say, old, woman, thing, writing, little, dead, soul, body, punk, real, hair, tattoos, alot, really, metal, nature, make, animals, feel, hot, poetry, heart, american, world, oh, open, life, party, better, look, people, self, massage, loving, women, time, way, talk, dance, sexy, drawing, right, dream, help, singing, natural, dj, arts, think, lover, horror, point, looking, death, sing, fuck, vegan, ass, fucking, bass, water, dog, rap, big, change, shy, knows, playing, mind, long, relationship, jazz, come, dirty, comes, sure, john, free, wild, mean, son, play, painting, planet, young, hell, message, vampire, mom, beauty, truth, shit, kinda, children, girl, james, lips, head, need, let, dancing, kissing, clothing, father, called, channel, talking, rain, boy, fishing, tall, human, musician, unless, soon, listen, alive, gardening, list, white, war, sci, spiritual, kind, true, basically, evil, update, creating, girls, kids, series, create, care, lot, ok, face, room, small, men, fall, thats, history, told, moon, red, age, lil, doors, making, wear, partner, http, country, partying, anime, romance, ve, inside, prince, sailing, wants, waiting, book, seeking, wanna, cuddling, frank, boys, bones, fi, dubstep, animal, picture, queer, acting, lets, profile, friend, joy, naked, '"
      ]
     },
     "execution_count": 80,
     "metadata": {},
     "output_type": "execute_result"
    }
   ],
   "source": [
    "eth_dic['native american']"
   ]
  },
  {
   "cell_type": "code",
   "execution_count": 81,
   "metadata": {
    "collapsed": false
   },
   "outputs": [
    {
     "data": {
      "text/plain": [
       "u'indian, india, new, friends, sf, company, startup, moved, software, exploring, tennis, area, city, lived, engineer, vegetarian, travelling, internet, technology, thai, movies, restaurants, work, fiction, seinfeld, tech, bay, awesome, watching, francisco, recently, dinner, fun, different, trying, ambitious, ideas, hanging, foodie, world, places, bar, south, laptop, space, san, travel, sports, yoga, spent, books, traveling, easy, years, enjoy, grew, godfather, happy, went, ago, east, development, spicy, cultures, coast, hiking, hour, wine, office, daily, food, shawshank, redemption, mad, quite, grad, catching, wire, bang, explore, mexican, business, chicago, hop, weekend, masters, conversation, include, conversations, passionate, running, international, far, humor, football, interesting, smart, weekends, coldplay, meet, countries, shows, interests, classical, seriously, modern, loving, days, generally, started, engineering, meaningful, non, knight, news, science, men, nyc, balance, various, checking, led, politics, math, hip, passport, traveled, boston, matrix, adventurous, code, tv, floyd, bars, phd, week, witty, york, mix, arrested, ethiopian, meeting, fan, rock, offer, intellectual, west, restaurant, npr, valley, sense, outdoors, career, colbert, educated, favorites, midwest, weather, bunch, enthusiasm, occasionally, drinks, related, situations, research, italian, theory, learn, energy, reading, list, learning, california, steve, fortunate, cities, 30, value, movie, pink, chilling, mediterranean, important, start, end, dark, adventure, finished, similar, involves, british, regularly, hours, pizza, including, management, usual, moves, vacation, parents, '"
      ]
     },
     "execution_count": 81,
     "metadata": {},
     "output_type": "execute_result"
    }
   ],
   "source": [
    "eth_dic['indian']"
   ]
  },
  {
   "cell_type": "code",
   "execution_count": 82,
   "metadata": {
    "collapsed": false
   },
   "outputs": [
    {
     "data": {
      "text/plain": [
       "u'family, haha, lol, iphone, just, friends, im, ll, japanese, know, phone, hawaii, car, currently, games, giants, video, short, usually, say, chill, gym, going, eat, watch, alot, hop, fashion, best, maybe, camera, romantic, photography, laugh, graphic, karaoke, skin, personality, asian, design, kinda, step, hip, reggae, golf, dead, girl, easy, chat, guy, gonna, food, kid, twilight, basketball, tomorrow, glee, songs, glasses, kick, 40, type, drinks, simple, island, try, store, potter, night, raised, smile, bed, 500, goes, comic, shop, designer, money, wars, wear, snowboarding, let, gotta, dad, team, flicks, 90, perfect, game, dork, keys, ass, cell, days, harry, flow, motivated, everyday, notebook, singing, series, blah, thrones, channel, clothes, ha, slow, student, kidding, hmm, youtube, rice, decided, horror, fullest, nights, wearing, keeping, pay, grab, god, hangover, 2012, arts, gear, promise, martial, kill, climbing, vs, away, loud, spontaneous, win, geek, discovery, guess, bottle, action, tell, falling, scared, king, straight, time, restaurant, walking, fine, vegas, shower, marley, moments, come, comfort, wanna, driven, web, schedule, sucker, order, stuck, training, shopping, surf, http, need, comedies, pick, total, sleep, motorcycle, chef, bite, buddy, grabbing, hey, yeah, genuine, cream, forgetting, adele, star, drink, obvious, wrong, breakfast, quality, giving, workout, vietnamese, day, talk, school, humble, doing, career, chick, count, baseball, ice, '"
      ]
     },
     "execution_count": 82,
     "metadata": {},
     "output_type": "execute_result"
    }
   ],
   "source": [
    "eth_dic['pacific islander']"
   ]
  },
  {
   "cell_type": "code",
   "execution_count": 83,
   "metadata": {
    "collapsed": false
   },
   "outputs": [
    {
     "data": {
      "text/plain": [
       "u'im, mexican, lol, spanish, soccer, salsa, latin, music, school, family, dont, mexico, working, dancing, going, love, like, want, la, guy, ask, los, hair, say, shy, future, movies, just, having, favorite, dance, smile, kids, hi, honest, baseball, haha, ill, chill, beer, horror, fun, enjoy, old, art, phone, raised, tattoos, currently, know, good, sex, talk, giants, wanna, uc, meet, son, movie, friendly, curly, single, nice, making, great, job, likes, concerts, outgoing, friend, watch, college, ha, club, major, smiths, hello, punk, depends, las, girls, cell, thats, laugh, funny, drink, 80, types, cars, originally, lets, film, sports, eyes, positive, oldies, home, studies, doors, english, program, born, guitar, park, happens, smiling, hang, studying, hit, goals, solitude, literature, looking, daughter, cold, message, drawing, tell, attending, animals, ass, kinds, beach, italian, caring, fear, cook, enjoying, education, notebook, bands, car, drinks, listening, relaxing, getting, dj, classic, beard, santa, video, cats, ghost, time, situation, gym, ipod, fullest, techno, 1984, pass, goes, graduated, hoping, questions, velvet, book, mission, drugs, relax, degree, finish, muse, glass, cuddling, willing, picky, weeds, blood, architecture, dead, comedies, eye, disney, enjoys, gaga, al, listener, comedy, dog, respectful, personality, person, beatles, overall, lips, cute, oh, improve, rock, gay, girl, happen, sunny, vegan, child, drama, late, mom, pizza, '"
      ]
     },
     "execution_count": 83,
     "metadata": {},
     "output_type": "execute_result"
    }
   ],
   "source": [
    "eth_dic['hispanic / latin']"
   ]
  },
  {
   "cell_type": "code",
   "execution_count": 84,
   "metadata": {
    "collapsed": false
   },
   "outputs": [
    {
     "data": {
      "text/plain": [
       "u've, wine, years, things, great, lot, hiking, really, blue, like, beer, read, probably, pretty, coffee, love, travel, outdoors, skiing, time, creative, good, enjoy, dog, moved, bike, camping, new, spend, dinner, adventure, outside, stuff, don, eyes, fiction, country, year, reading, especially, job, recently, important, nature, lots, san, mountains, amazing, live, books, little, beach, bit, generally, seeing, ago, francisco, rock, coast, adventures, weekend, yoga, red, getting, city, work, cat, humor, favorites, david, california, cheese, lived, chocolate, road, sunshine, lately, think, band, tv, art, small, biking, running, tom, hike, way, sf, ocean, spent, long, summer, tahoe, kind, mountain, local, best, exploring, learning, drinking, world, garden, old, cats, snow, brothers, run, fresh, animals, week, wonderful, excited, early, trips, history, exercise, area, baseball, tall, classic, finding, town, blues, play, teaching, active, arrested, dogs, sense, daily, kids, right, science, interesting, smart, swimming, non, green, children, sushi, possible, share, theater, building, stories, ski, east, quite, spending, glass, bay, trip, sailing, morning, development, place, isn, french, projects, grew, makes, bad, healthy, partner, fun, bars, backpacking, went, accent, interested, park, enjoying, playing, bluegrass, ll, vonnegut, occasional, board, profile, taking, john, maybe, ride, beatles, beard, day, doing, film, lebowski, favorite, bicycle, tend, intelligent, cook, dive, bands, marin, big, sort, feel, '"
      ]
     },
     "execution_count": 84,
     "metadata": {},
     "output_type": "execute_result"
    }
   ],
   "source": [
    "eth_dic['white']"
   ]
  },
  {
   "cell_type": "code",
   "execution_count": 85,
   "metadata": {
    "collapsed": false
   },
   "outputs": [],
   "source": [
    "# There are 8 different ethnic groups available\n",
    "# Tableau does well with about 50 to 60 words for packed bubbles\n",
    "# Take top 7 words for each ethnicity\n",
    "\n",
    "# Drop words asian, middle, eastern, indian, and india as they are top ranking words but redundant with categories\n",
    "\n",
    "df.drop(['asian', 'middle', 'eastern', 'indian', 'india'], axis=0, inplace=True)"
   ]
  },
  {
   "cell_type": "code",
   "execution_count": 87,
   "metadata": {
    "collapsed": false
   },
   "outputs": [],
   "source": [
    "# must have at least one row in dataframe in order to use pd.concat\n",
    "df_ethnicity = pd.DataFrame(index=[0], columns=['tfidf', 'label'])\n",
    "\n",
    "for ethnicity in groups:\n",
    "    # Save top 7 words for each ethnicity\n",
    "    df.sort_values('%s_diff' %ethnicity, ascending=False, inplace=True)\n",
    "    df3 = pd.DataFrame(df.head(7)[ethnicity])\n",
    "    df3.columns=['tfidf']\n",
    "    df3['label'] = ethnicity\n",
    "    \n",
    "    df_ethnicity = pd.concat([df_ethnicity, df3], axis=0)\n",
    "    \n",
    "# drop dummy row from top\n",
    "df_ethnicity.drop(0, axis=0, inplace=True)\n",
    "\n",
    "df_ethnicity.to_csv('../Assets/Tableau/df_ethnicity.csv')\n",
    "    "
   ]
  },
  {
   "cell_type": "markdown",
   "metadata": {},
   "source": [
    "### Explore jobs"
   ]
  },
  {
   "cell_type": "code",
   "execution_count": 98,
   "metadata": {
    "collapsed": false
   },
   "outputs": [
    {
     "name": "stdout",
     "output_type": "stream",
     "text": [
      "0.165224075317\n",
      "0.119398832321\n",
      "0.131641864777\n",
      "0.0926969051361\n",
      "0.147521018982\n",
      "0.176759004593\n",
      "0.0830149650574\n",
      "0.0604810714722\n",
      "0.0749540328979\n",
      "0.0682730674744\n"
     ]
    }
   ],
   "source": [
    "\n",
    "df = pd.DataFrame(index=tf.columns[:2000])\n",
    "df_jobs = pd.DataFrame(index=[0], columns=['tfidf', 'label'])\n",
    "job_dic = {}\n",
    "# Most popular job category is \"other\"  Exclude that\n",
    "for job in tf.Xjob.value_counts()[1:11].index:\n",
    "    # Save a column of dummies for each job category\n",
    "    def job_encoder(career):\n",
    "        global job\n",
    "        try:\n",
    "            if career.find(job) >= 0:\n",
    "                return 1\n",
    "            else: return 0\n",
    "        except:\n",
    "            return 0\n",
    "    \n",
    "    tf['X%s' %job] = tf.Xjob.apply(job_encoder)\n",
    "\n",
    "    # Compute mean tfidf scores for job type\n",
    "    t0 = time()\n",
    "    df2 = tf[tf['X%s' %job] == 1]\n",
    "    df[job] = pd.DataFrame(df2.iloc[:,:2000].mean(axis=0))\n",
    "    print time()-t0\n",
    "    \n",
    "# Compute overall mean tfidf scores\n",
    "df['avg'] = df.mean(axis=1)\n",
    "\n",
    "    \n",
    "for job in tf.Xjob.value_counts()[1:11].index: \n",
    "    # compute diff between scores for each job and overall mean\n",
    "    df['%s_diff' %job] = df[job] - df['avg']    \n",
    "    \n",
    "\n",
    "    # sort by job\n",
    "    # save top 200 words as dictionary values for each job\n",
    "    # save top 6 words with tfidf scores and labels to df_jobs\n",
    "    job_dic[job] = ''\n",
    "    df.sort_values('%s_diff' %job, ascending=False, inplace=True)\n",
    "    # save top 200 words to reserved string in job_dic\n",
    "    for word in df.index[:200]:\n",
    "        job_dic[job] = job_dic[job] + word + ', '\n",
    "        \n",
    "    # Save top 6 words to df_jobs\n",
    "    df.sort_values('%s_diff' %job, ascending=False, inplace=True)\n",
    "    \n",
    "    df3 = pd.DataFrame(df.head(6)[job])\n",
    "    df3.columns=['tfidf']\n",
    "    df3['label'] = job\n",
    "    \n",
    "    df_jobs = pd.concat([df_jobs, df3], axis=0)\n",
    "    \n",
    "# drop dummy row from top\n",
    "df_jobs.drop(0, axis=0, inplace=True)\n",
    "\n",
    "df_jobs.to_csv('../Assets/Tableau/df_jobs.csv')\n"
   ]
  },
  {
   "cell_type": "code",
   "execution_count": 107,
   "metadata": {
    "collapsed": false
   },
   "outputs": [
    {
     "data": {
      "text/plain": [
       "u'business, great, travel, wine, life, share, good, company, manager, work, fun, kids, woman, enjoy, dinner, hard, positive, live, management, successful, smart, world, looking, passionate, friends, happy, relationship, career, partner, fit, healthy, open, confident, single, home, enjoying, experiences, family, adventurous, smile, educated, building, startup, important, intelligent, passion, comfortable, traveling, energy, week, athletic, years, passport, conversation, countries, strong, special, profile, love, traveled, loving, non, cook, seeking, dining, curious, enjoys, start, typical, care, challenges, corporate, loyal, spending, balance, professional, sf, clean, need, lived, profit, sexy, spontaneous, relationships, emotionally, places, guy, independent, scuba, daughter, active, gym, restaurant, honest, son, romantic, change, driven, weekend, 10, skiing, planning, ambitious, balanced, minded, explore, europe, values, cooking, date, time, connection, challenge, bottle, london, lifestyle, minute, run, restaurants, focused, affectionate, diving, experience, believe, cultures, connecting, international, chef, tech, optimistic, sailing, man, friendship, meet, father, paris, manage, giving, understanding, match, easy, sense, having, appreciate, loves, passions, caring, cities, professionally, close, respect, physically, integrity, dog, happiness, forward, accent, jazz, let, build, wonderful, responsible, ago, lucky, quality, ideas, best, interests, warm, connections, technology, laugh, evening, india, ok, firm, list, eclectic, dad, private, prefer, latin, solving, wants, laughter, mature, trip, attracted, joy, health, thoughtful, story, fullest, soul, drive, vacation, tell, adventure, weekends, intellectual, '"
      ]
     },
     "execution_count": 107,
     "metadata": {},
     "output_type": "execute_result"
    }
   ],
   "source": [
    "job_dic['executive / management']"
   ]
  },
  {
   "cell_type": "code",
   "execution_count": 108,
   "metadata": {
    "collapsed": false
   },
   "outputs": [
    {
     "data": {
      "text/plain": [
       "u'teaching, teacher, education, students, teach, school, kids, love, children, dancing, books, reading, high, oakland, grade, summer, dance, writing, program, youth, learning, middle, history, nature, yoga, thinking, social, community, justice, english, read, special, people, year, young, favorite, math, literature, chocolate, kind, poetry, spanish, good, book, cooking, laugh, loving, spiritual, listening, coffee, laughter, friend, language, public, hiking, masters, class, stories, political, help, profit, sing, non, lots, job, old, singing, relationship, watching, laughing, grad, tea, spend, smile, folk, years, politics, berkeley, garden, john, gardening, ways, dinner, music, silly, little, swimming, water, really, open, think, hike, especially, authors, soul, patient, library, include, family, warm, sunshine, time, languages, queer, research, bay, paper, learn, taught, daughter, bluegrass, men, happy, passionate, write, like, world, historical, heart, cultural, salsa, phd, college, home, local, long, moment, bike, feel, america, fresh, ocean, favorites, notice, novels, conversation, fall, deeply, loved, walking, finding, camping, baking, private, curly, adult, lives, listen, hot, fiction, walk, hair, interested, child, art, comedies, east, outdoors, present, spirit, place, helping, past, university, mean, practice, dog, band, science, power, amelie, sharing, graduate, cup, important, joy, theater, organic, peace, camp, questions, needs, intellectual, urban, seeing, creative, minds, glasses, songs, cheese, remembering, cream, eat, secret, compassionate, films, foreign, night, value, woman, '"
      ]
     },
     "execution_count": 108,
     "metadata": {},
     "output_type": "execute_result"
    }
   ],
   "source": [
    "job_dic['education / academia']"
   ]
  },
  {
   "cell_type": "code",
   "execution_count": null,
   "metadata": {
    "collapsed": false
   },
   "outputs": [],
   "source": [
    "job_dic['sales / marketing / biz dev']"
   ]
  },
  {
   "cell_type": "code",
   "execution_count": null,
   "metadata": {
    "collapsed": false
   },
   "outputs": [],
   "source": [
    "job_dic['medicine / health']"
   ]
  },
  {
   "cell_type": "code",
   "execution_count": null,
   "metadata": {
    "collapsed": false
   },
   "outputs": [],
   "source": [
    "job_dic['artistic / musical / writer']"
   ]
  },
  {
   "cell_type": "code",
   "execution_count": null,
   "metadata": {
    "collapsed": false
   },
   "outputs": [],
   "source": [
    "job_dic['computer / hardware / software']"
   ]
  },
  {
   "cell_type": "code",
   "execution_count": null,
   "metadata": {
    "collapsed": false
   },
   "outputs": [],
   "source": [
    "job_dic['banking / financial / real estate']"
   ]
  },
  {
   "cell_type": "code",
   "execution_count": null,
   "metadata": {
    "collapsed": false
   },
   "outputs": [],
   "source": [
    "job_dic['science / tech / engineering']"
   ]
  },
  {
   "cell_type": "code",
   "execution_count": null,
   "metadata": {
    "collapsed": false
   },
   "outputs": [],
   "source": [
    "job_dic['student']"
   ]
  },
  {
   "cell_type": "code",
   "execution_count": null,
   "metadata": {
    "collapsed": false
   },
   "outputs": [],
   "source": [
    "job_dic['entertainment / media']"
   ]
  },
  {
   "cell_type": "markdown",
   "metadata": {},
   "source": [
    "### Look at sexual orientation\n",
    "Break down by gender as well to account for different cultures\n",
    "\n",
    "#### Sexual orientation among men:"
   ]
  },
  {
   "cell_type": "code",
   "execution_count": 120,
   "metadata": {
    "collapsed": false
   },
   "outputs": [
    {
     "name": "stderr",
     "output_type": "stream",
     "text": [
      "/anaconda/lib/python2.7/site-packages/ipykernel/__main__.py:3: UserWarning: Boolean Series key will be reindexed to match DataFrame index.\n",
      "  app.launch_new_instance()\n",
      "/anaconda/lib/python2.7/site-packages/ipykernel/__main__.py:8: UserWarning: Boolean Series key will be reindexed to match DataFrame index.\n",
      "/anaconda/lib/python2.7/site-packages/ipykernel/__main__.py:13: UserWarning: Boolean Series key will be reindexed to match DataFrame index.\n",
      "/anaconda/lib/python2.7/site-packages/ipykernel/__main__.py:18: UserWarning: Boolean Series key will be reindexed to match DataFrame index.\n",
      "/anaconda/lib/python2.7/site-packages/ipykernel/__main__.py:22: UserWarning: Boolean Series key will be reindexed to match DataFrame index.\n",
      "/anaconda/lib/python2.7/site-packages/ipykernel/__main__.py:26: UserWarning: Boolean Series key will be reindexed to match DataFrame index.\n"
     ]
    }
   ],
   "source": [
    "# Compute mean value of each of first 2000 columns for gay men\n",
    "\n",
    "df2 = tf[tf.Xsex=='m'][tf.Xorientation=='gay']\n",
    "df = pd.DataFrame(df2.iloc[:,:2000].mean(axis=0), columns = ['gay men'])\n",
    "\n",
    "\n",
    "# Compute mean value of each of first 2000 columns for bi men\n",
    "df2 = tf[tf.Xsex=='m'][tf.Xorientation=='bisexual']\n",
    "df['bi men'] = df2.iloc[:,:2000].mean(axis=0)\n",
    "\n",
    "\n",
    "# Compute mean values for straight men\n",
    "df2 = tf[tf.Xsex=='m'][tf.Xorientation=='straight']\n",
    "df['straight men'] = df2.iloc[:,:2000].mean(axis=0)\n",
    "\n",
    "\n",
    "# Compute mean values for gay women\n",
    "df2 = tf[tf.Xsex=='f'][tf.Xorientation=='gay']\n",
    "df['gay women'] = df2.iloc[:,:2000].mean(axis=0)\n",
    "\n",
    "# Compute mean values for bi women\n",
    "df2 = tf[tf.Xsex=='f'][tf.Xorientation=='bisexual']\n",
    "df['bi women'] = df2.iloc[:,:2000].mean(axis=0)\n",
    "\n",
    "# Compute mean values for straight women\n",
    "df2 = tf[tf.Xsex=='f'][tf.Xorientation=='straight']\n",
    "df['straight women'] = df2.iloc[:,:2000].mean(axis=0)\n",
    "\n",
    "\n",
    "df['avg'] = df.mean(axis=1)\n",
    "df['gay men diff'] = df['gay men'] - df.avg\n",
    "df['bi men diff'] = df['bi men'] - df.avg\n",
    "df['straight men diff'] = df['straight men'] - df.avg\n",
    "df['gay women diff'] = df['gay women'] - df.avg\n",
    "df['bi women diff'] = df['bi women'] - df.avg\n",
    "df['straight women diff'] = df['straight women'] - df.avg"
   ]
  },
  {
   "cell_type": "code",
   "execution_count": 143,
   "metadata": {
    "collapsed": false
   },
   "outputs": [],
   "source": [
    "# Save word lists\n",
    "df_orientation = pd.DataFrame(index=[0], columns=['tfidf', 'label'])\n",
    "group_dic = {}\n",
    "for group in df.columns[:6]:\n",
    "    df.sort_values('%s diff' %group, ascending=False, inplace=True)\n",
    "    group_dic[group] = ''\n",
    "    for word in df.index[:200]:\n",
    "        group_dic[group] = group_dic[group] + word + ', '\n",
    "\n",
    "# Save df for Tableau with top 10 for each category\n",
    "    df2 = pd.DataFrame(df[group].head(10))\n",
    "    df2.columns = ['tfidf']\n",
    "    df2['label'] = group\n",
    "\n",
    "    \n",
    "    df_orientation = pd.concat([df_orientation, df2], axis=0)\n",
    "    \n",
    "df_orientation.drop(0, axis=0, inplace=True)\n",
    "\n",
    "df_orientation.to_csv('../Assets/Tableau/df_orientation.csv')"
   ]
  },
  {
   "cell_type": "code",
   "execution_count": 125,
   "metadata": {
    "collapsed": false
   },
   "outputs": [
    {
     "data": {
      "text/plain": [
       "u'guy, friends, guys, gay, gym, francisco, san, dinner, nice, glee, gaga, pop, city, family, looking, design, home, iphone, work, moved, smile, years, lol, sf, great, tv, future, italian, date, movies, career, sedaris, movie, japanese, romantic, potter, asian, professional, boys, classical, meet, american, harry, 30, eating, originally, tennis, boy, modern, hanging, french, horror, dates, architecture, friendly, adele, enjoy, good, single, la, haha, personality, sisters, tend, drinks, bar, special, restaurants, travel, golden, interests, men, languages, life, week, david, blood, hour, piano, uc, food, job, happy, fi, berkeley, ipod, maybe, times, hope, opera, drink, sci, quiet, theatre, theater, educated, earth, school, new, fashion, facebook, eyes, boston, come, musicals, marketing, firm, teeth, vampire, california, management, york, chinese, trek, lived, university, mexican, cute, midwest, height, usually, enjoys, 20, netflix, similar, grad, beard, nyc, attention, finished, designer, running, past, oriented, mr, evening, chicken, ago, relaxing, drop, chat, news, dining, loyal, staying, project, shape, stable, bars, naked, wine, hoping, battlestar, race, reality, galactica, paris, white, dad, web, age, caring, eat, watching, 500, phone, grabbing, humor, guess, devil, thai, graphic, weekend, kill, bach, close, offer, recreation, conversation, films, grew, apple, hi, quality, accent, computer, fit, graduate, acting, wise, musical, network, chance, cuddling, manager, order, catcher, going, checking, industry, '"
      ]
     },
     "execution_count": 125,
     "metadata": {},
     "output_type": "execute_result"
    }
   ],
   "source": [
    "group_dic['gay men']"
   ]
  },
  {
   "cell_type": "code",
   "execution_count": 126,
   "metadata": {
    "collapsed": false
   },
   "outputs": [
    {
     "data": {
      "text/plain": [
       "u'gender, queer, sex, poly, like, ve, people, want, way, open, video, science, ll, social, relationships, sexual, com, http, games, male, human, fuck, interested, relationship, message, politics, philosophy, history, stuff, youtube, lot, play, partner, questions, sort, just, punk, don, star, man, art, math, thing, means, www, non, bicycle, playing, bass, musician, computer, married, profile, metal, artist, use, computers, words, studying, programming, feelings, electronic, animal, writing, doing, fantasy, straight, geek, tend, doctor, guy, dick, software, various, things, quite, know, nerd, coming, hey, form, think, theory, probably, isn, better, land, thinking, media, oh, knowledge, bit, cool, need, ya, write, fucking, likely, wars, shit, make, talking, okc, fiction, wearing, deal, super, fight, reason, trek, ask, terms, problem, bear, folk, song, building, bike, community, general, talk, far, say, dr, note, build, hell, ok, fact, problems, anime, political, film, wife, really, massage, damn, web, thought, spirit, actually, folks, mean, knife, stranger, got, lord, intense, particularly, physics, vegan, dubstep, head, sci, practice, nerdy, brown, band, minded, committed, version, answer, game, mention, case, wild, interesting, john, frequently, public, justice, matrix, rings, female, meat, code, ideas, communication, break, nights, fi, point, society, intimacy, little, digital, unique, issues, guitar, comic, beard, yes, guys, massages, process, gotten, continue, race, war, generally, '"
      ]
     },
     "execution_count": 126,
     "metadata": {},
     "output_type": "execute_result"
    }
   ],
   "source": [
    "group_dic['bi men']"
   ]
  },
  {
   "cell_type": "code",
   "execution_count": 127,
   "metadata": {
    "collapsed": false
   },
   "outputs": [
    {
     "data": {
      "text/plain": [
       "u'sports, guy, guitar, company, im, basketball, game, business, working, soccer, startup, snowboarding, software, engineer, golf, rock, tech, work, beer, enjoy, cars, baseball, easy, fun, moved, car, sf, football, technology, breaking, stuff, playing, internet, thrones, motorcycle, bay, computer, bar, engineering, wire, area, surfing, good, giants, skiing, office, comedy, fixing, cool, shawshank, bad, tennis, godfather, grew, computers, redemption, hip, seinfeld, curb, lebowski, hockey, born, hop, gym, bbq, biking, exercise, sunny, outdoors, pulp, active, san, years, money, fishing, try, bars, tahoe, south, brothers, sport, problems, sailing, bang, country, inception, lived, hangover, knight, city, climbing, activities, beard, surf, future, ago, weekends, philadelphia, drums, site, raised, went, dont, enthusiasm, driving, zeppelin, daily, road, listen, air, meet, career, beatles, gear, awesome, dad, accent, spent, led, drinks, father, archer, stones, metal, francisco, half, got, restaurants, dude, rap, tall, laid, mountain, vegas, fix, mission, ski, man, play, bands, jazz, music, bikes, outdoor, trip, traveled, pool, europe, great, restaurant, jokes, iphone, war, building, fight, countries, fan, steak, flying, wars, running, miles, japan, weekend, arrested, places, financial, enjoys, times, mad, com, dj, steve, simpsons, league, ambitious, matrix, catch, italian, www, alot, hobbies, bored, ender, reggae, hobby, successful, doors, floyd, classic, built, originally, http, mountains, bowling, dumb, van, colbert, brother, enjoying, '"
      ]
     },
     "execution_count": 127,
     "metadata": {},
     "output_type": "execute_result"
    }
   ],
   "source": [
    "group_dic['straight men']"
   ]
  },
  {
   "cell_type": "code",
   "execution_count": 128,
   "metadata": {
    "collapsed": false
   },
   "outputs": [
    {
     "data": {
      "text/plain": [
       "u'queer, love, women, gender, dancing, girls, making, im, dog, dance, girl, hair, wanna, adventures, want, laugh, shy, loving, bike, word, dogs, vegan, cat, coffee, romantic, friend, woman, laughter, gay, sunshine, attracted, food, music, folks, sex, books, cute, beautiful, community, art, friends, smile, people, cuddling, cooking, giving, ocean, laughing, writing, kissing, justice, teaching, color, tattoos, lady, youth, animals, person, adventure, chocolate, yeah, loyal, things, law, heart, ladies, drinking, kids, drama, eyes, documentaries, sarah, dirty, trees, new, creating, body, book, hands, present, passionate, tattoo, eat, energy, playing, talk, nature, care, camera, silly, soul, lover, awkward, velvet, taking, florence, pie, water, sexy, education, soft, grey, health, delicious, studies, power, sarcasm, communication, movies, connection, outgoing, markets, hip, cream, hop, chill, wine, oakland, glee, vegetables, dreaming, cheese, make, amazing, ass, charming, meal, growth, riding, fresh, weeds, having, kindness, really, bicycle, biking, beach, grounded, lil, random, class, life, smith, poetry, floor, sweet, compassionate, compassion, sensitive, bed, positive, change, hang, curly, wear, friendships, bell, beauty, feels, excited, candy, thats, kill, favorite, flowers, mental, healthy, yoga, spiritual, trying, stone, watching, playful, apple, kinds, swimming, sun, true, cultural, garden, hugs, play, library, kind, bones, connections, order, raising, machine, tree, jeans, shit, extremely, folk, growing, band, finding, bright, dragon, sister, '"
      ]
     },
     "execution_count": 128,
     "metadata": {},
     "output_type": "execute_result"
    }
   ],
   "source": [
    "group_dic['gay women']"
   ]
  },
  {
   "cell_type": "code",
   "execution_count": 129,
   "metadata": {
    "collapsed": false
   },
   "outputs": [
    {
     "data": {
      "text/plain": [
       "u'don, sex, people, girl, love, art, want, really, hair, things, like, message, dancing, cats, writing, dance, know, tea, tattoos, poly, sexual, ass, shit, relationship, make, relationships, probably, singing, body, vegan, right, making, messages, silly, dark, cat, open, mean, drawing, heart, fuck, think, baking, just, little, lady, hot, lot, community, sexy, awesome, animals, poetry, brain, david, makes, female, weird, totally, oh, fucking, especially, black, girls, dead, old, interested, books, princess, actually, beauty, loved, student, world, mind, creative, words, aren, woman, burning, okc, sweet, self, note, dating, ones, stories, ve, used, plants, drinking, crazy, fantasy, say, hate, baby, partner, doctor, red, change, loud, free, time, yoga, fact, men, children, notice, write, lover, pink, best, women, strange, talking, psychology, short, ways, power, said, punk, update, yeah, teacher, date, read, currently, understand, talk, respond, joy, unless, way, creating, slightly, bowie, casual, pretty, lots, adore, watch, cheese, series, authors, firefly, painting, prefer, horror, studies, face, told, general, handle, bed, true, light, favorites, sorry, getting, tom, clothes, cute, physical, teach, chocolate, care, lol, room, minded, paint, animal, dreams, need, tell, raw, wild, real, occasionally, universe, wanna, bride, use, dress, feel, cuddling, bad, swing, shows, looking, queer, labyrinth, blood, human, seeking, pixies, super, songs, heels, language, okay, '"
      ]
     },
     "execution_count": 129,
     "metadata": {},
     "output_type": "execute_result"
    }
   ],
   "source": [
    "group_dic['bi women']"
   ]
  },
  {
   "cell_type": "code",
   "execution_count": 130,
   "metadata": {
    "collapsed": false
   },
   "outputs": [
    {
     "data": {
      "text/plain": [
       "u'love, family, friends, wine, travel, laugh, smile, girl, enjoy, dinner, new, traveling, yoga, happy, great, favorite, laughing, humor, hiking, live, laughter, outdoors, fun, life, kids, passport, dog, active, good, city, independent, places, beach, shows, restaurants, chocolate, enjoying, sense, bay, running, country, weekend, exploring, home, week, sf, trip, sunshine, going, area, lived, funny, giants, dancing, work, loving, healthy, vacation, daughter, glass, hour, years, food, appreciate, mom, baking, salsa, children, try, shoes, spending, heels, easy, mad, year, job, concerts, loves, relaxing, activities, explore, sarcastic, trips, italian, career, book, warm, caring, honest, ocean, movie, fresh, important, share, son, loyal, adventurous, watching, drinks, adventure, planning, hike, loved, skiing, positive, cheese, favorites, cooking, coast, hunger, lucky, traveled, men, football, moved, shopping, sunny, chick, outside, balance, ready, iphone, originally, grew, museums, smart, close, sons, jazz, tahoe, camping, mother, npr, marketing, forward, pride, dogs, sushi, east, restaurant, sister, baseball, confident, spontaneous, excited, comedies, seeing, california, passionate, raised, offer, catching, countries, foreign, parking, sports, ambitious, smiling, sun, day, dive, italy, outdoor, mumford, car, intelligent, ago, outgoing, enjoys, hard, cultures, abroad, fan, witty, fortunate, amazing, spent, jane, office, ski, visit, woman, half, mexican, online, met, hanging, modern, marathon, couch, truly, values, water, dining, kind, europe, teacher, hangover, local, horses, '"
      ]
     },
     "execution_count": 130,
     "metadata": {},
     "output_type": "execute_result"
    }
   ],
   "source": [
    "group_dic['straight women']"
   ]
  },
  {
   "cell_type": "markdown",
   "metadata": {
    "collapsed": true
   },
   "source": [
    "### Explore Religion"
   ]
  },
  {
   "cell_type": "code",
   "execution_count": 159,
   "metadata": {
    "collapsed": false
   },
   "outputs": [],
   "source": [
    "# list religions \n",
    "religions = []\n",
    "for religion in tf.Xreligion.value_counts().index:\n",
    "    rel = religion.split(' ', 1)[0]\n",
    "    if rel not in religions:\n",
    "        religions.append(rel)\n",
    "religions = filter(lambda x: x != 'other', religions)"
   ]
  },
  {
   "cell_type": "code",
   "execution_count": 197,
   "metadata": {
    "collapsed": false
   },
   "outputs": [],
   "source": [
    "# Encode dummies for each religion\n",
    "# rel is individual person's religion string \"Christianity and very serious about it\"\n",
    "# religion is each group \"Christianity\"\n",
    "\n",
    "tf.Xreligion.replace(np.nan, '', inplace=True)\n",
    "\n",
    "df = pd.DataFrame()\n",
    "rel_dic = {}\n",
    "df_religion = pd.DataFrame(index=[0], columns=['tfidf', 'label'])\n",
    "\n",
    "for religion in religions:\n",
    "    tf['X%s' %religion] = tf.Xreligion.apply(lambda rel: 1 if rel.split(' ', 1)[0] == religion else 0)\n",
    "\n",
    "    # Compute mean values for each religion\n",
    "    df2 = tf[tf['X%s' %religion]==1]\n",
    "    df[religion] = df2.iloc[:,:2000].mean(axis=0)\n",
    "    \n",
    "# Compute mean for each word across religons\n",
    "df['avg'] = df.mean(axis=1)\n",
    "\n",
    "for religion in religions:\n",
    "    df['%s_diff' %religion] = df[religion] -df['avg']\n",
    "\n",
    "    # Save top 200 words for each religion as string\n",
    "    df.sort_values('%s_diff' % religion, inplace=True, ascending=False)\n",
    "    \n",
    "    rel_dic[religion] = ''\n",
    "    for word in df.index[:200]:\n",
    "        rel_dic[religion] = rel_dic[religion] + word + ', '\n",
    "    \n",
    "    # Save top 7 words for each religon as df for Tableau\n",
    "    df2 = pd.DataFrame(df[religion].head(7))\n",
    "    df2.columns = ['tfidf']\n",
    "    df2['label'] = religion\n",
    "    \n",
    "    df_religion = pd.concat([df_religion, df2], axis=0)\n",
    "    \n",
    "df_religion.drop(0, axis=0, inplace=True)\n",
    "df_religion.to_csv('../Assets/Tableau/df_religion.csv')\n",
    "    "
   ]
  },
  {
   "cell_type": "code",
   "execution_count": 200,
   "metadata": {
    "collapsed": false
   },
   "outputs": [
    {
     "data": {
      "text/plain": [
       "u've, things, like, don, really, probably, lot, ll, think, stuff, pretty, games, just, writing, music, little, books, video, way, rock, people, recently, beer, game, bad, actually, dead, bit, getting, punk, oh, david, band, reading, fiction, tv, list, drinking, random, time, arrested, used, development, bike, tend, read, climbing, shit, black, playing, lately, lost, big, radiohead, dog, art, year, non, star, years, old, history, yeah, cats, seriously, got, world, cheese, science, thrones, favorites, especially, try, vonnegut, park, guitar, breaking, films, dogs, right, film, song, eat, sunshine, need, wine, wire, cat, generally, sort, idea, internet, aren, animals, night, john, play, trying, tom, day, whiskey, usually, want, far, finding, profile, include, keys, city, american, weird, eating, fi, interesting, hot, days, bands, white, walking, thing, food, mad, ass, burritos, coffee, fantasy, sci, occasionally, brothers, possible, modest, lots, isn, super, hours, project, sunny, small, awesome, apparently, guess, universe, miss, haven, doesn, possibly, dr, yes, ok, geek, kurt, prefer, question, shows, firefly, use, nerd, red, head, ride, adventures, eternal, scene, blood, anderson, fight, high, best, suppose, dark, lebowski, words, dexter, sarcastic, colbert, hair, case, say, electronic, board, blue, tall, 30, house, bear, boys, doing, likely, online, bowie, http, brain, authors, neil, report, short, bob, smart, means, does, '"
      ]
     },
     "execution_count": 200,
     "metadata": {},
     "output_type": "execute_result"
    }
   ],
   "source": [
    "rel_dic['agnosticism']"
   ]
  },
  {
   "cell_type": "code",
   "execution_count": 201,
   "metadata": {
    "collapsed": false
   },
   "outputs": [
    {
     "data": {
      "text/plain": [
       "u'family, im, friends, lol, sports, wine, italian, smile, just, giants, going, laugh, baseball, girl, guy, haha, love, mexican, working, enjoy, phone, fun, school, soccer, home, iphone, movie, time, great, raised, movies, try, chill, currently, enjoying, kids, types, golf, old, football, car, outgoing, say, person, relaxing, job, son, fullest, good, easy, personality, rap, born, cell, irish, favorite, ask, country, drinks, beach, college, meet, nice, watching, future, travel, running, dinner, dog, ipod, oriented, shy, oldies, happy, career, day, hang, dont, enjoys, best, loyal, gym, active, games, hangover, spanish, salsa, positive, san, goals, comedies, outdoors, work, channel, having, hunger, woman, honest, spending, fan, bowling, caring, sarcastic, special, hour, 80, hard, stay, goes, concerts, smiling, usually, ill, loves, tahoe, bar, romantic, trying, laughter, likes, depends, italy, spontaneous, mexico, events, latin, glass, knows, ready, native, single, short, looking, willing, picky, shoes, wanna, ball, disney, tasting, horror, hip, schedule, relax, saturday, eyes, athletic, course, twilight, game, pasta, alot, lady, restaurant, field, earth, tomorrow, clubs, hitting, listener, laid, tell, grabbing, simple, motivated, workout, fishing, hockey, visiting, sales, notebook, weekend, action, kinds, tough, daughter, chick, jersey, scary, cal, kings, sons, joke, dogs, cars, karaoke, glee, hello, christmas, 90, catcher, hanging, lips, attending, hawaii, sport, snowboarding, night, shopping, firm, '"
      ]
     },
     "execution_count": 201,
     "metadata": {},
     "output_type": "execute_result"
    }
   ],
   "source": [
    "rel_dic['catholicism']"
   ]
  },
  {
   "cell_type": "code",
   "execution_count": 202,
   "metadata": {
    "collapsed": false
   },
   "outputs": [
    {
     "data": {
      "text/plain": [
       "u'like, don, ve, things, stuff, science, probably, really, games, lot, think, beer, ll, pretty, internet, video, bad, read, game, fiction, bike, shit, punk, rock, art, books, david, just, drinking, profile, actually, interesting, got, nerd, dead, star, black, metal, sex, weird, use, arrested, recently, used, getting, awesome, non, way, fuck, sort, time, development, want, history, writing, breaking, climbing, cat, thing, space, philosophy, math, cats, american, reading, playing, people, software, guitar, right, vegan, fi, coffee, vonnegut, computer, little, firefly, bit, idea, com, dark, band, thrones, sci, programming, wire, brain, lost, talking, http, world, list, oh, tv, death, dr, park, politics, electronic, universe, strange, ass, richard, computers, tend, physics, radiohead, maybe, cool, haven, blah, okcupid, isn, fight, board, especially, mad, doing, fucking, nerdy, beard, write, yeah, fantasy, guide, tom, brothers, drawing, boring, doesn, meat, trek, animal, play, hate, ones, white, message, ender, current, bands, thinking, means, futurama, seriously, terrible, burritos, generally, bacon, john, bicycle, projects, hair, archer, words, man, authors, galaxy, kurt, men, didn, occasionally, drunk, startup, works, engineer, battlestar, aren, doctor, daily, public, galactica, british, lately, berkeley, hours, design, gender, dick, cheese, sunny, wear, www, geek, late, films, smith, answer, blood, song, record, comics, short, apparently, small, days, questions, big, spend, favorites, '"
      ]
     },
     "execution_count": 202,
     "metadata": {},
     "output_type": "execute_result"
    }
   ],
   "source": [
    "rel_dic['atheism']"
   ]
  },
  {
   "cell_type": "code",
   "execution_count": 203,
   "metadata": {
    "collapsed": false
   },
   "outputs": [
    {
     "data": {
      "text/plain": [
       "u'family, im, god, lol, love, smile, life, faith, sports, enjoy, fun, just, person, woman, son, good, guy, working, haha, girl, great, phone, friends, ask, going, job, favorite, loves, relaxing, dont, goals, eyes, movie, laugh, drama, honest, looking, caring, future, alot, kids, personality, real, country, positive, fullest, football, lady, hard, college, types, basketball, loving, rap, daughter, school, active, hanging, fishing, games, action, movies, loyal, nice, relationship, italian, baseball, friendship, special, mexican, beach, outgoing, having, degree, comes, know, career, man, stay, earth, type, enjoying, giants, romantic, height, home, laid, cell, korean, seafood, money, children, comedy, comedies, easy, spontaneous, horror, interested, later, singing, iphone, hope, athletic, try, advice, enjoys, married, meet, travel, ill, treat, hang, video, shopping, giving, old, kinds, mom, romance, disney, ipod, concerts, anime, willing, manager, sales, car, smiling, bowling, chill, chinese, listener, grey, walks, meeting, hangover, shy, mother, want, greek, best, lets, bbq, christmas, theater, online, oldies, chick, baking, attending, dad, lord, gentleman, currently, attitude, ha, notice, time, goal, helping, single, relax, field, scary, afraid, soul, hmmm, improve, team, business, share, scared, possibly, notebook, steak, friend, laughter, wanna, plan, purpose, likes, oriented, busy, ball, date, education, depends, everyday, twilight, watching, today, water, weekend, goofy, southern, memories, values, karaoke, raising, gotta, '"
      ]
     },
     "execution_count": 203,
     "metadata": {},
     "output_type": "execute_result"
    }
   ],
   "source": [
    "rel_dic['christianity']"
   ]
  },
  {
   "cell_type": "code",
   "execution_count": 204,
   "metadata": {
    "collapsed": false
   },
   "outputs": [
    {
     "data": {
      "text/plain": [
       "u'travel, ve, great, dinner, dog, chocolate, wine, world, love, amazing, coast, good, years, new, yorker, adventures, skiing, recently, east, cook, lots, smart, making, passionate, city, live, bay, year, sushi, york, especially, partner, hair, kids, yoga, san, run, outside, excited, moved, theater, area, day, coffee, hiking, fresh, curly, creative, bike, ago, cheese, francisco, warm, laughing, jazz, teaching, seeing, humor, traveling, ny, dogs, exercise, woman, non, singing, spend, getting, adventure, share, curb, enthusiasm, writing, witty, blues, nyc, healthy, best, sunshine, beatles, sf, children, big, enjoy, eating, close, npr, laugh, really, comfortable, play, particularly, man, energy, active, ski, mountains, taking, finding, learning, explore, west, trip, sarcasm, law, old, scrabble, garden, weekend, stories, hike, public, went, small, important, mad, theatre, nature, wonderful, lot, night, time, sense, blue, having, incredible, kind, way, silly, parties, community, spending, exploring, delicious, michael, connection, la, restaurants, week, intellectual, outdoors, curious, dancing, market, happy, lived, reading, grateful, interesting, tahoe, dylan, red, early, pretty, cream, daughter, profit, morning, cooking, meaningful, recent, street, summer, rock, playful, bed, hot, include, eat, ocean, park, allen, intelligent, hopefully, fiction, got, simon, took, playing, lives, brothers, originally, excellent, raising, loved, walking, meal, online, museums, cities, touch, funny, tv, independent, concerts, concert, wild, folk, traveled, experience, markets, '"
      ]
     },
     "execution_count": 204,
     "metadata": {},
     "output_type": "execute_result"
    }
   ],
   "source": [
    "rel_dic['judaism']"
   ]
  },
  {
   "cell_type": "code",
   "execution_count": 206,
   "metadata": {
    "collapsed": false
   },
   "outputs": [
    {
     "data": {
      "text/plain": [
       "u'indian, india, friends, new, company, loving, exploring, moved, travelling, trying, city, vegetarian, fun, conversations, restaurants, hop, definitely, software, lived, movies, meeting, foodie, movie, happy, sense, thai, dinner, hip, different, technology, spiritual, love, hour, easy, godfather, yoga, masters, work, person, living, inception, bang, fullest, ambitious, knight, places, cultures, sf, world, watching, engineer, hang, offer, sleep, floyd, area, startup, humor, include, far, bay, ideas, pink, looking, chilling, food, enjoys, dont, passionate, fav, meditation, balance, classical, bar, seinfeld, football, laughing, including, intelligent, tons, career, activities, laptop, college, gym, partying, smile, guys, sports, party, theory, dark, meaningful, led, kinds, funny, driven, spirituality, workout, parents, matrix, ago, minded, basically, witty, check, plans, laid, tech, attitude, gives, south, genuine, adventure, learning, coldplay, salsa, pride, enjoy, mexican, born, drinks, family, ethiopian, big, smoking, graduated, shows, absolutely, catching, international, romantic, fiction, crazy, mother, bars, term, internet, individual, hobbies, mood, personal, various, hmm, spontaneous, generally, explore, redemption, 90s, interests, course, spent, happiness, checking, spicy, gets, holiday, california, pop, traveling, non, search, believe, west, chemistry, shawshank, memory, enjoying, educated, action, passions, east, meet, hanging, cheesy, depends, mature, culture, music, quite, usually, laugh, smart, photography, jay, techno, iphone, confidence, finished, make, kitchen, terms, important, seriously, hi, grad, keeps, discover, francisco, adventurous, '"
      ]
     },
     "execution_count": 206,
     "metadata": {},
     "output_type": "execute_result"
    }
   ],
   "source": [
    "rel_dic['hinduism']"
   ]
  },
  {
   "cell_type": "code",
   "execution_count": 205,
   "metadata": {
    "collapsed": false
   },
   "outputs": [
    {
     "data": {
      "text/plain": [
       "u'meditation, life, yoga, art, nature, spiritual, practice, asian, creative, heart, world, mind, open, beauty, compassion, dance, partner, body, connection, human, listening, massage, moment, healthy, soul, learning, japanese, writing, path, community, cooking, self, great, sex, live, vietnamese, energy, films, relationship, growth, intimacy, spirit, communication, health, present, deep, woman, artist, thai, relationships, water, organic, chinese, poetry, independent, compassionate, play, dancing, lover, teaching, power, tea, touch, air, practicing, share, finding, curious, connecting, universe, warm, interested, hiking, center, vegan, adventure, sunshine, film, physical, creativity, painting, daughter, love, personal, inner, arts, hot, music, raw, feel, playful, maybe, fresh, look, taking, spirituality, grounded, deeply, visual, hands, wild, design, musician, emotional, moments, planet, sense, understanding, philosophy, mountains, spend, asia, artistic, jazz, create, ride, garden, local, living, creating, strong, experience, queer, red, desire, laughter, way, kindness, natural, kind, making, eat, wonderful, black, laughing, passion, seeking, value, man, grateful, journey, feeling, giving, people, connect, climbing, silence, honesty, sun, thoughtful, korean, caring, happiness, ocean, folks, blues, conscious, support, sexy, beautiful, integrity, lately, joy, psychology, emotionally, focus, important, listener, justice, gardening, foreign, japan, aware, comfortable, adult, early, swim, fully, drawn, expression, tomorrow, helping, alive, interests, true, martial, dog, contact, glasses, classical, writer, willing, sharing, thinking, david, plants, davis, truth, generous, project, '"
      ]
     },
     "execution_count": 205,
     "metadata": {},
     "output_type": "execute_result"
    }
   ],
   "source": [
    "rel_dic['buddhism']"
   ]
  },
  {
   "cell_type": "code",
   "execution_count": 207,
   "metadata": {
    "collapsed": false
   },
   "outputs": [
    {
     "data": {
      "text/plain": [
       "u'im, site, lol, harry, future, potter, talk, progress, tea, alot, eastern, sf, student, money, know, private, http, fashion, respect, basketball, youtube, thats, middle, university, outgoing, www, hop, english, table, hip, soon, wanna, soccer, activity, friend, 24, faith, school, dreams, sweet, honestly, hit, single, box, com, couple, tennis, wit, door, international, politics, hey, worry, club, gym, meet, moment, riding, laptop, inside, problems, swimming, person, series, term, solving, awesome, forward, peace, help, store, lets, messages, planning, thank, tech, leave, matrix, hanging, architecture, cookies, dude, judge, computer, pay, father, cell, minded, wouldn, dont, wake, picky, studying, blind, religion, management, escape, friendly, study, cultural, silence, cultures, cause, calm, car, ideal, thanks, motorcycle, forever, color, number, horrible, cheesy, respond, hello, speak, women, respectful, figured, chance, damn, web, supposed, cup, brown, swing, dancing, ended, drugs, patient, till, abroad, smell, jackson, trust, vacation, biking, professionally, challenge, easy, code, fucking, die, remember, news, throwing, compassionate, bite, success, believe, express, hugs, southern, website, language, avoid, sisters, keeping, staying, listening, lack, fact, normal, appreciate, clear, place, educated, write, wants, machine, environmental, truth, york, taste, las, floor, studied, listen, mom, similar, dating, unique, win, awkward, social, state, responsible, walk, novels, simple, law, intense, avid, player, kinda, media, winter, industry, cold, sexual, '"
      ]
     },
     "execution_count": 207,
     "metadata": {},
     "output_type": "execute_result"
    }
   ],
   "source": [
    "rel_dic['islam']"
   ]
  },
  {
   "cell_type": "markdown",
   "metadata": {},
   "source": [
    "### Religion seriousness"
   ]
  },
  {
   "cell_type": "code",
   "execution_count": 222,
   "metadata": {
    "collapsed": false
   },
   "outputs": [],
   "source": [
    "levels = []\n",
    "for religion in tf.Xreligion.value_counts().index:\n",
    "    try:\n",
    "        level = religion.split('and ', 1)[1]\n",
    "    except: continue\n",
    "    if level not in levels:\n",
    "        levels.append(level)\n",
    "\n",
    "def level_encoder(rel):\n",
    "    try:\n",
    "        for level in levels:\n",
    "            if rel.find(level) >0:\n",
    "                return level\n",
    "    except:\n",
    "        return ''\n",
    "\n",
    "tf['Xreligiousness'] = tf.Xreligion.apply(level_encoder)"
   ]
  },
  {
   "cell_type": "code",
   "execution_count": 244,
   "metadata": {
    "collapsed": false
   },
   "outputs": [],
   "source": [
    "df = pd.DataFrame()\n",
    "df_religiousness = pd.DataFrame(index=[0], columns=['tfidf', 'label'])\n",
    "level_dic = {}\n",
    "for level in levels:\n",
    "    # Compute mean values for each level of religiousness\n",
    "    df2 = tf[tf['Xreligiousness']==level]\n",
    "    df[level] = df2.iloc[:,:2000].mean(axis=0)\n",
    "# Compute averages\n",
    "df['avg'] = df.mean(axis=1)\n",
    "\n",
    "for level in levels:\n",
    "    # sort by diff for each category\n",
    "    df['%s_diff' %level] = df[level] - df['avg']\n",
    "    df.sort_values('%s_diff' % level, inplace=True, ascending=False)\n",
    "    # Save top 200 to level_dic\n",
    "    level_dic[level] = ''\n",
    "    for word in df.index[:200]:\n",
    "        level_dic[level] = level_dic[level] + word + ', '\n",
    "    # Save top 20 to df\n",
    "    df2 = pd.DataFrame(df[level].head(20))\n",
    "    df2.columns = ['tfidf']\n",
    "    df2['label'] = level\n",
    "    \n",
    "    df_religiousness = pd.concat([df_religiousness, df2], axis=0)\n",
    "df_religiousness.drop(0, axis=0, inplace=True)\n",
    "\n",
    "df_religiousness.to_csv('../Assets/Tableau/df_religiousness.csv')"
   ]
  },
  {
   "cell_type": "code",
   "execution_count": 241,
   "metadata": {
    "collapsed": false
   },
   "outputs": [
    {
     "data": {
      "text/plain": [
       "u've, like, things, beer, stuff, ll, city, making, new, music, pretty, bad, coffee, random, awesome, bike, don, probably, adventure, really, laughing, rock, hot, big, drinking, shit, sf, lot, wine, got, game, david, night, little, jokes, bit, black, dead, oh, thing, drink, getting, lately, eat, world, doing, bar, day, punk, dog, playing, seriously, coast, park, tom, let, adventures, good, head, cool, just, food, people, way, moved, ass, zombie, make, list, delicious, eating, beatles, reading, far, read, east, bay, road, mad, climbing, arrested, keys, thrones, wire, south, cheese, yeah, maybe, http, space, play, witty, drinks, party, cooking, yes, sushi, breaking, recently, amazing, ride, run, spent, kitchen, places, days, town, radiohead, com, www, watch, funk, sunny, damn, sleep, grew, film, red, brothers, laugh, company, bob, whiskey, start, bacon, sarcastic, walking, talking, lost, trying, tell, books, biking, art, travel, ago, summer, miles, did, outside, internet, occasional, vonnegut, development, house, hell, camping, riding, apparently, fear, oakland, dig, dive, song, lots, fun, early, guitar, constantly, arcade, exploring, hilarious, figuring, funny, electronic, taste, design, tend, favorites, think, cat, building, finding, terrible, lived, sunshine, white, snowboarding, burritos, lebowski, crap, time, usually, bed, having, short, fight, blah, place, youtube, awkward, old, bicycle, went, 30, smart, decent, waits, francisco, try, '"
      ]
     },
     "execution_count": 241,
     "metadata": {},
     "output_type": "execute_result"
    }
   ],
   "source": [
    "level_dic['laughing about it']"
   ]
  },
  {
   "cell_type": "code",
   "execution_count": 242,
   "metadata": {
    "collapsed": false,
    "scrolled": true
   },
   "outputs": [
    {
     "data": {
      "text/plain": [
       "u'love, family, friends, enjoy, lol, smile, life, im, person, laugh, sports, happy, working, honest, great, home, looking, good, fun, caring, games, gym, school, future, open, nice, woman, personality, phone, dancing, italian, favorite, share, interested, new, dance, relaxing, loving, wine, different, hanging, kids, movies, chinese, try, kinds, types, people, healthy, food, going, goals, dinner, positive, week, beautiful, romantic, friend, college, career, 80, shy, passionate, hip, guy, american, degree, easy, travel, learning, haha, compassionate, active, time, partner, fullest, health, raised, concerts, education, energy, having, asian, children, basketball, alot, girl, listening, listener, graduated, son, spending, studying, hiking, especially, comedies, watching, baseball, oriented, live, hop, talk, iphone, giving, catching, work, comfortable, helping, cell, swimming, area, car, meeting, eyes, grounded, cooking, kind, loves, money, willing, key, music, shows, fishing, minded, restaurants, theater, country, type, include, outdoors, met, hangover, romance, movie, bay, respect, potter, smart, special, computers, confident, spirituality, hi, outgoing, believe, just, bit, honesty, adventurous, lady, yoga, spontaneous, spanish, horror, independent, values, action, wedding, giants, cuddling, attending, state, raising, experience, dramas, goal, stay, harry, explore, board, fit, mature, hobbies, ask, planning, visiting, relax, currently, moved, series, events, relationship, latin, winter, fitness, integrity, basically, rap, classical, mexican, year, intelligent, near, enjoying, class, chance, prince, student, plan, '"
      ]
     },
     "execution_count": 242,
     "metadata": {},
     "output_type": "execute_result"
    }
   ],
   "source": [
    "level_dic['somewhat serious about it']"
   ]
  },
  {
   "cell_type": "code",
   "execution_count": 243,
   "metadata": {
    "collapsed": false
   },
   "outputs": [
    {
     "data": {
      "text/plain": [
       "u'god, faith, spiritual, relationship, im, real, lord, religion, math, daughter, notice, truth, drawing, cats, science, practice, friendship, know, writing, son, single, later, philosophy, teacher, need, laid, vegetarian, ha, com, student, okay, hope, help, laptop, children, speak, artist, religious, poetry, understand, lol, private, language, paper, loving, heavy, dont, involved, gardening, important, male, developing, future, purpose, heart, women, special, cute, child, psychology, law, spirituality, america, hey, planet, bass, meat, color, inner, pet, drums, notebook, holy, ladies, dad, seeking, piece, dude, vampire, vegan, second, woman, filled, peace, write, ready, drama, desire, digital, wants, field, eye, football, favorite, earth, lives, ok, 100, pride, message, knight, seen, knowledge, comics, committed, paint, obvious, martial, married, foods, compassion, extremely, thats, meditation, present, difficult, program, smile, educated, korean, hobby, loves, seek, community, friend, universe, hang, attractive, alot, romantic, super, minds, saving, available, literature, site, songs, build, lie, moon, individual, deeply, eyes, arts, think, shit, girls, aren, soon, volunteering, physics, helping, fuck, martin, ill, friendly, relationships, questions, patient, disney, humble, dress, boring, growth, works, middle, sister, study, singer, waste, smoke, freedom, firm, shoes, values, person, beauty, able, totally, politics, gave, lack, hair, mental, wear, text, painting, emotionally, richard, spend, greatest, fashion, volunteer, free, process, family, fully, diverse, walk, art, '"
      ]
     },
     "execution_count": 243,
     "metadata": {},
     "output_type": "execute_result"
    }
   ],
   "source": [
    "level_dic['very serious about it']"
   ]
  },
  {
   "cell_type": "markdown",
   "metadata": {
    "collapsed": false
   },
   "source": [
    "### Explore Diet"
   ]
  },
  {
   "cell_type": "markdown",
   "metadata": {},
   "source": [
    "### Explore Diet"
   ]
  },
  {
   "cell_type": "code",
   "execution_count": 245,
   "metadata": {
    "collapsed": false
   },
   "outputs": [],
   "source": [
    "tf.Xdiet.value_counts()\n",
    "\n",
    "# ignore anything and other\n",
    "# just look for vegetarian, vegan, kosher, halal\n",
    "\n",
    "def diet_encoder(diet):\n",
    "    try:\n",
    "        if diet.find('vegan') >= 0:\n",
    "            return 'vegan'\n",
    "        elif diet.find('vegetarian') >= 0:\n",
    "            return 'vegetarian'\n",
    "        elif diet.find('kosher') >= 0:\n",
    "            return 'kosher'\n",
    "        elif diet.find('halal') >= 0:\n",
    "            return 'halal'\n",
    "        else:\n",
    "            return ''\n",
    "    except:\n",
    "        return ''\n",
    "    \n",
    "tf.Xdiet = tf.Xdiet.apply(diet_encoder)"
   ]
  },
  {
   "cell_type": "code",
   "execution_count": 276,
   "metadata": {
    "collapsed": false
   },
   "outputs": [],
   "source": [
    "# Exclude '' from diets\n",
    "diets = tf.Xdiet.value_counts().index[1:]\n",
    "\n",
    "df = pd.DataFrame()\n",
    "df_diet = pd.DataFrame(index=[0], columns=['tfidf', 'label'])\n",
    "diet_dic = {}\n",
    "for diet in diets:\n",
    "    # Compute mean values for each level of religiousness\n",
    "    df2 = tf[tf.Xdiet==diet]\n",
    "    df[diet] = df2.iloc[:,:2000].mean(axis=0)\n",
    "# Compute averages\n",
    "df['avg'] = df.mean(axis=1)\n",
    "\n",
    "for diet in diets:\n",
    "    # sort by diff for each category\n",
    "    df['%s_diff' %diet] = df[diet] - df['avg']\n",
    "    df.sort_values('%s_diff' % diet, inplace=True, ascending=False)\n",
    "    # Save top 200 to level_dic\n",
    "    diet_dic[diet] = ''\n",
    "    for word in df.index[:200]:\n",
    "        diet_dic[diet] = diet_dic[diet] + word + ', '\n",
    "    # Save top 20 to df\n",
    "    df2 = pd.DataFrame(df[diet].head(15))\n",
    "    df2.columns = ['tfidf']\n",
    "    df2['label'] = diet\n",
    "    \n",
    "    df_diet = pd.concat([df_diet, df2], axis=0)\n",
    "df_diet.drop(0, axis=0, inplace=True)\n",
    "\n",
    "df_diet.to_csv('../Assets/Tableau/df_diet.csv')"
   ]
  },
  {
   "cell_type": "code",
   "execution_count": 272,
   "metadata": {
    "collapsed": false
   },
   "outputs": [
    {
     "data": {
      "text/plain": [
       "u'vegetarian, work, good, things, new, friends, music, love, years, yoga, enjoy, trying, really, dancing, favorite, dinner, sf, hiking, life, great, lot, ve, cheese, area, indian, bay, cooking, fun, bike, spend, home, books, week, non, little, exploring, adventure, lived, travel, running, traveling, people, laughing, camping, include, pretty, city, outdoors, seeing, list, laughter, east, moved, world, stuff, drinking, fiction, long, wine, coast, making, learning, bit, passionate, california, important, especially, morning, year, dog, possible, days, movie, trip, ll, having, nature, getting, ideas, recently, meeting, sunshine, current, big, laugh, places, thinking, weekend, adventures, food, typical, humor, going, beach, garden, meat, dance, summer, make, spent, road, biking, photography, cook, david, chocolate, job, read, conversations, fresh, active, games, amazing, watching, different, favorites, thai, feeling, makes, interested, town, super, interesting, curious, tv, appreciate, passport, usually, genuine, place, intelligent, best, night, playing, enjoying, small, outside, play, ocean, blue, easy, nights, family, drinks, guitar, healthy, tea, films, friday, company, better, general, ago, parties, sense, beer, npr, used, development, hope, grew, swimming, sarcastic, country, sort, west, late, occasionally, happy, project, try, particularly, early, fit, office, doesn, restaurants, business, psychology, beauty, value, online, italian, smile, arrested, tennis, outdoor, kitchen, maybe, accent, dylan, course, scene, men, light, universe, liked, fish, independent, random, '"
      ]
     },
     "execution_count": 272,
     "metadata": {},
     "output_type": "execute_result"
    }
   ],
   "source": [
    "diet_dic['vegetarian']"
   ]
  },
  {
   "cell_type": "code",
   "execution_count": 273,
   "metadata": {
    "collapsed": false
   },
   "outputs": [
    {
     "data": {
      "text/plain": [
       "u'vegan, bike, things, making, music, really, queer, punk, food, animals, raw, art, world, ve, yoga, cooking, people, tattoos, reading, dancing, laughing, non, don, ll, eat, animal, ride, rock, secret, learning, cat, books, biking, dark, david, dead, nature, seeing, gender, beauty, important, guitar, politics, diet, bikes, climbing, playing, list, open, aren, sex, organic, spend, high, getting, like, probably, hate, better, help, chocolate, planet, work, dog, talking, lot, natural, share, house, white, delicious, words, away, vonnegut, amazing, eating, used, joy, cuddling, horror, love, drinking, create, use, sound, communication, strangers, adventures, metal, stuff, feel, political, http, exploring, com, read, having, health, smiths, various, self, coffee, sunshine, ocean, pretty, ones, issues, store, online, care, earth, cook, performance, human, smith, heart, plan, prefer, long, space, wear, ok, fiction, singing, personal, goes, universe, society, thinking, connecting, process, place, philosophy, bad, guess, adventure, aware, milk, bands, trees, listen, bicycle, absolutely, years, justice, conversations, connection, compassion, social, projects, painting, vegetables, similar, john, sharing, contact, sad, kissing, entire, comic, idea, speaking, run, definitely, sort, meditation, nerd, bell, feeling, gardening, environmental, bit, feet, recently, 100, drunk, hang, amelie, band, environment, harold, let, wave, honest, foods, baking, board, kitchen, spiritual, la, room, healthy, allen, beats, conscious, candy, garden, lifestyle, photos, job, '"
      ]
     },
     "execution_count": 273,
     "metadata": {},
     "output_type": "execute_result"
    }
   ],
   "source": [
    "diet_dic['vegan']"
   ]
  },
  {
   "cell_type": "code",
   "execution_count": 274,
   "metadata": {
    "collapsed": false
   },
   "outputs": [
    {
     "data": {
      "text/plain": [
       "u'looking, want, day, shit, woman, bus, ladies, chat, attracted, children, math, pass, ya, reason, series, watch, large, isn, twilight, tend, outgoing, man, look, 1984, graduated, big, weird, honestly, physics, great, soft, god, chinese, college, career, stupid, hi, news, fear, movies, dining, alive, sexy, fly, just, got, hair, indie, starting, handle, boy, promise, conversation, song, pets, didn, classical, minded, local, bang, book, come, sense, straight, probably, built, wine, teaching, fav, sports, cool, cats, say, tell, yeah, huge, married, archer, international, lebowski, 2012, hunting, jump, explore, dive, random, interests, pet, oakland, somewhat, especially, younger, bored, james, ideal, chicago, year, head, service, parents, saturday, fan, currently, dont, women, humor, classes, holy, father, martin, jay, good, technology, engineer, boys, new, theory, miss, ambitious, hopefully, line, notebook, entertaining, reader, self, family, clothing, double, fact, dream, network, friday, everyday, theatre, lover, quality, meaning, female, die, dates, coming, lie, try, friendly, subject, stranger, knowledge, muse, vegas, spending, update, early, figure, basically, admit, stand, party, questions, enthusiasm, answer, dan, gentleman, native, comes, opportunities, send, concert, mouse, exercise, step, opera, experiences, past, listener, stop, oh, plus, foreign, curb, tv, stuff, setting, hangover, staying, catch, uc, obvious, funny, doing, ridiculous, usual, swim, age, designing, jobs, 50, bed, night, way, lol, '"
      ]
     },
     "execution_count": 274,
     "metadata": {},
     "output_type": "execute_result"
    }
   ],
   "source": [
    "diet_dic['kosher']"
   ]
  },
  {
   "cell_type": "code",
   "execution_count": 275,
   "metadata": {
    "collapsed": false
   },
   "outputs": [
    {
     "data": {
      "text/plain": [
       "u'im, lol, know, wanna, person, motorcycle, english, site, hit, talk, francisco, kinda, wit, awesome, power, eastern, skin, basketball, cultures, thanks, san, sitting, thats, inside, study, dont, waste, simple, freedom, twin, dad, couple, paint, chicken, dr, riding, test, middle, hanging, respect, sure, perfect, hip, culture, language, christmas, does, bottle, religion, confident, spirit, hop, told, british, fashion, keeping, unless, school, moon, code, cinema, reggae, educated, rap, nice, gives, personality, guy, women, future, short, thank, asian, write, let, unique, times, state, worry, student, money, university, shy, collection, steak, pizza, forever, wars, liberal, message, dreams, loving, stay, marley, mix, boring, charming, ya, action, smile, mr, kid, king, jones, hotel, drama, rice, death, horrible, single, stuck, enjoyed, improve, greek, classics, attention, true, helping, beat, restaurant, send, typically, free, seeking, poetry, sister, eyes, chuck, order, engaging, forms, filling, question, express, internet, explain, chick, moment, adore, questions, terms, player, voice, warm, eating, fucking, mouth, wondering, today, successful, remember, asked, woods, box, adventurous, lets, post, total, cut, exciting, ready, soul, affectionate, hard, supposed, brother, direction, proud, solid, kick, hole, law, smell, latin, bbq, jeans, joe, friend, sleeping, ski, term, harry, enjoys, sun, design, entertainment, folks, addicted, fitness, child, simply, pool, wanted, problem, black, relaxing, meet, comedies, car, community, '"
      ]
     },
     "execution_count": 275,
     "metadata": {},
     "output_type": "execute_result"
    }
   ],
   "source": [
    "diet_dic['halal']"
   ]
  },
  {
   "cell_type": "code",
   "execution_count": 248,
   "metadata": {
    "collapsed": false
   },
   "outputs": [],
   "source": [
    "# compare labels w/ encoders vs. labels with dummies for overall correlations\n",
    "# write script to save dicts to text file"
   ]
  },
  {
   "cell_type": "markdown",
   "metadata": {},
   "source": [
    "List top 200 lists here:\n",
    "\n"
   ]
  },
  {
   "cell_type": "markdown",
   "metadata": {},
   "source": []
  }
 ],
 "metadata": {
  "kernelspec": {
   "display_name": "Python 2",
   "language": "python",
   "name": "python2"
  },
  "language_info": {
   "codemirror_mode": {
    "name": "ipython",
    "version": 2
   },
   "file_extension": ".py",
   "mimetype": "text/x-python",
   "name": "python",
   "nbconvert_exporter": "python",
   "pygments_lexer": "ipython2",
   "version": "2.7.11"
  }
 },
 "nbformat": 4,
 "nbformat_minor": 0
}
