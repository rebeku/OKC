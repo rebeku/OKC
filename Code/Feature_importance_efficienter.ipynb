{
 "cells": [
  {
   "cell_type": "code",
   "execution_count": 1,
   "metadata": {
    "collapsed": true
   },
   "outputs": [],
   "source": [
    "import pandas as pd\n",
    "import numpy as np\n",
    "from time import time"
   ]
  },
  {
   "cell_type": "code",
   "execution_count": 2,
   "metadata": {
    "collapsed": false
   },
   "outputs": [],
   "source": [
    "okc = pd.read_csv('../Assets/A/one_long_essay.csv', index_col='Unnamed: 0')"
   ]
  },
  {
   "cell_type": "code",
   "execution_count": 3,
   "metadata": {
    "collapsed": false
   },
   "outputs": [],
   "source": [
    "def denull(essay):\n",
    "    if type(essay) == float:\n",
    "        return ''\n",
    "    else: return essay\n",
    "    \n",
    "okc.essays = okc.essays.apply(denull)"
   ]
  },
  {
   "cell_type": "code",
   "execution_count": 4,
   "metadata": {
    "collapsed": true
   },
   "outputs": [],
   "source": [
    "from sklearn.feature_extraction.text import TfidfVectorizer"
   ]
  },
  {
   "cell_type": "code",
   "execution_count": 5,
   "metadata": {
    "collapsed": false
   },
   "outputs": [
    {
     "name": "stdout",
     "output_type": "stream",
     "text": [
      "vectorized essays in 16.1264 seconds\n"
     ]
    }
   ],
   "source": [
    "t0 = time()\n",
    "vec = TfidfVectorizer(encoding='utf-8', stop_words='english', max_features=2000)\n",
    "tf = vec.fit_transform(okc.essays)\n",
    "print \"vectorized essays in %g seconds\" %(time()-t0)"
   ]
  },
  {
   "cell_type": "code",
   "execution_count": 6,
   "metadata": {
    "collapsed": false
   },
   "outputs": [],
   "source": [
    "tf = pd.DataFrame(tf.toarray(), columns=vec.get_feature_names())"
   ]
  },
  {
   "cell_type": "code",
   "execution_count": 7,
   "metadata": {
    "collapsed": false
   },
   "outputs": [],
   "source": [
    "# Save any features we might want to filter by to tf dataframe\n",
    "features = ['age', 'body_type', 'diet', 'drinks', 'drugs', 'education', 'ethnicity', \n",
    "           'height', 'income', 'job', 'offspring', 'orientation', 'pets', 'religion', \n",
    "            'sex', 'sign', 'smokes', 'speaks']"
   ]
  },
  {
   "cell_type": "code",
   "execution_count": 8,
   "metadata": {
    "collapsed": false
   },
   "outputs": [],
   "source": [
    "for feature in features:\n",
    "    tf['X%s' %feature] = okc[feature]"
   ]
  },
  {
   "cell_type": "code",
   "execution_count": 9,
   "metadata": {
    "collapsed": true
   },
   "outputs": [],
   "source": [
    "# Handle some common conjunctions which get separated from words\n",
    "# leading to features like 'don' and 'll\n",
    "\n",
    "tf = tf.rename(columns = {'don':\"don't\", 'll':\"i'll\", 've':\"i've\"})"
   ]
  },
  {
   "cell_type": "code",
   "execution_count": 10,
   "metadata": {
    "collapsed": true
   },
   "outputs": [],
   "source": [
    "# Save average tfidf score for each word overall to compare with the averages for different groups\n",
    "mean_words = tf.iloc[:,:2000].mean(axis=0)"
   ]
  },
  {
   "cell_type": "markdown",
   "metadata": {},
   "source": [
    "### Find top words by tf-idf score"
   ]
  },
  {
   "cell_type": "code",
   "execution_count": 11,
   "metadata": {
    "collapsed": false
   },
   "outputs": [],
   "source": [
    "mean_words.sort_values(inplace=True, ascending=False)"
   ]
  },
  {
   "cell_type": "code",
   "execution_count": 12,
   "metadata": {
    "collapsed": false
   },
   "outputs": [],
   "source": [
    "# add something to this for hue?\n",
    "mean_words[:60].to_csv('../Assets/Scaled/top_words.csv')"
   ]
  },
  {
   "cell_type": "code",
   "execution_count": 13,
   "metadata": {
    "collapsed": true
   },
   "outputs": [],
   "source": [
    "# Save a single string with top words for each category.  This list will be exported to a .txt file at end of script\n",
    "all_lists = ''"
   ]
  },
  {
   "cell_type": "markdown",
   "metadata": {},
   "source": [
    "### Compare word frequency for men vs. women"
   ]
  },
  {
   "cell_type": "code",
   "execution_count": 14,
   "metadata": {
    "collapsed": false
   },
   "outputs": [
    {
     "name": "stdout",
     "output_type": "stream",
     "text": [
      "0.74408698082\n"
     ]
    }
   ],
   "source": [
    "# Compute mean value of each of first 2000 columns for men\n",
    "t0 = time()\n",
    "mdf = tf[tf.Xsex=='m']\n",
    "df = pd.DataFrame(mdf.iloc[:,:2000].mean(axis=0), columns = ['m'])\n",
    "print time()-t0"
   ]
  },
  {
   "cell_type": "code",
   "execution_count": 15,
   "metadata": {
    "collapsed": false
   },
   "outputs": [
    {
     "name": "stdout",
     "output_type": "stream",
     "text": [
      "0.509496927261\n"
     ]
    }
   ],
   "source": [
    "# Compute mean value of each of first 2000 columns for women\n",
    "t0 = time()\n",
    "fdf = tf[tf.Xsex == 'f']\n",
    "df['f'] = fdf.iloc[:,:2000].mean(axis=0)\n",
    "print time()-t0"
   ]
  },
  {
   "cell_type": "code",
   "execution_count": 16,
   "metadata": {
    "collapsed": false
   },
   "outputs": [],
   "source": [
    "df['avg'] = mean_words\n",
    "df['diff'] = (df.m-df.avg)/df.avg"
   ]
  },
  {
   "cell_type": "code",
   "execution_count": 17,
   "metadata": {
    "collapsed": false
   },
   "outputs": [],
   "source": [
    "df.sort_values('diff', inplace=True)"
   ]
  },
  {
   "cell_type": "code",
   "execution_count": 18,
   "metadata": {
    "collapsed": false
   },
   "outputs": [],
   "source": [
    "# Top words for women are bottom words for men\n",
    "# All users must report one of these two genders\n",
    "\n",
    "# Save top 200 words for women and men for report\n",
    "women_list = ''\n",
    "for word in df.index[:200]:\n",
    "    women_list = women_list + word + ', '\n",
    "    \n",
    "men_list = ''\n",
    "# Write men_list in reverse order so most popular words are on top\n",
    "for i in range(-1, -200, -1):\n",
    "    men_list = men_list + df.index[i] + ', '\n",
    "    \n",
    "all_lists = 'Women \\n \\n' + women_list + '\\n\\n Men \\n\\n' + men_list"
   ]
  },
  {
   "cell_type": "code",
   "execution_count": 19,
   "metadata": {
    "collapsed": false
   },
   "outputs": [],
   "source": [
    "# Save top 30 from each cat\n",
    "# women\n",
    "df.sort_values('diff', inplace=True)\n",
    "f = pd.DataFrame(df.head(30)['f'])\n",
    "f.columns = ['tfidf']\n",
    "f['label'] = 'female'\n",
    "\n",
    "# men\n",
    "df.sort_values('diff', inplace=True, ascending=False)\n",
    "m = pd.DataFrame(df.head(30)['m'])\n",
    "m.columns = ['tfidf']\n",
    "m['label'] = 'male'\n",
    "\n",
    "\n",
    "df_sex = pd.concat([m, f], axis=0)\n",
    "\n",
    "df_sex.to_csv('../Assets/Scaled/df_sex.csv')"
   ]
  },
  {
   "cell_type": "markdown",
   "metadata": {},
   "source": [
    "### Compare word frequency for social drinkers vs. heavy drinkers vs. non drinkers"
   ]
  },
  {
   "cell_type": "code",
   "execution_count": 20,
   "metadata": {
    "collapsed": false
   },
   "outputs": [
    {
     "name": "stdout",
     "output_type": "stream",
     "text": [
      "1.06595015526\n"
     ]
    }
   ],
   "source": [
    "# Compare word frequency for social drinkers vs. heavy drinkers vs. non drinkers\n",
    "\n",
    "# Compute mean value of each of first 2000 columns for social drinks\n",
    "t0 = time()\n",
    "ddf = tf[tf.Xdrinks=='socially']\n",
    "df = pd.DataFrame(ddf.iloc[:,:2000].mean(axis=0), columns = ['social'])\n",
    "print time()-t0"
   ]
  },
  {
   "cell_type": "code",
   "execution_count": 21,
   "metadata": {
    "collapsed": false
   },
   "outputs": [
    {
     "name": "stdout",
     "output_type": "stream",
     "text": [
      "0.324437856674\n"
     ]
    }
   ],
   "source": [
    "# Compute mean value of each of first 2000 columns for non-drinkers\n",
    "t0 = time()\n",
    "ddf = tf.query(\"Xdrinks == 'rarely'|Xdrinks == 'not at all'\")\n",
    "df['non-drinker'] = ddf.iloc[:,:2000].mean(axis=0)\n",
    "print time()-t0"
   ]
  },
  {
   "cell_type": "code",
   "execution_count": 22,
   "metadata": {
    "collapsed": false
   },
   "outputs": [
    {
     "name": "stdout",
     "output_type": "stream",
     "text": [
      "0.191416978836\n"
     ]
    }
   ],
   "source": [
    "# Compute mean value of each of first 2000 columns for heavy drinkers\n",
    "t0 = time()\n",
    "ddf = tf.query(\"Xdrinks == 'often'|Xdrinks == 'very often'|Xdrinks == 'desperately'\")\n",
    "df['heavy'] = ddf.iloc[:,:2000].mean(axis=0)\n",
    "print time()-t0"
   ]
  },
  {
   "cell_type": "code",
   "execution_count": 23,
   "metadata": {
    "collapsed": false
   },
   "outputs": [],
   "source": [
    "df['avg'] = mean_words\n",
    "# Compute differences between social drinkers' values and other categories\n",
    "df['nd_diff'] = (df['non-drinker'] - df['avg'])/df.avg\n",
    "df['h_diff'] = (df['heavy'] - df['avg'])/df.avg\n",
    "df['s_diff'] = (df['social'] - df['avg'])/df.avg"
   ]
  },
  {
   "cell_type": "code",
   "execution_count": 24,
   "metadata": {
    "collapsed": true
   },
   "outputs": [],
   "source": [
    "# Save top 200 words for heavy, social, and non-drinkers for report\n",
    "# heavy drinkers:\n",
    "df.sort_values('h_diff', ascending=False, inplace=True)\n",
    "\n",
    "heavy_list = ''\n",
    "for word in df.index[:200]:\n",
    "    heavy_list = heavy_list + word + ', '\n",
    "\n",
    "# social drinkers:\n",
    "df.sort_values('s_diff', ascending=False, inplace=True)\n",
    "\n",
    "social_list = ''\n",
    "for word in df.index[:200]:\n",
    "    social_list = social_list + word + ', '\n",
    "    \n",
    "# non-drinkers:\n",
    "df.sort_values('nd_diff', ascending=False, inplace=True)\n",
    "\n",
    "non_list = ''\n",
    "for word in df.index[:200]:\n",
    "    non_list = non_list + word + ', '\n",
    "    \n",
    "all_lists = all_lists +  '\\n\\nDrink heavily \\n \\n' +  heavy_list + '\\n\\nDrink socially \\n\\n' + social_list + '\\n\\nDo not drink regularly \\n\\n'+ non_list"
   ]
  },
  {
   "cell_type": "code",
   "execution_count": 25,
   "metadata": {
    "collapsed": false
   },
   "outputs": [],
   "source": [
    "# Save top 18 from each cat\n",
    "# non-drinkers first\n",
    "df.sort_values('nd_diff', inplace=True, ascending=False)\n",
    "nd = pd.DataFrame(df.head(18)['non-drinker'])\n",
    "nd.columns = ['tfidf']\n",
    "nd['label'] = 'non-drinker'\n",
    "\n",
    "# social drinkers\n",
    "df.sort_values('s_diff', inplace=True, ascending=False)\n",
    "sd = pd.DataFrame(df.head(18)['social'])\n",
    "sd.columns = ['tfidf']\n",
    "sd['label'] = 'social'\n",
    "\n",
    "# heavy drinkers\n",
    "df.sort_values('h_diff', inplace=True, ascending=False)\n",
    "hd = pd.DataFrame(df.head(18)['heavy'])\n",
    "hd.columns = ['tfidf']\n",
    "hd['label'] = 'heavy'\n",
    "\n",
    "df_drinks = pd.concat([nd, sd, hd], axis=0)\n",
    "\n",
    "df_drinks.to_csv('../Assets/Scaled/df_drinks.csv')"
   ]
  },
  {
   "cell_type": "markdown",
   "metadata": {},
   "source": [
    "### Explore word choice by age"
   ]
  },
  {
   "cell_type": "code",
   "execution_count": 26,
   "metadata": {
    "collapsed": false
   },
   "outputs": [],
   "source": [
    "from matplotlib import pyplot as plt\n",
    "%matplotlib inline"
   ]
  },
  {
   "cell_type": "code",
   "execution_count": 27,
   "metadata": {
    "collapsed": false
   },
   "outputs": [
    {
     "data": {
      "text/plain": [
       "<function matplotlib.pyplot.show>"
      ]
     },
     "execution_count": 27,
     "metadata": {},
     "output_type": "execute_result"
    },
    {
     "data": {
      "image/png": "[encoded data removed]",
      "text/plain": [
       "<matplotlib.figure.Figure at 0x11a880710>"
      ]
     },
     "metadata": {},
     "output_type": "display_data"
    }
   ],
   "source": [
    "plt.hist(okc.age, 50, normed=1, facecolor='green', alpha=0.75)\n",
    "plt.axis([15, 80, 0, .1])\n",
    "plt.show"
   ]
  },
  {
   "cell_type": "code",
   "execution_count": 28,
   "metadata": {
    "collapsed": true
   },
   "outputs": [],
   "source": [
    "# Compare under 30 to over 30\n",
    "\n",
    "def age_encoder(age):\n",
    "    if age ==0:\n",
    "        return np.nan\n",
    "    elif age < 30:\n",
    "        return 0\n",
    "    else:\n",
    "        return 1\n",
    "    \n",
    "tf.Xage = tf.Xage.apply(age_encoder)"
   ]
  },
  {
   "cell_type": "code",
   "execution_count": 29,
   "metadata": {
    "collapsed": false
   },
   "outputs": [
    {
     "name": "stdout",
     "output_type": "stream",
     "text": [
      "0.786000967026\n",
      "1.58615088463\n"
     ]
    }
   ],
   "source": [
    "# Compare word frequency for under 30 vs. over 30\n",
    "\n",
    "# Compute mean value of each of first 2000 columns for over 30\n",
    "t0 = time()\n",
    "odf = tf[tf.Xage==1]\n",
    "df = pd.DataFrame(odf.iloc[:,:2000].mean(axis=0), columns = ['>30'])\n",
    "print time()-t0\n",
    "\n",
    "# Compute mean value of each of first 2000 columns for under 30\n",
    "ydf = tf[tf.Xage == 0]\n",
    "df['<30'] = ydf.iloc[:,:2000].mean(axis=0)\n",
    "print time()-t0\n"
   ]
  },
  {
   "cell_type": "code",
   "execution_count": 30,
   "metadata": {
    "collapsed": false
   },
   "outputs": [],
   "source": [
    "df['avg'] = mean_words\n",
    "df['older_diff'] = (df['>30']-df.avg)/df.avg\n",
    "df['younger_diff'] = (df['<30']-df.avg)/df.avg"
   ]
  },
  {
   "cell_type": "code",
   "execution_count": 31,
   "metadata": {
    "collapsed": false
   },
   "outputs": [],
   "source": [
    "# Save top 200 words for people under and over 30\n",
    "# older people:\n",
    "df.sort_values('older_diff', ascending=False, inplace=True)\n",
    "\n",
    "older_list = ''\n",
    "for word in df.index[:200]:\n",
    "    older_list = older_list + word + ', '\n",
    "\n",
    "# save top 30 words with tfidf scores to df\n",
    "o = pd.DataFrame(df.head(30)['>30'])\n",
    "o.columns = ['tfidf']\n",
    "o['label'] = '>30'\n",
    "\n",
    "# younger people\n",
    "\n",
    "df.sort_values('younger_diff', ascending=False, inplace=True)\n",
    "\n",
    "younger_list = ''\n",
    "for word in df.index[:200]:\n",
    "    younger_list = younger_list + word + ', '\n",
    "\n",
    "y = pd.DataFrame(df.head(30)['<30'])\n",
    "y.columns = ['tfidf']\n",
    "y['label'] = '<30'    \n",
    "\n",
    "    \n",
    "all_lists = all_lists + '\\n\\nOver 30 \\n \\n' + older_list + '\\n\\nUnder 30 \\n\\n' + younger_list\n",
    "\n",
    "\n",
    "df_age = pd.concat([y, o], axis=0)\n",
    "\n",
    "df_age.to_csv('../Assets/Scaled/df_age.csv')"
   ]
  },
  {
   "cell_type": "markdown",
   "metadata": {},
   "source": [
    "### Compare drug users and non-users\n",
    "exclude those who don't report"
   ]
  },
  {
   "cell_type": "code",
   "execution_count": 32,
   "metadata": {
    "collapsed": true
   },
   "outputs": [],
   "source": [
    "def drug_encoder(drugs):\n",
    "    if drugs == 'never':\n",
    "        return 0\n",
    "    elif drugs == 'sometimes' or drugs == 'often':\n",
    "        return 1\n",
    "    else:\n",
    "        return np.nan\n",
    "    \n",
    "tf.Xdrugs = tf.Xdrugs.apply(drug_encoder)"
   ]
  },
  {
   "cell_type": "code",
   "execution_count": 33,
   "metadata": {
    "collapsed": false
   },
   "outputs": [
    {
     "name": "stdout",
     "output_type": "stream",
     "text": [
      "1.85290789604\n",
      "2.576597929\n"
     ]
    }
   ],
   "source": [
    "# Compute mean value of each of first 2000 columns for drug users\n",
    "t0 = time()\n",
    "udf = tf[tf.Xdrugs==1]\n",
    "df = pd.DataFrame(udf.iloc[:,:2000].mean(axis=0), columns = ['users'])\n",
    "print time()-t0\n",
    "\n",
    "# Compute mean value of each of first 2000 columns for non-users\n",
    "ndf = tf[tf.Xdrugs == 0]\n",
    "df['non-users'] = ndf.iloc[:,:2000].mean(axis=0)\n",
    "print time()-t0"
   ]
  },
  {
   "cell_type": "code",
   "execution_count": 34,
   "metadata": {
    "collapsed": false
   },
   "outputs": [],
   "source": [
    "df['avg'] = mean_words\n",
    "df['user_diff'] = (df['users']-df.avg)/df['avg']\n",
    "df['non-user_diff'] = (df['non-users']-df.avg)/df['avg']"
   ]
  },
  {
   "cell_type": "code",
   "execution_count": 35,
   "metadata": {
    "collapsed": true
   },
   "outputs": [],
   "source": [
    "df.sort_values('user_diff', ascending=False, inplace=True)"
   ]
  },
  {
   "cell_type": "code",
   "execution_count": 36,
   "metadata": {
    "collapsed": false
   },
   "outputs": [],
   "source": [
    "# Save top 200 words for users and non-users\n",
    "# users:\n",
    "df.sort_values('user_diff', ascending=False, inplace=True)\n",
    "\n",
    "user_list = ''\n",
    "for word in df.index[:200]:\n",
    "    user_list = user_list + word + ', '\n",
    "\n",
    "    \n",
    "u = pd.DataFrame(df.head(30)['users'])\n",
    "u.columns = ['tfidf']\n",
    "u['label'] = 'users'\n",
    "\n",
    "# non-users\n",
    "df.sort_values('non-user_diff', ascending=False, inplace=True)\n",
    "non_user_list = ''\n",
    "# Write older_list in reverse order so most popular words are on top\n",
    "for word in df.index[:200]:\n",
    "    non_user_list = non_user_list+ word +', '\n",
    "    \n",
    "n = pd.DataFrame(df.head(30)['non-users'])\n",
    "n.columns = ['tfidf']\n",
    "n['label'] = 'non-users'\n",
    "    \n",
    "all_lists = all_lists + '\\n\\nUse drugs \\n \\n' + user_list + '\\n\\nDo not use drugs \\n\\n' + non_user_list\n",
    "\n",
    "\n",
    "df_drugs = pd.concat([u, n], axis=0)\n",
    "\n",
    "df_drugs.to_csv('../Assets/Scaled/df_drugs.csv')"
   ]
  },
  {
   "cell_type": "markdown",
   "metadata": {},
   "source": [
    "### Explore Income"
   ]
  },
  {
   "cell_type": "code",
   "execution_count": 37,
   "metadata": {
    "collapsed": false
   },
   "outputs": [
    {
     "data": {
      "text/plain": [
       "<function matplotlib.pyplot.show>"
      ]
     },
     "execution_count": 37,
     "metadata": {},
     "output_type": "execute_result"
    },
    {
     "data": {
      "image/png": "[encoded data removed]",
      "text/plain": [
       "<matplotlib.figure.Figure at 0x11a881ed0>"
      ]
     },
     "metadata": {},
     "output_type": "display_data"
    }
   ],
   "source": [
    "plt.hist(tf.Xincome[tf.Xincome != -1], 50, normed=1, facecolor='green', alpha=0.75)\n",
    "plt.show"
   ]
  },
  {
   "cell_type": "code",
   "execution_count": 38,
   "metadata": {
    "collapsed": false
   },
   "outputs": [],
   "source": [
    "# Divide income income into <50k, 50-100k, >100k\n",
    "\n",
    "def income_encoder(income):\n",
    "    if income == -1:\n",
    "        return -1\n",
    "    elif income <= 50000:\n",
    "        return 0\n",
    "    elif income <= 100000:\n",
    "        return 1\n",
    "    else:\n",
    "        return 2\n",
    "    \n",
    "tf.Xincome = tf.Xincome.apply(income_encoder)"
   ]
  },
  {
   "cell_type": "code",
   "execution_count": 39,
   "metadata": {
    "collapsed": false
   },
   "outputs": [
    {
     "name": "stdout",
     "output_type": "stream",
     "text": [
      "0.149991035461\n",
      "0.111409187317\n",
      "0.0517578125\n"
     ]
    }
   ],
   "source": [
    "# Compare word frequency for different income levels\n",
    "\n",
    "# Compute mean value of each of first 2000 columns for lower income\n",
    "t0 = time()\n",
    "pdf = tf[tf.Xincome==0]\n",
    "df = pd.DataFrame(pdf.iloc[:,:2000].mean(axis=0), columns = ['<50k'])\n",
    "print time()-t0\n",
    "\n",
    "# Compute mean value of each of first 2000 columns for middle income\n",
    "t0 = time()\n",
    "mdf = tf[tf.Xincome==1]\n",
    "df['50-100k'] = mdf.iloc[:,:2000].mean(axis=0)\n",
    "print time()-t0\n",
    "\n",
    "# Compute mean value of each of first 2000 columns for highest income\n",
    "t0 = time()\n",
    "rdf = tf[tf.Xincome==2]\n",
    "df['>100k'] = rdf.iloc[:,:2000].mean(axis=0)\n",
    "print time()-t0\n",
    "\n",
    "\n",
    "# Compute differences between each income category and overall average\n",
    "df['avg'] = mean_words\n",
    "df['r_diff'] = (df['>100k']-df.avg)/df['avg']\n",
    "df['p_diff'] = (df['<50k']-df.avg) /df['avg']\n",
    "df['m_diff'] = (df['50-100k']-df.avg)/df['avg']"
   ]
  },
  {
   "cell_type": "code",
   "execution_count": 40,
   "metadata": {
    "collapsed": false
   },
   "outputs": [],
   "source": [
    "# Save lists for each income bracket\n",
    "\n",
    "df.sort_values('r_diff', ascending=False, inplace=True)\n",
    "\n",
    "upper_list = ''\n",
    "for word in df.index[:200]:\n",
    "    upper_list = upper_list + word + ', '\n",
    "    \n",
    "df2 = pd.DataFrame(df.head(18)['>100k'])\n",
    "df2.columns = ['tfidf']\n",
    "df2['label'] = '> 100k'\n",
    "    \n",
    "df.sort_values('m_diff', ascending=False, inplace=True)\n",
    "\n",
    "mid_list = ''\n",
    "for word in df.index[:200]:\n",
    "    mid_list = mid_list + word + ', '\n",
    "\n",
    "df3 = pd.DataFrame(df.head(18)['50-100k'])\n",
    "df3.columns = ['tfidf']\n",
    "df3['label'] = '50 - 100k'\n",
    "\n",
    "df.sort_values('p_diff', ascending=False, inplace=True)    \n",
    "lower_list = ''\n",
    "for word in df.index[:200]:\n",
    "    lower_list = lower_list + word + ', '\n",
    "    \n",
    "df4 = pd.DataFrame(df.head(18)['<50k'])\n",
    "df4.columns = ['tfidf']\n",
    "df4['label'] = '< 50k'\n",
    "\n",
    "df_income = pd.concat([df2, df3, df4], axis=0)\n",
    "df_income.to_csv('../Assets/Scaled/df_income.csv')\n",
    "\n",
    "all_lists = all_lists + '\\n\\nMake over 100k annually \\n \\n' + upper_list + '\\n\\nMake 50-100k annually\\n\\n' + mid_list+ '\\n\\nMake less than 50k annually\\n\\n'+lower_list"
   ]
  },
  {
   "cell_type": "markdown",
   "metadata": {},
   "source": [
    "### Compare dog and cat people"
   ]
  },
  {
   "cell_type": "code",
   "execution_count": 41,
   "metadata": {
    "collapsed": false
   },
   "outputs": [],
   "source": [
    "# calculate dummy columns for likes dogs and likes cats\n",
    "# will be some overlap since not mutually exclusive\n",
    "\n",
    "def mask_dogs(pets):\n",
    "    # catches 'has dogs' or 'likes dogs'\n",
    "    try:\n",
    "        if pets.find('dogs') > -1:\n",
    "            if pets.find('dislikes dogs') == -1:\n",
    "                return 1\n",
    "        else:\n",
    "            return 0\n",
    "    except:\n",
    "        return 0\n",
    "    \n",
    "def mask_cats(pets):\n",
    "    try:\n",
    "        if pets.find('cats') > -1:\n",
    "            if pets.find('dislikes cats') == -1:\n",
    "                return 1\n",
    "        else:\n",
    "            return 0\n",
    "    except:\n",
    "        return 0\n",
    "\n",
    "tf['Xdogs'] = tf.Xpets.apply(mask_dogs)\n",
    "tf['Xcats'] = tf.Xpets.apply(mask_cats)"
   ]
  },
  {
   "cell_type": "code",
   "execution_count": 42,
   "metadata": {
    "collapsed": false
   },
   "outputs": [
    {
     "name": "stdout",
     "output_type": "stream",
     "text": [
      "2.69917392731\n",
      "3.21575403214\n"
     ]
    }
   ],
   "source": [
    "# find mean scores for dog people\n",
    "\n",
    "t0 = time()\n",
    "ddf = tf[tf.Xdogs==1]\n",
    "df = pd.DataFrame(ddf.iloc[:,:2000].mean(axis=0), columns = ['dogs'])\n",
    "print time()-t0\n",
    "\n",
    "# find mean scores for cat people\n",
    "cdf = tf[tf.Xcats == 1]\n",
    "df['cats'] = cdf.iloc[:,:2000].mean(axis=0)\n",
    "print time()-t0"
   ]
  },
  {
   "cell_type": "code",
   "execution_count": 43,
   "metadata": {
    "collapsed": true
   },
   "outputs": [],
   "source": [
    "df['avg'] = mean_words\n",
    "df['dog_diff'] = (df['dogs']-df.avg)/df.avg\n",
    "df['cat_diff'] = (df['cats']-df.avg)/df.avg"
   ]
  },
  {
   "cell_type": "code",
   "execution_count": 44,
   "metadata": {
    "collapsed": false
   },
   "outputs": [],
   "source": [
    "# Save top 200 words for cats and dogs for report\n",
    "df.sort_values('cat_diff', inplace=True, ascending=False)\n",
    "cat_list = ''\n",
    "for word in df.index[:200]:\n",
    "    cat_list = cat_list + word + ', '\n",
    "    \n",
    "n = pd.DataFrame(df.head(30)['cats'])\n",
    "n.columns = ['tfidf']\n",
    "n['label'] = 'cats'\n",
    "\n",
    "df.sort_values('dog_diff', inplace=True, ascending=False)\n",
    "dog_list = ''\n",
    "# Write dog_list in reverse order so most popular words are on top\n",
    "for word in df.index[:200]:\n",
    "    dog_list = dog_list + word + ', '\n",
    "    \n",
    "m = pd.DataFrame(df.head(30)['dogs'])\n",
    "m.columns = ['tfidf']\n",
    "m['label'] = 'dogs'\n",
    "\n",
    "all_lists = all_lists + '\\n\\nLike cats\\n \\n' + cat_list + '\\n\\nLike dogs \\n\\n' + dog_list\n",
    "\n",
    "df_pets = pd.concat([m, n], axis=0)\n",
    "\n",
    "df_pets.to_csv('../Assets/Scaled/df_pets.csv')"
   ]
  },
  {
   "cell_type": "markdown",
   "metadata": {},
   "source": [
    "### Explore word choice by education\n",
    "\n",
    "college grad? 1 or 0."
   ]
  },
  {
   "cell_type": "code",
   "execution_count": 45,
   "metadata": {
    "collapsed": false
   },
   "outputs": [],
   "source": [
    "def ed_encoder(ed):\n",
    "    # a person is a college grad if they either \"graduated from college/university\"\n",
    "    # or mention law school, med, school, masters program or ph. d program (all instances of the word program are graduate )\n",
    "    try:\n",
    "        if ed == 'graduated from college/university' or ed.find('law') >= 0 or ed.find('med') >= 0 or ed.find('program') >= 0:\n",
    "            return 1\n",
    "        # space camp answers are facetious and must be excluded\n",
    "        # BTW I am in space camp right now\n",
    "        elif ed.find('space camp') >= 0:\n",
    "            return np.nan\n",
    "        else: return 0\n",
    "    except:\n",
    "        return np.nan\n",
    "\n",
    "tf.Xeducation = tf.Xeducation.apply(ed_encoder)"
   ]
  },
  {
   "cell_type": "code",
   "execution_count": 46,
   "metadata": {
    "collapsed": false
   },
   "outputs": [
    {
     "name": "stdout",
     "output_type": "stream",
     "text": [
      "2.36321687698\n",
      "2.94113397598\n"
     ]
    }
   ],
   "source": [
    "# Compare word frequency for college educated vs. not college\n",
    "\n",
    "# Compute mean value of each of first 2000 columns for college grads\n",
    "t0 = time()\n",
    "df2 = tf[tf.Xeducation==1]\n",
    "df = pd.DataFrame(df2.iloc[:,:2000].mean(axis=0), columns = ['grad'])\n",
    "print time()-t0\n",
    "\n",
    "# Compute mean value of each of first 2000 columns for under 30\n",
    "df2 = tf[tf.Xage == 0]\n",
    "df['non-grad'] = df2.iloc[:,:2000].mean(axis=0)\n",
    "print time()-t0\n",
    "\n",
    "df['avg'] = mean_words\n",
    "\n",
    "df['grad_diff'] = (df['grad']-df.avg)/df.avg\n",
    "df['ng_diff'] = (df['non-grad']-df.avg)/df.avg\n",
    "\n",
    "# non grads\n",
    "df.sort_values('ng_diff', inplace=True, ascending=False)\n",
    "non_grad_list = ''\n",
    "for word in df.index[:200]:\n",
    "    non_grad_list = non_grad_list + word + ', '\n",
    "    \n",
    "# save df\n",
    "n = pd.DataFrame(df.head(30)['non-grad'])\n",
    "n.columns = ['tfidf']\n",
    "n['label'] = 'non-grads'\n",
    "\n",
    "# grads\n",
    "grad_list = ''\n",
    "df.sort_values('grad_diff', inplace=True, ascending=False)\n",
    "for word in df.index[:200]:\n",
    "    grad_list = grad_list + word + ', '\n",
    "    \n",
    "g = pd.DataFrame(df.head(30)['grad'])\n",
    "g.columns = ['tfidf']\n",
    "g['label'] = 'grads'\n",
    "    \n",
    "\n",
    "# Save top 200's lists to all_lists\n",
    "all_lists =  all_lists + '\\n\\nGraduated College\\n \\n' + grad_list + '\\n\\nDid Not Graduate College\\n\\n' + non_grad_list\n",
    "\n",
    "\n",
    "df_ed = pd.concat([n, g], axis=0)\n",
    "\n",
    "df_ed.to_csv('../Assets/Scaled/df_ed.csv')\n",
    "\n"
   ]
  },
  {
   "cell_type": "code",
   "execution_count": 47,
   "metadata": {
    "collapsed": false
   },
   "outputs": [
    {
     "name": "stdout",
     "output_type": "stream",
     "text": [
      "Women \n",
      " \n",
      "heels, baking, jane, adore, yummy, adele, bones, holiday, flowers, queer, chick, florence, girl, curly, yoga, grey, chocolate, shopping, amelie, daughter, twilight, sister, pets, pride, hugs, organizing, markets, laughter, animals, recipes, hunger, musicals, brunch, lovely, integrity, dancing, obsessed, gender, laughing, compassionate, sunshine, glee, mumford, glass, cheese, teacher, minds, fashion, garden, wine, students, gardening, loved, volunteering, connecting, independent, sedaris, children, mom, parking, grounded, generous, legs, horses, notebook, quirky, singing, disney, cats, castle, education, scary, museums, hair, passport, cookies, compassion, kindness, iver, loving, silly, committed, dramas, sarah, dog, color, guilty, bell, volunteer, excited, raising, warm, scrabble, handle, bluegrass, affectionate, marathon, dogs, delicious, sisters, edward, dance, cleaning, historical, smile, sweet, ethnic, grown, love, wonderful, profit, bon, mary, yorker, dirty, couch, theatre, salsa, cat, plants, parties, friendships, fresh, absolutely, loud, loyal, dinner, spirit, africa, child, organic, opera, vampire, deeply, ethiopian, lady, respond, tasting, painting, hilarious, kids, medicine, solitude, tea, bright, playful, appreciate, loves, bride, appreciation, smiling, ocean, fruit, studies, grammar, son, vegan, direct, grateful, tattoo, beauty, cultural, sing, dancer, alice, growth, oldies, cheesy, potter, spiritual, classes, caring, values, romance, faith, laugh, shoes, happy, practice, beautiful, hearted, harry, dress, female, vegetables, hike, includes, spending, health, swimming, italy, vacation, christmas, affection, adventures, hikes, abroad, vegetarian, emotionally, energetic, \n",
      "\n",
      " Men \n",
      "\n",
      "computers, beard, software, engineer, programming, engineering, fixing, startup, guy, cars, archer, drums, gear, guitar, dude, martial, musician, blade, knight, matrix, motorcycle, video, web, golf, technology, daft, basketball, dj, dick, futurama, bass, ladies, physics, simpsons, fishing, bikes, floyd, dubstep, tech, www, snowboarding, problems, computer, electric, batman, built, ill, hunter, father, godfather, electronic, http, curb, somebody, anime, inception, youtube, hockey, flying, pulp, soccer, lebowski, apocalypse, philosophy, sports, code, gay, surfing, com, shooting, bach, william, evil, robert, bbq, wars, guns, cycling, partying, war, solving, building, build, fix, breaking, facebook, thats, japan, 1984, surf, galaxy, ender, comic, dan, zeppelin, dumb, math, tool, fight, financial, hobby, star, track, hit, martin, las, punk, sailing, dad, shape, till, chat, seinfeld, metal, trek, vegas, digital, mountain, wire, shirt, richard, decent, im, gym, shoot, george, 22, coen, sport, laid, holy, science, internet, cool, hero, zombie, thrones, phd, lets, designing, league, money, lord, beers, bored, comics, rings, doors, valley, drunk, geeky, geek, player, davis, vonnegut, stuff, miles, steve, improve, sci, bicycle, chili, climbing, led, fi, brother, hell, guide, record, philadelphia, noticed, smoke, apart, shawshank, success, clubs, example, alot, crash, fly, joe, peppers, male, galactica, looks, average, playing, kanye, company, women, lunch, management, downtown, redemption, naked, south, information, beer, greatest, \n",
      "\n",
      "Drink heavily \n",
      " \n",
      "whiskey, drunk, beer, drinking, fucking, beers, beard, shit, fuck, dude, smoking, records, partying, bars, velvet, knife, bowie, drink, blah, twin, dive, bikes, apocalypse, dick, underground, waits, burritos, tacos, sandwiches, punk, cheap, pants, bar, kurt, las, william, irish, bacon, archer, bass, vonnegut, wine, royal, ass, heads, wearing, smiths, gay, tattoos, zombie, roll, sauce, coen, nick, pixies, hunter, bicycle, lebowski, record, zeppelin, bottle, boys, mouse, drums, hate, suck, party, tim, shirt, karaoke, hell, burning, sex, smith, trouble, bear, drinks, cheese, mission, glasses, wire, jam, rolling, bored, chuck, tom, crap, cats, hall, williams, angry, obsessed, evil, literature, richard, rules, stones, recreation, anderson, musician, vegas, smoke, procrastinating, black, wes, poly, shouldn, pizza, tattoo, metal, mac, ya, cat, damn, shot, orange, eggs, bands, indie, robert, paid, david, loud, rec, ridiculous, girls, murakami, teeth, jokes, meat, smell, entire, leaving, weird, fried, lines, stupid, kick, wear, giant, 13, ghost, wave, modest, hotel, wind, supposed, trivia, dan, pie, floor, terrible, grab, delicious, wanna, throwing, grammar, neil, cash, built, rye, british, clothes, charles, strange, apparently, mr, television, shoot, http, update, 11, period, bike, messages, pair, martin, mark, slightly, dig, post, yeah, dead, hair, arrested, involves, death, handle, cohen, blade, clever, names, specifically, moon, picking, manage, empire, apartment, heels, riding, \n",
      "\n",
      "Drink socially \n",
      "\n",
      "grabbing, drinks, mumford, tahoe, florence, passport, brunch, tasting, coldplay, iver, spots, glass, wine, adele, peppers, ski, skiing, restaurants, chicago, hour, snowboarding, checking, wedding, hangover, chili, spontaneous, bon, vacation, excited, xx, ender, midwest, pandora, italy, catching, abroad, trip, weeds, boston, marathon, inception, philadelphia, adventurous, concerts, exploring, tech, giants, mexico, travelling, asia, outdoor, alchemist, fortunate, sf, backpacking, cab, ambitious, arcade, parking, dexter, rec, travel, jersey, weekend, offer, biking, outgoing, outdoors, hockey, dinner, winter, kanye, active, grab, keys, europe, guilty, heading, depends, weekends, sedaris, startup, city, firm, golf, challenges, confident, driven, sushi, ny, bottle, muse, foodie, equally, hunger, industry, hitting, challenge, laughs, tennis, arrested, summer, explore, sons, overall, office, iphone, modern, sport, adventures, bonus, diving, npr, sales, international, profit, workout, company, optimistic, traveling, grew, weather, trips, manager, redemption, sports, favorites, bbq, sunny, downtown, cultures, experiencing, genuinely, restaurant, moved, lucky, mediterranean, lived, area, sarcastic, soccer, yorker, roots, shawshank, grad, challenging, enjoying, traveled, development, flight, forgetting, architecture, definitely, radiohead, festivals, bay, meal, hiking, running, davis, places, adventure, countries, scrabble, beers, recipes, finished, originally, basketball, saturday, thrones, nyc, italian, parks, recently, new, marketing, kings, mix, runner, france, india, discover, 500, passions, reggae, events, grey, designer, sarah, relaxing, hills, chilling, planning, recreation, engaging, couch, masters, breakfast, met, \n",
      "\n",
      "Do not drink regularly \n",
      "\n",
      "spirituality, spiritual, meditation, anime, drugs, vegan, martial, growth, integrity, deeply, compassionate, committed, emotional, smoke, compassion, truth, communication, kindness, male, raw, massage, understanding, religious, friendship, organic, practice, affection, sensitive, faith, healthy, emotionally, intimacy, connection, female, available, computer, relationship, support, conscious, god, computers, health, diet, present, spirit, values, respectful, feelings, queer, aware, caring, study, chinese, poly, helping, pets, connecting, clean, gender, nature, alot, term, respect, daughter, connect, gardening, inner, service, honesty, seeking, partner, silence, mature, quiet, video, meaningful, naturally, groups, woman, trust, children, fantasy, physics, potential, son, body, respond, age, path, clear, affectionate, programming, peace, hearted, trek, ex, swing, shy, intelligence, grateful, plays, classical, vegetarian, listener, relationships, animals, rich, understand, calm, touch, direct, seek, romantic, terms, romance, married, younger, poetry, noticed, playful, express, certain, classes, deep, improve, qualities, subject, special, asian, physical, grounded, self, shelter, musicals, visual, creativity, educated, luck, bowling, studies, treat, problem, joy, drawing, oriented, expression, singer, games, strive, simple, matters, thoughts, walks, contact, desire, responsible, attention, control, disney, create, clothing, speak, imagination, environment, dancer, wonderful, sexual, natural, theater, honest, physically, needs, sci, return, father, interested, journey, edge, geek, yummy, hugs, example, wife, thoughtful, cats, grown, heavy, developing, language, human, teacher, galaxy, material, complex, cuddling, lover, personal, action, longer, value, \n",
      "\n",
      "Over 30 \n",
      " \n",
      "integrity, intimacy, spiritual, daughter, affectionate, playful, raising, grounded, generous, emotionally, partner, committed, spirituality, meditation, compassionate, available, connection, married, son, growth, balanced, connecting, kissing, organic, kindness, gardening, fortunate, woman, values, chemistry, responsible, dining, affection, seeking, compassion, thoughtful, yorker, stable, deeply, sensitive, friendships, healthy, sharing, wonderful, massage, grateful, email, friendship, share, communication, loyal, warm, cohen, traveled, hearted, educated, grown, marin, evening, relationship, drawn, seek, aware, museums, honesty, balance, spirit, cultural, wave, fit, challenging, younger, lover, possibilities, independent, scuba, 15, emotional, foreign, regularly, folks, direct, special, religious, meaningful, curiosity, opera, appreciation, yoga, curious, connect, attracted, kids, theater, 80, africa, italy, vacation, touch, inner, relationships, liberal, physically, children, desire, passport, ski, patient, neighborhood, practice, burning, single, father, caring, markets, sailing, 70, inspired, npr, dinner, term, exercise, hmmm, match, magazines, successful, connections, creativity, strong, ethnic, qualities, eclectic, diverse, intelligent, blade, market, salsa, tasting, smart, latest, edge, creative, path, joy, poly, comfortable, nature, complex, equally, health, professionally, jazz, confident, 80s, quality, blues, visiting, latin, enjoys, missing, perspective, ok, bach, ready, respect, ny, challenges, listener, present, hike, plays, variety, lifestyle, including, wine, brazil, shape, walks, lives, adore, developing, fully, performance, sunset, appreciate, truly, interests, tahoe, conscious, range, intelligence, experiencing, important, calm, support, value, sexy, mode, yummy, athletic, \n",
      "\n",
      "Under 30 \n",
      "\n",
      "graduated, haha, uc, student, partying, disney, ender, rec, archer, knight, im, kanye, dubstep, potter, futurama, 1984, daft, ill, awkward, fucking, studying, graduate, university, college, fuck, inception, lil, harry, recreation, bang, anime, arrested, wanna, degree, catcher, philadelphia, video, engineering, basketball, grad, burritos, school, parks, lol, drunk, chill, batman, studies, phd, masters, chili, rye, shit, thats, firefly, major, doctor, mumford, startup, sandwiches, peppers, comics, dont, dexter, nerd, mars, berkeley, smoking, theory, 22, 500, florence, thrones, simpsons, hey, cal, zombie, picky, 90s, girls, study, development, drawing, glee, sunny, nerdy, dude, terrible, message, finishing, orange, galactica, gaga, future, blind, currently, drinking, whiskey, awesome, games, grammar, beard, law, google, attending, mouse, phone, battlestar, league, dumb, bones, smoke, random, met, downtown, tattoos, mac, fight, math, jay, lie, 24, twilight, gender, weeds, seinfeld, brave, foster, office, vampire, iver, horrible, notebook, gonna, basically, galaxy, messages, soccer, programming, forgetting, shows, curb, graphic, famous, breaking, baking, jokes, death, moved, honestly, weird, psychology, chuck, youtube, die, keys, park, http, adele, machine, hangover, angry, muse, bear, milk, oldies, rap, mother, forever, hockey, jersey, saving, firm, hit, program, engineer, buddy, hunger, castle, bars, grab, las, queer, hate, modern, ridiculous, computer, beer, scared, game, facts, club, incredibly, beers, comic, tim, horror, xx, naked, coldplay, \n",
      "\n",
      "Use drugs \n",
      " \n",
      "fuck, fucking, smoking, poly, shit, dubstep, smoke, gender, drunk, queer, bass, burning, sexual, dick, partying, underground, sex, twin, velvet, las, whiskey, drums, bowie, dj, kurt, hunter, vonnegut, cheap, beard, apocalypse, waits, pixies, dude, ass, floyd, heads, bikes, records, punk, knife, electronic, drinking, william, religion, fear, mouse, tool, tattoos, richard, tim, neil, daft, weird, coen, angry, comics, naked, zeppelin, rolling, anderson, funk, beats, lips, drugs, lebowski, strange, holy, http, 1984, orange, pink, cohen, metal, harold, comic, universe, burritos, damn, wes, party, magic, vegan, blah, wearing, moon, dylan, radiohead, www, wanna, plants, bicycle, waking, physics, trees, zombie, vegetables, bob, woods, smiths, vegas, tacos, massive, beer, smith, com, archer, land, robert, expression, spotless, tom, ya, eternal, nick, cat, sandwiches, paint, musician, edward, procrastinating, dirty, lil, obsessed, led, death, dr, parties, electric, bear, modest, guitar, futurama, roll, gonna, oakland, bus, clothing, milk, attack, drawing, pulp, hell, massage, david, foster, dig, clothes, acting, chill, human, chuck, record, mouth, dead, evil, ill, bored, crap, folk, space, boys, marley, royal, massages, beers, meat, thats, mac, suck, george, society, paid, cause, le, giant, girls, programming, forever, philosophy, hair, folks, machine, sauce, performing, messages, bird, awkward, al, brothers, graphic, black, pie, raw, charles, fantastic, tattoo, kick, murakami, wild, hotel, \n",
      "\n",
      "Do not use drugs \n",
      "\n",
      "caring, values, faith, educated, workout, oriented, gym, cell, respectful, daughter, tennis, ambitious, stable, fitness, lol, chinese, affectionate, loyal, dining, enjoys, listener, athletic, son, goals, fullest, fortunate, basketball, sports, special, romantic, italy, cultures, golf, musicals, mature, relaxing, treat, salsa, phone, restaurants, action, financial, shopping, asian, family, italian, simple, bowling, museums, volunteering, drama, football, coldplay, korean, career, smile, tasting, woman, activities, relax, friendship, volunteer, optimistic, iphone, challenges, helping, gentleman, glee, motivated, anime, driven, cuisine, energetic, opera, improve, healthy, responsible, outgoing, active, forward, university, giants, pride, qualities, relationship, outdoor, loves, vacation, marathon, share, car, personality, haha, attending, baseball, exercise, hawaii, dinner, kids, easy, person, masters, interests, castle, health, single, genuine, compassionate, hoping, laptop, guy, notebook, shy, term, successful, marin, generous, enjoy, shape, overall, honest, classical, dramas, sport, patient, pets, twilight, pasta, soccer, visiting, hobbies, wedding, field, integrity, disney, attitude, wonderful, hearted, bang, emotionally, visit, comedies, oldies, spending, latin, willing, movie, confident, similar, hmmm, recipes, positive, hello, hi, meaningful, sales, medical, warm, ethnic, potter, quiet, nice, catching, travel, cup, outdoors, romance, hmm, chick, physically, alot, chemistry, ca, offer, ready, hope, thoughtful, private, hangover, grown, international, pursuing, friendly, hunting, looking, respect, partner, kindness, honesty, hanging, computer, japanese, competitive, harry, ipod, hockey, grey, send, hiking, guys, \n",
      "\n",
      "Make over 100k annually \n",
      " \n",
      "successful, ski, financial, father, lessons, suck, steve, educated, drums, attractive, fortunate, golf, shirt, fucking, valley, kiss, workout, software, skiing, sailing, match, stable, smell, yo, cheap, intellectual, professionally, wit, ex, shit, travelling, okcupid, lack, techno, fat, facebook, genius, ill, physics, religious, galaxy, blah, success, generous, shape, london, focused, saw, changed, sexy, confident, answers, wow, smoking, photo, studio, athletic, flying, dick, google, swim, giant, happened, clever, clothes, traveled, deep, edge, lose, normal, smoke, money, women, intelligent, dining, www, lead, burning, discovery, surf, professional, effort, looks, com, painting, peace, tahoe, greek, passions, tired, sex, stupid, partying, wrote, liked, godfather, plenty, pet, scuba, william, hobby, mature, countries, date, inside, ground, woman, playful, ended, fine, level, rich, accent, piece, 20, startup, bach, stop, drop, moon, paint, moves, youtube, jeans, explain, smart, treat, boston, nyc, fuck, despite, lunch, ass, freedom, cycling, universe, strive, competitive, enthusiasm, 15, socially, flight, bought, meaning, 10, pair, sales, kissing, solving, wall, return, batman, post, asia, surfing, chemistry, gift, lil, happiness, bear, track, ladies, entertaining, seven, confidence, extra, kidding, certainly, oriented, http, sandwiches, hunter, basis, medical, emotionally, proud, ok, information, purpose, page, unique, dj, supposed, gentleman, attracted, engineering, dont, add, names, website, raising, business, partner, update, charming, lists, available, stranger, coen, number, \n",
      "\n",
      "Make 50-100k annually\n",
      "\n",
      "software, engineer, programming, startup, stable, bought, daughter, sales, financial, developing, manager, web, computers, golf, scuba, enjoys, successful, management, son, success, educated, code, tasting, email, traveled, father, crowd, africa, cuisine, professional, snowboarding, 15, steak, workout, fitness, hobby, dining, solving, ambitious, marin, raising, shooting, technology, shape, sunday, growth, motivated, woman, attitude, career, emotionally, driven, spirituality, oriented, responsible, shoot, affectionate, sailing, track, ski, special, tech, geek, business, rich, building, attractive, spare, tons, fixing, kissing, intelligence, build, motorcycle, women, avid, married, cross, excellent, athletic, clubs, tennis, gym, poly, available, partner, date, balanced, committed, opportunity, north, cycling, religious, latest, diving, values, forward, incredible, support, fit, wanting, weekends, hawaii, kids, intimacy, geeky, swing, missing, helps, website, profiles, paid, saturday, mountain, term, wanted, engineering, london, tahoe, ton, drama, started, physically, unique, male, usual, intelligent, problems, company, casual, relationship, firm, designer, blade, smart, 12, bbq, taught, musician, likes, weekend, attracted, matrix, focused, potential, create, challenges, emotional, mexico, complex, skiing, crime, suspects, iphone, adult, 20, confident, interests, exercise, witty, challenging, groups, share, job, level, event, search, team, ended, race, relax, designing, fix, helping, guy, roll, football, giant, circle, tired, independent, trip, museums, control, biking, entertainment, wants, journey, dive, confidence, industry, worked, pets, spiritual, hangover, fortunate, latin, appreciation, honesty, age, \n",
      "\n",
      "Make less than 50k annually\n",
      "\n",
      "im, fuck, ill, alot, lol, thats, dont, fucking, anime, dubstep, video, smoke, wanna, comics, money, tattoos, drawing, store, queer, metal, stephen, dork, comic, sexual, cell, paint, degree, male, drunk, student, shit, ladies, haha, punk, lets, martial, performing, dick, chuck, gender, bass, horror, lil, smoking, musician, cause, kinda, sex, gonna, chill, irish, bowling, facebook, partying, clothes, futurama, ca, poetry, zombie, cars, hello, evil, teacher, clothing, pool, oakland, fantasy, marley, acting, disney, drums, bones, painting, shy, vegan, ass, tool, girls, ghost, batman, phone, drugs, 13, simpsons, cleaning, dude, studies, queen, attending, son, apocalypse, 1984, naked, strange, hit, studying, bored, poly, artist, rap, dr, underground, land, philosophy, graphic, lips, pay, angry, wars, god, study, war, cuddling, hang, lord, vampire, king, games, bikes, jobs, school, records, somebody, women, alice, damn, scott, stupid, trek, buy, looks, message, fat, dead, female, college, fishing, car, 24, brave, chat, hell, bell, future, twilight, series, kurt, writer, magic, ask, electric, orange, service, major, mouse, scary, cute, procrastinating, vonnegut, possibly, hunter, text, guitar, manager, george, artistic, shooting, death, draw, bob, someday, laptop, mainly, state, galaxy, star, mars, candy, phd, writing, blah, cat, waits, comedy, program, tattoo, personality, talk, religion, velvet, lie, action, shoot, berkeley, certain, pasta, weird, milk, unless, williams, \n",
      "\n",
      "Like cats\n",
      " \n",
      "cats, pets, cat, animals, poly, fantasy, firefly, futurama, comics, anime, gender, galactica, battlestar, galaxy, ghost, sci, fi, zombie, labyrinth, vegan, queer, queen, bowie, angry, holy, trek, apocalypse, strange, alice, neil, metal, geeky, geek, fucking, burning, stephen, video, pixies, crap, animal, pet, vegetarian, programming, plants, williams, muse, evil, bones, blade, fuck, cure, bluegrass, religion, comic, simpsons, tool, rings, excellent, cuddling, punk, sexual, mouse, cohen, bride, princess, universe, doctor, george, scott, mode, horrible, dick, artistic, spotless, adams, waits, star, bass, johnny, clothing, visual, feelings, tattoos, magic, update, adore, kurt, pink, spiritual, drawing, vs, coen, smiths, dr, pan, floyd, vampire, written, guide, heads, richard, lord, odd, lebowski, massive, musician, fascinating, folk, martin, nerdy, respond, computers, hell, musical, forms, dead, trees, ender, le, expression, authors, draw, attack, space, guns, planet, dork, fantastic, exactly, aware, flowers, cash, gardening, moon, imagination, wars, horror, eternal, okay, electric, william, smith, organic, raw, las, woods, machine, certain, available, actual, vegetables, theatre, writer, emotional, acting, discovery, pie, dubstep, longer, jane, tim, complete, peter, iron, fear, holiday, disney, series, okc, crowd, cake, swing, bands, affection, milk, literature, records, sarah, lovely, velvet, massage, holding, service, meat, silence, frank, fixing, weird, fix, kissing, christmas, deeply, multiple, includes, science, castle, robert, various, yeah, library, \n",
      "\n",
      "Like dogs \n",
      "\n",
      "dog, dogs, pets, animals, zombie, pet, bones, bluegrass, cash, sarah, apocalypse, wedding, stephen, horses, johnny, lebowski, poly, woods, includes, peppers, bride, marley, plants, queen, dork, flicks, biggest, animal, dirty, trivia, princess, cuddling, futurama, dexter, coen, devil, muse, firefly, weeds, carry, mumford, fix, mouth, diving, fishing, camping, beard, aren, bowie, fish, marathon, tattoos, pixies, adams, rings, training, golden, metal, florence, heads, evil, jane, christmas, dead, picky, dig, channel, trek, neil, cats, cat, throw, update, fantastic, adele, dislike, iron, discovery, horror, involves, someday, castle, chuck, spotless, scuba, burning, angry, trees, ski, comedies, dumb, heels, archer, massages, chili, gardening, lovely, crash, chick, van, crowd, bear, blood, kill, horrible, wars, cake, bob, sedaris, simpsons, train, sad, sons, series, star, disney, batman, ton, total, grey, amelie, dave, classics, lord, quickly, season, hands, volunteer, floor, acting, super, trilogy, escape, bbq, shoot, zeppelin, baking, okay, eternal, jeans, necessarily, buddy, genres, vs, falling, ass, keys, rain, forgetting, iver, ghost, entire, hunger, brothers, hikes, couch, scott, pie, guns, exactly, dive, edward, minds, soup, blah, sit, swim, nerdy, excellent, ride, daft, piece, tree, weeks, fact, fixing, chef, potter, seven, vampire, mars, wise, las, musicals, sci, fi, kissing, grateful, holding, cab, win, tim, modest, easily, massive, frank, gaga, boys, spot, raising, \n",
      "\n",
      "Graduated College\n",
      " \n",
      "grad, phd, yorker, students, masters, nyc, graduated, skiing, midwest, passport, india, asia, brunch, africa, ny, environmental, startup, educated, ski, npr, research, corporate, recent, studied, tahoe, tennis, restaurants, thoughtful, traveled, abroad, challenging, engaging, countries, teaching, neighborhood, cultural, backpacking, boston, meaningful, engineer, latest, cities, firm, challenges, curiosity, yoga, balanced, catching, software, trip, marathon, york, bluegrass, parking, fascinating, mountains, balance, profit, cycling, connecting, vacation, international, suspects, chicago, grabbing, discovering, italy, europe, went, intellectual, financial, equally, particularly, wire, fortunate, scuba, marketing, curious, solitude, values, ethiopian, ethnic, markets, mediterranean, exercise, pandora, hour, exploring, heading, generous, excited, opportunities, include, access, murakami, finished, hike, weekend, coast, travelling, foreign, paris, scrabble, east, national, dinner, colbert, museums, salsa, trivia, historical, volunteering, visit, travel, grew, wine, bonus, iver, france, value, meal, languages, playful, cultures, professionally, combination, spent, athletic, discovered, urban, north, running, sf, concert, mumford, bach, outside, foodie, hiking, worked, market, mission, development, grounded, lived, brazil, tech, china, developing, evening, teacher, perspective, regularly, west, competitive, checking, mad, sunday, drawn, smart, grade, weekends, biking, valley, activities, inspired, news, recipes, arcade, ambitious, explore, trips, festivals, recently, traveling, generally, deeply, diving, politics, roots, league, meals, appreciation, passions, 80s, mix, opportunity, bon, sharing, activity, quirky, arrested, eclectic, 90s, outdoor, partner, includes, simon, driven, winter, \n",
      "\n",
      "Did Not Graduate College\n",
      "\n",
      "graduated, haha, uc, student, partying, disney, ender, rec, archer, knight, im, kanye, dubstep, potter, futurama, 1984, daft, ill, awkward, fucking, studying, graduate, university, college, fuck, inception, lil, harry, recreation, bang, anime, arrested, wanna, degree, catcher, philadelphia, video, engineering, basketball, grad, burritos, school, parks, lol, drunk, chill, batman, studies, phd, masters, chili, rye, shit, thats, firefly, major, doctor, mumford, startup, sandwiches, peppers, comics, dont, dexter, nerd, mars, berkeley, smoking, theory, 22, 500, florence, thrones, simpsons, hey, cal, zombie, picky, 90s, girls, study, development, drawing, glee, sunny, nerdy, dude, terrible, message, finishing, orange, galactica, gaga, future, blind, currently, drinking, whiskey, awesome, games, grammar, beard, law, google, attending, mouse, phone, battlestar, league, dumb, bones, smoke, random, met, downtown, tattoos, mac, fight, math, jay, lie, 24, twilight, gender, weeds, seinfeld, brave, foster, office, vampire, iver, horrible, notebook, gonna, basically, galaxy, messages, soccer, programming, forgetting, shows, curb, graphic, famous, breaking, baking, jokes, death, moved, honestly, weird, psychology, chuck, youtube, die, keys, park, http, adele, machine, hangover, angry, muse, bear, milk, oldies, rap, mother, forever, hockey, jersey, saving, firm, hit, program, engineer, buddy, hunger, castle, bars, grab, las, queer, hate, modern, ridiculous, computer, beer, scared, game, facts, club, incredibly, beers, comic, tim, horror, xx, naked, coldplay, \n"
     ]
    }
   ],
   "source": [
    "print all_lists"
   ]
  },
  {
   "cell_type": "markdown",
   "metadata": {},
   "source": [
    "### Explore word choice by ethnicity\n",
    "\n",
    "options are: asian, middle eastern, black, native american, indian, pacific islander, hispanic / latin, white"
   ]
  },
  {
   "cell_type": "code",
   "execution_count": 48,
   "metadata": {
    "collapsed": false
   },
   "outputs": [],
   "source": [
    "# It will be more efficient to encode dummies for each ethnic group than to search each entry\n",
    "# People who list multiple ethnicities will count for all ethnicities listed\n",
    "\n",
    "# write encoder for each ethnicity\n",
    "\n",
    "groups = ['asian', 'middle eastern', 'black', 'native american', 'indian', 'pacific islander', 'hispanic / latin', 'white']\n",
    "\n",
    "for ethnicity in groups:\n",
    "    def ethnicity_encoder(eth):\n",
    "        global ethnicity\n",
    "        try:\n",
    "            if eth.find(ethnicity) >= 0:\n",
    "                return 1\n",
    "            else: return 0\n",
    "        except:\n",
    "            return 0\n",
    "        \n",
    "    tf['X%s' %ethnicity] = tf.Xethnicity.apply(ethnicity_encoder)"
   ]
  },
  {
   "cell_type": "code",
   "execution_count": 49,
   "metadata": {
    "collapsed": false,
    "scrolled": true
   },
   "outputs": [
    {
     "name": "stdout",
     "output_type": "stream",
     "text": [
      "0.230666160583\n",
      "0.0372850894928\n",
      "0.104553937912\n",
      "0.0450990200043\n",
      "0.054356098175\n",
      "0.0605130195618\n",
      "0.164566040039\n",
      "1.29831600189\n"
     ]
    }
   ],
   "source": [
    "df=pd.DataFrame(index=tf.columns[:2000])\n",
    "# Compute mean value of each of first 2000 columns for each ethnic group\n",
    "for ethnicity in groups:\n",
    "    t0 = time()\n",
    "    df2 = tf[tf['X%s' %ethnicity] == 1]\n",
    "    df[ethnicity] = pd.DataFrame(df2.iloc[:,:2000].mean(axis=0))\n",
    "    print time()-t0\n",
    "    \n",
    "df['avg'] = mean_words\n",
    "\n",
    "for ethnicity in groups:\n",
    "    df['%s_diff' %ethnicity] = (df[ethnicity]-df.avg)/df['avg']"
   ]
  },
  {
   "cell_type": "code",
   "execution_count": 50,
   "metadata": {
    "collapsed": false
   },
   "outputs": [],
   "source": [
    "# List top 100 words for each ethnicity\n",
    "\n",
    "\n",
    "# Fill string for each ethnicity with top words\n",
    "for ethnicity in groups:\n",
    "    df.sort_values('%s_diff' %ethnicity, ascending=False, inplace=True)\n",
    "    \n",
    "    eth_list = ''\n",
    "    for word in df.index[:100]:\n",
    "        eth_list = eth_list + word + ', '\n",
    "    all_lists = all_lists + '\\n\\n%s\\n\\n' %ethnicity + eth_list\n",
    "    "
   ]
  },
  {
   "cell_type": "code",
   "execution_count": 51,
   "metadata": {
    "collapsed": false
   },
   "outputs": [
    {
     "name": "stdout",
     "output_type": "stream",
     "text": [
      "Women \n",
      " \n",
      "heels, baking, jane, adore, yummy, adele, bones, holiday, flowers, queer, chick, florence, girl, curly, yoga, grey, chocolate, shopping, amelie, daughter, twilight, sister, pets, pride, hugs, organizing, markets, laughter, animals, recipes, hunger, musicals, brunch, lovely, integrity, dancing, obsessed, gender, laughing, compassionate, sunshine, glee, mumford, glass, cheese, teacher, minds, fashion, garden, wine, students, gardening, loved, volunteering, connecting, independent, sedaris, children, mom, parking, grounded, generous, legs, horses, notebook, quirky, singing, disney, cats, castle, education, scary, museums, hair, passport, cookies, compassion, kindness, iver, loving, silly, committed, dramas, sarah, dog, color, guilty, bell, volunteer, excited, raising, warm, scrabble, handle, bluegrass, affectionate, marathon, dogs, delicious, sisters, edward, dance, cleaning, historical, smile, sweet, ethnic, grown, love, wonderful, profit, bon, mary, yorker, dirty, couch, theatre, salsa, cat, plants, parties, friendships, fresh, absolutely, loud, loyal, dinner, spirit, africa, child, organic, opera, vampire, deeply, ethiopian, lady, respond, tasting, painting, hilarious, kids, medicine, solitude, tea, bright, playful, appreciate, loves, bride, appreciation, smiling, ocean, fruit, studies, grammar, son, vegan, direct, grateful, tattoo, beauty, cultural, sing, dancer, alice, growth, oldies, cheesy, potter, spiritual, classes, caring, values, romance, faith, laugh, shoes, happy, practice, beautiful, hearted, harry, dress, female, vegetables, hike, includes, spending, health, swimming, italy, vacation, christmas, affection, adventures, hikes, abroad, vegetarian, emotionally, energetic, \n",
      "\n",
      " Men \n",
      "\n",
      "computers, beard, software, engineer, programming, engineering, fixing, startup, guy, cars, archer, drums, gear, guitar, dude, martial, musician, blade, knight, matrix, motorcycle, video, web, golf, technology, daft, basketball, dj, dick, futurama, bass, ladies, physics, simpsons, fishing, bikes, floyd, dubstep, tech, www, snowboarding, problems, computer, electric, batman, built, ill, hunter, father, godfather, electronic, http, curb, somebody, anime, inception, youtube, hockey, flying, pulp, soccer, lebowski, apocalypse, philosophy, sports, code, gay, surfing, com, shooting, bach, william, evil, robert, bbq, wars, guns, cycling, partying, war, solving, building, build, fix, breaking, facebook, thats, japan, 1984, surf, galaxy, ender, comic, dan, zeppelin, dumb, math, tool, fight, financial, hobby, star, track, hit, martin, las, punk, sailing, dad, shape, till, chat, seinfeld, metal, trek, vegas, digital, mountain, wire, shirt, richard, decent, im, gym, shoot, george, 22, coen, sport, laid, holy, science, internet, cool, hero, zombie, thrones, phd, lets, designing, league, money, lord, beers, bored, comics, rings, doors, valley, drunk, geeky, geek, player, davis, vonnegut, stuff, miles, steve, improve, sci, bicycle, chili, climbing, led, fi, brother, hell, guide, record, philadelphia, noticed, smoke, apart, shawshank, success, clubs, example, alot, crash, fly, joe, peppers, male, galactica, looks, average, playing, kanye, company, women, lunch, management, downtown, redemption, naked, south, information, beer, greatest, \n",
      "\n",
      "Drink heavily \n",
      " \n",
      "whiskey, drunk, beer, drinking, fucking, beers, beard, shit, fuck, dude, smoking, records, partying, bars, velvet, knife, bowie, drink, blah, twin, dive, bikes, apocalypse, dick, underground, waits, burritos, tacos, sandwiches, punk, cheap, pants, bar, kurt, las, william, irish, bacon, archer, bass, vonnegut, wine, royal, ass, heads, wearing, smiths, gay, tattoos, zombie, roll, sauce, coen, nick, pixies, hunter, bicycle, lebowski, record, zeppelin, bottle, boys, mouse, drums, hate, suck, party, tim, shirt, karaoke, hell, burning, sex, smith, trouble, bear, drinks, cheese, mission, glasses, wire, jam, rolling, bored, chuck, tom, crap, cats, hall, williams, angry, obsessed, evil, literature, richard, rules, stones, recreation, anderson, musician, vegas, smoke, procrastinating, black, wes, poly, shouldn, pizza, tattoo, metal, mac, ya, cat, damn, shot, orange, eggs, bands, indie, robert, paid, david, loud, rec, ridiculous, girls, murakami, teeth, jokes, meat, smell, entire, leaving, weird, fried, lines, stupid, kick, wear, giant, 13, ghost, wave, modest, hotel, wind, supposed, trivia, dan, pie, floor, terrible, grab, delicious, wanna, throwing, grammar, neil, cash, built, rye, british, clothes, charles, strange, apparently, mr, television, shoot, http, update, 11, period, bike, messages, pair, martin, mark, slightly, dig, post, yeah, dead, hair, arrested, involves, death, handle, cohen, blade, clever, names, specifically, moon, picking, manage, empire, apartment, heels, riding, \n",
      "\n",
      "Drink socially \n",
      "\n",
      "grabbing, drinks, mumford, tahoe, florence, passport, brunch, tasting, coldplay, iver, spots, glass, wine, adele, peppers, ski, skiing, restaurants, chicago, hour, snowboarding, checking, wedding, hangover, chili, spontaneous, bon, vacation, excited, xx, ender, midwest, pandora, italy, catching, abroad, trip, weeds, boston, marathon, inception, philadelphia, adventurous, concerts, exploring, tech, giants, mexico, travelling, asia, outdoor, alchemist, fortunate, sf, backpacking, cab, ambitious, arcade, parking, dexter, rec, travel, jersey, weekend, offer, biking, outgoing, outdoors, hockey, dinner, winter, kanye, active, grab, keys, europe, guilty, heading, depends, weekends, sedaris, startup, city, firm, golf, challenges, confident, driven, sushi, ny, bottle, muse, foodie, equally, hunger, industry, hitting, challenge, laughs, tennis, arrested, summer, explore, sons, overall, office, iphone, modern, sport, adventures, bonus, diving, npr, sales, international, profit, workout, company, optimistic, traveling, grew, weather, trips, manager, redemption, sports, favorites, bbq, sunny, downtown, cultures, experiencing, genuinely, restaurant, moved, lucky, mediterranean, lived, area, sarcastic, soccer, yorker, roots, shawshank, grad, challenging, enjoying, traveled, development, flight, forgetting, architecture, definitely, radiohead, festivals, bay, meal, hiking, running, davis, places, adventure, countries, scrabble, beers, recipes, finished, originally, basketball, saturday, thrones, nyc, italian, parks, recently, new, marketing, kings, mix, runner, france, india, discover, 500, passions, reggae, events, grey, designer, sarah, relaxing, hills, chilling, planning, recreation, engaging, couch, masters, breakfast, met, \n",
      "\n",
      "Do not drink regularly \n",
      "\n",
      "spirituality, spiritual, meditation, anime, drugs, vegan, martial, growth, integrity, deeply, compassionate, committed, emotional, smoke, compassion, truth, communication, kindness, male, raw, massage, understanding, religious, friendship, organic, practice, affection, sensitive, faith, healthy, emotionally, intimacy, connection, female, available, computer, relationship, support, conscious, god, computers, health, diet, present, spirit, values, respectful, feelings, queer, aware, caring, study, chinese, poly, helping, pets, connecting, clean, gender, nature, alot, term, respect, daughter, connect, gardening, inner, service, honesty, seeking, partner, silence, mature, quiet, video, meaningful, naturally, groups, woman, trust, children, fantasy, physics, potential, son, body, respond, age, path, clear, affectionate, programming, peace, hearted, trek, ex, swing, shy, intelligence, grateful, plays, classical, vegetarian, listener, relationships, animals, rich, understand, calm, touch, direct, seek, romantic, terms, romance, married, younger, poetry, noticed, playful, express, certain, classes, deep, improve, qualities, subject, special, asian, physical, grounded, self, shelter, musicals, visual, creativity, educated, luck, bowling, studies, treat, problem, joy, drawing, oriented, expression, singer, games, strive, simple, matters, thoughts, walks, contact, desire, responsible, attention, control, disney, create, clothing, speak, imagination, environment, dancer, wonderful, sexual, natural, theater, honest, physically, needs, sci, return, father, interested, journey, edge, geek, yummy, hugs, example, wife, thoughtful, cats, grown, heavy, developing, language, human, teacher, galaxy, material, complex, cuddling, lover, personal, action, longer, value, \n",
      "\n",
      "Over 30 \n",
      " \n",
      "integrity, intimacy, spiritual, daughter, affectionate, playful, raising, grounded, generous, emotionally, partner, committed, spirituality, meditation, compassionate, available, connection, married, son, growth, balanced, connecting, kissing, organic, kindness, gardening, fortunate, woman, values, chemistry, responsible, dining, affection, seeking, compassion, thoughtful, yorker, stable, deeply, sensitive, friendships, healthy, sharing, wonderful, massage, grateful, email, friendship, share, communication, loyal, warm, cohen, traveled, hearted, educated, grown, marin, evening, relationship, drawn, seek, aware, museums, honesty, balance, spirit, cultural, wave, fit, challenging, younger, lover, possibilities, independent, scuba, 15, emotional, foreign, regularly, folks, direct, special, religious, meaningful, curiosity, opera, appreciation, yoga, curious, connect, attracted, kids, theater, 80, africa, italy, vacation, touch, inner, relationships, liberal, physically, children, desire, passport, ski, patient, neighborhood, practice, burning, single, father, caring, markets, sailing, 70, inspired, npr, dinner, term, exercise, hmmm, match, magazines, successful, connections, creativity, strong, ethnic, qualities, eclectic, diverse, intelligent, blade, market, salsa, tasting, smart, latest, edge, creative, path, joy, poly, comfortable, nature, complex, equally, health, professionally, jazz, confident, 80s, quality, blues, visiting, latin, enjoys, missing, perspective, ok, bach, ready, respect, ny, challenges, listener, present, hike, plays, variety, lifestyle, including, wine, brazil, shape, walks, lives, adore, developing, fully, performance, sunset, appreciate, truly, interests, tahoe, conscious, range, intelligence, experiencing, important, calm, support, value, sexy, mode, yummy, athletic, \n",
      "\n",
      "Under 30 \n",
      "\n",
      "graduated, haha, uc, student, partying, disney, ender, rec, archer, knight, im, kanye, dubstep, potter, futurama, 1984, daft, ill, awkward, fucking, studying, graduate, university, college, fuck, inception, lil, harry, recreation, bang, anime, arrested, wanna, degree, catcher, philadelphia, video, engineering, basketball, grad, burritos, school, parks, lol, drunk, chill, batman, studies, phd, masters, chili, rye, shit, thats, firefly, major, doctor, mumford, startup, sandwiches, peppers, comics, dont, dexter, nerd, mars, berkeley, smoking, theory, 22, 500, florence, thrones, simpsons, hey, cal, zombie, picky, 90s, girls, study, development, drawing, glee, sunny, nerdy, dude, terrible, message, finishing, orange, galactica, gaga, future, blind, currently, drinking, whiskey, awesome, games, grammar, beard, law, google, attending, mouse, phone, battlestar, league, dumb, bones, smoke, random, met, downtown, tattoos, mac, fight, math, jay, lie, 24, twilight, gender, weeds, seinfeld, brave, foster, office, vampire, iver, horrible, notebook, gonna, basically, galaxy, messages, soccer, programming, forgetting, shows, curb, graphic, famous, breaking, baking, jokes, death, moved, honestly, weird, psychology, chuck, youtube, die, keys, park, http, adele, machine, hangover, angry, muse, bear, milk, oldies, rap, mother, forever, hockey, jersey, saving, firm, hit, program, engineer, buddy, hunger, castle, bars, grab, las, queer, hate, modern, ridiculous, computer, beer, scared, game, facts, club, incredibly, beers, comic, tim, horror, xx, naked, coldplay, \n",
      "\n",
      "Use drugs \n",
      " \n",
      "fuck, fucking, smoking, poly, shit, dubstep, smoke, gender, drunk, queer, bass, burning, sexual, dick, partying, underground, sex, twin, velvet, las, whiskey, drums, bowie, dj, kurt, hunter, vonnegut, cheap, beard, apocalypse, waits, pixies, dude, ass, floyd, heads, bikes, records, punk, knife, electronic, drinking, william, religion, fear, mouse, tool, tattoos, richard, tim, neil, daft, weird, coen, angry, comics, naked, zeppelin, rolling, anderson, funk, beats, lips, drugs, lebowski, strange, holy, http, 1984, orange, pink, cohen, metal, harold, comic, universe, burritos, damn, wes, party, magic, vegan, blah, wearing, moon, dylan, radiohead, www, wanna, plants, bicycle, waking, physics, trees, zombie, vegetables, bob, woods, smiths, vegas, tacos, massive, beer, smith, com, archer, land, robert, expression, spotless, tom, ya, eternal, nick, cat, sandwiches, paint, musician, edward, procrastinating, dirty, lil, obsessed, led, death, dr, parties, electric, bear, modest, guitar, futurama, roll, gonna, oakland, bus, clothing, milk, attack, drawing, pulp, hell, massage, david, foster, dig, clothes, acting, chill, human, chuck, record, mouth, dead, evil, ill, bored, crap, folk, space, boys, marley, royal, massages, beers, meat, thats, mac, suck, george, society, paid, cause, le, giant, girls, programming, forever, philosophy, hair, folks, machine, sauce, performing, messages, bird, awkward, al, brothers, graphic, black, pie, raw, charles, fantastic, tattoo, kick, murakami, wild, hotel, \n",
      "\n",
      "Do not use drugs \n",
      "\n",
      "caring, values, faith, educated, workout, oriented, gym, cell, respectful, daughter, tennis, ambitious, stable, fitness, lol, chinese, affectionate, loyal, dining, enjoys, listener, athletic, son, goals, fullest, fortunate, basketball, sports, special, romantic, italy, cultures, golf, musicals, mature, relaxing, treat, salsa, phone, restaurants, action, financial, shopping, asian, family, italian, simple, bowling, museums, volunteering, drama, football, coldplay, korean, career, smile, tasting, woman, activities, relax, friendship, volunteer, optimistic, iphone, challenges, helping, gentleman, glee, motivated, anime, driven, cuisine, energetic, opera, improve, healthy, responsible, outgoing, active, forward, university, giants, pride, qualities, relationship, outdoor, loves, vacation, marathon, share, car, personality, haha, attending, baseball, exercise, hawaii, dinner, kids, easy, person, masters, interests, castle, health, single, genuine, compassionate, hoping, laptop, guy, notebook, shy, term, successful, marin, generous, enjoy, shape, overall, honest, classical, dramas, sport, patient, pets, twilight, pasta, soccer, visiting, hobbies, wedding, field, integrity, disney, attitude, wonderful, hearted, bang, emotionally, visit, comedies, oldies, spending, latin, willing, movie, confident, similar, hmmm, recipes, positive, hello, hi, meaningful, sales, medical, warm, ethnic, potter, quiet, nice, catching, travel, cup, outdoors, romance, hmm, chick, physically, alot, chemistry, ca, offer, ready, hope, thoughtful, private, hangover, grown, international, pursuing, friendly, hunting, looking, respect, partner, kindness, honesty, hanging, computer, japanese, competitive, harry, ipod, hockey, grey, send, hiking, guys, \n",
      "\n",
      "Make over 100k annually \n",
      " \n",
      "successful, ski, financial, father, lessons, suck, steve, educated, drums, attractive, fortunate, golf, shirt, fucking, valley, kiss, workout, software, skiing, sailing, match, stable, smell, yo, cheap, intellectual, professionally, wit, ex, shit, travelling, okcupid, lack, techno, fat, facebook, genius, ill, physics, religious, galaxy, blah, success, generous, shape, london, focused, saw, changed, sexy, confident, answers, wow, smoking, photo, studio, athletic, flying, dick, google, swim, giant, happened, clever, clothes, traveled, deep, edge, lose, normal, smoke, money, women, intelligent, dining, www, lead, burning, discovery, surf, professional, effort, looks, com, painting, peace, tahoe, greek, passions, tired, sex, stupid, partying, wrote, liked, godfather, plenty, pet, scuba, william, hobby, mature, countries, date, inside, ground, woman, playful, ended, fine, level, rich, accent, piece, 20, startup, bach, stop, drop, moon, paint, moves, youtube, jeans, explain, smart, treat, boston, nyc, fuck, despite, lunch, ass, freedom, cycling, universe, strive, competitive, enthusiasm, 15, socially, flight, bought, meaning, 10, pair, sales, kissing, solving, wall, return, batman, post, asia, surfing, chemistry, gift, lil, happiness, bear, track, ladies, entertaining, seven, confidence, extra, kidding, certainly, oriented, http, sandwiches, hunter, basis, medical, emotionally, proud, ok, information, purpose, page, unique, dj, supposed, gentleman, attracted, engineering, dont, add, names, website, raising, business, partner, update, charming, lists, available, stranger, coen, number, \n",
      "\n",
      "Make 50-100k annually\n",
      "\n",
      "software, engineer, programming, startup, stable, bought, daughter, sales, financial, developing, manager, web, computers, golf, scuba, enjoys, successful, management, son, success, educated, code, tasting, email, traveled, father, crowd, africa, cuisine, professional, snowboarding, 15, steak, workout, fitness, hobby, dining, solving, ambitious, marin, raising, shooting, technology, shape, sunday, growth, motivated, woman, attitude, career, emotionally, driven, spirituality, oriented, responsible, shoot, affectionate, sailing, track, ski, special, tech, geek, business, rich, building, attractive, spare, tons, fixing, kissing, intelligence, build, motorcycle, women, avid, married, cross, excellent, athletic, clubs, tennis, gym, poly, available, partner, date, balanced, committed, opportunity, north, cycling, religious, latest, diving, values, forward, incredible, support, fit, wanting, weekends, hawaii, kids, intimacy, geeky, swing, missing, helps, website, profiles, paid, saturday, mountain, term, wanted, engineering, london, tahoe, ton, drama, started, physically, unique, male, usual, intelligent, problems, company, casual, relationship, firm, designer, blade, smart, 12, bbq, taught, musician, likes, weekend, attracted, matrix, focused, potential, create, challenges, emotional, mexico, complex, skiing, crime, suspects, iphone, adult, 20, confident, interests, exercise, witty, challenging, groups, share, job, level, event, search, team, ended, race, relax, designing, fix, helping, guy, roll, football, giant, circle, tired, independent, trip, museums, control, biking, entertainment, wants, journey, dive, confidence, industry, worked, pets, spiritual, hangover, fortunate, latin, appreciation, honesty, age, \n",
      "\n",
      "Make less than 50k annually\n",
      "\n",
      "im, fuck, ill, alot, lol, thats, dont, fucking, anime, dubstep, video, smoke, wanna, comics, money, tattoos, drawing, store, queer, metal, stephen, dork, comic, sexual, cell, paint, degree, male, drunk, student, shit, ladies, haha, punk, lets, martial, performing, dick, chuck, gender, bass, horror, lil, smoking, musician, cause, kinda, sex, gonna, chill, irish, bowling, facebook, partying, clothes, futurama, ca, poetry, zombie, cars, hello, evil, teacher, clothing, pool, oakland, fantasy, marley, acting, disney, drums, bones, painting, shy, vegan, ass, tool, girls, ghost, batman, phone, drugs, 13, simpsons, cleaning, dude, studies, queen, attending, son, apocalypse, 1984, naked, strange, hit, studying, bored, poly, artist, rap, dr, underground, land, philosophy, graphic, lips, pay, angry, wars, god, study, war, cuddling, hang, lord, vampire, king, games, bikes, jobs, school, records, somebody, women, alice, damn, scott, stupid, trek, buy, looks, message, fat, dead, female, college, fishing, car, 24, brave, chat, hell, bell, future, twilight, series, kurt, writer, magic, ask, electric, orange, service, major, mouse, scary, cute, procrastinating, vonnegut, possibly, hunter, text, guitar, manager, george, artistic, shooting, death, draw, bob, someday, laptop, mainly, state, galaxy, star, mars, candy, phd, writing, blah, cat, waits, comedy, program, tattoo, personality, talk, religion, velvet, lie, action, shoot, berkeley, certain, pasta, weird, milk, unless, williams, \n",
      "\n",
      "Like cats\n",
      " \n",
      "cats, pets, cat, animals, poly, fantasy, firefly, futurama, comics, anime, gender, galactica, battlestar, galaxy, ghost, sci, fi, zombie, labyrinth, vegan, queer, queen, bowie, angry, holy, trek, apocalypse, strange, alice, neil, metal, geeky, geek, fucking, burning, stephen, video, pixies, crap, animal, pet, vegetarian, programming, plants, williams, muse, evil, bones, blade, fuck, cure, bluegrass, religion, comic, simpsons, tool, rings, excellent, cuddling, punk, sexual, mouse, cohen, bride, princess, universe, doctor, george, scott, mode, horrible, dick, artistic, spotless, adams, waits, star, bass, johnny, clothing, visual, feelings, tattoos, magic, update, adore, kurt, pink, spiritual, drawing, vs, coen, smiths, dr, pan, floyd, vampire, written, guide, heads, richard, lord, odd, lebowski, massive, musician, fascinating, folk, martin, nerdy, respond, computers, hell, musical, forms, dead, trees, ender, le, expression, authors, draw, attack, space, guns, planet, dork, fantastic, exactly, aware, flowers, cash, gardening, moon, imagination, wars, horror, eternal, okay, electric, william, smith, organic, raw, las, woods, machine, certain, available, actual, vegetables, theatre, writer, emotional, acting, discovery, pie, dubstep, longer, jane, tim, complete, peter, iron, fear, holiday, disney, series, okc, crowd, cake, swing, bands, affection, milk, literature, records, sarah, lovely, velvet, massage, holding, service, meat, silence, frank, fixing, weird, fix, kissing, christmas, deeply, multiple, includes, science, castle, robert, various, yeah, library, \n",
      "\n",
      "Like dogs \n",
      "\n",
      "dog, dogs, pets, animals, zombie, pet, bones, bluegrass, cash, sarah, apocalypse, wedding, stephen, horses, johnny, lebowski, poly, woods, includes, peppers, bride, marley, plants, queen, dork, flicks, biggest, animal, dirty, trivia, princess, cuddling, futurama, dexter, coen, devil, muse, firefly, weeds, carry, mumford, fix, mouth, diving, fishing, camping, beard, aren, bowie, fish, marathon, tattoos, pixies, adams, rings, training, golden, metal, florence, heads, evil, jane, christmas, dead, picky, dig, channel, trek, neil, cats, cat, throw, update, fantastic, adele, dislike, iron, discovery, horror, involves, someday, castle, chuck, spotless, scuba, burning, angry, trees, ski, comedies, dumb, heels, archer, massages, chili, gardening, lovely, crash, chick, van, crowd, bear, blood, kill, horrible, wars, cake, bob, sedaris, simpsons, train, sad, sons, series, star, disney, batman, ton, total, grey, amelie, dave, classics, lord, quickly, season, hands, volunteer, floor, acting, super, trilogy, escape, bbq, shoot, zeppelin, baking, okay, eternal, jeans, necessarily, buddy, genres, vs, falling, ass, keys, rain, forgetting, iver, ghost, entire, hunger, brothers, hikes, couch, scott, pie, guns, exactly, dive, edward, minds, soup, blah, sit, swim, nerdy, excellent, ride, daft, piece, tree, weeks, fact, fixing, chef, potter, seven, vampire, mars, wise, las, musicals, sci, fi, kissing, grateful, holding, cab, win, tim, modest, easily, massive, frank, gaga, boys, spot, raising, \n",
      "\n",
      "Graduated College\n",
      " \n",
      "grad, phd, yorker, students, masters, nyc, graduated, skiing, midwest, passport, india, asia, brunch, africa, ny, environmental, startup, educated, ski, npr, research, corporate, recent, studied, tahoe, tennis, restaurants, thoughtful, traveled, abroad, challenging, engaging, countries, teaching, neighborhood, cultural, backpacking, boston, meaningful, engineer, latest, cities, firm, challenges, curiosity, yoga, balanced, catching, software, trip, marathon, york, bluegrass, parking, fascinating, mountains, balance, profit, cycling, connecting, vacation, international, suspects, chicago, grabbing, discovering, italy, europe, went, intellectual, financial, equally, particularly, wire, fortunate, scuba, marketing, curious, solitude, values, ethiopian, ethnic, markets, mediterranean, exercise, pandora, hour, exploring, heading, generous, excited, opportunities, include, access, murakami, finished, hike, weekend, coast, travelling, foreign, paris, scrabble, east, national, dinner, colbert, museums, salsa, trivia, historical, volunteering, visit, travel, grew, wine, bonus, iver, france, value, meal, languages, playful, cultures, professionally, combination, spent, athletic, discovered, urban, north, running, sf, concert, mumford, bach, outside, foodie, hiking, worked, market, mission, development, grounded, lived, brazil, tech, china, developing, evening, teacher, perspective, regularly, west, competitive, checking, mad, sunday, drawn, smart, grade, weekends, biking, valley, activities, inspired, news, recipes, arcade, ambitious, explore, trips, festivals, recently, traveling, generally, deeply, diving, politics, roots, league, meals, appreciation, passions, 80s, mix, opportunity, bon, sharing, activity, quirky, arrested, eclectic, 90s, outdoor, partner, includes, simon, driven, winter, \n",
      "\n",
      "Did Not Graduate College\n",
      "\n",
      "graduated, haha, uc, student, partying, disney, ender, rec, archer, knight, im, kanye, dubstep, potter, futurama, 1984, daft, ill, awkward, fucking, studying, graduate, university, college, fuck, inception, lil, harry, recreation, bang, anime, arrested, wanna, degree, catcher, philadelphia, video, engineering, basketball, grad, burritos, school, parks, lol, drunk, chill, batman, studies, phd, masters, chili, rye, shit, thats, firefly, major, doctor, mumford, startup, sandwiches, peppers, comics, dont, dexter, nerd, mars, berkeley, smoking, theory, 22, 500, florence, thrones, simpsons, hey, cal, zombie, picky, 90s, girls, study, development, drawing, glee, sunny, nerdy, dude, terrible, message, finishing, orange, galactica, gaga, future, blind, currently, drinking, whiskey, awesome, games, grammar, beard, law, google, attending, mouse, phone, battlestar, league, dumb, bones, smoke, random, met, downtown, tattoos, mac, fight, math, jay, lie, 24, twilight, gender, weeds, seinfeld, brave, foster, office, vampire, iver, horrible, notebook, gonna, basically, galaxy, messages, soccer, programming, forgetting, shows, curb, graphic, famous, breaking, baking, jokes, death, moved, honestly, weird, psychology, chuck, youtube, die, keys, park, http, adele, machine, hangover, angry, muse, bear, milk, oldies, rap, mother, forever, hockey, jersey, saving, firm, hit, program, engineer, buddy, hunger, castle, bars, grab, las, queer, hate, modern, ridiculous, computer, beer, scared, game, facts, club, incredibly, beers, comic, tim, horror, xx, naked, coldplay, \n",
      "\n",
      "asian\n",
      "\n",
      "asian, korean, chinese, japanese, anime, japan, china, hawaii, ender, vietnamese, glee, martial, asia, knight, 500, inception, bang, haha, basketball, laptop, foodie, rice, fried, karaoke, hole, lunch, disney, dining, iphone, chef, network, murakami, catching, pop, musicals, theory, 90s, marathon, chat, hunger, met, phone, hmm, cal, google, glasses, eating, mars, internet, futurama, potter, simple, yummy, dramas, piano, coldplay, workout, redemption, cuisine, shopping, cell, chill, comics, chilling, hip, gear, foods, tennis, wall, code, hop, adele, improve, twilight, hobbies, restaurants, mother, gotta, patient, harry, castle, shawshank, simpsons, sum, steak, saving, dragon, matrix, gym, modern, laid, sleep, notebook, snowboarding, financial, comic, chicken, facebook, eat, bowling, \n",
      "\n",
      "middle eastern\n",
      "\n",
      "eastern, middle, conscious, smell, oriented, messages, matters, languages, cal, complicated, fucking, attack, curly, tool, procrastinating, cultures, challenging, candy, www, forget, marley, drunk, gender, studying, peace, studies, rich, soccer, okcupid, http, engineering, physics, lovely, medicine, searching, connecting, youtube, study, com, mediterranean, sales, naturally, cultural, waking, travelling, lessons, shit, discovering, word, wanna, greek, cinema, purpose, faith, father, balanced, jam, highly, massive, lists, smoking, philosophy, names, practice, fuck, sexual, ex, alchemist, pet, guys, somebody, tomorrow, site, tea, floyd, manage, hunting, respectful, coldplay, speak, heavy, international, north, psychology, friendships, bird, pink, 90s, touch, silence, ill, cup, minded, wild, student, accent, bacon, twilight, continue, educated, \n",
      "\n",
      "black\n",
      "\n",
      "lol, lil, kanye, god, fav, basketball, alot, jay, im, wanna, chill, lips, soul, thats, football, bowling, money, acting, stevie, twilight, hip, reggae, dont, jackson, anime, hop, color, son, smile, prince, laid, hill, mature, friendship, women, advice, mixed, wit, rap, smoke, woman, folks, ladies, peace, chilling, male, ill, goals, jazz, chicken, daughter, gentleman, jones, ask, skin, respect, black, scott, race, faith, ethiopian, treat, drama, roots, individual, partying, rich, poetry, oakland, action, vampire, phone, personality, haha, law, truth, youth, lets, brown, ca, future, fullest, cell, seafood, father, scared, lee, attending, laptop, channel, lady, respectful, real, minds, adele, gotta, types, dude, adult, ready, \n",
      "\n",
      "native american\n",
      "\n",
      "haha, im, native, alot, lol, lil, clothing, dont, massage, martial, fucking, lips, fuck, bass, tattoos, partying, poetry, anime, smoking, dj, acting, dubstep, thats, dork, ill, lee, artist, hurt, channel, father, bones, vampire, twilight, candy, fishing, spirituality, sex, mars, evil, prince, pan, naked, massages, labyrinth, drawing, ex, frank, wanting, lets, natural, vegan, metal, soul, lie, calm, raw, bite, alive, mixed, till, religious, rare, wanna, mouth, moon, fav, doors, truth, sexual, drums, roots, punk, sexy, mr, ya, drunk, underground, kinda, sing, role, gotta, black, imagination, gonna, gay, musician, kissing, male, rain, twin, rap, performing, inside, update, entertainment, war, planet, peace, body, arts, \n",
      "\n",
      "indian\n",
      "\n",
      "india, indian, startup, travelling, coldplay, seinfeld, engineer, software, godfather, ambitious, knight, vegetarian, foodie, laptop, cultures, tennis, ethiopian, 90s, matrix, code, partying, mediterranean, till, bang, masters, technology, international, engineering, moves, shawshank, redemption, chicago, phd, smoking, floyd, educated, tech, inception, company, catching, chilling, suspects, wedding, spicy, hop, meaningful, apart, valley, involves, kanye, countries, cultural, steve, background, qualities, workout, football, lessons, checking, individual, salsa, hip, management, grabbing, cinema, jay, south, corporate, thai, news, basketball, restaurants, google, hangover, theory, cuisine, midwest, professionally, values, boston, discover, nyc, alchemist, fortunate, asia, le, similar, multiple, holiday, hour, opinions, grad, report, ideas, attitude, internet, suck, mix, led, math, \n",
      "\n",
      "pacific islander\n",
      "\n",
      "hawaii, haha, twilight, lol, alot, skin, tomorrow, 500, martial, chill, dork, reggae, comic, fashion, graphic, notebook, iphone, gonna, scared, glee, basketball, japanese, im, gotta, step, marley, hangover, anime, lips, rice, 2012, hop, flow, karaoke, humble, fullest, channel, island, store, phone, partying, ill, chat, kinda, 40, bite, blah, gear, kick, hip, 90, wanna, motivated, cell, kanye, success, till, discovery, flicks, hmm, lil, alchemist, youtube, camera, asian, minds, workout, buddy, wanting, giants, kidding, stuck, clothes, gift, faith, glasses, god, adele, text, shop, fav, mars, everyday, disney, video, oriented, personality, kid, ya, ha, falling, ladies, designer, promise, respectful, bang, comics, carry, grabbing, gym, \n",
      "\n",
      "hispanic / latin\n",
      "\n",
      "latin, mexico, salsa, spanish, im, lol, los, ill, dont, soccer, mexican, haha, chill, lil, oldies, thats, curly, wanna, lips, studies, lets, notebook, fullest, smiths, twilight, uc, cell, la, tattoos, alot, hello, las, respectful, cars, alchemist, phone, horror, attending, disney, techno, partying, shy, ha, dubstep, solitude, till, hop, hi, martial, hip, goals, channel, gentleman, future, dj, doors, gaga, comics, 1984, fashion, major, mars, drawing, hit, gay, reggae, ladies, smoke, dancing, raised, ass, finish, school, mature, smile, ghost, justice, outgoing, lie, hangover, al, personality, 2012, overall, drugs, ipod, god, scared, studying, ask, text, fear, chick, acting, scary, money, kinda, treat, oriented, brazil, \n",
      "\n",
      "white\n",
      "\n",
      "irish, ski, sailing, bluegrass, skiing, marin, mumford, coen, mountains, nearly, blue, beard, lebowski, certainly, backpacking, neil, johnny, stones, tahoe, burning, german, woods, bowie, kurt, vonnegut, hockey, horses, pixies, theatre, waits, northern, dick, simon, frequently, billy, bach, sons, heads, cohen, scuba, mountain, camp, scrabble, hunter, richard, tom, historical, iver, stephen, liberal, hike, cash, gardening, built, heading, camping, blues, diet, dylan, yorker, zeppelin, intimacy, poly, van, george, ton, twin, brothers, garden, grateful, anderson, theater, floyd, dive, fascinating, firefly, groups, apartment, particularly, fairly, integrity, bikes, robert, stone, excellent, cat, beer, kissing, blade, curb, wes, playful, dave, william, available, midwest, butter, trees, snow, animals, \n"
     ]
    }
   ],
   "source": [
    "print all_lists"
   ]
  },
  {
   "cell_type": "code",
   "execution_count": 52,
   "metadata": {
    "collapsed": false
   },
   "outputs": [],
   "source": [
    "# There are 8 different ethnic groups available\n",
    "# Tableau does well with about 50 to 60 words for packed bubbles\n",
    "# Take top 7 words for each ethnicity\n",
    "\n",
    "# Drop words asian, middle, eastern, indian, and india as they are top ranking words but redundant with categories\n",
    "\n",
    "df.drop(['asian', 'middle', 'eastern', 'indian', 'india'], axis=0, inplace=True)"
   ]
  },
  {
   "cell_type": "code",
   "execution_count": 53,
   "metadata": {
    "collapsed": false
   },
   "outputs": [],
   "source": [
    "# must have at least one row in dataframe in order to use pd.concat\n",
    "df_ethnicity = pd.DataFrame(index=[0], columns=['tfidf', 'label'])\n",
    "\n",
    "for ethnicity in groups:\n",
    "    # Save top 7 words for each ethnicity\n",
    "    df.sort_values('%s_diff' %ethnicity, ascending=False, inplace=True)\n",
    "    df3 = pd.DataFrame(df.head(7)[ethnicity])\n",
    "    df3.columns=['tfidf']\n",
    "    df3['label'] = ethnicity\n",
    "    \n",
    "    df_ethnicity = pd.concat([df_ethnicity, df3], axis=0)\n",
    "    \n",
    "# drop dummy row from top\n",
    "df_ethnicity.drop(0, axis=0, inplace=True)\n",
    "\n",
    "df_ethnicity.to_csv('../Assets/Scaled/df_ethnicity.csv')\n",
    "    "
   ]
  },
  {
   "cell_type": "markdown",
   "metadata": {},
   "source": [
    "### Explore jobs"
   ]
  },
  {
   "cell_type": "code",
   "execution_count": 54,
   "metadata": {
    "collapsed": false
   },
   "outputs": [
    {
     "name": "stdout",
     "output_type": "stream",
     "text": [
      "0.155715942383\n",
      "0.126802921295\n",
      "0.138172864914\n",
      "0.116590023041\n",
      "0.132436990738\n",
      "0.105093955994\n",
      "0.10789680481\n",
      "0.0849359035492\n",
      "0.0842781066895\n",
      "0.0797090530396\n"
     ]
    }
   ],
   "source": [
    "\n",
    "df = pd.DataFrame(index=tf.columns[:2000])\n",
    "df_jobs = pd.DataFrame(index=[0], columns=['tfidf', 'label'])\n",
    "job_dic = {}\n",
    "# Most popular job category is \"other\"  Exclude that\n",
    "for job in tf.Xjob.value_counts()[1:11].index:\n",
    "    # Save a column of dummies for each job category\n",
    "    def job_encoder(career):\n",
    "        global job\n",
    "        try:\n",
    "            if career.find(job) >= 0:\n",
    "                return 1\n",
    "            else: return 0\n",
    "        except:\n",
    "            return 0\n",
    "    \n",
    "    tf['X%s' %job] = tf.Xjob.apply(job_encoder)\n",
    "\n",
    "    # Compute mean tfidf scores for job type\n",
    "    t0 = time()\n",
    "    df2 = tf[tf['X%s' %job] == 1]\n",
    "    df[job] = pd.DataFrame(df2.iloc[:,:2000].mean(axis=0))\n",
    "    print time()-t0\n",
    "    \n",
    "# Compute overall mean tfidf scores\n",
    "df['avg'] = mean_words\n",
    "\n",
    "    \n",
    "for job in tf.Xjob.value_counts()[1:11].index: \n",
    "    # compute diff between scores for each job and overall mean\n",
    "    df['%s_diff' %job] = (df[job] - df['avg'])/df.avg\n",
    "    \n",
    "\n",
    "    # sort by job\n",
    "    # save top 100 words asfor each job\n",
    "    # save top 6 words with tfidf scores and labels to df_jobs\n",
    "    job_list = ''\n",
    "    df.sort_values('%s_diff' %job, ascending=False, inplace=True)\n",
    "    # save top 200 words to reserved string in job_dic\n",
    "    for word in df.index[:100]:\n",
    "        job_list = job_list + word + ', '\n",
    "    \n",
    "    all_lists = all_lists + '\\n\\n%s\\n\\n' %job + job_list\n",
    "        \n",
    "    # Save top 6 words to df_jobs\n",
    "    df.sort_values('%s_diff' %job, ascending=False, inplace=True)\n",
    "    \n",
    "    df3 = pd.DataFrame(df.head(6)[job])\n",
    "    df3.columns=['tfidf']\n",
    "    df3['label'] = job\n",
    "    \n",
    "    df_jobs = pd.concat([df_jobs, df3], axis=0)\n",
    "    \n",
    "# drop dummy row from top\n",
    "df_jobs.drop(0, axis=0, inplace=True)\n",
    "\n",
    "df_jobs.to_csv('../Assets/Scaled/df_jobs.csv')\n"
   ]
  },
  {
   "cell_type": "markdown",
   "metadata": {},
   "source": [
    "### Look at sexual orientation\n",
    "Break down by gender as well to account for different cultures in queer community\n"
   ]
  },
  {
   "cell_type": "code",
   "execution_count": 55,
   "metadata": {
    "collapsed": false
   },
   "outputs": [
    {
     "name": "stderr",
     "output_type": "stream",
     "text": [
      "/anaconda/lib/python2.7/site-packages/ipykernel/__main__.py:3: UserWarning: Boolean Series key will be reindexed to match DataFrame index.\n",
      "  app.launch_new_instance()\n",
      "/anaconda/lib/python2.7/site-packages/ipykernel/__main__.py:8: UserWarning: Boolean Series key will be reindexed to match DataFrame index.\n",
      "/anaconda/lib/python2.7/site-packages/ipykernel/__main__.py:13: UserWarning: Boolean Series key will be reindexed to match DataFrame index.\n",
      "/anaconda/lib/python2.7/site-packages/ipykernel/__main__.py:18: UserWarning: Boolean Series key will be reindexed to match DataFrame index.\n",
      "/anaconda/lib/python2.7/site-packages/ipykernel/__main__.py:22: UserWarning: Boolean Series key will be reindexed to match DataFrame index.\n",
      "/anaconda/lib/python2.7/site-packages/ipykernel/__main__.py:26: UserWarning: Boolean Series key will be reindexed to match DataFrame index.\n"
     ]
    }
   ],
   "source": [
    "# Compute mean value of each of first 2000 columns for gay men\n",
    "\n",
    "df2 = tf[tf.Xsex=='m'][tf.Xorientation=='gay']\n",
    "df = pd.DataFrame(df2.iloc[:,:2000].mean(axis=0), columns = ['gay men'])\n",
    "\n",
    "\n",
    "# Compute mean value of each of first 2000 columns for bi men\n",
    "df2 = tf[tf.Xsex=='m'][tf.Xorientation=='bisexual']\n",
    "df['bi men'] = df2.iloc[:,:2000].mean(axis=0)\n",
    "\n",
    "\n",
    "# Compute mean values for straight men\n",
    "df2 = tf[tf.Xsex=='m'][tf.Xorientation=='straight']\n",
    "df['straight men'] = df2.iloc[:,:2000].mean(axis=0)\n",
    "\n",
    "\n",
    "# Compute mean values for gay women\n",
    "df2 = tf[tf.Xsex=='f'][tf.Xorientation=='gay']\n",
    "df['gay women'] = df2.iloc[:,:2000].mean(axis=0)\n",
    "\n",
    "# Compute mean values for bi women\n",
    "df2 = tf[tf.Xsex=='f'][tf.Xorientation=='bisexual']\n",
    "df['bi women'] = df2.iloc[:,:2000].mean(axis=0)\n",
    "\n",
    "# Compute mean values for straight women\n",
    "df2 = tf[tf.Xsex=='f'][tf.Xorientation=='straight']\n",
    "df['straight women'] = df2.iloc[:,:2000].mean(axis=0)\n",
    "\n",
    "\n",
    "df['avg'] = mean_words\n",
    "df['gay men diff'] = (df['gay men'] - df.avg)/df.avg\n",
    "df['bi men diff'] = (df['bi men'] - df.avg)/df.avg\n",
    "df['straight men diff'] = (df['straight men'] - df.avg)/df.avg\n",
    "df['gay women diff'] = (df['gay women'] - df.avg)/df.avg\n",
    "df['bi women diff'] = (df['bi women'] - df.avg)/df.avg\n",
    "df['straight women diff'] = (df['straight women'] - df.avg)/df.avg"
   ]
  },
  {
   "cell_type": "code",
   "execution_count": 56,
   "metadata": {
    "collapsed": false
   },
   "outputs": [],
   "source": [
    "# Save word lists\n",
    "df_orientation = pd.DataFrame(index=[0], columns=['tfidf', 'label'])\n",
    "\n",
    "for group in df.columns[:6]:\n",
    "    df.sort_values('%s diff' %group, ascending=False, inplace=True)\n",
    "    group_list = ''\n",
    "    for word in df.index[:100]:\n",
    "        group_list = group_list + word + ', '\n",
    "    all_lists = all_lists + '\\n\\n%s\\n\\n' %group + group_list\n",
    "# Save df for Tableau with top 10 for each category\n",
    "    df2 = pd.DataFrame(df[group].head(10))\n",
    "    df2.columns = ['tfidf']\n",
    "    df2['label'] = group\n",
    "\n",
    "    \n",
    "    df_orientation = pd.concat([df_orientation, df2], axis=0)\n",
    "    \n",
    "df_orientation.drop(0, axis=0, inplace=True)\n",
    "\n",
    "df_orientation.to_csv('../Assets/Scaled/df_orientation.csv')"
   ]
  },
  {
   "cell_type": "markdown",
   "metadata": {
    "collapsed": true
   },
   "source": [
    "### Explore Religion"
   ]
  },
  {
   "cell_type": "code",
   "execution_count": 57,
   "metadata": {
    "collapsed": false
   },
   "outputs": [],
   "source": [
    "# list religions \n",
    "religions = []\n",
    "for religion in tf.Xreligion.value_counts().index:\n",
    "    rel = religion.split(' ', 1)[0]\n",
    "    if rel not in religions:\n",
    "        religions.append(rel)\n",
    "religions = filter(lambda x: x != 'other', religions)"
   ]
  },
  {
   "cell_type": "code",
   "execution_count": 58,
   "metadata": {
    "collapsed": false
   },
   "outputs": [],
   "source": [
    "# Encode dummies for each religion\n",
    "# rel is individual person's religion string \"Christianity and very serious about it\"\n",
    "# religion is each group \"Christianity\"\n",
    "\n",
    "tf.Xreligion.replace(np.nan, '', inplace=True)\n",
    "\n",
    "df = pd.DataFrame()\n",
    "df_religion = pd.DataFrame(index=[0], columns=['tfidf', 'label'])\n",
    "\n",
    "for religion in religions:\n",
    "    tf['X%s' %religion] = tf.Xreligion.apply(lambda rel: 1 if rel.split(' ', 1)[0] == religion else 0)\n",
    "\n",
    "    # Compute mean values for each religion\n",
    "    df2 = tf[tf['X%s' %religion]==1]\n",
    "    df[religion] = df2.iloc[:,:2000].mean(axis=0)\n",
    "    \n",
    "# Compute mean for each word across religons\n",
    "df['avg'] = mean_words\n",
    "\n",
    "for religion in religions:\n",
    "    df['%s_diff' %religion] = (df[religion] -df['avg'])/df.avg\n",
    "\n",
    "    # Save top 200 words for each religion as string\n",
    "    df.sort_values('%s_diff' % religion, inplace=True, ascending=False)\n",
    "    \n",
    "    rel_list = ''\n",
    "    for word in df.index[:100]:\n",
    "        rel_list = rel_list + word + ', '\n",
    "        \n",
    "    all_lists = all_lists + '\\n\\n%s\\n\\n' %religion + rel_list\n",
    "    \n",
    "    # Save top 7 words for each religon as df for Tableau\n",
    "    df2 = pd.DataFrame(df[religion].head(7))\n",
    "    df2.columns = ['tfidf']\n",
    "    df2['label'] = religion\n",
    "    \n",
    "    df_religion = pd.concat([df_religion, df2], axis=0)\n",
    "    \n",
    "df_religion.drop(0, axis=0, inplace=True)\n",
    "df_religion.to_csv('../Assets/Scaled/df_religion.csv')\n",
    "    "
   ]
  },
  {
   "cell_type": "markdown",
   "metadata": {},
   "source": [
    "### Religion seriousness"
   ]
  },
  {
   "cell_type": "code",
   "execution_count": 59,
   "metadata": {
    "collapsed": false
   },
   "outputs": [],
   "source": [
    "levels = []\n",
    "for religion in tf.Xreligion.value_counts().index:\n",
    "    try:\n",
    "        level = religion.split('and ', 1)[1]\n",
    "    except: continue\n",
    "    if level not in levels:\n",
    "        levels.append(level)\n",
    "\n",
    "def level_encoder(rel):\n",
    "    try:\n",
    "        for level in levels:\n",
    "            if rel.find(level) >0:\n",
    "                return level\n",
    "    except:\n",
    "        return ''\n",
    "\n",
    "tf['Xreligiousness'] = tf.Xreligion.apply(level_encoder)"
   ]
  },
  {
   "cell_type": "code",
   "execution_count": 60,
   "metadata": {
    "collapsed": false
   },
   "outputs": [],
   "source": [
    "df = pd.DataFrame()\n",
    "df_religiousness = pd.DataFrame(index=[0], columns=['tfidf', 'label'])\n",
    "for level in levels:\n",
    "    # Compute mean values for each level of religiousness\n",
    "    df2 = tf[tf['Xreligiousness']==level]\n",
    "    df[level] = df2.iloc[:,:2000].mean(axis=0)\n",
    "# Compute averages\n",
    "df['avg'] = df.mean(axis=1)\n",
    "\n",
    "for level in levels:\n",
    "    # sort by diff for each category\n",
    "    df['%s_diff' %level] = df[level] - df['avg']\n",
    "    df.sort_values('%s_diff' % level, inplace=True, ascending=False)\n",
    "    # Save top 200 to level_dic\n",
    "    level_list = ''\n",
    "    for word in df.index[:200]:\n",
    "        level_list = level_list + word + ', '\n",
    "    all_lists = all_lists + '\\n\\n%s\\n\\n' %level + level_list\n",
    "    # Save top 20 to df\n",
    "    df2 = pd.DataFrame(df[level].head(20))\n",
    "    df2.columns = ['tfidf']\n",
    "    df2['label'] = level\n",
    "    \n",
    "    df_religiousness = pd.concat([df_religiousness, df2], axis=0)\n",
    "df_religiousness.drop(0, axis=0, inplace=True)\n",
    "\n",
    "df_religiousness.to_csv('../Assets/Scaled/df_religiousness.csv')"
   ]
  },
  {
   "cell_type": "markdown",
   "metadata": {},
   "source": [
    "### Explore Diet"
   ]
  },
  {
   "cell_type": "code",
   "execution_count": 61,
   "metadata": {
    "collapsed": false
   },
   "outputs": [],
   "source": [
    "tf.Xdiet.value_counts()\n",
    "\n",
    "# ignore anything and other\n",
    "# just look for vegetarian, vegan, kosher, halal\n",
    "\n",
    "def diet_encoder(diet):\n",
    "    try:\n",
    "        if diet.find('vegan') >= 0:\n",
    "            return 'vegan'\n",
    "        elif diet.find('vegetarian') >= 0:\n",
    "            return 'vegetarian'\n",
    "        elif diet.find('kosher') >= 0:\n",
    "            return 'kosher'\n",
    "        elif diet.find('halal') >= 0:\n",
    "            return 'halal'\n",
    "        else:\n",
    "            return ''\n",
    "    except:\n",
    "        return ''\n",
    "    \n",
    "tf.Xdiet = tf.Xdiet.apply(diet_encoder)"
   ]
  },
  {
   "cell_type": "code",
   "execution_count": 62,
   "metadata": {
    "collapsed": false
   },
   "outputs": [],
   "source": [
    "# Exclude '' from diets\n",
    "diets = tf.Xdiet.value_counts().index[1:]\n",
    "\n",
    "df = pd.DataFrame()\n",
    "df_diet = pd.DataFrame(index=[0], columns=['tfidf', 'label'])\n",
    "for diet in diets:\n",
    "    # Compute mean values for each level of religiousness\n",
    "    df2 = tf[tf.Xdiet==diet]\n",
    "    df[diet] = df2.iloc[:,:2000].mean(axis=0)\n",
    "# Compute averages\n",
    "df['avg'] = mean_words\n",
    "\n",
    "for diet in diets:\n",
    "    # sort by diff for each category\n",
    "    df['%s_diff' %diet] = (df[diet] - df['avg'])/df.avg\n",
    "    df.sort_values('%s_diff' % diet, inplace=True, ascending=False)\n",
    "    # Save top 100 to level_dic\n",
    "    diet_list = ''\n",
    "    for word in df.index[:100]:\n",
    "        diet_list = diet_list + word + ', '\n",
    "    all_lists = all_lists + '\\n\\n%s\\n\\n' %diet + diet_list\n",
    "    # Save top 20 to df\n",
    "    df2 = pd.DataFrame(df[diet].head(15))\n",
    "    df2.columns = ['tfidf']\n",
    "    df2['label'] = diet\n",
    "    \n",
    "    df_diet = pd.concat([df_diet, df2], axis=0)\n",
    "df_diet.drop(0, axis=0, inplace=True)\n",
    "\n",
    "df_diet.to_csv('../Assets/Scaled/df_diet.csv')"
   ]
  },
  {
   "cell_type": "code",
   "execution_count": 63,
   "metadata": {
    "collapsed": false
   },
   "outputs": [],
   "source": [
    "# save all_lists to file ../Assets/Tableau/df_all_lists.txt\n",
    "\n",
    "target = open('../Assets/Scaled/df_all_lists.txt', 'w')\n",
    "\n",
    "target.write(all_lists)\n",
    "target.close()"
   ]
  },
  {
   "cell_type": "code",
   "execution_count": 64,
   "metadata": {
    "collapsed": false
   },
   "outputs": [],
   "source": [
    "# compare labels w/ encoders vs. labels with dummies for overall correlations\n",
    "# write script to save dicts to text file"
   ]
  },
  {
   "cell_type": "markdown",
   "metadata": {},
   "source": [
    "List top 200 lists here:\n",
    "\n"
   ]
  },
  {
   "cell_type": "markdown",
   "metadata": {},
   "source": []
  }
 ],
 "metadata": {
  "kernelspec": {
   "display_name": "Python 2",
   "language": "python",
   "name": "python2"
  },
  "language_info": {
   "codemirror_mode": {
    "name": "ipython",
    "version": 2
   },
   "file_extension": ".py",
   "mimetype": "text/x-python",
   "name": "python",
   "nbconvert_exporter": "python",
   "pygments_lexer": "ipython2",
   "version": "2.7.11"
  }
 },
 "nbformat": 4,
 "nbformat_minor": 0
}
