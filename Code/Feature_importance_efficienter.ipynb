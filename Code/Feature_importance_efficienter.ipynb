{
 "cells": [
  {
   "cell_type": "code",
   "execution_count": 1,
   "metadata": {
    "collapsed": true
   },
   "outputs": [],
   "source": [
    "import pandas as pd\n",
    "import numpy as np\n",
    "from time import time"
   ]
  },
  {
   "cell_type": "code",
   "execution_count": 2,
   "metadata": {
    "collapsed": true
   },
   "outputs": [],
   "source": [
    "okc = pd.read_csv('../Assets/A/one_long_essay.csv', index_col='Unnamed: 0')"
   ]
  },
  {
   "cell_type": "code",
   "execution_count": 3,
   "metadata": {
    "collapsed": false
   },
   "outputs": [],
   "source": [
    "def denull(essay):\n",
    "    if type(essay) == float:\n",
    "        return ''\n",
    "    else: return essay\n",
    "    \n",
    "okc.essays = okc.essays.apply(denull)"
   ]
  },
  {
   "cell_type": "code",
   "execution_count": 4,
   "metadata": {
    "collapsed": true
   },
   "outputs": [],
   "source": [
    "from sklearn.feature_extraction.text import TfidfVectorizer"
   ]
  },
  {
   "cell_type": "code",
   "execution_count": 5,
   "metadata": {
    "collapsed": false
   },
   "outputs": [
    {
     "name": "stdout",
     "output_type": "stream",
     "text": [
      "vectorized essays in 16.2227 seconds\n"
     ]
    }
   ],
   "source": [
    "t0 = time()\n",
    "vec = TfidfVectorizer(encoding='utf-8', stop_words='english', max_features=2000)\n",
    "tf = vec.fit_transform(okc.essays)\n",
    "print \"vectorized essays in %g seconds\" %(time()-t0)"
   ]
  },
  {
   "cell_type": "code",
   "execution_count": 6,
   "metadata": {
    "collapsed": false
   },
   "outputs": [],
   "source": [
    "tf = pd.DataFrame(tf.toarray(), columns=vec.get_feature_names())"
   ]
  },
  {
   "cell_type": "code",
   "execution_count": 7,
   "metadata": {
    "collapsed": false
   },
   "outputs": [],
   "source": [
    "# Save any features we might want to filter by to tf dataframe\n",
    "features = ['age', 'body_type', 'diet', 'drinks', 'drugs', 'education', 'ethnicity', \n",
    "           'height', 'income', 'job', 'offspring', 'orientation', 'pets', 'religion', \n",
    "            'sex', 'sign', 'smokes', 'speaks']"
   ]
  },
  {
   "cell_type": "code",
   "execution_count": 8,
   "metadata": {
    "collapsed": false
   },
   "outputs": [],
   "source": [
    "for feature in features:\n",
    "    tf['X%s' %feature] = okc[feature]"
   ]
  },
  {
   "cell_type": "code",
   "execution_count": 9,
   "metadata": {
    "collapsed": true
   },
   "outputs": [],
   "source": [
    "# Handle some common conjunctions which get separated from words\n",
    "# leading to features like 'don' and 'll\n",
    "\n",
    "tf = tf.rename(columns = {'don':\"don't\", 'll':\"i'll\", 've':\"i've\"})"
   ]
  },
  {
   "cell_type": "markdown",
   "metadata": {},
   "source": [
    "### Find top words by tf-idf score"
   ]
  },
  {
   "cell_type": "code",
   "execution_count": 10,
   "metadata": {
    "collapsed": false
   },
   "outputs": [],
   "source": [
    "mean_words = tf.iloc[:,:2000].mean(axis=0)\n",
    "mean_words.sort_values(inplace=True, ascending=False)"
   ]
  },
  {
   "cell_type": "code",
   "execution_count": 11,
   "metadata": {
    "collapsed": false
   },
   "outputs": [],
   "source": [
    "# add something to this for hue?\n",
    "mean_words[:60].to_csv('../Assets/Tableau/top_words.csv')"
   ]
  },
  {
   "cell_type": "code",
   "execution_count": 12,
   "metadata": {
    "collapsed": true
   },
   "outputs": [],
   "source": [
    "# Save a single string with top words for each category.  This list will be exported to a .txt file at end of script\n",
    "all_lists = ''"
   ]
  },
  {
   "cell_type": "markdown",
   "metadata": {},
   "source": [
    "### Compare word frequency for men vs. women"
   ]
  },
  {
   "cell_type": "code",
   "execution_count": 13,
   "metadata": {
    "collapsed": false
   },
   "outputs": [
    {
     "name": "stdout",
     "output_type": "stream",
     "text": [
      "0.674036979675\n"
     ]
    }
   ],
   "source": [
    "# Compute mean value of each of first 2000 columns for men\n",
    "t0 = time()\n",
    "mdf = tf[tf.Xsex=='m']\n",
    "df = pd.DataFrame(mdf.iloc[:,:2000].mean(axis=0), columns = ['m'])\n",
    "print time()-t0"
   ]
  },
  {
   "cell_type": "code",
   "execution_count": 14,
   "metadata": {
    "collapsed": false
   },
   "outputs": [
    {
     "name": "stdout",
     "output_type": "stream",
     "text": [
      "0.482522964478\n"
     ]
    }
   ],
   "source": [
    "# Compute mean value of each of first 2000 columns for women\n",
    "t0 = time()\n",
    "fdf = tf[tf.Xsex == 'f']\n",
    "df['f'] = fdf.iloc[:,:2000].mean(axis=0)\n",
    "print time()-t0"
   ]
  },
  {
   "cell_type": "code",
   "execution_count": 15,
   "metadata": {
    "collapsed": true
   },
   "outputs": [],
   "source": [
    "df['diff'] = df['m']-df['f']"
   ]
  },
  {
   "cell_type": "code",
   "execution_count": 16,
   "metadata": {
    "collapsed": false
   },
   "outputs": [],
   "source": [
    "df.sort_values('diff', inplace=True)"
   ]
  },
  {
   "cell_type": "code",
   "execution_count": 17,
   "metadata": {
    "collapsed": false
   },
   "outputs": [],
   "source": [
    "# Save top 200 words for women and men for report\n",
    "women_list = ''\n",
    "for word in df.index[:200]:\n",
    "    women_list = women_list + word + ', '\n",
    "    \n",
    "men_list = ''\n",
    "# Write men_list in reverse order so most popular words are on top\n",
    "for i in range(-1, -200, -1):\n",
    "    men_list = men_list + df.index[i] + ', '\n",
    "    \n",
    "all_lists = 'Women \\n \\n' + women_list + '\\n\\n Men \\n\\n' + men_list"
   ]
  },
  {
   "cell_type": "code",
   "execution_count": 18,
   "metadata": {
    "collapsed": false
   },
   "outputs": [],
   "source": [
    "# Save top 30 from each cat\n",
    "# women\n",
    "df.sort_values('diff', inplace=True)\n",
    "f = pd.DataFrame(df.head(30)['f'])\n",
    "f.columns = ['tfidf']\n",
    "f['label'] = 'female'\n",
    "\n",
    "# men\n",
    "df.sort_values('diff', inplace=True, ascending=False)\n",
    "m = pd.DataFrame(df.head(30)['m'])\n",
    "m.columns = ['tfidf']\n",
    "m['label'] = 'male'\n",
    "\n",
    "\n",
    "df_sex = pd.concat([m, f], axis=0)\n",
    "\n",
    "df_sex.to_csv('../Assets/Tableau/df_sex.csv')"
   ]
  },
  {
   "cell_type": "markdown",
   "metadata": {},
   "source": [
    "### Compare word frequency for social drinkers vs. heavy drinkers vs. non drinkers"
   ]
  },
  {
   "cell_type": "code",
   "execution_count": 19,
   "metadata": {
    "collapsed": false
   },
   "outputs": [
    {
     "name": "stdout",
     "output_type": "stream",
     "text": [
      "0.851545095444\n"
     ]
    }
   ],
   "source": [
    "# Compare word frequency for social drinkers vs. heavy drinkers vs. non drinkers\n",
    "\n",
    "# Compute mean value of each of first 2000 columns for social drinks\n",
    "t0 = time()\n",
    "ddf = tf[tf.Xdrinks=='socially']\n",
    "df = pd.DataFrame(ddf.iloc[:,:2000].mean(axis=0), columns = ['social'])\n",
    "print time()-t0"
   ]
  },
  {
   "cell_type": "code",
   "execution_count": 20,
   "metadata": {
    "collapsed": false
   },
   "outputs": [
    {
     "name": "stdout",
     "output_type": "stream",
     "text": [
      "0.359460115433\n"
     ]
    }
   ],
   "source": [
    "# Compute mean value of each of first 2000 columns for non-drinkers\n",
    "t0 = time()\n",
    "ddf = tf.query(\"Xdrinks == 'rarely'|Xdrinks == 'not at all'\")\n",
    "df['non-drinker'] = ddf.iloc[:,:2000].mean(axis=0)\n",
    "print time()-t0"
   ]
  },
  {
   "cell_type": "code",
   "execution_count": 21,
   "metadata": {
    "collapsed": false
   },
   "outputs": [
    {
     "name": "stdout",
     "output_type": "stream",
     "text": [
      "0.189160823822\n"
     ]
    }
   ],
   "source": [
    "# Compute mean value of each of first 2000 columns for heavy drinkers\n",
    "t0 = time()\n",
    "ddf = tf.query(\"Xdrinks == 'often'|Xdrinks == 'very often'|Xdrinks == 'desperately'\")\n",
    "df['heavy'] = ddf.iloc[:,:2000].mean(axis=0)\n",
    "print time()-t0"
   ]
  },
  {
   "cell_type": "code",
   "execution_count": 22,
   "metadata": {
    "collapsed": false
   },
   "outputs": [],
   "source": [
    "df['avg'] = df.mean(axis=1)\n",
    "# Compute differences between social drinkers' values and other categories\n",
    "df['nd_diff'] = df['non-drinker'] - df['avg']\n",
    "df['h_diff'] = df['heavy'] - df['avg']\n",
    "df['s_diff'] = df['social'] - df['avg']"
   ]
  },
  {
   "cell_type": "code",
   "execution_count": 23,
   "metadata": {
    "collapsed": true
   },
   "outputs": [],
   "source": [
    "# Save top 200 words for heavy, social, and non-drinkers for report\n",
    "# heavy drinkers:\n",
    "df.sort_values('h_diff', ascending=False, inplace=True)\n",
    "\n",
    "heavy_list = ''\n",
    "for word in df.index[:200]:\n",
    "    heavy_list = heavy_list + word + ', '\n",
    "\n",
    "# social drinkers:\n",
    "df.sort_values('s_diff', ascending=False, inplace=True)\n",
    "\n",
    "social_list = ''\n",
    "for word in df.index[:200]:\n",
    "    social_list = social_list + word + ', '\n",
    "    \n",
    "# non-drinkers:\n",
    "df.sort_values('nd_diff', ascending=False, inplace=True)\n",
    "\n",
    "non_list = ''\n",
    "for word in df.index[:200]:\n",
    "    non_list = non_list + word + ', '\n",
    "    \n",
    "all_lists = all_lists +  '\\n\\nDrink heavily \\n \\n' +  heavy_list + '\\n\\nDrink socially \\n\\n' + social_list + '\\n\\nDo not drink regularly \\n\\n'+ non_list"
   ]
  },
  {
   "cell_type": "code",
   "execution_count": 24,
   "metadata": {
    "collapsed": false
   },
   "outputs": [],
   "source": [
    "# Save top 18 from each cat\n",
    "# non-drinkers first\n",
    "df.sort_values('nd_diff', inplace=True, ascending=False)\n",
    "nd = pd.DataFrame(df.head(18)['non-drinker'])\n",
    "nd.columns = ['tfidf']\n",
    "nd['label'] = 'non-drinker'\n",
    "\n",
    "# social drinkers\n",
    "df.sort_values('s_diff', inplace=True, ascending=False)\n",
    "sd = pd.DataFrame(df.head(18)['social'])\n",
    "sd.columns = ['tfidf']\n",
    "sd['label'] = 'social'\n",
    "\n",
    "# heavy drinkers\n",
    "df.sort_values('h_diff', inplace=True, ascending=False)\n",
    "hd = pd.DataFrame(df.head(18)['heavy'])\n",
    "hd.columns = ['tfidf']\n",
    "hd['label'] = 'heavy'\n",
    "\n",
    "df_drinks = pd.concat([nd, sd, hd], axis=0)\n",
    "\n",
    "df_drinks.to_csv('../Assets/Tableau/df_drinks.csv')"
   ]
  },
  {
   "cell_type": "markdown",
   "metadata": {},
   "source": [
    "### Explore word choice by age"
   ]
  },
  {
   "cell_type": "code",
   "execution_count": 25,
   "metadata": {
    "collapsed": false
   },
   "outputs": [],
   "source": [
    "from matplotlib import pyplot as plt\n",
    "%matplotlib inline"
   ]
  },
  {
   "cell_type": "code",
   "execution_count": 26,
   "metadata": {
    "collapsed": false
   },
   "outputs": [
    {
     "data": {
      "text/plain": [
       "<function matplotlib.pyplot.show>"
      ]
     },
     "execution_count": 26,
     "metadata": {},
     "output_type": "execute_result"
    },
    {
     "data": {
      "image/png": "[encoded data removed]",
      "text/plain": [
       "<matplotlib.figure.Figure at 0x116b0ce50>"
      ]
     },
     "metadata": {},
     "output_type": "display_data"
    }
   ],
   "source": [
    "plt.hist(okc.age, 50, normed=1, facecolor='green', alpha=0.75)\n",
    "plt.axis([15, 80, 0, .1])\n",
    "plt.show"
   ]
  },
  {
   "cell_type": "code",
   "execution_count": 27,
   "metadata": {
    "collapsed": true
   },
   "outputs": [],
   "source": [
    "# Compare under 30 to over 30\n",
    "\n",
    "def age_encoder(age):\n",
    "    if age ==0:\n",
    "        return np.nan\n",
    "    elif age < 30:\n",
    "        return 0\n",
    "    else:\n",
    "        return 1\n",
    "    \n",
    "tf.Xage = tf.Xage.apply(age_encoder)"
   ]
  },
  {
   "cell_type": "code",
   "execution_count": 28,
   "metadata": {
    "collapsed": false
   },
   "outputs": [
    {
     "name": "stdout",
     "output_type": "stream",
     "text": [
      "0.699970960617\n",
      "1.51530790329\n"
     ]
    }
   ],
   "source": [
    "# Compare word frequency for under 30 vs. over 30\n",
    "\n",
    "# Compute mean value of each of first 2000 columns for over 30\n",
    "t0 = time()\n",
    "odf = tf[tf.Xage==1]\n",
    "df = pd.DataFrame(odf.iloc[:,:2000].mean(axis=0), columns = ['>30'])\n",
    "print time()-t0\n",
    "\n",
    "# Compute mean value of each of first 2000 columns for under 30\n",
    "ydf = tf[tf.Xage == 0]\n",
    "df['<30'] = ydf.iloc[:,:2000].mean(axis=0)\n",
    "print time()-t0\n"
   ]
  },
  {
   "cell_type": "code",
   "execution_count": 29,
   "metadata": {
    "collapsed": false
   },
   "outputs": [],
   "source": [
    "df['diff'] = df['>30']-df['<30']\n",
    "df.sort_values('diff', inplace=True)"
   ]
  },
  {
   "cell_type": "code",
   "execution_count": 30,
   "metadata": {
    "collapsed": false
   },
   "outputs": [],
   "source": [
    "# Save top 200 words for people under and over 30\n",
    "# older people:\n",
    "df.sort_values('diff', ascending=False, inplace=True)\n",
    "\n",
    "older_list = ''\n",
    "for word in df.index[:200]:\n",
    "    older_list = older_list + word + ', '\n",
    "\n",
    "# younger people\n",
    "younger_list = ''\n",
    "# Write older_list in reverse order so most popular words are on top\n",
    "for i in range(-1, -200, -1):\n",
    "    younger_list = younger_list + df.index[i] + ', '\n",
    "    \n",
    "all_lists = all_lists + '\\n\\nOver 30 \\n \\n' + older_list + '\\n\\nUnder 30 \\n\\n' + younger_list"
   ]
  },
  {
   "cell_type": "code",
   "execution_count": 31,
   "metadata": {
    "collapsed": false
   },
   "outputs": [],
   "source": [
    "# Save top 30 from each cat\n",
    "# n.b terms younger and older are strictly relative\n",
    "\n",
    "# younger\n",
    "df.sort_values('diff', inplace=True)\n",
    "y = pd.DataFrame(df.head(30)['<30'])\n",
    "y.columns = ['tfidf']\n",
    "y['label'] = '<30'\n",
    "\n",
    "# older\n",
    "df.sort_values('diff', inplace=True, ascending=False)\n",
    "o = pd.DataFrame(df.head(30)['>30'])\n",
    "o.columns = ['tfidf']\n",
    "o['label'] = '>30'\n",
    "\n",
    "\n",
    "df_age = pd.concat([y, o], axis=0)\n",
    "\n",
    "df_age.to_csv('../Assets/Tableau/df_age.csv')"
   ]
  },
  {
   "cell_type": "markdown",
   "metadata": {},
   "source": [
    "### Compare drug users and non-users\n",
    "exclude those who don't report"
   ]
  },
  {
   "cell_type": "code",
   "execution_count": 32,
   "metadata": {
    "collapsed": true
   },
   "outputs": [],
   "source": [
    "def drug_encoder(drugs):\n",
    "    if drugs == 'never':\n",
    "        return 0\n",
    "    elif drugs == 'sometimes' or drugs == 'often':\n",
    "        return 1\n",
    "    else:\n",
    "        return np.nan\n",
    "    \n",
    "tf.Xdrugs = tf.Xdrugs.apply(drug_encoder)"
   ]
  },
  {
   "cell_type": "code",
   "execution_count": 33,
   "metadata": {
    "collapsed": false
   },
   "outputs": [
    {
     "name": "stdout",
     "output_type": "stream",
     "text": [
      "2.25930714607\n",
      "2.9483859539\n"
     ]
    }
   ],
   "source": [
    "# Compute mean value of each of first 2000 columns for drug users\n",
    "t0 = time()\n",
    "udf = tf[tf.Xdrugs==1]\n",
    "df = pd.DataFrame(odf.iloc[:,:2000].mean(axis=0), columns = ['users'])\n",
    "print time()-t0\n",
    "\n",
    "# Compute mean value of each of first 2000 columns for non-users\n",
    "ydf = tf[tf.Xdrugs == 0]\n",
    "df['non-users'] = ydf.iloc[:,:2000].mean(axis=0)\n",
    "print time()-t0"
   ]
  },
  {
   "cell_type": "code",
   "execution_count": 34,
   "metadata": {
    "collapsed": false
   },
   "outputs": [],
   "source": [
    "df['diff'] = df['users']-df['non-users']\n",
    "df.sort_values('diff', inplace=True)"
   ]
  },
  {
   "cell_type": "code",
   "execution_count": 35,
   "metadata": {
    "collapsed": true
   },
   "outputs": [],
   "source": [
    "# Save top 200 words for users and non-users\n",
    "# users:\n",
    "df.sort_values('diff', ascending=False, inplace=True)\n",
    "\n",
    "non_user_list = ''\n",
    "for word in df.index[:200]:\n",
    "    non_user_list = non_user_list + word + ', '\n",
    "\n",
    "# non-users\n",
    "user_list = ''\n",
    "# Write older_list in reverse order so most popular words are on top\n",
    "for i in range(-1, -200, -1):\n",
    "    user_list = user_list + df.index[i] + ', '\n",
    "    \n",
    "all_lists = all_lists + '\\n\\nUse drugs \\n \\n' + non_user_list + '\\n\\nDo not use drugs \\n\\n' + user_list"
   ]
  },
  {
   "cell_type": "code",
   "execution_count": 36,
   "metadata": {
    "collapsed": false
   },
   "outputs": [],
   "source": [
    "# Save top 30 from each cat\n",
    "# non-users\n",
    "\n",
    "n = pd.DataFrame(df.head(30)['non-users'])\n",
    "n.columns = ['tfidf']\n",
    "n['label'] = 'non-users'\n",
    "\n",
    "# users\n",
    "\n",
    "m = pd.DataFrame(df.tail(30)['users'])\n",
    "m.columns = ['tfidf']\n",
    "m['label'] = 'users'\n",
    "\n",
    "\n",
    "df_drugs = pd.concat([m, n], axis=0)\n",
    "\n",
    "df_drugs.to_csv('../Assets/Tableau/df_drugs.csv')"
   ]
  },
  {
   "cell_type": "markdown",
   "metadata": {},
   "source": [
    "### Explore Income"
   ]
  },
  {
   "cell_type": "code",
   "execution_count": 37,
   "metadata": {
    "collapsed": false
   },
   "outputs": [
    {
     "data": {
      "text/plain": [
       "<function matplotlib.pyplot.show>"
      ]
     },
     "execution_count": 37,
     "metadata": {},
     "output_type": "execute_result"
    },
    {
     "data": {
      "image/png": "[encoded data removed]",
      "text/plain": [
       "<matplotlib.figure.Figure at 0x11918aa10>"
      ]
     },
     "metadata": {},
     "output_type": "display_data"
    }
   ],
   "source": [
    "plt.hist(tf.Xincome[tf.Xincome != -1], 50, normed=1, facecolor='green', alpha=0.75)\n",
    "plt.show"
   ]
  },
  {
   "cell_type": "code",
   "execution_count": 38,
   "metadata": {
    "collapsed": false
   },
   "outputs": [],
   "source": [
    "# Divide income income into <50k, 50-100k, >100k\n",
    "\n",
    "def income_encoder(income):\n",
    "    if income == -1:\n",
    "        return -1\n",
    "    elif income <= 50000:\n",
    "        return 0\n",
    "    elif income <= 100000:\n",
    "        return 1\n",
    "    else:\n",
    "        return 2\n",
    "    \n",
    "tf.Xincome = tf.Xincome.apply(income_encoder)"
   ]
  },
  {
   "cell_type": "code",
   "execution_count": 39,
   "metadata": {
    "collapsed": false
   },
   "outputs": [
    {
     "name": "stdout",
     "output_type": "stream",
     "text": [
      "0.19762301445\n",
      "0.105547904968\n",
      "0.0465598106384\n"
     ]
    }
   ],
   "source": [
    "# Compare word frequency for different income levels\n",
    "\n",
    "# Compute mean value of each of first 2000 columns for lower income\n",
    "t0 = time()\n",
    "pdf = tf[tf.Xincome==0]\n",
    "df = pd.DataFrame(pdf.iloc[:,:2000].mean(axis=0), columns = ['<50k'])\n",
    "print time()-t0\n",
    "\n",
    "# Compute mean value of each of first 2000 columns for middle income\n",
    "t0 = time()\n",
    "mdf = tf[tf.Xincome==1]\n",
    "df['50-100k'] = mdf.iloc[:,:2000].mean(axis=0)\n",
    "print time()-t0\n",
    "\n",
    "# Compute mean value of each of first 2000 columns for highest income\n",
    "t0 = time()\n",
    "rdf = tf[tf.Xincome==2]\n",
    "df['>100k'] = rdf.iloc[:,:2000].mean(axis=0)\n",
    "print time()-t0\n",
    "\n",
    "\n",
    "# Compute differences between each income category and overall average\n",
    "df['avg'] = df.mean(axis=1)\n",
    "df['r_diff'] = df['>100k'] - df['avg']\n",
    "df['p_diff'] = df['<50k'] - df['avg']\n",
    "df['m_diff'] = df['50-100k'] - df['avg']"
   ]
  },
  {
   "cell_type": "code",
   "execution_count": 40,
   "metadata": {
    "collapsed": false
   },
   "outputs": [],
   "source": [
    "# Save lists for each income bracket\n",
    "\n",
    "df.sort_values('r_diff', ascending=False, inplace=True)\n",
    "\n",
    "upper_list = ''\n",
    "for word in df.index[:200]:\n",
    "    upper_list = upper_list + word + ', '\n",
    "    \n",
    "df.sort_values('m_diff', ascending=False, inplace=True)\n",
    "\n",
    "mid_list = ''\n",
    "for word in df.index[:200]:\n",
    "    mid_list = mid_list + word + ', '\n",
    "    \n",
    "\n",
    "df.sort_values('p_diff', ascending=False, inplace=True)    \n",
    "lower_list = ''\n",
    "for word in df.index[:200]:\n",
    "    lower_list = lower_list + word + ', '\n",
    "\n",
    "all_lists = all_lists + '\\n\\nMake over 100k annually \\n \\n' + upper_list + '\\n\\nMake 50-100k annually\\n\\n' + mid_list+ '\\n\\nMake less than 50k annually'+lower_list"
   ]
  },
  {
   "cell_type": "code",
   "execution_count": 41,
   "metadata": {
    "collapsed": false
   },
   "outputs": [],
   "source": [
    "# Save top 18 from each cat\n",
    "# richest first\n",
    "df.sort_values('r_diff', inplace=True, ascending=False)\n",
    "df2 = pd.DataFrame(df.head(18)['>100k'])\n",
    "df2.columns = ['tfidf']\n",
    "df2['label'] = '> 100k'\n",
    "\n",
    "# middle income\n",
    "df.sort_values('m_diff', inplace=True, ascending=False)\n",
    "df3 = pd.DataFrame(df.head(18)['50-100k'])\n",
    "df3.columns = ['tfidf']\n",
    "df3['label'] = '50 - 100k'\n",
    "\n",
    "# lower income\n",
    "df.sort_values('p_diff', inplace=True, ascending=False)\n",
    "df4 = pd.DataFrame(df.head(18)['<50k'])\n",
    "df4.columns = ['tfidf']\n",
    "df4['label'] = '< 50k'\n",
    "\n",
    "df_income = pd.concat([df2, df3, df4], axis=0)\n",
    "df_income.to_csv('../Assets/Tableau/df_income.csv')"
   ]
  },
  {
   "cell_type": "markdown",
   "metadata": {},
   "source": [
    "### Compare dog and cat people"
   ]
  },
  {
   "cell_type": "code",
   "execution_count": 42,
   "metadata": {
    "collapsed": false
   },
   "outputs": [],
   "source": [
    "# calculate dummy columns for likes dogs and likes cats\n",
    "# will be some overlap since not mutually exclusive\n",
    "\n",
    "def mask_dogs(pets):\n",
    "    # catches 'has dogs' or 'likes dogs'\n",
    "    try:\n",
    "        if pets.find('dogs') > -1:\n",
    "            if pets.find('dislikes dogs') == -1:\n",
    "                return 1\n",
    "        else:\n",
    "            return 0\n",
    "    except:\n",
    "        return 0\n",
    "    \n",
    "def mask_cats(pets):\n",
    "    try:\n",
    "        if pets.find('cats') > -1:\n",
    "            if pets.find('dislikes cats') == -1:\n",
    "                return 1\n",
    "        else:\n",
    "            return 0\n",
    "    except:\n",
    "        return 0\n",
    "\n",
    "tf['Xdogs'] = tf.Xpets.apply(mask_dogs)\n",
    "tf['Xcats'] = tf.Xpets.apply(mask_cats)"
   ]
  },
  {
   "cell_type": "code",
   "execution_count": 43,
   "metadata": {
    "collapsed": false
   },
   "outputs": [
    {
     "name": "stdout",
     "output_type": "stream",
     "text": [
      "2.24761986732\n",
      "2.73856282234\n"
     ]
    }
   ],
   "source": [
    "# find mean scores for dog people\n",
    "\n",
    "t0 = time()\n",
    "ddf = tf[tf.Xdogs==1]\n",
    "df = pd.DataFrame(ddf.iloc[:,:2000].mean(axis=0), columns = ['dogs'])\n",
    "print time()-t0\n",
    "\n",
    "# find mean scores for cat people\n",
    "cdf = tf[tf.Xcats == 1]\n",
    "df['cats'] = cdf.iloc[:,:2000].mean(axis=0)\n",
    "print time()-t0"
   ]
  },
  {
   "cell_type": "code",
   "execution_count": 44,
   "metadata": {
    "collapsed": true
   },
   "outputs": [],
   "source": [
    "df['diff'] = df['dogs'] - df['cats']\n",
    "df.sort_values('diff', inplace=True)"
   ]
  },
  {
   "cell_type": "code",
   "execution_count": 45,
   "metadata": {
    "collapsed": false
   },
   "outputs": [],
   "source": [
    "# remove cat, cats, dog and dogs from this list since they don't contribute insight\n",
    "df = df.drop(['cat', 'cats', 'dog', 'dogs'], axis=0)"
   ]
  },
  {
   "cell_type": "code",
   "execution_count": 46,
   "metadata": {
    "collapsed": false
   },
   "outputs": [],
   "source": [
    "# Save top 200 words for cats and dogs for report\n",
    "cat_list = ''\n",
    "for word in df.index[:200]:\n",
    "    cat_list = cat_list + word + ', '\n",
    "    \n",
    "dog_list = ''\n",
    "# Write dog_list in reverse order so most popular words are on top\n",
    "for i in range(-1, -200, -1):\n",
    "    dog_list = dog_list + df.index[i] + ', '\n",
    "    \n",
    "all_lists = all_lists + '\\n\\nLike cats\\n \\n' + cat_list + '\\n\\nLike dogs \\n\\n' + dog_list"
   ]
  },
  {
   "cell_type": "code",
   "execution_count": 47,
   "metadata": {
    "collapsed": false
   },
   "outputs": [],
   "source": [
    "# Save top 30 from each cat\n",
    "# cats\n",
    "\n",
    "n = pd.DataFrame(df.head(30)['cats'])\n",
    "n.columns = ['tfidf']\n",
    "n['label'] = 'cats'\n",
    "\n",
    "# men\n",
    "\n",
    "m = pd.DataFrame(df.tail(30)['dogs'])\n",
    "m.columns = ['tfidf']\n",
    "m['label'] = 'dogs'\n",
    "\n",
    "\n",
    "df_drugs = pd.concat([m, n], axis=0)\n",
    "\n",
    "df_drugs.to_csv('../Assets/Tableau/df_pets.csv')"
   ]
  },
  {
   "cell_type": "markdown",
   "metadata": {},
   "source": [
    "### Explore word choice by education\n",
    "\n",
    "college grad? 1 or 0."
   ]
  },
  {
   "cell_type": "code",
   "execution_count": 48,
   "metadata": {
    "collapsed": false
   },
   "outputs": [],
   "source": [
    "def ed_encoder(ed):\n",
    "    # a person is a college grad if they either \"graduated from college/university\"\n",
    "    # or mention law school, med, school, masters program or ph. d program (all instances of the word program are graduate )\n",
    "    try:\n",
    "        if ed == 'graduated from college/university' or ed.find('law') >= 0 or ed.find('med') >= 0 or ed.find('program') >= 0:\n",
    "            return 1\n",
    "        # space camp answers are facetious and must be excluded\n",
    "        # BTW I am in space camp right now\n",
    "        elif ed.find('space camp') >= 0:\n",
    "            return np.nan\n",
    "        else: return 0\n",
    "    except:\n",
    "        return np.nan\n",
    "\n",
    "tf.Xeducation = tf.Xeducation.apply(ed_encoder)"
   ]
  },
  {
   "cell_type": "code",
   "execution_count": 49,
   "metadata": {
    "collapsed": false
   },
   "outputs": [
    {
     "name": "stdout",
     "output_type": "stream",
     "text": [
      "2.24032902718\n",
      "2.78602600098\n"
     ]
    }
   ],
   "source": [
    "# Compare word frequency for college educated vs. not college\n",
    "\n",
    "# Compute mean value of each of first 2000 columns for college\n",
    "t0 = time()\n",
    "df2 = tf[tf.Xage==1]\n",
    "df = pd.DataFrame(df2.iloc[:,:2000].mean(axis=0), columns = ['grad'])\n",
    "print time()-t0\n",
    "\n",
    "# Compute mean value of each of first 2000 columns for under 30\n",
    "df2 = tf[tf.Xage == 0]\n",
    "df['non-grad'] = df2.iloc[:,:2000].mean(axis=0)\n",
    "print time()-t0\n",
    "\n",
    "df['diff'] = df['grad'] - df['non-grad']\n",
    "df.sort_values('diff', inplace=True)\n",
    "\n",
    "# Save top 200 words for grads and non-grads for report\n",
    "non_grad_list = ''\n",
    "for word in df.index[:200]:\n",
    "    non_grad_list = non_grad_list + word + ', '\n",
    "    \n",
    "grad_list = ''\n",
    "# Write grad_list in reverse order so most popular words are on top\n",
    "for i in range(-1, -200, -1):\n",
    "    grad_list = grad_list + df.index[i] + ', '\n",
    "\n",
    "# Save top 200's lists to all_lists\n",
    "all_lists =  all_lists + '\\n\\nGraduated College\\n \\n' + grad_list + '\\n\\nDid Not Graduate College\\n\\n' + non_grad_list\n",
    "\n",
    "# Save top 30 from each cat\n",
    "# non-grads\n",
    "\n",
    "n = pd.DataFrame(df.head(30)['non-grad'])\n",
    "n.columns = ['tfidf']\n",
    "n['label'] = 'non-grads'\n",
    "\n",
    "# grads\n",
    "df.sort_values('diff', inplace=True, ascending=False)\n",
    "g = pd.DataFrame(df.head(30)['grad'])\n",
    "g.columns = ['tfidf']\n",
    "g['label'] = 'grads'\n",
    "\n",
    "\n",
    "df_ed = pd.concat([n, g], axis=0)\n",
    "\n",
    "df_ed.to_csv('../Assets/Tableau/df_ed.csv')\n",
    "\n"
   ]
  },
  {
   "cell_type": "markdown",
   "metadata": {},
   "source": [
    "### Explore word choice by ethnicity\n",
    "\n",
    "options are: asian, middle eastern, black, native american, indian, pacific islander, hispanic / latin, white"
   ]
  },
  {
   "cell_type": "code",
   "execution_count": 50,
   "metadata": {
    "collapsed": false
   },
   "outputs": [],
   "source": [
    "# It will be more efficient to encode dummies for each ethnic group than to search each entry\n",
    "# People who list multiple ethnicities will count for all ethnicities listed\n",
    "\n",
    "# write encoder for each ethnicity\n",
    "\n",
    "groups = ['asian', 'middle eastern', 'black', 'native american', 'indian', 'pacific islander', 'hispanic / latin', 'white']\n",
    "\n",
    "for ethnicity in groups:\n",
    "    def ethnicity_encoder(eth):\n",
    "        global ethnicity\n",
    "        try:\n",
    "            if eth.find(ethnicity) >= 0:\n",
    "                return 1\n",
    "            else: return 0\n",
    "        except:\n",
    "            return 0\n",
    "        \n",
    "    tf['X%s' %ethnicity] = tf.Xethnicity.apply(ethnicity_encoder)"
   ]
  },
  {
   "cell_type": "code",
   "execution_count": 51,
   "metadata": {
    "collapsed": false,
    "scrolled": true
   },
   "outputs": [
    {
     "name": "stdout",
     "output_type": "stream",
     "text": [
      "0.219777107239\n",
      "0.034961938858\n",
      "0.0967180728912\n",
      "0.0436480045319\n",
      "0.0523920059204\n",
      "0.0620038509369\n",
      "0.12365603447\n",
      "1.07361698151\n"
     ]
    }
   ],
   "source": [
    "df=pd.DataFrame(index=tf.columns[:2000])\n",
    "# Compute mean value of each of first 2000 columns for each ethnic group\n",
    "for ethnicity in groups:\n",
    "    t0 = time()\n",
    "    df2 = tf[tf['X%s' %ethnicity] == 1]\n",
    "    df[ethnicity] = pd.DataFrame(df2.iloc[:,:2000].mean(axis=0))\n",
    "    print time()-t0\n",
    "    \n",
    "df['avg'] = df.mean(axis=1)\n",
    "\n",
    "for ethnicity in groups:\n",
    "    df['%s_diff' %ethnicity] = df[ethnicity] - df['avg']"
   ]
  },
  {
   "cell_type": "code",
   "execution_count": 52,
   "metadata": {
    "collapsed": false
   },
   "outputs": [],
   "source": [
    "# List top 100 words for each ethnicity\n",
    "\n",
    "\n",
    "# Fill string for each ethnicity with top words\n",
    "for ethnicity in groups:\n",
    "    df.sort_values('%s_diff' %ethnicity, ascending=False, inplace=True)\n",
    "    \n",
    "    eth_list = ''\n",
    "    for word in df.index[:100]:\n",
    "        eth_list = eth_list + word + ', '\n",
    "    all_lists = all_lists + '\\n\\n%s\\n\\n' %ethnicity + eth_list\n",
    "    "
   ]
  },
  {
   "cell_type": "code",
   "execution_count": 53,
   "metadata": {
    "collapsed": false
   },
   "outputs": [],
   "source": [
    "# There are 8 different ethnic groups available\n",
    "# Tableau does well with about 50 to 60 words for packed bubbles\n",
    "# Take top 7 words for each ethnicity\n",
    "\n",
    "# Drop words asian, middle, eastern, indian, and india as they are top ranking words but redundant with categories\n",
    "\n",
    "df.drop(['asian', 'middle', 'eastern', 'indian', 'india'], axis=0, inplace=True)"
   ]
  },
  {
   "cell_type": "code",
   "execution_count": 54,
   "metadata": {
    "collapsed": false
   },
   "outputs": [],
   "source": [
    "# must have at least one row in dataframe in order to use pd.concat\n",
    "df_ethnicity = pd.DataFrame(index=[0], columns=['tfidf', 'label'])\n",
    "\n",
    "for ethnicity in groups:\n",
    "    # Save top 7 words for each ethnicity\n",
    "    df.sort_values('%s_diff' %ethnicity, ascending=False, inplace=True)\n",
    "    df3 = pd.DataFrame(df.head(7)[ethnicity])\n",
    "    df3.columns=['tfidf']\n",
    "    df3['label'] = ethnicity\n",
    "    \n",
    "    df_ethnicity = pd.concat([df_ethnicity, df3], axis=0)\n",
    "    \n",
    "# drop dummy row from top\n",
    "df_ethnicity.drop(0, axis=0, inplace=True)\n",
    "\n",
    "df_ethnicity.to_csv('../Assets/Tableau/df_ethnicity.csv')\n",
    "    "
   ]
  },
  {
   "cell_type": "markdown",
   "metadata": {},
   "source": [
    "### Explore jobs"
   ]
  },
  {
   "cell_type": "code",
   "execution_count": 55,
   "metadata": {
    "collapsed": false
   },
   "outputs": [
    {
     "name": "stdout",
     "output_type": "stream",
     "text": [
      "0.151314020157\n",
      "0.122050046921\n",
      "0.141023159027\n",
      "0.115347862244\n",
      "0.124876022339\n",
      "0.0913069248199\n",
      "0.103110074997\n",
      "0.0854620933533\n",
      "0.081463098526\n",
      "0.0817778110504\n"
     ]
    }
   ],
   "source": [
    "\n",
    "df = pd.DataFrame(index=tf.columns[:2000])\n",
    "df_jobs = pd.DataFrame(index=[0], columns=['tfidf', 'label'])\n",
    "job_dic = {}\n",
    "# Most popular job category is \"other\"  Exclude that\n",
    "for job in tf.Xjob.value_counts()[1:11].index:\n",
    "    # Save a column of dummies for each job category\n",
    "    def job_encoder(career):\n",
    "        global job\n",
    "        try:\n",
    "            if career.find(job) >= 0:\n",
    "                return 1\n",
    "            else: return 0\n",
    "        except:\n",
    "            return 0\n",
    "    \n",
    "    tf['X%s' %job] = tf.Xjob.apply(job_encoder)\n",
    "\n",
    "    # Compute mean tfidf scores for job type\n",
    "    t0 = time()\n",
    "    df2 = tf[tf['X%s' %job] == 1]\n",
    "    df[job] = pd.DataFrame(df2.iloc[:,:2000].mean(axis=0))\n",
    "    print time()-t0\n",
    "    \n",
    "# Compute overall mean tfidf scores\n",
    "df['avg'] = df.mean(axis=1)\n",
    "\n",
    "    \n",
    "for job in tf.Xjob.value_counts()[1:11].index: \n",
    "    # compute diff between scores for each job and overall mean\n",
    "    df['%s_diff' %job] = df[job] - df['avg']    \n",
    "    \n",
    "\n",
    "    # sort by job\n",
    "    # save top 100 words asfor each job\n",
    "    # save top 6 words with tfidf scores and labels to df_jobs\n",
    "    job_list = ''\n",
    "    df.sort_values('%s_diff' %job, ascending=False, inplace=True)\n",
    "    # save top 200 words to reserved string in job_dic\n",
    "    for word in df.index[:100]:\n",
    "        job_list = job_list + word + ', '\n",
    "    \n",
    "    all_lists = all_lists + '\\n\\n%s\\n\\n' %job + job_list\n",
    "        \n",
    "    # Save top 6 words to df_jobs\n",
    "    df.sort_values('%s_diff' %job, ascending=False, inplace=True)\n",
    "    \n",
    "    df3 = pd.DataFrame(df.head(6)[job])\n",
    "    df3.columns=['tfidf']\n",
    "    df3['label'] = job\n",
    "    \n",
    "    df_jobs = pd.concat([df_jobs, df3], axis=0)\n",
    "    \n",
    "# drop dummy row from top\n",
    "df_jobs.drop(0, axis=0, inplace=True)\n",
    "\n",
    "df_jobs.to_csv('../Assets/Tableau/df_jobs.csv')\n"
   ]
  },
  {
   "cell_type": "markdown",
   "metadata": {},
   "source": [
    "### Look at sexual orientation\n",
    "Break down by gender as well to account for different cultures in queer community\n"
   ]
  },
  {
   "cell_type": "code",
   "execution_count": 56,
   "metadata": {
    "collapsed": false
   },
   "outputs": [
    {
     "name": "stderr",
     "output_type": "stream",
     "text": [
      "/anaconda/lib/python2.7/site-packages/ipykernel/__main__.py:3: UserWarning: Boolean Series key will be reindexed to match DataFrame index.\n",
      "  app.launch_new_instance()\n",
      "/anaconda/lib/python2.7/site-packages/ipykernel/__main__.py:8: UserWarning: Boolean Series key will be reindexed to match DataFrame index.\n",
      "/anaconda/lib/python2.7/site-packages/ipykernel/__main__.py:13: UserWarning: Boolean Series key will be reindexed to match DataFrame index.\n",
      "/anaconda/lib/python2.7/site-packages/ipykernel/__main__.py:18: UserWarning: Boolean Series key will be reindexed to match DataFrame index.\n",
      "/anaconda/lib/python2.7/site-packages/ipykernel/__main__.py:22: UserWarning: Boolean Series key will be reindexed to match DataFrame index.\n",
      "/anaconda/lib/python2.7/site-packages/ipykernel/__main__.py:26: UserWarning: Boolean Series key will be reindexed to match DataFrame index.\n"
     ]
    }
   ],
   "source": [
    "# Compute mean value of each of first 2000 columns for gay men\n",
    "\n",
    "df2 = tf[tf.Xsex=='m'][tf.Xorientation=='gay']\n",
    "df = pd.DataFrame(df2.iloc[:,:2000].mean(axis=0), columns = ['gay men'])\n",
    "\n",
    "\n",
    "# Compute mean value of each of first 2000 columns for bi men\n",
    "df2 = tf[tf.Xsex=='m'][tf.Xorientation=='bisexual']\n",
    "df['bi men'] = df2.iloc[:,:2000].mean(axis=0)\n",
    "\n",
    "\n",
    "# Compute mean values for straight men\n",
    "df2 = tf[tf.Xsex=='m'][tf.Xorientation=='straight']\n",
    "df['straight men'] = df2.iloc[:,:2000].mean(axis=0)\n",
    "\n",
    "\n",
    "# Compute mean values for gay women\n",
    "df2 = tf[tf.Xsex=='f'][tf.Xorientation=='gay']\n",
    "df['gay women'] = df2.iloc[:,:2000].mean(axis=0)\n",
    "\n",
    "# Compute mean values for bi women\n",
    "df2 = tf[tf.Xsex=='f'][tf.Xorientation=='bisexual']\n",
    "df['bi women'] = df2.iloc[:,:2000].mean(axis=0)\n",
    "\n",
    "# Compute mean values for straight women\n",
    "df2 = tf[tf.Xsex=='f'][tf.Xorientation=='straight']\n",
    "df['straight women'] = df2.iloc[:,:2000].mean(axis=0)\n",
    "\n",
    "\n",
    "df['avg'] = df.mean(axis=1)\n",
    "df['gay men diff'] = df['gay men'] - df.avg\n",
    "df['bi men diff'] = df['bi men'] - df.avg\n",
    "df['straight men diff'] = df['straight men'] - df.avg\n",
    "df['gay women diff'] = df['gay women'] - df.avg\n",
    "df['bi women diff'] = df['bi women'] - df.avg\n",
    "df['straight women diff'] = df['straight women'] - df.avg"
   ]
  },
  {
   "cell_type": "code",
   "execution_count": 57,
   "metadata": {
    "collapsed": false
   },
   "outputs": [],
   "source": [
    "# Save word lists\n",
    "df_orientation = pd.DataFrame(index=[0], columns=['tfidf', 'label'])\n",
    "\n",
    "for group in df.columns[:6]:\n",
    "    df.sort_values('%s diff' %group, ascending=False, inplace=True)\n",
    "    group_list = ''\n",
    "    for word in df.index[:100]:\n",
    "        group_list = group_list + word + ', '\n",
    "    all_lists = all_lists + '\\n\\n%s\\n\\n' %group + group_list\n",
    "# Save df for Tableau with top 10 for each category\n",
    "    df2 = pd.DataFrame(df[group].head(10))\n",
    "    df2.columns = ['tfidf']\n",
    "    df2['label'] = group\n",
    "\n",
    "    \n",
    "    df_orientation = pd.concat([df_orientation, df2], axis=0)\n",
    "    \n",
    "df_orientation.drop(0, axis=0, inplace=True)\n",
    "\n",
    "df_orientation.to_csv('../Assets/Tableau/df_orientation.csv')"
   ]
  },
  {
   "cell_type": "markdown",
   "metadata": {
    "collapsed": true
   },
   "source": [
    "### Explore Religion"
   ]
  },
  {
   "cell_type": "code",
   "execution_count": 58,
   "metadata": {
    "collapsed": false
   },
   "outputs": [],
   "source": [
    "# list religions \n",
    "religions = []\n",
    "for religion in tf.Xreligion.value_counts().index:\n",
    "    rel = religion.split(' ', 1)[0]\n",
    "    if rel not in religions:\n",
    "        religions.append(rel)\n",
    "religions = filter(lambda x: x != 'other', religions)"
   ]
  },
  {
   "cell_type": "code",
   "execution_count": 59,
   "metadata": {
    "collapsed": false
   },
   "outputs": [],
   "source": [
    "# Encode dummies for each religion\n",
    "# rel is individual person's religion string \"Christianity and very serious about it\"\n",
    "# religion is each group \"Christianity\"\n",
    "\n",
    "tf.Xreligion.replace(np.nan, '', inplace=True)\n",
    "\n",
    "df = pd.DataFrame()\n",
    "df_religion = pd.DataFrame(index=[0], columns=['tfidf', 'label'])\n",
    "\n",
    "for religion in religions:\n",
    "    tf['X%s' %religion] = tf.Xreligion.apply(lambda rel: 1 if rel.split(' ', 1)[0] == religion else 0)\n",
    "\n",
    "    # Compute mean values for each religion\n",
    "    df2 = tf[tf['X%s' %religion]==1]\n",
    "    df[religion] = df2.iloc[:,:2000].mean(axis=0)\n",
    "    \n",
    "# Compute mean for each word across religons\n",
    "df['avg'] = df.mean(axis=1)\n",
    "\n",
    "for religion in religions:\n",
    "    df['%s_diff' %religion] = df[religion] -df['avg']\n",
    "\n",
    "    # Save top 200 words for each religion as string\n",
    "    df.sort_values('%s_diff' % religion, inplace=True, ascending=False)\n",
    "    \n",
    "    rel_list = ''\n",
    "    for word in df.index[:100]:\n",
    "        rel_list = rel_list + word + ', '\n",
    "        \n",
    "    all_lists = all_lists + '\\n\\n%s\\n\\n' %religion + rel_list\n",
    "    \n",
    "    # Save top 7 words for each religon as df for Tableau\n",
    "    df2 = pd.DataFrame(df[religion].head(7))\n",
    "    df2.columns = ['tfidf']\n",
    "    df2['label'] = religion\n",
    "    \n",
    "    df_religion = pd.concat([df_religion, df2], axis=0)\n",
    "    \n",
    "df_religion.drop(0, axis=0, inplace=True)\n",
    "df_religion.to_csv('../Assets/Tableau/df_religion.csv')\n",
    "    "
   ]
  },
  {
   "cell_type": "markdown",
   "metadata": {},
   "source": [
    "### Religion seriousness"
   ]
  },
  {
   "cell_type": "code",
   "execution_count": 60,
   "metadata": {
    "collapsed": false
   },
   "outputs": [],
   "source": [
    "levels = []\n",
    "for religion in tf.Xreligion.value_counts().index:\n",
    "    try:\n",
    "        level = religion.split('and ', 1)[1]\n",
    "    except: continue\n",
    "    if level not in levels:\n",
    "        levels.append(level)\n",
    "\n",
    "def level_encoder(rel):\n",
    "    try:\n",
    "        for level in levels:\n",
    "            if rel.find(level) >0:\n",
    "                return level\n",
    "    except:\n",
    "        return ''\n",
    "\n",
    "tf['Xreligiousness'] = tf.Xreligion.apply(level_encoder)"
   ]
  },
  {
   "cell_type": "code",
   "execution_count": 61,
   "metadata": {
    "collapsed": false
   },
   "outputs": [],
   "source": [
    "df = pd.DataFrame()\n",
    "df_religiousness = pd.DataFrame(index=[0], columns=['tfidf', 'label'])\n",
    "for level in levels:\n",
    "    # Compute mean values for each level of religiousness\n",
    "    df2 = tf[tf['Xreligiousness']==level]\n",
    "    df[level] = df2.iloc[:,:2000].mean(axis=0)\n",
    "# Compute averages\n",
    "df['avg'] = df.mean(axis=1)\n",
    "\n",
    "for level in levels:\n",
    "    # sort by diff for each category\n",
    "    df['%s_diff' %level] = df[level] - df['avg']\n",
    "    df.sort_values('%s_diff' % level, inplace=True, ascending=False)\n",
    "    # Save top 200 to level_dic\n",
    "    level_list = ''\n",
    "    for word in df.index[:200]:\n",
    "        level_list = level_list + word + ', '\n",
    "    all_lists = all_lists + '\\n\\n%s\\n\\n' %level + level_list\n",
    "    # Save top 20 to df\n",
    "    df2 = pd.DataFrame(df[level].head(20))\n",
    "    df2.columns = ['tfidf']\n",
    "    df2['label'] = level\n",
    "    \n",
    "    df_religiousness = pd.concat([df_religiousness, df2], axis=0)\n",
    "df_religiousness.drop(0, axis=0, inplace=True)\n",
    "\n",
    "df_religiousness.to_csv('../Assets/Tableau/df_religiousness.csv')"
   ]
  },
  {
   "cell_type": "markdown",
   "metadata": {},
   "source": [
    "### Explore Diet"
   ]
  },
  {
   "cell_type": "code",
   "execution_count": 62,
   "metadata": {
    "collapsed": false
   },
   "outputs": [],
   "source": [
    "tf.Xdiet.value_counts()\n",
    "\n",
    "# ignore anything and other\n",
    "# just look for vegetarian, vegan, kosher, halal\n",
    "\n",
    "def diet_encoder(diet):\n",
    "    try:\n",
    "        if diet.find('vegan') >= 0:\n",
    "            return 'vegan'\n",
    "        elif diet.find('vegetarian') >= 0:\n",
    "            return 'vegetarian'\n",
    "        elif diet.find('kosher') >= 0:\n",
    "            return 'kosher'\n",
    "        elif diet.find('halal') >= 0:\n",
    "            return 'halal'\n",
    "        else:\n",
    "            return ''\n",
    "    except:\n",
    "        return ''\n",
    "    \n",
    "tf.Xdiet = tf.Xdiet.apply(diet_encoder)"
   ]
  },
  {
   "cell_type": "code",
   "execution_count": 63,
   "metadata": {
    "collapsed": false
   },
   "outputs": [],
   "source": [
    "# Exclude '' from diets\n",
    "diets = tf.Xdiet.value_counts().index[1:]\n",
    "\n",
    "df = pd.DataFrame()\n",
    "df_diet = pd.DataFrame(index=[0], columns=['tfidf', 'label'])\n",
    "for diet in diets:\n",
    "    # Compute mean values for each level of religiousness\n",
    "    df2 = tf[tf.Xdiet==diet]\n",
    "    df[diet] = df2.iloc[:,:2000].mean(axis=0)\n",
    "# Compute averages\n",
    "df['avg'] = df.mean(axis=1)\n",
    "\n",
    "for diet in diets:\n",
    "    # sort by diff for each category\n",
    "    df['%s_diff' %diet] = df[diet] - df['avg']\n",
    "    df.sort_values('%s_diff' % diet, inplace=True, ascending=False)\n",
    "    # Save top 100 to level_dic\n",
    "    diet_list = ''\n",
    "    for word in df.index[:100]:\n",
    "        diet_list = diet_list + word + ', '\n",
    "    all_lists = all_lists + '\\n\\n%s\\n\\n' %diet + diet_list\n",
    "    # Save top 20 to df\n",
    "    df2 = pd.DataFrame(df[diet].head(15))\n",
    "    df2.columns = ['tfidf']\n",
    "    df2['label'] = diet\n",
    "    \n",
    "    df_diet = pd.concat([df_diet, df2], axis=0)\n",
    "df_diet.drop(0, axis=0, inplace=True)\n",
    "\n",
    "df_diet.to_csv('../Assets/Tableau/df_diet.csv')"
   ]
  },
  {
   "cell_type": "code",
   "execution_count": 64,
   "metadata": {
    "collapsed": false
   },
   "outputs": [],
   "source": [
    "# save all_lists to file ../Assets/Tableau/df_all_lists.txt\n",
    "\n",
    "target = open('../Assets/Tableau/df_all_lists.txt', 'w')\n",
    "\n",
    "target.write(all_lists)\n",
    "target.close()"
   ]
  },
  {
   "cell_type": "code",
   "execution_count": 65,
   "metadata": {
    "collapsed": false
   },
   "outputs": [],
   "source": [
    "# compare labels w/ encoders vs. labels with dummies for overall correlations\n",
    "# write script to save dicts to text file"
   ]
  },
  {
   "cell_type": "markdown",
   "metadata": {},
   "source": [
    "List top 200 lists here:\n",
    "\n"
   ]
  },
  {
   "cell_type": "markdown",
   "metadata": {},
   "source": []
  }
 ],
 "metadata": {
  "kernelspec": {
   "display_name": "Python 2",
   "language": "python",
   "name": "python2"
  },
  "language_info": {
   "codemirror_mode": {
    "name": "ipython",
    "version": 2
   },
   "file_extension": ".py",
   "mimetype": "text/x-python",
   "name": "python",
   "nbconvert_exporter": "python",
   "pygments_lexer": "ipython2",
   "version": "2.7.11"
  }
 },
 "nbformat": 4,
 "nbformat_minor": 0
}
