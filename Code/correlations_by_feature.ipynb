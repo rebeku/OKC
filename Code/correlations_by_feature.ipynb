{
 "cells": [
  {
   "cell_type": "code",
   "execution_count": 1,
   "metadata": {
    "collapsed": true
   },
   "outputs": [],
   "source": [
    "import pandas as pd\n",
    "import numpy as np"
   ]
  },
  {
   "cell_type": "code",
   "execution_count": 2,
   "metadata": {
    "collapsed": true
   },
   "outputs": [],
   "source": [
    "df = pd.read_csv('../Assets/A/train.csv', index_col='Unnamed: 0')"
   ]
  },
  {
   "cell_type": "code",
   "execution_count": 3,
   "metadata": {
    "collapsed": false
   },
   "outputs": [
    {
     "data": {
      "text/plain": [
       "Index([u'age', u'body_type', u'diet', u'drinks', u'drugs', u'education',\n",
       "       u'essay0', u'essay1', u'essay2', u'essay3', u'essay4', u'essay5',\n",
       "       u'essay6', u'essay7', u'essay8', u'essay9', u'ethnicity', u'height',\n",
       "       u'income', u'job', u'last_online', u'location', u'offspring',\n",
       "       u'orientation', u'pets', u'religion', u'sex', u'sign', u'smokes',\n",
       "       u'speaks', u'status'],\n",
       "      dtype='object')"
      ]
     },
     "execution_count": 3,
     "metadata": {},
     "output_type": "execute_result"
    }
   ],
   "source": [
    "df.columns"
   ]
  },
  {
   "cell_type": "code",
   "execution_count": 4,
   "metadata": {
    "collapsed": true
   },
   "outputs": [],
   "source": [
    "df2 = pd.DataFrame(index=df.index)"
   ]
  },
  {
   "cell_type": "code",
   "execution_count": 5,
   "metadata": {
    "collapsed": true
   },
   "outputs": [],
   "source": [
    "df2['age'] = df.age"
   ]
  },
  {
   "cell_type": "code",
   "execution_count": 6,
   "metadata": {
    "collapsed": false
   },
   "outputs": [],
   "source": [
    "# Diet\n",
    "\n",
    "\n",
    "# ignore anything and other\n",
    "# just look for vegetarian, vegan, kosher, halal\n",
    "\n",
    "def diet_encoder(diet):\n",
    "    try:\n",
    "        if diet.find('vegan') >= 0:\n",
    "            return 'vegan'\n",
    "        elif diet.find('vegetarian') >= 0:\n",
    "            return 'vegetarian'\n",
    "        elif diet.find('kosher') >= 0:\n",
    "            return 'kosher'\n",
    "        elif diet.find('halal') >= 0:\n",
    "            return 'halal'\n",
    "        else:\n",
    "            return 'anything'\n",
    "    except:\n",
    "        return 'anything'\n",
    "\n",
    "    \n",
    "df2['diet'] = df.diet.apply(diet_encoder)"
   ]
  },
  {
   "cell_type": "code",
   "execution_count": 7,
   "metadata": {
    "collapsed": false
   },
   "outputs": [],
   "source": [
    "# drinking\n",
    "\n",
    "def drinks_encoder(drinks):\n",
    "    if drinks == 'socially':\n",
    "        return drinks\n",
    "    elif drinks == 'not at all' or drinks == 'rarely':\n",
    "        return 'not much'\n",
    "    elif type(drinks) == str:\n",
    "        return 'heavily'\n",
    "    else:\n",
    "        return 'no report'\n",
    "    \n",
    "df2['drinks'] = df.drinks.apply(drinks_encoder)"
   ]
  },
  {
   "cell_type": "code",
   "execution_count": 8,
   "metadata": {
    "collapsed": false
   },
   "outputs": [],
   "source": [
    "def drug_encoder(drugs):\n",
    "    if drugs == 'never':\n",
    "        return 'non-user'\n",
    "    elif drugs == 'sometimes' or drugs == 'often':\n",
    "        return 'user'\n",
    "    else:\n",
    "        return 'no report'\n",
    "    \n",
    "df2['drugs'] = df.drugs.apply(drug_encoder)"
   ]
  },
  {
   "cell_type": "code",
   "execution_count": 9,
   "metadata": {
    "collapsed": true
   },
   "outputs": [],
   "source": [
    "def ed_encoder(ed):\n",
    "    # a person is a college grad if they either \"graduated from college/university\"\n",
    "    # or mention law school, med, school, masters program or ph. d program (all instances of the word program are graduate )\n",
    "    try:\n",
    "        if ed == 'graduated from college/university' or ed.find('law') >= 0 or ed.find('med') >= 0 or ed.find('program') >= 0:\n",
    "            return 'college grad'\n",
    "        # space camp answers are facetious and must be excluded\n",
    "        # BTW I am in space camp right now\n",
    "        elif ed.find('space camp') >= 0:\n",
    "            return 'space camp educated'\n",
    "        else: return 'not college grad'\n",
    "    except:\n",
    "        return 'no report'\n",
    "\n",
    "df2['education'] = df.education.apply(ed_encoder)"
   ]
  },
  {
   "cell_type": "code",
   "execution_count": 10,
   "metadata": {
    "collapsed": false
   },
   "outputs": [],
   "source": [
    "# skip ethnicity come back?"
   ]
  },
  {
   "cell_type": "code",
   "execution_count": 11,
   "metadata": {
    "collapsed": true
   },
   "outputs": [],
   "source": [
    "df2['income'] = df.income"
   ]
  },
  {
   "cell_type": "code",
   "execution_count": 12,
   "metadata": {
    "collapsed": false
   },
   "outputs": [],
   "source": [
    "def job_encoder(job):\n",
    "    # return only most popular 10 categories or other\n",
    "    if job in df.job.value_counts()[1:11].index:\n",
    "        return job\n",
    "    else: return 'other'\n",
    "    \n",
    "df2['job'] = df.job.apply(job_encoder)\n"
   ]
  },
  {
   "cell_type": "code",
   "execution_count": 13,
   "metadata": {
    "collapsed": false
   },
   "outputs": [],
   "source": [
    "df2['orientation'] = df.orientation"
   ]
  },
  {
   "cell_type": "code",
   "execution_count": 14,
   "metadata": {
    "collapsed": true
   },
   "outputs": [],
   "source": [
    "# skip pets because of overlap between dog people and cat people"
   ]
  },
  {
   "cell_type": "code",
   "execution_count": 15,
   "metadata": {
    "collapsed": false
   },
   "outputs": [],
   "source": [
    "def religion_encoder(rel):\n",
    "    try:\n",
    "        return rel.split(' ', 1)[0]\n",
    "    except:\n",
    "        return \"no report\"\n",
    "\n",
    "    \n",
    "df2['religion'] = df.religion.apply(religion_encoder)"
   ]
  },
  {
   "cell_type": "code",
   "execution_count": 16,
   "metadata": {
    "collapsed": true
   },
   "outputs": [],
   "source": [
    "levels = []\n",
    "for religion in df.religion.value_counts().index:\n",
    "    try:\n",
    "        level = religion.split('and ', 1)[1]\n",
    "    except: continue\n",
    "    if level not in levels:\n",
    "        levels.append(level)\n",
    "\n",
    "def level_encoder(rel):\n",
    "    try:\n",
    "        for level in levels:\n",
    "            if rel.find(level) >0:\n",
    "                return level\n",
    "    except:\n",
    "        return 'no report'\n",
    "\n",
    "df2['religiousness'] = df.religion.apply(level_encoder)"
   ]
  },
  {
   "cell_type": "code",
   "execution_count": 17,
   "metadata": {
    "collapsed": false
   },
   "outputs": [],
   "source": [
    "df2['sex'] = df['sex']"
   ]
  },
  {
   "cell_type": "code",
   "execution_count": 18,
   "metadata": {
    "collapsed": false
   },
   "outputs": [],
   "source": [
    "def smoking_encoder(smokes):\n",
    "    if smokes == 'no':\n",
    "        return 'no'\n",
    "    else:\n",
    "        # anyone who reports smoking at all ever or does not report will be saved as a yes\n",
    "        # smokers are more likely to not answer or to downplay how much they smoke\n",
    "        return 'yes'\n",
    "    \n",
    "df2['smokes'] = df.smokes.apply(smoking_encoder)"
   ]
  },
  {
   "cell_type": "code",
   "execution_count": 19,
   "metadata": {
    "collapsed": false
   },
   "outputs": [],
   "source": [
    "df2.to_csv('../Assets/Tableau/encoded_categories.csv')"
   ]
  },
  {
   "cell_type": "code",
   "execution_count": 20,
   "metadata": {
    "collapsed": false
   },
   "outputs": [
    {
     "name": "stderr",
     "output_type": "stream",
     "text": [
      "/anaconda/lib/python2.7/site-packages/ipykernel/__main__.py:19: UserWarning: Boolean Series key will be reindexed to match DataFrame index.\n"
     ]
    }
   ],
   "source": [
    "# Save dataframe for every pairing of features in df2\n",
    "# Record number of profiles with each permutation of each category\n",
    "\n",
    "# List all unique pairings of columns\n",
    "# There are 11 columns altogether\n",
    "\n",
    "# For each pairing generate df and save directly to file\n",
    "# then write over same df \n",
    "for i in range(11):\n",
    "    for j in range(i+1, 11):\n",
    "        feature1 = df2.columns[i]\n",
    "        feature2 = df2.columns[j]\n",
    "        \n",
    "        feature_list = []\n",
    "        \n",
    "        # Count the number of profiles with each permutation of feature1 and feature2\n",
    "        for cat1 in df2[feature1].unique():\n",
    "            for cat2 in df2[feature2].unique():\n",
    "                count = df2[df2[feature1]==cat1][df2[feature2]==cat2].shape[0]\n",
    "                lst = [cat1, cat2, count]\n",
    "                \n",
    "                feature_list = feature_list + [lst]\n",
    "                \n",
    "        # Save feature list as df then save to .csv\n",
    "        df3 = pd.DataFrame(feature_list, columns=[feature1, feature2, 'count'])\n",
    "        \n",
    "        df3.to_csv('../Assets/Tableau/Comparisons/%s_%s.csv' %(feature1, feature2))\n"
   ]
  },
  {
   "cell_type": "code",
   "execution_count": 21,
   "metadata": {
    "collapsed": false
   },
   "outputs": [],
   "source": [
    "# Save tfidf scores for the 60 most popular words in df\n",
    "\n",
    "from sklearn.feature_extraction.text import TfidfVectorizer\n",
    "\n",
    "#import one_long_essay to avoid compiling essays again\n",
    "\n",
    "okc = pd.read_csv('../Assets/A/one_long_essay.csv')\n",
    "\n",
    "okc.essays = okc.essays.replace(np.nan, '')\n",
    "\n",
    "vec = TfidfVectorizer(encoding='utf-8', stop_words='english', max_features=20)\n",
    "tf = vec.fit_transform(okc.essays)"
   ]
  },
  {
   "cell_type": "code",
   "execution_count": 22,
   "metadata": {
    "collapsed": false
   },
   "outputs": [],
   "source": [
    "tf = pd.DataFrame(tf.toarray(), columns=vec.get_feature_names())\n",
    "df3 = pd.concat([df2, tf], axis=1)"
   ]
  },
  {
   "cell_type": "code",
   "execution_count": 23,
   "metadata": {
    "collapsed": false
   },
   "outputs": [],
   "source": [
    "df3.to_csv('../Assets/Tableau/encoded_tfidf.csv')"
   ]
  }
 ],
 "metadata": {
  "kernelspec": {
   "display_name": "Python 2",
   "language": "python",
   "name": "python2"
  },
  "language_info": {
   "codemirror_mode": {
    "name": "ipython",
    "version": 2
   },
   "file_extension": ".py",
   "mimetype": "text/x-python",
   "name": "python",
   "nbconvert_exporter": "python",
   "pygments_lexer": "ipython2",
   "version": "2.7.11"
  }
 },
 "nbformat": 4,
 "nbformat_minor": 0
}
